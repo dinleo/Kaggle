{
 "cells": [
  {
   "cell_type": "markdown",
   "id": "058b6cc8",
   "metadata": {
    "papermill": {
     "duration": 0.018016,
     "end_time": "2023-11-03T05:09:44.088558",
     "exception": false,
     "start_time": "2023-11-03T05:09:44.070542",
     "status": "completed"
    },
    "tags": []
   },
   "source": [
    "# LLM - Detect AI Generated Text\n",
    "> Identify which essay was written by a large language model\n",
    "\n",
    "<img src=\"https://user-images.githubusercontent.com/36858976/279902422-b365f6ef-ef01-49ac-af7f-0bc2ca3ba835.png\">"
   ]
  },
  {
   "cell_type": "markdown",
   "id": "ab4f7b9f",
   "metadata": {
    "papermill": {
     "duration": 0.015542,
     "end_time": "2023-11-03T05:09:44.121721",
     "exception": false,
     "start_time": "2023-11-03T05:09:44.106179",
     "status": "completed"
    },
    "tags": []
   },
   "source": [
    "# 🎯 | Motivation\n",
    "\n",
    "* In this notebook, we will demonstrate the usage of the multi-backend capabilities of `KerasCore` and `KerasNLP` for the **Detecting Fake Text** task.\n",
    "* Thanks to `KerasCore`, soon to become `Keras 3.0`, which enables seamless execution of this notebook on `TensorFlow`, `Jax`, and `PyTorch` platforms with minimal adjustments required.\n",
    "* Moreover, this notebook supports both single/multi GPU and TPU training. As time progresses, larger datasets may become available, making TPUs invaluable for training substantial models on these extensive datasets.\n",
    "* Finally, I am very curious about the effectiveness of this competition, as a few months ago, `OpenAI` shut down their AI Text-Detection Tool due to inaccuracies ([ref](https://www.pcmag.com/news/openai-quietly-shuts-down-ai-text-detection-tool-over-inaccuracies)). So, I'm eager to see how well this competition will address the problem.\n",
    "<img src=\"https://i.ibb.co/6Y2Vtgr/openAI.jpg\" alt=\"openAI\" border=\"0\">"
   ]
  },
  {
   "cell_type": "markdown",
   "id": "81240ca5",
   "metadata": {
    "papermill": {
     "duration": 0.016457,
     "end_time": "2023-11-03T05:09:44.153705",
     "exception": false,
     "start_time": "2023-11-03T05:09:44.137248",
     "status": "completed"
    },
    "tags": []
   },
   "source": [
    "# 📓 | Notebooks\n",
    "\n",
    "* Train: [Detect Fake Text: KerasNLP [TF/Torch/JAX][Train]](https://www.kaggle.com/code/awsaf49/detect-fake-text-kerasnlp-tf-torch-jax-train)\n",
    "* Infer: [Detect Fake Text: KerasNLP [TF/Torch/JAX][Infer]](https://www.kaggle.com/code/awsaf49/detect-fake-text-kerasnlp-tf-torch-jax-infer)"
   ]
  },
  {
   "cell_type": "markdown",
   "id": "c8a7fab7",
   "metadata": {
    "papermill": {
     "duration": 0.015534,
     "end_time": "2023-11-03T05:09:44.185157",
     "exception": false,
     "start_time": "2023-11-03T05:09:44.169623",
     "status": "completed"
    },
    "tags": []
   },
   "source": [
    "# 🛠 | Install Libraries "
   ]
  },
  {
   "cell_type": "code",
   "execution_count": 1,
   "id": "26b93973",
   "metadata": {
    "_cell_guid": "b1076dfc-b9ad-4769-8c92-a6c4dae69d19",
    "_uuid": "8f2839f25d086af736a60e9eeb907d3b93b6e0e5",
    "execution": {
     "iopub.execute_input": "2023-11-03T05:09:44.218433Z",
     "iopub.status.busy": "2023-11-03T05:09:44.218130Z",
     "iopub.status.idle": "2023-11-03T05:10:48.787350Z",
     "shell.execute_reply": "2023-11-03T05:10:48.786278Z"
    },
    "papermill": {
     "duration": 64.589104,
     "end_time": "2023-11-03T05:10:48.789960",
     "exception": false,
     "start_time": "2023-11-03T05:09:44.200856",
     "status": "completed"
    },
    "tags": [],
    "ExecuteTime": {
     "end_time": "2023-11-14T16:29:26.395601200Z",
     "start_time": "2023-11-14T16:29:05.358278200Z"
    }
   },
   "outputs": [
    {
     "name": "stdout",
     "output_type": "stream",
     "text": [
      "Requirement already satisfied: keras-core in c:\\users\\dinle\\appdata\\local\\programs\\python\\python39\\lib\\site-packages (0.1.7)\n",
      "Requirement already satisfied: absl-py in c:\\users\\dinle\\appdata\\local\\programs\\python\\python39\\lib\\site-packages (from keras-core) (2.0.0)\n",
      "Requirement already satisfied: numpy in c:\\users\\dinle\\appdata\\local\\programs\\python\\python39\\lib\\site-packages (from keras-core) (1.26.1)\n",
      "Requirement already satisfied: rich in c:\\users\\dinle\\appdata\\roaming\\python\\python39\\site-packages (from keras-core) (10.16.2)\n",
      "Requirement already satisfied: namex in c:\\users\\dinle\\appdata\\local\\programs\\python\\python39\\lib\\site-packages (from keras-core) (0.0.7)\n",
      "Requirement already satisfied: h5py in c:\\users\\dinle\\appdata\\local\\programs\\python\\python39\\lib\\site-packages (from keras-core) (3.10.0)\n",
      "Requirement already satisfied: dm-tree in c:\\users\\dinle\\appdata\\local\\programs\\python\\python39\\lib\\site-packages (from keras-core) (0.1.8)\n",
      "Requirement already satisfied: colorama<0.5.0,>=0.4.0 in c:\\users\\dinle\\appdata\\local\\programs\\python\\python39\\lib\\site-packages (from rich->keras-core) (0.4.6)\n",
      "Requirement already satisfied: commonmark<0.10.0,>=0.9.0 in c:\\users\\dinle\\appdata\\roaming\\python\\python39\\site-packages (from rich->keras-core) (0.9.1)\n",
      "Requirement already satisfied: pygments<3.0.0,>=2.6.0 in c:\\users\\dinle\\appdata\\local\\programs\\python\\python39\\lib\\site-packages (from rich->keras-core) (2.16.1)\n",
      "Requirement already satisfied: keras-nlp in c:\\users\\dinle\\appdata\\local\\programs\\python\\python39\\lib\\site-packages (0.6.3)\n",
      "Requirement already satisfied: keras-core in c:\\users\\dinle\\appdata\\local\\programs\\python\\python39\\lib\\site-packages (from keras-nlp) (0.1.7)\n",
      "Requirement already satisfied: absl-py in c:\\users\\dinle\\appdata\\local\\programs\\python\\python39\\lib\\site-packages (from keras-nlp) (2.0.0)\n",
      "Requirement already satisfied: numpy in c:\\users\\dinle\\appdata\\local\\programs\\python\\python39\\lib\\site-packages (from keras-nlp) (1.26.1)\n",
      "Requirement already satisfied: packaging in c:\\users\\dinle\\appdata\\local\\programs\\python\\python39\\lib\\site-packages (from keras-nlp) (23.2)\n",
      "Requirement already satisfied: regex in c:\\users\\dinle\\appdata\\local\\programs\\python\\python39\\lib\\site-packages (from keras-nlp) (2023.10.3)\n",
      "Requirement already satisfied: rich in c:\\users\\dinle\\appdata\\roaming\\python\\python39\\site-packages (from keras-nlp) (10.16.2)\n",
      "Requirement already satisfied: dm-tree in c:\\users\\dinle\\appdata\\local\\programs\\python\\python39\\lib\\site-packages (from keras-nlp) (0.1.8)\n",
      "Requirement already satisfied: tensorflow-text in c:\\users\\dinle\\appdata\\local\\programs\\python\\python39\\lib\\site-packages (from keras-nlp) (2.10.0)\n",
      "Requirement already satisfied: namex in c:\\users\\dinle\\appdata\\local\\programs\\python\\python39\\lib\\site-packages (from keras-core->keras-nlp) (0.0.7)\n",
      "Requirement already satisfied: h5py in c:\\users\\dinle\\appdata\\local\\programs\\python\\python39\\lib\\site-packages (from keras-core->keras-nlp) (3.10.0)\n",
      "Requirement already satisfied: colorama<0.5.0,>=0.4.0 in c:\\users\\dinle\\appdata\\local\\programs\\python\\python39\\lib\\site-packages (from rich->keras-nlp) (0.4.6)\n",
      "Requirement already satisfied: commonmark<0.10.0,>=0.9.0 in c:\\users\\dinle\\appdata\\roaming\\python\\python39\\site-packages (from rich->keras-nlp) (0.9.1)\n",
      "Requirement already satisfied: pygments<3.0.0,>=2.6.0 in c:\\users\\dinle\\appdata\\local\\programs\\python\\python39\\lib\\site-packages (from rich->keras-nlp) (2.16.1)\n",
      "Requirement already satisfied: tensorflow-hub>=0.8.0 in c:\\users\\dinle\\appdata\\local\\programs\\python\\python39\\lib\\site-packages (from tensorflow-text->keras-nlp) (0.15.0)\n",
      "Requirement already satisfied: tensorflow<2.11,>=2.10.0 in c:\\users\\dinle\\appdata\\local\\programs\\python\\python39\\lib\\site-packages (from tensorflow-text->keras-nlp) (2.10.1)\n",
      "Requirement already satisfied: astunparse>=1.6.0 in c:\\users\\dinle\\appdata\\local\\programs\\python\\python39\\lib\\site-packages (from tensorflow<2.11,>=2.10.0->tensorflow-text->keras-nlp) (1.6.3)\n",
      "Requirement already satisfied: flatbuffers>=2.0 in c:\\users\\dinle\\appdata\\local\\programs\\python\\python39\\lib\\site-packages (from tensorflow<2.11,>=2.10.0->tensorflow-text->keras-nlp) (23.5.26)\n",
      "Requirement already satisfied: gast<=0.4.0,>=0.2.1 in c:\\users\\dinle\\appdata\\local\\programs\\python\\python39\\lib\\site-packages (from tensorflow<2.11,>=2.10.0->tensorflow-text->keras-nlp) (0.4.0)\n",
      "Requirement already satisfied: google-pasta>=0.1.1 in c:\\users\\dinle\\appdata\\local\\programs\\python\\python39\\lib\\site-packages (from tensorflow<2.11,>=2.10.0->tensorflow-text->keras-nlp) (0.2.0)\n",
      "Requirement already satisfied: keras-preprocessing>=1.1.1 in c:\\users\\dinle\\appdata\\local\\programs\\python\\python39\\lib\\site-packages (from tensorflow<2.11,>=2.10.0->tensorflow-text->keras-nlp) (1.1.2)\n",
      "Requirement already satisfied: libclang>=13.0.0 in c:\\users\\dinle\\appdata\\local\\programs\\python\\python39\\lib\\site-packages (from tensorflow<2.11,>=2.10.0->tensorflow-text->keras-nlp) (16.0.6)\n",
      "Requirement already satisfied: opt-einsum>=2.3.2 in c:\\users\\dinle\\appdata\\local\\programs\\python\\python39\\lib\\site-packages (from tensorflow<2.11,>=2.10.0->tensorflow-text->keras-nlp) (3.3.0)\n",
      "Requirement already satisfied: protobuf<3.20,>=3.9.2 in c:\\users\\dinle\\appdata\\local\\programs\\python\\python39\\lib\\site-packages (from tensorflow<2.11,>=2.10.0->tensorflow-text->keras-nlp) (3.19.6)\n",
      "Requirement already satisfied: setuptools in c:\\users\\dinle\\appdata\\local\\programs\\python\\python39\\lib\\site-packages (from tensorflow<2.11,>=2.10.0->tensorflow-text->keras-nlp) (58.1.0)\n",
      "Requirement already satisfied: six>=1.12.0 in c:\\users\\dinle\\appdata\\local\\programs\\python\\python39\\lib\\site-packages (from tensorflow<2.11,>=2.10.0->tensorflow-text->keras-nlp) (1.16.0)\n",
      "Requirement already satisfied: termcolor>=1.1.0 in c:\\users\\dinle\\appdata\\local\\programs\\python\\python39\\lib\\site-packages (from tensorflow<2.11,>=2.10.0->tensorflow-text->keras-nlp) (2.3.0)\n",
      "Requirement already satisfied: typing-extensions>=3.6.6 in c:\\users\\dinle\\appdata\\local\\programs\\python\\python39\\lib\\site-packages (from tensorflow<2.11,>=2.10.0->tensorflow-text->keras-nlp) (4.8.0)\n",
      "Requirement already satisfied: wrapt>=1.11.0 in c:\\users\\dinle\\appdata\\local\\programs\\python\\python39\\lib\\site-packages (from tensorflow<2.11,>=2.10.0->tensorflow-text->keras-nlp) (1.16.0)\n",
      "Requirement already satisfied: tensorflow-io-gcs-filesystem>=0.23.1 in c:\\users\\dinle\\appdata\\local\\programs\\python\\python39\\lib\\site-packages (from tensorflow<2.11,>=2.10.0->tensorflow-text->keras-nlp) (0.31.0)\n",
      "Requirement already satisfied: grpcio<2.0,>=1.24.3 in c:\\users\\dinle\\appdata\\local\\programs\\python\\python39\\lib\\site-packages (from tensorflow<2.11,>=2.10.0->tensorflow-text->keras-nlp) (1.59.2)\n",
      "Requirement already satisfied: tensorboard<2.11,>=2.10 in c:\\users\\dinle\\appdata\\local\\programs\\python\\python39\\lib\\site-packages (from tensorflow<2.11,>=2.10.0->tensorflow-text->keras-nlp) (2.10.1)\n",
      "Requirement already satisfied: tensorflow-estimator<2.11,>=2.10.0 in c:\\users\\dinle\\appdata\\local\\programs\\python\\python39\\lib\\site-packages (from tensorflow<2.11,>=2.10.0->tensorflow-text->keras-nlp) (2.10.0)\n",
      "Requirement already satisfied: keras<2.11,>=2.10.0 in c:\\users\\dinle\\appdata\\local\\programs\\python\\python39\\lib\\site-packages (from tensorflow<2.11,>=2.10.0->tensorflow-text->keras-nlp) (2.10.0)\n",
      "Requirement already satisfied: wheel<1.0,>=0.23.0 in c:\\users\\dinle\\appdata\\local\\programs\\python\\python39\\lib\\site-packages (from astunparse>=1.6.0->tensorflow<2.11,>=2.10.0->tensorflow-text->keras-nlp) (0.41.3)\n",
      "Requirement already satisfied: google-auth<3,>=1.6.3 in c:\\users\\dinle\\appdata\\local\\programs\\python\\python39\\lib\\site-packages (from tensorboard<2.11,>=2.10->tensorflow<2.11,>=2.10.0->tensorflow-text->keras-nlp) (2.23.4)\n",
      "Requirement already satisfied: google-auth-oauthlib<0.5,>=0.4.1 in c:\\users\\dinle\\appdata\\local\\programs\\python\\python39\\lib\\site-packages (from tensorboard<2.11,>=2.10->tensorflow<2.11,>=2.10.0->tensorflow-text->keras-nlp) (0.4.6)\n",
      "Requirement already satisfied: markdown>=2.6.8 in c:\\users\\dinle\\appdata\\local\\programs\\python\\python39\\lib\\site-packages (from tensorboard<2.11,>=2.10->tensorflow<2.11,>=2.10.0->tensorflow-text->keras-nlp) (3.5.1)\n",
      "Requirement already satisfied: requests<3,>=2.21.0 in c:\\users\\dinle\\appdata\\local\\programs\\python\\python39\\lib\\site-packages (from tensorboard<2.11,>=2.10->tensorflow<2.11,>=2.10.0->tensorflow-text->keras-nlp) (2.31.0)\n",
      "Requirement already satisfied: tensorboard-data-server<0.7.0,>=0.6.0 in c:\\users\\dinle\\appdata\\local\\programs\\python\\python39\\lib\\site-packages (from tensorboard<2.11,>=2.10->tensorflow<2.11,>=2.10.0->tensorflow-text->keras-nlp) (0.6.1)\n",
      "Requirement already satisfied: tensorboard-plugin-wit>=1.6.0 in c:\\users\\dinle\\appdata\\local\\programs\\python\\python39\\lib\\site-packages (from tensorboard<2.11,>=2.10->tensorflow<2.11,>=2.10.0->tensorflow-text->keras-nlp) (1.8.1)\n",
      "Requirement already satisfied: werkzeug>=1.0.1 in c:\\users\\dinle\\appdata\\local\\programs\\python\\python39\\lib\\site-packages (from tensorboard<2.11,>=2.10->tensorflow<2.11,>=2.10.0->tensorflow-text->keras-nlp) (3.0.1)\n",
      "Requirement already satisfied: cachetools<6.0,>=2.0.0 in c:\\users\\dinle\\appdata\\local\\programs\\python\\python39\\lib\\site-packages (from google-auth<3,>=1.6.3->tensorboard<2.11,>=2.10->tensorflow<2.11,>=2.10.0->tensorflow-text->keras-nlp) (5.3.2)\n",
      "Requirement already satisfied: pyasn1-modules>=0.2.1 in c:\\users\\dinle\\appdata\\local\\programs\\python\\python39\\lib\\site-packages (from google-auth<3,>=1.6.3->tensorboard<2.11,>=2.10->tensorflow<2.11,>=2.10.0->tensorflow-text->keras-nlp) (0.3.0)\n",
      "Requirement already satisfied: rsa<5,>=3.1.4 in c:\\users\\dinle\\appdata\\local\\programs\\python\\python39\\lib\\site-packages (from google-auth<3,>=1.6.3->tensorboard<2.11,>=2.10->tensorflow<2.11,>=2.10.0->tensorflow-text->keras-nlp) (4.9)\n",
      "Requirement already satisfied: requests-oauthlib>=0.7.0 in c:\\users\\dinle\\appdata\\local\\programs\\python\\python39\\lib\\site-packages (from google-auth-oauthlib<0.5,>=0.4.1->tensorboard<2.11,>=2.10->tensorflow<2.11,>=2.10.0->tensorflow-text->keras-nlp) (1.3.1)\n",
      "Requirement already satisfied: importlib-metadata>=4.4 in c:\\users\\dinle\\appdata\\local\\programs\\python\\python39\\lib\\site-packages (from markdown>=2.6.8->tensorboard<2.11,>=2.10->tensorflow<2.11,>=2.10.0->tensorflow-text->keras-nlp) (6.8.0)\n",
      "Requirement already satisfied: charset-normalizer<4,>=2 in c:\\users\\dinle\\appdata\\local\\programs\\python\\python39\\lib\\site-packages (from requests<3,>=2.21.0->tensorboard<2.11,>=2.10->tensorflow<2.11,>=2.10.0->tensorflow-text->keras-nlp) (3.3.2)\n",
      "Requirement already satisfied: idna<4,>=2.5 in c:\\users\\dinle\\appdata\\local\\programs\\python\\python39\\lib\\site-packages (from requests<3,>=2.21.0->tensorboard<2.11,>=2.10->tensorflow<2.11,>=2.10.0->tensorflow-text->keras-nlp) (3.4)\n",
      "Requirement already satisfied: urllib3<3,>=1.21.1 in c:\\users\\dinle\\appdata\\local\\programs\\python\\python39\\lib\\site-packages (from requests<3,>=2.21.0->tensorboard<2.11,>=2.10->tensorflow<2.11,>=2.10.0->tensorflow-text->keras-nlp) (2.0.7)\n",
      "Requirement already satisfied: certifi>=2017.4.17 in c:\\users\\dinle\\appdata\\local\\programs\\python\\python39\\lib\\site-packages (from requests<3,>=2.21.0->tensorboard<2.11,>=2.10->tensorflow<2.11,>=2.10.0->tensorflow-text->keras-nlp) (2023.7.22)\n",
      "Requirement already satisfied: MarkupSafe>=2.1.1 in c:\\users\\dinle\\appdata\\local\\programs\\python\\python39\\lib\\site-packages (from werkzeug>=1.0.1->tensorboard<2.11,>=2.10->tensorflow<2.11,>=2.10.0->tensorflow-text->keras-nlp) (2.1.3)\n",
      "Requirement already satisfied: zipp>=0.5 in c:\\users\\dinle\\appdata\\local\\programs\\python\\python39\\lib\\site-packages (from importlib-metadata>=4.4->markdown>=2.6.8->tensorboard<2.11,>=2.10->tensorflow<2.11,>=2.10.0->tensorflow-text->keras-nlp) (3.17.0)\n",
      "Requirement already satisfied: pyasn1<0.6.0,>=0.4.6 in c:\\users\\dinle\\appdata\\local\\programs\\python\\python39\\lib\\site-packages (from pyasn1-modules>=0.2.1->google-auth<3,>=1.6.3->tensorboard<2.11,>=2.10->tensorflow<2.11,>=2.10.0->tensorflow-text->keras-nlp) (0.5.0)\n",
      "Requirement already satisfied: oauthlib>=3.0.0 in c:\\users\\dinle\\appdata\\local\\programs\\python\\python39\\lib\\site-packages (from requests-oauthlib>=0.7.0->google-auth-oauthlib<0.5,>=0.4.1->tensorboard<2.11,>=2.10->tensorflow<2.11,>=2.10.0->tensorflow-text->keras-nlp) (3.2.2)\n",
      "Collecting git+https://github.com/soumik12345/wandb-addons\n",
      "  Cloning https://github.com/soumik12345/wandb-addons to c:\\users\\dinle\\appdata\\local\\temp\\pip-req-build-_qmzq1zf\n",
      "  Resolved https://github.com/soumik12345/wandb-addons to commit 292f049937424a1a40b833c194e0edeb9bed446d\n",
      "  Installing build dependencies: started\n",
      "  Installing build dependencies: finished with status 'done'\n",
      "  Getting requirements to build wheel: started\n",
      "  Getting requirements to build wheel: finished with status 'done'\n",
      "  Preparing metadata (pyproject.toml): started\n",
      "  Preparing metadata (pyproject.toml): finished with status 'done'\n",
      "Requirement already satisfied: wandb in c:\\users\\dinle\\appdata\\local\\programs\\python\\python39\\lib\\site-packages (0.15.12)\n",
      "Collecting wandb\n",
      "  Using cached wandb-0.16.0-py3-none-any.whl.metadata (9.8 kB)\n",
      "Requirement already satisfied: Click!=8.0.0,>=7.1 in c:\\users\\dinle\\appdata\\local\\programs\\python\\python39\\lib\\site-packages (from wandb) (8.1.7)\n",
      "Requirement already satisfied: GitPython!=3.1.29,>=1.0.0 in c:\\users\\dinle\\appdata\\local\\programs\\python\\python39\\lib\\site-packages (from wandb) (3.1.40)\n",
      "Requirement already satisfied: requests<3,>=2.0.0 in c:\\users\\dinle\\appdata\\local\\programs\\python\\python39\\lib\\site-packages (from wandb) (2.31.0)\n",
      "Requirement already satisfied: psutil>=5.0.0 in c:\\users\\dinle\\appdata\\local\\programs\\python\\python39\\lib\\site-packages (from wandb) (5.9.6)\n",
      "Requirement already satisfied: sentry-sdk>=1.0.0 in c:\\users\\dinle\\appdata\\local\\programs\\python\\python39\\lib\\site-packages (from wandb) (1.34.0)\n",
      "Requirement already satisfied: docker-pycreds>=0.4.0 in c:\\users\\dinle\\appdata\\local\\programs\\python\\python39\\lib\\site-packages (from wandb) (0.4.0)\n",
      "Requirement already satisfied: PyYAML in c:\\users\\dinle\\appdata\\local\\programs\\python\\python39\\lib\\site-packages (from wandb) (6.0.1)\n",
      "Requirement already satisfied: setproctitle in c:\\users\\dinle\\appdata\\local\\programs\\python\\python39\\lib\\site-packages (from wandb) (1.3.3)\n",
      "Requirement already satisfied: setuptools in c:\\users\\dinle\\appdata\\local\\programs\\python\\python39\\lib\\site-packages (from wandb) (58.1.0)\n",
      "Requirement already satisfied: appdirs>=1.4.3 in c:\\users\\dinle\\appdata\\local\\programs\\python\\python39\\lib\\site-packages (from wandb) (1.4.4)\n",
      "Requirement already satisfied: typing-extensions in c:\\users\\dinle\\appdata\\local\\programs\\python\\python39\\lib\\site-packages (from wandb) (4.8.0)\n",
      "Requirement already satisfied: protobuf!=4.21.0,<5,>=3.19.0 in c:\\users\\dinle\\appdata\\local\\programs\\python\\python39\\lib\\site-packages (from wandb) (3.19.6)\n",
      "Requirement already satisfied: nbformat<6.0.0,>=5.9.0 in c:\\users\\dinle\\appdata\\local\\programs\\python\\python39\\lib\\site-packages (from wandb-addons==0.1.0) (5.9.2)\n",
      "Requirement already satisfied: poetry<2.0.0,>=1.5.1 in c:\\users\\dinle\\appdata\\local\\programs\\python\\python39\\lib\\site-packages (from wandb-addons==0.1.0) (1.7.0)\n",
      "Requirement already satisfied: tqdm<5.0.0,>=4.65.0 in c:\\users\\dinle\\appdata\\local\\programs\\python\\python39\\lib\\site-packages (from wandb-addons==0.1.0) (4.66.1)\n",
      "Requirement already satisfied: pathtools in c:\\users\\dinle\\appdata\\local\\programs\\python\\python39\\lib\\site-packages (from wandb) (0.1.2)\n",
      "Requirement already satisfied: colorama in c:\\users\\dinle\\appdata\\local\\programs\\python\\python39\\lib\\site-packages (from Click!=8.0.0,>=7.1->wandb) (0.4.6)\n",
      "Requirement already satisfied: six>=1.4.0 in c:\\users\\dinle\\appdata\\local\\programs\\python\\python39\\lib\\site-packages (from docker-pycreds>=0.4.0->wandb) (1.16.0)\n",
      "Requirement already satisfied: gitdb<5,>=4.0.1 in c:\\users\\dinle\\appdata\\roaming\\python\\python39\\site-packages (from GitPython!=3.1.29,>=1.0.0->wandb) (4.0.10)\n",
      "Requirement already satisfied: fastjsonschema in c:\\users\\dinle\\appdata\\local\\programs\\python\\python39\\lib\\site-packages (from nbformat<6.0.0,>=5.9.0->wandb-addons==0.1.0) (2.18.1)\n",
      "Requirement already satisfied: jsonschema>=2.6 in c:\\users\\dinle\\appdata\\local\\programs\\python\\python39\\lib\\site-packages (from nbformat<6.0.0,>=5.9.0->wandb-addons==0.1.0) (4.19.2)\n",
      "Requirement already satisfied: jupyter-core in c:\\users\\dinle\\appdata\\local\\programs\\python\\python39\\lib\\site-packages (from nbformat<6.0.0,>=5.9.0->wandb-addons==0.1.0) (5.5.0)\n",
      "Requirement already satisfied: traitlets>=5.1 in c:\\users\\dinle\\appdata\\local\\programs\\python\\python39\\lib\\site-packages (from nbformat<6.0.0,>=5.9.0->wandb-addons==0.1.0) (5.13.0)\n",
      "Requirement already satisfied: build<2.0.0,>=1.0.3 in c:\\users\\dinle\\appdata\\local\\programs\\python\\python39\\lib\\site-packages (from poetry<2.0.0,>=1.5.1->wandb-addons==0.1.0) (1.0.3)\n",
      "Requirement already satisfied: cachecontrol<0.14.0,>=0.13.0 in c:\\users\\dinle\\appdata\\local\\programs\\python\\python39\\lib\\site-packages (from cachecontrol[filecache]<0.14.0,>=0.13.0->poetry<2.0.0,>=1.5.1->wandb-addons==0.1.0) (0.13.1)\n",
      "Requirement already satisfied: cleo<3.0.0,>=2.1.0 in c:\\users\\dinle\\appdata\\local\\programs\\python\\python39\\lib\\site-packages (from poetry<2.0.0,>=1.5.1->wandb-addons==0.1.0) (2.1.0)\n",
      "Requirement already satisfied: crashtest<0.5.0,>=0.4.1 in c:\\users\\dinle\\appdata\\local\\programs\\python\\python39\\lib\\site-packages (from poetry<2.0.0,>=1.5.1->wandb-addons==0.1.0) (0.4.1)\n",
      "Requirement already satisfied: dulwich<0.22.0,>=0.21.2 in c:\\users\\dinle\\appdata\\local\\programs\\python\\python39\\lib\\site-packages (from poetry<2.0.0,>=1.5.1->wandb-addons==0.1.0) (0.21.6)\n",
      "Requirement already satisfied: importlib-metadata>=4.4 in c:\\users\\dinle\\appdata\\local\\programs\\python\\python39\\lib\\site-packages (from poetry<2.0.0,>=1.5.1->wandb-addons==0.1.0) (6.8.0)\n",
      "Requirement already satisfied: installer<0.8.0,>=0.7.0 in c:\\users\\dinle\\appdata\\local\\programs\\python\\python39\\lib\\site-packages (from poetry<2.0.0,>=1.5.1->wandb-addons==0.1.0) (0.7.0)\n",
      "Requirement already satisfied: keyring<25.0.0,>=24.0.0 in c:\\users\\dinle\\appdata\\local\\programs\\python\\python39\\lib\\site-packages (from poetry<2.0.0,>=1.5.1->wandb-addons==0.1.0) (24.2.0)\n",
      "Requirement already satisfied: packaging>=20.5 in c:\\users\\dinle\\appdata\\local\\programs\\python\\python39\\lib\\site-packages (from poetry<2.0.0,>=1.5.1->wandb-addons==0.1.0) (23.2)\n",
      "Requirement already satisfied: pexpect<5.0.0,>=4.7.0 in c:\\users\\dinle\\appdata\\local\\programs\\python\\python39\\lib\\site-packages (from poetry<2.0.0,>=1.5.1->wandb-addons==0.1.0) (4.8.0)\n",
      "Requirement already satisfied: pkginfo<2.0.0,>=1.9.4 in c:\\users\\dinle\\appdata\\local\\programs\\python\\python39\\lib\\site-packages (from poetry<2.0.0,>=1.5.1->wandb-addons==0.1.0) (1.9.6)\n",
      "Requirement already satisfied: platformdirs<4.0.0,>=3.0.0 in c:\\users\\dinle\\appdata\\local\\programs\\python\\python39\\lib\\site-packages (from poetry<2.0.0,>=1.5.1->wandb-addons==0.1.0) (3.11.0)\n",
      "Requirement already satisfied: poetry-core==1.8.1 in c:\\users\\dinle\\appdata\\local\\programs\\python\\python39\\lib\\site-packages (from poetry<2.0.0,>=1.5.1->wandb-addons==0.1.0) (1.8.1)\n",
      "Requirement already satisfied: poetry-plugin-export<2.0.0,>=1.6.0 in c:\\users\\dinle\\appdata\\local\\programs\\python\\python39\\lib\\site-packages (from poetry<2.0.0,>=1.5.1->wandb-addons==0.1.0) (1.6.0)\n",
      "Requirement already satisfied: pyproject-hooks<2.0.0,>=1.0.0 in c:\\users\\dinle\\appdata\\local\\programs\\python\\python39\\lib\\site-packages (from poetry<2.0.0,>=1.5.1->wandb-addons==0.1.0) (1.0.0)\n",
      "Requirement already satisfied: requests-toolbelt<2,>=0.9.1 in c:\\users\\dinle\\appdata\\roaming\\python\\python39\\site-packages (from poetry<2.0.0,>=1.5.1->wandb-addons==0.1.0) (0.10.1)\n",
      "Requirement already satisfied: shellingham<2.0,>=1.5 in c:\\users\\dinle\\appdata\\local\\programs\\python\\python39\\lib\\site-packages (from poetry<2.0.0,>=1.5.1->wandb-addons==0.1.0) (1.5.4)\n",
      "Requirement already satisfied: tomli<3.0.0,>=2.0.1 in c:\\users\\dinle\\appdata\\local\\programs\\python\\python39\\lib\\site-packages (from poetry<2.0.0,>=1.5.1->wandb-addons==0.1.0) (2.0.1)\n",
      "Requirement already satisfied: tomlkit<1.0.0,>=0.11.4 in c:\\users\\dinle\\appdata\\local\\programs\\python\\python39\\lib\\site-packages (from poetry<2.0.0,>=1.5.1->wandb-addons==0.1.0) (0.12.2)\n",
      "Requirement already satisfied: trove-classifiers>=2022.5.19 in c:\\users\\dinle\\appdata\\local\\programs\\python\\python39\\lib\\site-packages (from poetry<2.0.0,>=1.5.1->wandb-addons==0.1.0) (2023.11.9)\n",
      "Requirement already satisfied: virtualenv<21.0.0,>=20.23.0 in c:\\users\\dinle\\appdata\\local\\programs\\python\\python39\\lib\\site-packages (from poetry<2.0.0,>=1.5.1->wandb-addons==0.1.0) (20.24.6)\n",
      "Requirement already satisfied: charset-normalizer<4,>=2 in c:\\users\\dinle\\appdata\\local\\programs\\python\\python39\\lib\\site-packages (from requests<3,>=2.0.0->wandb) (3.3.2)\n",
      "Requirement already satisfied: idna<4,>=2.5 in c:\\users\\dinle\\appdata\\local\\programs\\python\\python39\\lib\\site-packages (from requests<3,>=2.0.0->wandb) (3.4)\n",
      "Requirement already satisfied: urllib3<3,>=1.21.1 in c:\\users\\dinle\\appdata\\local\\programs\\python\\python39\\lib\\site-packages (from requests<3,>=2.0.0->wandb) (2.0.7)\n",
      "Requirement already satisfied: certifi>=2017.4.17 in c:\\users\\dinle\\appdata\\local\\programs\\python\\python39\\lib\\site-packages (from requests<3,>=2.0.0->wandb) (2023.7.22)\n",
      "Requirement already satisfied: msgpack>=0.5.2 in c:\\users\\dinle\\appdata\\local\\programs\\python\\python39\\lib\\site-packages (from cachecontrol<0.14.0,>=0.13.0->cachecontrol[filecache]<0.14.0,>=0.13.0->poetry<2.0.0,>=1.5.1->wandb-addons==0.1.0) (1.0.7)\n",
      "Requirement already satisfied: filelock>=3.8.0 in c:\\users\\dinle\\appdata\\roaming\\python\\python39\\site-packages (from cachecontrol[filecache]<0.14.0,>=0.13.0->poetry<2.0.0,>=1.5.1->wandb-addons==0.1.0) (3.12.4)\n",
      "Requirement already satisfied: rapidfuzz<4.0.0,>=3.0.0 in c:\\users\\dinle\\appdata\\local\\programs\\python\\python39\\lib\\site-packages (from cleo<3.0.0,>=2.1.0->poetry<2.0.0,>=1.5.1->wandb-addons==0.1.0) (3.5.2)\n",
      "Requirement already satisfied: smmap<6,>=3.0.1 in c:\\users\\dinle\\appdata\\roaming\\python\\python39\\site-packages (from gitdb<5,>=4.0.1->GitPython!=3.1.29,>=1.0.0->wandb) (5.0.1)\n",
      "Requirement already satisfied: zipp>=0.5 in c:\\users\\dinle\\appdata\\local\\programs\\python\\python39\\lib\\site-packages (from importlib-metadata>=4.4->poetry<2.0.0,>=1.5.1->wandb-addons==0.1.0) (3.17.0)\n",
      "Requirement already satisfied: attrs>=22.2.0 in c:\\users\\dinle\\appdata\\local\\programs\\python\\python39\\lib\\site-packages (from jsonschema>=2.6->nbformat<6.0.0,>=5.9.0->wandb-addons==0.1.0) (23.1.0)\n",
      "Requirement already satisfied: jsonschema-specifications>=2023.03.6 in c:\\users\\dinle\\appdata\\local\\programs\\python\\python39\\lib\\site-packages (from jsonschema>=2.6->nbformat<6.0.0,>=5.9.0->wandb-addons==0.1.0) (2023.7.1)\n",
      "Requirement already satisfied: referencing>=0.28.4 in c:\\users\\dinle\\appdata\\local\\programs\\python\\python39\\lib\\site-packages (from jsonschema>=2.6->nbformat<6.0.0,>=5.9.0->wandb-addons==0.1.0) (0.30.2)\n",
      "Requirement already satisfied: rpds-py>=0.7.1 in c:\\users\\dinle\\appdata\\local\\programs\\python\\python39\\lib\\site-packages (from jsonschema>=2.6->nbformat<6.0.0,>=5.9.0->wandb-addons==0.1.0) (0.12.0)\n",
      "Requirement already satisfied: jaraco.classes in c:\\users\\dinle\\appdata\\local\\programs\\python\\python39\\lib\\site-packages (from keyring<25.0.0,>=24.0.0->poetry<2.0.0,>=1.5.1->wandb-addons==0.1.0) (3.3.0)\n",
      "Requirement already satisfied: pywin32-ctypes>=0.2.0 in c:\\users\\dinle\\appdata\\local\\programs\\python\\python39\\lib\\site-packages (from keyring<25.0.0,>=24.0.0->poetry<2.0.0,>=1.5.1->wandb-addons==0.1.0) (0.2.2)\n",
      "Requirement already satisfied: ptyprocess>=0.5 in c:\\users\\dinle\\appdata\\local\\programs\\python\\python39\\lib\\site-packages (from pexpect<5.0.0,>=4.7.0->poetry<2.0.0,>=1.5.1->wandb-addons==0.1.0) (0.7.0)\n",
      "Requirement already satisfied: distlib<1,>=0.3.7 in c:\\users\\dinle\\appdata\\local\\programs\\python\\python39\\lib\\site-packages (from virtualenv<21.0.0,>=20.23.0->poetry<2.0.0,>=1.5.1->wandb-addons==0.1.0) (0.3.7)\n",
      "Requirement already satisfied: pywin32>=300 in c:\\users\\dinle\\appdata\\local\\programs\\python\\python39\\lib\\site-packages (from jupyter-core->nbformat<6.0.0,>=5.9.0->wandb-addons==0.1.0) (306)\n",
      "Requirement already satisfied: more-itertools in c:\\users\\dinle\\appdata\\local\\programs\\python\\python39\\lib\\site-packages (from jaraco.classes->keyring<25.0.0,>=24.0.0->poetry<2.0.0,>=1.5.1->wandb-addons==0.1.0) (10.1.0)\n"
     ]
    },
    {
     "name": "stderr",
     "output_type": "stream",
     "text": [
      "  Running command git clone --filter=blob:none --quiet https://github.com/soumik12345/wandb-addons 'C:\\Users\\dinle\\AppData\\Local\\Temp\\pip-req-build-_qmzq1zf'\n"
     ]
    }
   ],
   "source": [
    "!pip install keras-core --upgrade\n",
    "!pip install keras-nlp --upgrade\n",
    "!pip install --upgrade wandb git+https://github.com/soumik12345/wandb-addons"
   ]
  },
  {
   "cell_type": "markdown",
   "id": "5b84e97b",
   "metadata": {
    "papermill": {
     "duration": 0.016026,
     "end_time": "2023-11-03T05:10:48.822748",
     "exception": false,
     "start_time": "2023-11-03T05:10:48.806722",
     "status": "completed"
    },
    "tags": []
   },
   "source": [
    "# 📚 | Import Libraries "
   ]
  },
  {
   "cell_type": "code",
   "execution_count": null,
   "id": "038591a7",
   "metadata": {
    "_kg_hide-output": true,
    "execution": {
     "iopub.execute_input": "2023-11-03T05:10:48.857107Z",
     "iopub.status.busy": "2023-11-03T05:10:48.856748Z",
     "iopub.status.idle": "2023-11-03T05:11:12.065982Z",
     "shell.execute_reply": "2023-11-03T05:11:12.065050Z"
    },
    "papermill": {
     "duration": 23.228744,
     "end_time": "2023-11-03T05:11:12.067988",
     "exception": false,
     "start_time": "2023-11-03T05:10:48.839244",
     "status": "completed"
    },
    "tags": [],
    "is_executing": true,
    "ExecuteTime": {
     "start_time": "2023-11-15T06:10:14.741533600Z"
    }
   },
   "outputs": [],
   "source": [
    "import os\n",
    "os.environ[\"KERAS_BACKEND\"] = \"torch\"  # \"jax\" or \"tensorflow\" or \"torch\" \n",
    "# os.environ[\"WANDB_SILENT\"] = \"false\" # for wandb\n",
    "\n",
    "import keras_nlp\n",
    "import keras_core as keras\n",
    "import keras_core.backend as K\n",
    "\n",
    "\n",
    "import torch\n",
    "# import jax\n",
    "import tensorflow as tf\n",
    "# from tensorflow import keras\n",
    "# import tensorflow.keras.backend as K\n",
    "\n",
    "import numpy as np \n",
    "import pandas as pd\n",
    "\n",
    "import matplotlib.pyplot as plt\n",
    "import matplotlib as mpl\n",
    "\n",
    "cmap = mpl.cm.get_cmap('coolwarm')"
   ]
  },
  {
   "cell_type": "markdown",
   "id": "48532e06",
   "metadata": {
    "papermill": {
     "duration": 0.016533,
     "end_time": "2023-11-03T05:11:12.100930",
     "exception": false,
     "start_time": "2023-11-03T05:11:12.084397",
     "status": "completed"
    },
    "tags": []
   },
   "source": [
    "## Library Version"
   ]
  },
  {
   "cell_type": "code",
   "execution_count": 3,
   "id": "76580982",
   "metadata": {
    "_kg_hide-input": true,
    "execution": {
     "iopub.execute_input": "2023-11-03T05:11:12.134258Z",
     "iopub.status.busy": "2023-11-03T05:11:12.133703Z",
     "iopub.status.idle": "2023-11-03T05:11:12.138760Z",
     "shell.execute_reply": "2023-11-03T05:11:12.137967Z"
    },
    "papermill": {
     "duration": 0.023629,
     "end_time": "2023-11-03T05:11:12.140681",
     "exception": false,
     "start_time": "2023-11-03T05:11:12.117052",
     "status": "completed"
    },
    "tags": [],
    "ExecuteTime": {
     "end_time": "2023-11-14T16:29:33.650566600Z",
     "start_time": "2023-11-14T16:29:33.581250300Z"
    }
   },
   "outputs": [
    {
     "name": "stdout",
     "output_type": "stream",
     "text": [
      "Torch: 2.0.1+cpu\n",
      "TensorFlow: 2.10.1\n",
      "Keras: 0.1.7\n",
      "KerasNLP: 0.6.3\n"
     ]
    },
    {
     "data": {
      "text/plain": "False"
     },
     "execution_count": 3,
     "metadata": {},
     "output_type": "execute_result"
    }
   ],
   "source": [
    "print(\"Torch:\", torch.__version__)\n",
    "print(\"TensorFlow:\", tf.__version__)\n",
    "# print(\"JAX:\", jax.__version__)\n",
    "print(\"Keras:\", keras.__version__)\n",
    "print(\"KerasNLP:\", keras_nlp.__version__)\n",
    "torch.cuda.is_available()"
   ]
  },
  {
   "cell_type": "markdown",
   "id": "5f84952a",
   "metadata": {
    "papermill": {
     "duration": 0.0157,
     "end_time": "2023-11-03T05:11:12.172211",
     "exception": false,
     "start_time": "2023-11-03T05:11:12.156511",
     "status": "completed"
    },
    "tags": []
   },
   "source": [
    "# ⚙️ | Configuration"
   ]
  },
  {
   "cell_type": "code",
   "execution_count": 4,
   "id": "78f624e9",
   "metadata": {
    "_kg_hide-input": true,
    "execution": {
     "iopub.execute_input": "2023-11-03T05:11:12.205345Z",
     "iopub.status.busy": "2023-11-03T05:11:12.204663Z",
     "iopub.status.idle": "2023-11-03T05:11:12.211906Z",
     "shell.execute_reply": "2023-11-03T05:11:12.211074Z"
    },
    "papermill": {
     "duration": 0.025712,
     "end_time": "2023-11-03T05:11:12.213734",
     "exception": false,
     "start_time": "2023-11-03T05:11:12.188022",
     "status": "completed"
    },
    "tags": [],
    "ExecuteTime": {
     "end_time": "2023-11-14T16:29:33.653565700Z",
     "start_time": "2023-11-14T16:29:33.598251300Z"
    }
   },
   "outputs": [],
   "source": [
    "class CFG:\n",
    "    verbose = 0  # Verbosity\n",
    "    \n",
    "    wandb = False  # Weights & Biases logging\n",
    "    competition = 'llm-detect-ai-generated-text'  # Competition name\n",
    "    _wandb_kernel = 'awsaf49'  # WandB kernel\n",
    "    comment = 'DebertaV3-MaxSeq_200-ext_s-torch'  # Comment description\n",
    "    \n",
    "    preset = \"deberta_v3_small_en\"  # Name of pretrained models\n",
    "    sequence_length = 200  # Input sequence length\n",
    "    \n",
    "    device = 'TPU'  # Device\n",
    "    \n",
    "    seed = 42  # Random seed\n",
    "    \n",
    "    num_folds = 5  # Total folds\n",
    "    selected_folds = [0, 1, 2]  # Folds to train on\n",
    "    \n",
    "    epochs = 3 # Training epochs\n",
    "    batch_size = 32  # Batch size\n",
    "    drop_remainder = True  # Drop incomplete batches\n",
    "    cache = True # Caches data after one iteration, use only with `TPU` to avoid OOM\n",
    "    \n",
    "    scheduler = 'cosine'  # Learning rate scheduler\n",
    "    \n",
    "    class_names = [\"real\", \"fake\"]  # Class names [A, B, C, D, E]\n",
    "    num_classes = len(class_names)  # Number of classes\n",
    "    class_labels = list(range(num_classes))  # Class labels [0, 1, 2, 3, 4]\n",
    "    label2name = dict(zip(class_labels, class_names))  # Label to class name mapping\n",
    "    name2label = {v: k for k, v in label2name.items()}  # Class name to label mapping"
   ]
  },
  {
   "cell_type": "markdown",
   "id": "2ba4d558",
   "metadata": {
    "papermill": {
     "duration": 0.015864,
     "end_time": "2023-11-03T05:11:12.286775",
     "exception": false,
     "start_time": "2023-11-03T05:11:12.270911",
     "status": "completed"
    },
    "tags": []
   },
   "source": [
    "# ♻️ | Reproducibility \n",
    "Sets value for random seed to produce similar result in each run."
   ]
  },
  {
   "cell_type": "code",
   "execution_count": 5,
   "id": "3391d82a",
   "metadata": {
    "execution": {
     "iopub.execute_input": "2023-11-03T05:11:12.321271Z",
     "iopub.status.busy": "2023-11-03T05:11:12.320449Z",
     "iopub.status.idle": "2023-11-03T05:11:12.332699Z",
     "shell.execute_reply": "2023-11-03T05:11:12.331937Z"
    },
    "papermill": {
     "duration": 0.031327,
     "end_time": "2023-11-03T05:11:12.334654",
     "exception": false,
     "start_time": "2023-11-03T05:11:12.303327",
     "status": "completed"
    },
    "tags": [],
    "ExecuteTime": {
     "end_time": "2023-11-14T16:29:33.673563100Z",
     "start_time": "2023-11-14T16:29:33.611252700Z"
    }
   },
   "outputs": [],
   "source": [
    "keras.utils.set_random_seed(CFG.seed)"
   ]
  },
  {
   "cell_type": "markdown",
   "id": "868a962b",
   "metadata": {
    "papermill": {
     "duration": 0.01681,
     "end_time": "2023-11-03T05:11:12.370020",
     "exception": false,
     "start_time": "2023-11-03T05:11:12.353210",
     "status": "completed"
    },
    "tags": []
   },
   "source": [
    "# 💾 | Hardware\n",
    "Following codes automatically detects hardware (TPU or GPU). "
   ]
  },
  {
   "cell_type": "code",
   "execution_count": 6,
   "id": "37f89880",
   "metadata": {
    "_kg_hide-input": true,
    "execution": {
     "iopub.execute_input": "2023-11-03T05:11:12.403558Z",
     "iopub.status.busy": "2023-11-03T05:11:12.403269Z",
     "iopub.status.idle": "2023-11-03T05:11:12.410361Z",
     "shell.execute_reply": "2023-11-03T05:11:12.409623Z"
    },
    "papermill": {
     "duration": 0.025783,
     "end_time": "2023-11-03T05:11:12.412331",
     "exception": false,
     "start_time": "2023-11-03T05:11:12.386548",
     "status": "completed"
    },
    "tags": [],
    "ExecuteTime": {
     "end_time": "2023-11-14T16:29:33.674563800Z",
     "start_time": "2023-11-14T16:29:33.628259300Z"
    }
   },
   "outputs": [],
   "source": [
    "def get_device():\n",
    "    \"Detect and intializes GPU/TPU automatically\"\n",
    "    try:\n",
    "        # Connect to TPU\n",
    "        tpu = tf.distribute.cluster_resolver.TPUClusterResolver.connect() \n",
    "        # Set TPU strategy\n",
    "        strategy = tf.distribute.TPUStrategy(tpu)\n",
    "        print(f'> Running on TPU', tpu.master(), end=' | ')\n",
    "        print('Num of TPUs: ', strategy.num_replicas_in_sync)\n",
    "        device=CFG.device\n",
    "    except:\n",
    "        # If TPU is not available, detect GPUs\n",
    "        gpus = tf.config.list_logical_devices('GPU')\n",
    "        ngpu = len(gpus)\n",
    "         # Check number of GPUs\n",
    "        if ngpu:\n",
    "            # Set GPU strategy\n",
    "            strategy = tf.distribute.MirroredStrategy(gpus) # single-GPU or multi-GPU\n",
    "            # Print GPU details\n",
    "            print(\"> Running on GPU\", end=' | ')\n",
    "            print(\"Num of GPUs: \", ngpu)\n",
    "            device='GPU'\n",
    "        else:\n",
    "            # If no GPUs are available, use CPU\n",
    "            print(\"> Running on CPU\")\n",
    "            strategy = tf.distribute.get_strategy()\n",
    "            device='CPU'\n",
    "    return strategy, device"
   ]
  },
  {
   "cell_type": "code",
   "execution_count": 7,
   "id": "f9bd017a",
   "metadata": {
    "execution": {
     "iopub.execute_input": "2023-11-03T05:11:12.445484Z",
     "iopub.status.busy": "2023-11-03T05:11:12.445213Z",
     "iopub.status.idle": "2023-11-03T05:11:23.226610Z",
     "shell.execute_reply": "2023-11-03T05:11:23.225486Z"
    },
    "papermill": {
     "duration": 10.800704,
     "end_time": "2023-11-03T05:11:23.229026",
     "exception": false,
     "start_time": "2023-11-03T05:11:12.428322",
     "status": "completed"
    },
    "tags": [],
    "ExecuteTime": {
     "end_time": "2023-11-14T16:29:34.275635500Z",
     "start_time": "2023-11-14T16:29:33.640564100Z"
    }
   },
   "outputs": [
    {
     "name": "stdout",
     "output_type": "stream",
     "text": [
      "INFO:tensorflow:Using MirroredStrategy with devices ('/job:localhost/replica:0/task:0/device:GPU:0',)\n",
      "> Running on GPU | Num of GPUs:  1\n"
     ]
    }
   ],
   "source": [
    "# Initialize GPU/TPU/TPU-VM\n",
    "strategy, CFG.device = get_device()\n",
    "CFG.replicas = strategy.num_replicas_in_sync"
   ]
  },
  {
   "cell_type": "markdown",
   "id": "5ba76500",
   "metadata": {
    "papermill": {
     "duration": 0.016731,
     "end_time": "2023-11-03T05:11:23.263971",
     "exception": false,
     "start_time": "2023-11-03T05:11:23.247240",
     "status": "completed"
    },
    "tags": []
   },
   "source": [
    "# 📁 | Dataset Path "
   ]
  },
  {
   "cell_type": "code",
   "execution_count": 8,
   "id": "64a99584",
   "metadata": {
    "execution": {
     "iopub.execute_input": "2023-11-03T05:11:23.298443Z",
     "iopub.status.busy": "2023-11-03T05:11:23.298146Z",
     "iopub.status.idle": "2023-11-03T05:11:23.302226Z",
     "shell.execute_reply": "2023-11-03T05:11:23.301296Z"
    },
    "papermill": {
     "duration": 0.023547,
     "end_time": "2023-11-03T05:11:23.304223",
     "exception": false,
     "start_time": "2023-11-03T05:11:23.280676",
     "status": "completed"
    },
    "tags": [],
    "ExecuteTime": {
     "end_time": "2023-11-14T16:29:34.327699100Z",
     "start_time": "2023-11-14T16:29:34.274637Z"
    }
   },
   "outputs": [],
   "source": [
    "BASE_PATH = './data/origin_data'\n",
    "EXT_PATH = './data/ext_data'"
   ]
  },
  {
   "cell_type": "markdown",
   "id": "68bb262d",
   "metadata": {
    "papermill": {
     "duration": 0.016109,
     "end_time": "2023-11-03T05:11:23.337085",
     "exception": false,
     "start_time": "2023-11-03T05:11:23.320976",
     "status": "completed"
    },
    "tags": []
   },
   "source": [
    "# 📖 | Meta Data \n",
    "* `{test|train}_essays.csv`\n",
    "    * `id` - A unique identifier for each essay.\n",
    "    * `prompt_id` - Identifies the prompt the essay was written in response to.\n",
    "    * `text` - The essay text itself.\n",
    "    * `generated` - Whether the essay was written by a student (0) or generated by an LLM (1). This field is the target and is not present in test_essays.csv.\n",
    "* **sample_submission.csv** - is the valid sample submission."
   ]
  },
  {
   "cell_type": "markdown",
   "id": "d787d704",
   "metadata": {
    "papermill": {
     "duration": 0.017055,
     "end_time": "2023-11-03T05:11:23.370942",
     "exception": false,
     "start_time": "2023-11-03T05:11:23.353887",
     "status": "completed"
    },
    "tags": []
   },
   "source": [
    "## Train Data"
   ]
  },
  {
   "cell_type": "code",
   "execution_count": 9,
   "id": "4c5411c3",
   "metadata": {
    "_kg_hide-input": true,
    "execution": {
     "iopub.execute_input": "2023-11-03T05:11:23.407207Z",
     "iopub.status.busy": "2023-11-03T05:11:23.406885Z",
     "iopub.status.idle": "2023-11-03T05:11:23.886598Z",
     "shell.execute_reply": "2023-11-03T05:11:23.885598Z"
    },
    "papermill": {
     "duration": 0.500327,
     "end_time": "2023-11-03T05:11:23.888677",
     "exception": false,
     "start_time": "2023-11-03T05:11:23.388350",
     "status": "completed"
    },
    "tags": [],
    "ExecuteTime": {
     "end_time": "2023-11-14T16:29:34.542265500Z",
     "start_time": "2023-11-14T16:29:34.289633700Z"
    }
   },
   "outputs": [
    {
     "name": "stdout",
     "output_type": "stream",
     "text": [
      "# Train Data: 1,378\n",
      "# Sample:\n"
     ]
    },
    {
     "data": {
      "text/plain": "         id  prompt_id                                               text  \\\n0  0059830c          0  Cars. Cars have been around since they became ...   \n1  005db917          0  Transportation is a large necessity in most co...   \n\n   generated  label  name  \n0          0      0  real  \n1          0      0  real  ",
      "text/html": "<div>\n<style scoped>\n    .dataframe tbody tr th:only-of-type {\n        vertical-align: middle;\n    }\n\n    .dataframe tbody tr th {\n        vertical-align: top;\n    }\n\n    .dataframe thead th {\n        text-align: right;\n    }\n</style>\n<table border=\"1\" class=\"dataframe\">\n  <thead>\n    <tr style=\"text-align: right;\">\n      <th></th>\n      <th>id</th>\n      <th>prompt_id</th>\n      <th>text</th>\n      <th>generated</th>\n      <th>label</th>\n      <th>name</th>\n    </tr>\n  </thead>\n  <tbody>\n    <tr>\n      <th>0</th>\n      <td>0059830c</td>\n      <td>0</td>\n      <td>Cars. Cars have been around since they became ...</td>\n      <td>0</td>\n      <td>0</td>\n      <td>real</td>\n    </tr>\n    <tr>\n      <th>1</th>\n      <td>005db917</td>\n      <td>0</td>\n      <td>Transportation is a large necessity in most co...</td>\n      <td>0</td>\n      <td>0</td>\n      <td>real</td>\n    </tr>\n  </tbody>\n</table>\n</div>"
     },
     "metadata": {},
     "output_type": "display_data"
    },
    {
     "data": {
      "text/plain": "<Figure size 800x400 with 1 Axes>",
      "image/png": "[encoded data removed]"
     },
     "metadata": {},
     "output_type": "display_data"
    }
   ],
   "source": [
    "df = pd.read_csv(f'{BASE_PATH}/train_essays.csv')  # Read CSV file into a DataFrame\n",
    "df['label'] = df.generated.copy()\n",
    "df['name'] = df.generated.map(CFG.label2name)  # Map answer labels using name-to-label mapping\n",
    "\n",
    "# Display information about the train data\n",
    "print(\"# Train Data: {:,}\".format(len(df)))\n",
    "print(\"# Sample:\")\n",
    "display(df.head(2))\n",
    "\n",
    "# Show distribution of answers using a bar plot\n",
    "plt.figure(figsize=(8, 4))\n",
    "df.name.value_counts().plot.bar(color=[cmap(0.0), cmap(0.25), cmap(0.65), cmap(0.9), cmap(1.0)])\n",
    "plt.xlabel(\"Class\")\n",
    "plt.ylabel(\"Count\")\n",
    "plt.title(\"Class distribution for Train Data\")\n",
    "plt.show()\n"
   ]
  },
  {
   "cell_type": "markdown",
   "id": "c314cca3",
   "metadata": {
    "papermill": {
     "duration": 0.017978,
     "end_time": "2023-11-03T05:11:23.924731",
     "exception": false,
     "start_time": "2023-11-03T05:11:23.906753",
     "status": "completed"
    },
    "tags": []
   },
   "source": [
    "## External Datasets\n",
    "\n",
    "We'll be utilizing the following external datasets:\n",
    "\n",
    "* [Proper Train Dataset](https://www.kaggle.com/datasets/thedrcat/daigt-proper-train-dataset/) @thedrcat\n",
    "* [ArguGPT](https://www.kaggle.com/datasets/alejopaullier/argugpt) @alejopaullier\n"
   ]
  },
  {
   "cell_type": "code",
   "execution_count": 10,
   "id": "49f20d14",
   "metadata": {
    "_kg_hide-input": true,
    "execution": {
     "iopub.execute_input": "2023-11-03T05:11:23.961536Z",
     "iopub.status.busy": "2023-11-03T05:11:23.961216Z",
     "iopub.status.idle": "2023-11-03T05:11:26.708537Z",
     "shell.execute_reply": "2023-11-03T05:11:26.707599Z"
    },
    "papermill": {
     "duration": 2.76865,
     "end_time": "2023-11-03T05:11:26.710754",
     "exception": false,
     "start_time": "2023-11-03T05:11:23.942104",
     "status": "completed"
    },
    "tags": [],
    "ExecuteTime": {
     "end_time": "2023-11-14T16:29:35.848796900Z",
     "start_time": "2023-11-14T16:29:34.545264200Z"
    }
   },
   "outputs": [
    {
     "name": "stdout",
     "output_type": "stream",
     "text": [
      "# External Data: 27,827\n",
      "# Sample:\n",
      "27827\n"
     ]
    },
    {
     "data": {
      "text/plain": "<Figure size 800x400 with 1 Axes>",
      "image/png": "[encoded data removed]"
     },
     "metadata": {},
     "output_type": "display_data"
    }
   ],
   "source": [
    "# Load external data\n",
    "ext_df1 = pd.read_csv(f'{EXT_PATH}/Daigt/train_drcat_02.csv')\n",
    "ext_df2 = pd.read_csv(f'{EXT_PATH}/ArguGPT/argugpt.csv')[['id','text','model']]\n",
    "\n",
    "ext_df2.rename(columns={'model':'source'}, inplace=True)\n",
    "ext_df2['label'] = 1\n",
    "\n",
    "ext_df = pd.concat([\n",
    "    ext_df1[ext_df1.source=='persuade_corpus'].sample(10000),\n",
    "    ext_df1[ext_df1.source!='persuade_corpus'],\n",
    "    ext_df2,\n",
    "])\n",
    "\n",
    "# ext_real_df = ext_df[['id', 'text']].copy()\n",
    "# ext_real_df['label']  = 0\n",
    "\n",
    "# ext_fake_df = ext_df[['id', 'source_text']].copy()\n",
    "# ext_fake_df.rename(columns={\"source_text\":\"text\"}, inplace=True)\n",
    "# ext_fake_df['label']  = 1\n",
    "\n",
    "# ext_df = pd.concat([ext_real_df, ext_fake_df], axis=0)\n",
    "ext_df['name'] = ext_df.label.map(CFG.label2name)\n",
    "\n",
    "# Display information about the external data\n",
    "print(\"# External Data: {:,}\".format(len(ext_df)))\n",
    "print(\"# Sample:\")\n",
    "ext_df.head(2)\n",
    "print(len(ext_df))\n",
    "# Show distribution of answers using a bar plot\n",
    "plt.figure(figsize=(8, 4))\n",
    "ext_df.name.value_counts().plot.bar(color=[cmap(0.0), cmap(0.65)])\n",
    "plt.xlabel(\"Class\")\n",
    "plt.ylabel(\"Count\")\n",
    "plt.title(\"Answer distribution for External Data\")\n",
    "plt.show()"
   ]
  },
  {
   "cell_type": "markdown",
   "id": "d20ee6e6",
   "metadata": {
    "papermill": {
     "duration": 0.017866,
     "end_time": "2023-11-03T05:11:26.746412",
     "exception": false,
     "start_time": "2023-11-03T05:11:26.728546",
     "status": "completed"
    },
    "tags": []
   },
   "source": [
    "## Combine External and Train Data"
   ]
  },
  {
   "cell_type": "code",
   "execution_count": 11,
   "id": "ae745fb5",
   "metadata": {
    "execution": {
     "iopub.execute_input": "2023-11-03T05:11:26.782403Z",
     "iopub.status.busy": "2023-11-03T05:11:26.782101Z",
     "iopub.status.idle": "2023-11-03T05:11:26.804278Z",
     "shell.execute_reply": "2023-11-03T05:11:26.803398Z"
    },
    "papermill": {
     "duration": 0.042689,
     "end_time": "2023-11-03T05:11:26.806371",
     "exception": false,
     "start_time": "2023-11-03T05:11:26.763682",
     "status": "completed"
    },
    "tags": [],
    "ExecuteTime": {
     "end_time": "2023-11-14T16:29:35.929807500Z",
     "start_time": "2023-11-14T16:29:35.844798400Z"
    }
   },
   "outputs": [
    {
     "name": "stdout",
     "output_type": "stream",
     "text": [
      "27827\n"
     ]
    }
   ],
   "source": [
    "# df = pd.concat([ext_df, df], axis=0)\n",
    "df = ext_df.copy().reset_index(drop=True)\n",
    "df.head()\n",
    "print(len(df))"
   ]
  },
  {
   "cell_type": "markdown",
   "id": "eb7c57ae",
   "metadata": {
    "papermill": {
     "duration": 0.018212,
     "end_time": "2023-11-03T05:11:26.843647",
     "exception": false,
     "start_time": "2023-11-03T05:11:26.825435",
     "status": "completed"
    },
    "tags": []
   },
   "source": [
    "# 🔪 | Data Split\n",
    "\n",
    "In the code snippet provided below, we will divide the existing **train** data into folds using a stratification of `label` column."
   ]
  },
  {
   "cell_type": "code",
   "execution_count": 12,
   "id": "be8a0b83",
   "metadata": {
    "_kg_hide-input": true,
    "execution": {
     "iopub.execute_input": "2023-11-03T05:11:26.882759Z",
     "iopub.status.busy": "2023-11-03T05:11:26.882459Z",
     "iopub.status.idle": "2023-11-03T05:11:28.461584Z",
     "shell.execute_reply": "2023-11-03T05:11:28.460440Z"
    },
    "papermill": {
     "duration": 1.602072,
     "end_time": "2023-11-03T05:11:28.464455",
     "exception": false,
     "start_time": "2023-11-03T05:11:26.862383",
     "status": "completed"
    },
    "tags": [],
    "ExecuteTime": {
     "end_time": "2023-11-14T16:29:36.435128700Z",
     "start_time": "2023-11-14T16:29:35.875797400Z"
    }
   },
   "outputs": [
    {
     "name": "stderr",
     "output_type": "stream",
     "text": [
      "C:\\Users\\dinle\\AppData\\Local\\Programs\\Python\\Python39\\lib\\site-packages\\sklearn\\model_selection\\_split.py:737: UserWarning: The least populated class in y has only 3 members, which is less than n_splits=5.\n",
      "  warnings.warn(\n"
     ]
    },
    {
     "data": {
      "text/plain": "fold  name  source          \n0     fake  chat_gpt_moth        484\n            falcon_180b_v1       211\n            gpt-3.5-turbo        163\n            gpt2-xl               80\n            llama2_chat          485\n                                ... \n4     fake  text-davinci-002     102\n            text-davinci-003     161\n      real  original_moth        484\n            persuade_corpus     2000\n            train_essays         275\nLength: 83, dtype: int64"
     },
     "execution_count": 12,
     "metadata": {},
     "output_type": "execute_result"
    }
   ],
   "source": [
    "from sklearn.model_selection import StratifiedKFold  # Import package\n",
    "\n",
    "skf = StratifiedKFold(n_splits=CFG.num_folds, shuffle=True, random_state=CFG.seed)  # Initialize K-Fold\n",
    "\n",
    "df = df.reset_index(drop=True)  # Reset dataframe index\n",
    "\n",
    "df['stratify'] = df.label.astype(str)+df.source.astype(str)\n",
    "\n",
    "df[\"fold\"] = -1  # New 'fold' column\n",
    "\n",
    "# Assign folds using StratifiedKFold\n",
    "for fold, (train_idx, val_idx) in enumerate(skf.split(df, df['stratify'])):\n",
    "    df.loc[val_idx, 'fold'] = fold\n",
    "\n",
    "# Display label distribution for each fold\n",
    "df.groupby([\"fold\", \"name\", \"source\"]).size()"
   ]
  },
  {
   "cell_type": "markdown",
   "id": "6a435d12",
   "metadata": {
    "papermill": {
     "duration": 0.019498,
     "end_time": "2023-11-03T05:11:28.505048",
     "exception": false,
     "start_time": "2023-11-03T05:11:28.485550",
     "status": "completed"
    },
    "tags": []
   },
   "source": [
    "# 🍽️ | Preprocessing\n",
    "\n",
    "**What it does:** The preprocessor takes input strings and transforms them into a dictionary (`token_ids`, `padding_mask`) containing preprocessed tensors. This process starts with tokenization, where input strings are converted into sequences of token IDs.\n",
    "\n",
    "**Why it's important:** Initially, raw text data is complex and challenging for modeling due to its high dimensionality. By converting text into a compact set of tokens, such as transforming `\"The quick brown fox\"` into `[\"the\", \"qu\", \"##ick\", \"br\", \"##own\", \"fox\"]`, we simplify the data. Many models rely on special tokens and additional tensors to understand input. These tokens help divide input and identify padding, among other tasks. Making all sequences the same length through padding boosts computational efficiency, making subsequent steps smoother.\n",
    "\n",
    "Explore the following pages to access the available preprocessing and tokenizer layers in **KerasNLP**:\n",
    "- [Preprocessing](https://keras.io/api/keras_nlp/preprocessing_layers/)\n",
    "- [Tokenizers](https://keras.io/api/keras_nlp/tokenizers/)"
   ]
  },
  {
   "cell_type": "code",
   "execution_count": 13,
   "id": "d2568aa1",
   "metadata": {
    "execution": {
     "iopub.execute_input": "2023-11-03T05:11:28.543154Z",
     "iopub.status.busy": "2023-11-03T05:11:28.542526Z",
     "iopub.status.idle": "2023-11-03T05:11:29.463316Z",
     "shell.execute_reply": "2023-11-03T05:11:29.462460Z"
    },
    "papermill": {
     "duration": 0.942505,
     "end_time": "2023-11-03T05:11:29.465757",
     "exception": false,
     "start_time": "2023-11-03T05:11:28.523252",
     "status": "completed"
    },
    "tags": [],
    "ExecuteTime": {
     "end_time": "2023-11-14T16:29:36.960473600Z",
     "start_time": "2023-11-14T16:29:36.432130800Z"
    }
   },
   "outputs": [],
   "source": [
    "preprocessor = keras_nlp.models.DebertaV3Preprocessor.from_preset(\n",
    "    preset=CFG.preset, # Name of the model\n",
    "    sequence_length=CFG.sequence_length, # Max sequence length, will be padded if shorter\n",
    ")"
   ]
  },
  {
   "cell_type": "markdown",
   "id": "02000747",
   "metadata": {
    "papermill": {
     "duration": 0.018548,
     "end_time": "2023-11-03T05:11:29.503752",
     "exception": false,
     "start_time": "2023-11-03T05:11:29.485204",
     "status": "completed"
    },
    "tags": []
   },
   "source": [
    "Now, let's examine what the output shape of the preprocessing layer looks like. The output shape of the layer can be represented as $(num\\_choices, sequence\\_length)$."
   ]
  },
  {
   "cell_type": "code",
   "execution_count": 14,
   "id": "d92ab330",
   "metadata": {
    "execution": {
     "iopub.execute_input": "2023-11-03T05:11:29.542563Z",
     "iopub.status.busy": "2023-11-03T05:11:29.541526Z",
     "iopub.status.idle": "2023-11-03T05:11:30.493088Z",
     "shell.execute_reply": "2023-11-03T05:11:30.492105Z"
    },
    "papermill": {
     "duration": 0.97317,
     "end_time": "2023-11-03T05:11:30.495169",
     "exception": false,
     "start_time": "2023-11-03T05:11:29.521999",
     "status": "completed"
    },
    "tags": [],
    "ExecuteTime": {
     "end_time": "2023-11-14T16:29:37.653782200Z",
     "start_time": "2023-11-14T16:29:36.964104200Z"
    }
   },
   "outputs": [
    {
     "name": "stdout",
     "output_type": "stream",
     "text": [
      "token_ids : torch.Size([200])\n",
      "padding_mask : torch.Size([200])\n"
     ]
    }
   ],
   "source": [
    "inp = preprocessor(df.text.iloc[0])  # Process text for the first row\n",
    "\n",
    "# Display the shape of each processed output\n",
    "for k, v in inp.items():\n",
    "    print(k, \":\", v.shape)"
   ]
  },
  {
   "cell_type": "markdown",
   "id": "4e08eb18",
   "metadata": {
    "papermill": {
     "duration": 0.018277,
     "end_time": "2023-11-03T05:11:30.533031",
     "exception": false,
     "start_time": "2023-11-03T05:11:30.514754",
     "status": "completed"
    },
    "tags": []
   },
   "source": [
    "We'll use the `preprocessing_fn` function to transform each text option using the `dataset.map(preprocessing_fn)` method."
   ]
  },
  {
   "cell_type": "code",
   "execution_count": 15,
   "id": "939b1bc2",
   "metadata": {
    "execution": {
     "iopub.execute_input": "2023-11-03T05:11:30.573282Z",
     "iopub.status.busy": "2023-11-03T05:11:30.572487Z",
     "iopub.status.idle": "2023-11-03T05:11:30.577453Z",
     "shell.execute_reply": "2023-11-03T05:11:30.576528Z"
    },
    "papermill": {
     "duration": 0.027608,
     "end_time": "2023-11-03T05:11:30.579373",
     "exception": false,
     "start_time": "2023-11-03T05:11:30.551765",
     "status": "completed"
    },
    "tags": [],
    "ExecuteTime": {
     "end_time": "2023-11-14T16:29:37.712157400Z",
     "start_time": "2023-11-14T16:29:37.656928600Z"
    }
   },
   "outputs": [],
   "source": [
    "def preprocess_fn(text, label=None):\n",
    "    text = preprocessor(text)  # Preprocess text\n",
    "    return (text, label) if label is not None else text  # Return processed text and label if available"
   ]
  },
  {
   "cell_type": "markdown",
   "id": "b0087a0e",
   "metadata": {
    "papermill": {
     "duration": 0.01809,
     "end_time": "2023-11-03T05:11:30.616267",
     "exception": false,
     "start_time": "2023-11-03T05:11:30.598177",
     "status": "completed"
    },
    "tags": []
   },
   "source": [
    "# 🍚 | DataLoader\n",
    "\n",
    "The code below sets up a robust data flow pipeline using `tf.data.Dataset` for data processing. Notable aspects of `tf.data` include its ability to simplify pipeline construction and represent components in sequences.\n",
    "\n",
    "To learn more about `tf.data`, refer to this [documentation](https://www.tensorflow.org/guide/data)."
   ]
  },
  {
   "cell_type": "code",
   "execution_count": 16,
   "id": "6f65b37e",
   "metadata": {
    "_kg_hide-input": true,
    "execution": {
     "iopub.execute_input": "2023-11-03T05:11:30.654226Z",
     "iopub.status.busy": "2023-11-03T05:11:30.653952Z",
     "iopub.status.idle": "2023-11-03T05:11:30.661077Z",
     "shell.execute_reply": "2023-11-03T05:11:30.660200Z"
    },
    "papermill": {
     "duration": 0.028107,
     "end_time": "2023-11-03T05:11:30.663052",
     "exception": false,
     "start_time": "2023-11-03T05:11:30.634945",
     "status": "completed"
    },
    "tags": [],
    "ExecuteTime": {
     "end_time": "2023-11-14T16:29:37.726160400Z",
     "start_time": "2023-11-14T16:29:37.674939200Z"
    }
   },
   "outputs": [],
   "source": [
    "def build_dataset(texts, labels=None, batch_size=32,\n",
    "                  cache=False, drop_remainder=True,\n",
    "                  repeat=False, shuffle=1024):\n",
    "    AUTO = tf.data.AUTOTUNE  # AUTOTUNE option\n",
    "    slices = (texts,) if labels is None else (texts, labels)  # Create slices\n",
    "    ds = tf.data.Dataset.from_tensor_slices(slices)  # Create dataset from slices\n",
    "    ds = ds.cache() if cache else ds  # Cache dataset if enabled\n",
    "    ds = ds.map(preprocess_fn, num_parallel_calls=AUTO)  # Map preprocessing function\n",
    "    ds = ds.repeat() if repeat else ds  # Repeat dataset if enabled\n",
    "    opt = tf.data.Options()  # Create dataset options\n",
    "    if shuffle: \n",
    "        ds = ds.shuffle(shuffle, seed=CFG.seed)  # Shuffle dataset if enabled\n",
    "        opt.experimental_deterministic = False\n",
    "    ds = ds.with_options(opt)  # Set dataset options\n",
    "    ds = ds.batch(batch_size, drop_remainder=drop_remainder)  # Batch dataset\n",
    "    ds = ds.prefetch(buffer_size=AUTO)  # Prefetch next batch\n",
    "    return ds  # Return the built dataset"
   ]
  },
  {
   "cell_type": "markdown",
   "id": "916dec5d",
   "metadata": {
    "papermill": {
     "duration": 0.017674,
     "end_time": "2023-11-03T05:11:30.698646",
     "exception": false,
     "start_time": "2023-11-03T05:11:30.680972",
     "status": "completed"
    },
    "tags": []
   },
   "source": [
    "## Fetch Train/Valid Dataset\n",
    "\n",
    "The function below generates the training and validation datasets for a given fold."
   ]
  },
  {
   "cell_type": "code",
   "execution_count": 17,
   "id": "fcea9f76",
   "metadata": {
    "_kg_hide-input": false,
    "execution": {
     "iopub.execute_input": "2023-11-03T05:11:30.736841Z",
     "iopub.status.busy": "2023-11-03T05:11:30.736279Z",
     "iopub.status.idle": "2023-11-03T05:11:30.743695Z",
     "shell.execute_reply": "2023-11-03T05:11:30.742804Z"
    },
    "papermill": {
     "duration": 0.028543,
     "end_time": "2023-11-03T05:11:30.745572",
     "exception": false,
     "start_time": "2023-11-03T05:11:30.717029",
     "status": "completed"
    },
    "tags": [],
    "ExecuteTime": {
     "end_time": "2023-11-14T16:29:37.727160800Z",
     "start_time": "2023-11-14T16:29:37.689941900Z"
    }
   },
   "outputs": [],
   "source": [
    "def get_datasets(fold):\n",
    "    train_df = df[df.fold!=fold].sample(frac=1)  # Get training fold data\n",
    "        \n",
    "    train_texts = train_df.text.tolist()  # Extract training texts\n",
    "    train_labels = train_df.label.tolist()  # Extract training labels\n",
    "    \n",
    "    # Build training dataset\n",
    "    train_ds = build_dataset(train_texts, train_labels,\n",
    "                             batch_size=CFG.batch_size*CFG.replicas, cache=CFG.cache,\n",
    "                             shuffle=True, drop_remainder=True, repeat=True)\n",
    "\n",
    "    valid_df = df[df.fold==fold].sample(frac=1)  # Get validation fold data\n",
    "    valid_texts = valid_df.text.tolist()  # Extract validation texts\n",
    "    valid_labels = valid_df.label.tolist()  # Extract validation labels\n",
    "    \n",
    "    # Build validation dataset\n",
    "    valid_ds = build_dataset(valid_texts, valid_labels,\n",
    "                             batch_size=min(CFG.batch_size*CFG.replicas, len(valid_df)), cache=CFG.cache,\n",
    "                             shuffle=False, drop_remainder=True, repeat=False)\n",
    "    \n",
    "    return (train_ds, train_df), (valid_ds, valid_df)  # Return datasets and dataframes"
   ]
  },
  {
   "cell_type": "markdown",
   "id": "7cc33338",
   "metadata": {
    "papermill": {
     "duration": 0.018496,
     "end_time": "2023-11-03T05:11:30.783462",
     "exception": false,
     "start_time": "2023-11-03T05:11:30.764966",
     "status": "completed"
    },
    "tags": []
   },
   "source": [
    "# 🪄 | Wandb\n",
    "<img src=\"https://camo.githubusercontent.com/dd842f7b0be57140e68b2ab9cb007992acd131c48284eaf6b1aca758bfea358b/68747470733a2f2f692e696d6775722e636f6d2f52557469567a482e706e67\" width=\"400\" alt=\"Weights & Biases\" />\n",
    "\n",
    "To monitor the training of my text-based model, I'll make use of **Weights & Biases**. Weights & Biases (W&B) is an MLOps platform that offers experiment tracking, dataset versioning, and model management functionalities, aiding in efficient model development. "
   ]
  },
  {
   "cell_type": "code",
   "execution_count": 18,
   "id": "d8a53cbb",
   "metadata": {
    "execution": {
     "iopub.execute_input": "2023-11-03T05:11:30.820783Z",
     "iopub.status.busy": "2023-11-03T05:11:30.820518Z",
     "iopub.status.idle": "2023-11-03T05:11:32.935600Z",
     "shell.execute_reply": "2023-11-03T05:11:32.934594Z"
    },
    "papermill": {
     "duration": 2.135955,
     "end_time": "2023-11-03T05:11:32.937912",
     "exception": false,
     "start_time": "2023-11-03T05:11:30.801957",
     "status": "completed"
    },
    "tags": [],
    "ExecuteTime": {
     "end_time": "2023-11-14T16:29:42.556882500Z",
     "start_time": "2023-11-14T16:29:37.702159100Z"
    }
   },
   "outputs": [
    {
     "name": "stderr",
     "output_type": "stream",
     "text": [
      "\u001B[34m\u001B[1mwandb\u001B[0m: Appending key for api.wandb.ai to your netrc file: C:\\Users\\dinle/.netrc\n"
     ]
    }
   ],
   "source": [
    "import wandb  # Import wandb library for experiment tracking\n",
    "# import wandb_addons # Additional wandb utilities\n",
    "\n",
    "try:\n",
    "    from kaggle_secrets import UserSecretsClient  # Import UserSecretsClient\n",
    "    user_secrets = UserSecretsClient()  # Create secrets client instance\n",
    "    api_key = user_secrets.get_secret(\"WANDB\")  # Get API key from Kaggle secrets\n",
    "    wandb.login(key=api_key)  # Login to wandb with the API key\n",
    "    anonymous = None  # Set anonymous mode to None\n",
    "except:\n",
    "    anonymous = 'must'  # Set anonymous mode to 'must'\n",
    "    wandb.login(anonymous=anonymous, relogin=True)  # Login to wandb anonymously and relogin if needed"
   ]
  },
  {
   "cell_type": "markdown",
   "id": "3816eab4",
   "metadata": {
    "papermill": {
     "duration": 0.019582,
     "end_time": "2023-11-03T05:11:32.976718",
     "exception": false,
     "start_time": "2023-11-03T05:11:32.957136",
     "status": "completed"
    },
    "tags": []
   },
   "source": [
    "## Logger\n",
    "\n",
    "The following code cell contains code to log data to WandB. It is noteworthy that the newly released callbacks offer more flexibility in terms of customization, and they are more compact compared to the classic `WandbCallback`, making it easier to use. Here's a brief introduction to them:\n",
    "\n",
    "* **WandbModelCheckpoint**: This callback saves the model or weights using `tf.keras.callbacks.ModelCheckpoint`. Hence, we can harness the power of the official TensorFlow callback to log even `tf.keras.Model` subclass model in TPU.\n",
    "* **WandbMetricsLogger**: This callback simply logs all the metrics and losses.\n",
    "* **WandbEvalCallback**: This one is even more special. We can use it to log the model's prediction after a certain epoch/frequency. We can use it to save segmentation masks, bounding boxes, GradCAM within epochs to check intermediate results and so on.\n",
    "\n",
    "For more details, please check the [official documentation](https://docs.wandb.ai/ref/python/integrations/keras)."
   ]
  },
  {
   "cell_type": "code",
   "execution_count": 19,
   "id": "dd1fff2f",
   "metadata": {
    "_kg_hide-input": true,
    "execution": {
     "iopub.execute_input": "2023-11-03T05:11:33.016416Z",
     "iopub.status.busy": "2023-11-03T05:11:33.016087Z",
     "iopub.status.idle": "2023-11-03T05:11:33.031380Z",
     "shell.execute_reply": "2023-11-03T05:11:33.030467Z"
    },
    "papermill": {
     "duration": 0.037186,
     "end_time": "2023-11-03T05:11:33.033343",
     "exception": false,
     "start_time": "2023-11-03T05:11:32.996157",
     "status": "completed"
    },
    "tags": [],
    "ExecuteTime": {
     "end_time": "2023-11-14T16:29:42.607654500Z",
     "start_time": "2023-11-14T16:29:42.564640400Z"
    }
   },
   "outputs": [],
   "source": [
    "from wandb.keras import WandbMetricsLogger\n",
    "from wandb.keras import WandbModelCheckpoint\n",
    "\n",
    "\n",
    "# Initializes the W&B run with a config file and W&B run settings.\n",
    "def wandb_init(fold):\n",
    "    config = {k: v for k, v in dict(vars(CFG)).items() if '__' not in k}  # Create config dictionary\n",
    "    config.update({\"fold\": int(fold)})  # Add fold to config\n",
    "    run = wandb.init(project=\"llm-fake-text\",\n",
    "                     name=f\"fold-{fold}|max_seq-{CFG.sequence_length}|model-{CFG.preset}\",\n",
    "                     config=config,\n",
    "                     group=CFG.comment,\n",
    "                     save_code=True)\n",
    "    return run\n",
    "\n",
    "# Log best result for error analysis\n",
    "def log_wandb():\n",
    "    wandb.log({'best_auc': best_acc, 'best_loss': best_loss, 'best_epoch': best_epoch})\n",
    "\n",
    "# Fetch W&B callbacks\n",
    "def get_wb_callbacks(fold):\n",
    "    wb_ckpt = WandbModelCheckpoint(f'fold{fold}.keras',\n",
    "                                   monitor='val_auc',\n",
    "                                   save_best_only=True,\n",
    "                                   save_weights_only=False,\n",
    "                                   mode='max')\n",
    "    wb_metr = wandb.keras.WandbMetricsLogger()\n",
    "    return [wb_metr, wb_ckpt]  # Return WandB callbacks\n"
   ]
  },
  {
   "cell_type": "markdown",
   "id": "4f65bf0c",
   "metadata": {
    "papermill": {
     "duration": 0.020607,
     "end_time": "2023-11-03T05:11:33.072496",
     "exception": false,
     "start_time": "2023-11-03T05:11:33.051889",
     "status": "completed"
    },
    "tags": []
   },
   "source": [
    "# ⚓ | LR Schedule\n",
    "\n",
    "Implementing a learning rate scheduler is crucial for transfer learning. The learning rate initiates at `lr_start` and gradually tapers down to `lr_min` using various techniques, including:\n",
    "- `step`: Lowering the learning rate in step-wise manner resembling stairs.\n",
    "- `cos`: Utilizing a cosine curve to gradually reduce the learning rate.\n",
    "- `exp`: Exponentially decreasing the learning rate.\n",
    "\n",
    "**Importance:** A well-structured learning rate schedule is essential for efficient model training, ensuring optimal convergence and avoiding issues such as overshooting or stagnation."
   ]
  },
  {
   "cell_type": "code",
   "execution_count": 20,
   "id": "ac3c4656",
   "metadata": {
    "_kg_hide-input": true,
    "execution": {
     "iopub.execute_input": "2023-11-03T05:11:33.110135Z",
     "iopub.status.busy": "2023-11-03T05:11:33.109813Z",
     "iopub.status.idle": "2023-11-03T05:11:33.119790Z",
     "shell.execute_reply": "2023-11-03T05:11:33.118908Z"
    },
    "papermill": {
     "duration": 0.031147,
     "end_time": "2023-11-03T05:11:33.122065",
     "exception": false,
     "start_time": "2023-11-03T05:11:33.090918",
     "status": "completed"
    },
    "tags": [],
    "ExecuteTime": {
     "end_time": "2023-11-14T16:29:42.608653400Z",
     "start_time": "2023-11-14T16:29:42.592656Z"
    }
   },
   "outputs": [],
   "source": [
    "import math\n",
    "\n",
    "def get_lr_callback(batch_size=8, mode='cos', epochs=10, plot=False):\n",
    "    lr_start, lr_max, lr_min = 0.6e-6, 0.5e-6 * batch_size, 0.3e-6\n",
    "    lr_ramp_ep, lr_sus_ep, lr_decay = 1, 0, 0.75\n",
    "\n",
    "    def lrfn(epoch):  # Learning rate update function\n",
    "        if epoch < lr_ramp_ep: lr = (lr_max - lr_start) / lr_ramp_ep * epoch + lr_start\n",
    "        elif epoch < lr_ramp_ep + lr_sus_ep: lr = lr_max\n",
    "        elif mode == 'exp': lr = (lr_max - lr_min) * lr_decay**(epoch - lr_ramp_ep - lr_sus_ep) + lr_min\n",
    "        elif mode == 'step': lr = lr_max * lr_decay**((epoch - lr_ramp_ep - lr_sus_ep) // 2)\n",
    "        elif mode == 'cos':\n",
    "            decay_total_epochs, decay_epoch_index = epochs - lr_ramp_ep - lr_sus_ep + 3, epoch - lr_ramp_ep - lr_sus_ep\n",
    "            phase = math.pi * decay_epoch_index / decay_total_epochs\n",
    "            lr = (lr_max - lr_min) * 0.5 * (1 + math.cos(phase)) + lr_min\n",
    "        return lr\n",
    "\n",
    "    if plot:  # Plot lr curve if plot is True\n",
    "        plt.figure(figsize=(10, 5))\n",
    "        plt.plot(np.arange(epochs), [lrfn(epoch) for epoch in np.arange(epochs)], marker='o')\n",
    "        plt.xlabel('epoch'); plt.ylabel('lr')\n",
    "        plt.title('LR Scheduler')\n",
    "        plt.show()\n",
    "\n",
    "    return keras.callbacks.LearningRateScheduler(lrfn, verbose=False)  # Create lr callback"
   ]
  },
  {
   "cell_type": "code",
   "execution_count": 21,
   "id": "022fc5da",
   "metadata": {
    "execution": {
     "iopub.execute_input": "2023-11-03T05:11:33.159287Z",
     "iopub.status.busy": "2023-11-03T05:11:33.159019Z",
     "iopub.status.idle": "2023-11-03T05:11:33.448538Z",
     "shell.execute_reply": "2023-11-03T05:11:33.447679Z"
    },
    "papermill": {
     "duration": 0.310394,
     "end_time": "2023-11-03T05:11:33.450563",
     "exception": false,
     "start_time": "2023-11-03T05:11:33.140169",
     "status": "completed"
    },
    "tags": [],
    "ExecuteTime": {
     "end_time": "2023-11-14T16:29:42.760678700Z",
     "start_time": "2023-11-14T16:29:42.604657700Z"
    }
   },
   "outputs": [
    {
     "data": {
      "text/plain": "<Figure size 1000x500 with 1 Axes>",
      "image/png": "[encoded data removed]"
     },
     "metadata": {},
     "output_type": "display_data"
    }
   ],
   "source": [
    "_=get_lr_callback(CFG.batch_size*CFG.replicas, plot=True)"
   ]
  },
  {
   "cell_type": "markdown",
   "id": "603bbf32",
   "metadata": {
    "papermill": {
     "duration": 0.027048,
     "end_time": "2023-11-03T05:11:33.503659",
     "exception": false,
     "start_time": "2023-11-03T05:11:33.476611",
     "status": "completed"
    },
    "tags": []
   },
   "source": [
    "# ☎️ | Callbacks\n",
    "\n",
    "The function below will gather all the training callbacks, such as `lr_scheduler`, `model_checkpoint`, `wandb_logger`, and etc."
   ]
  },
  {
   "cell_type": "code",
   "execution_count": 22,
   "id": "dd0880cd",
   "metadata": {
    "_kg_hide-input": true,
    "execution": {
     "iopub.execute_input": "2023-11-03T05:11:33.547299Z",
     "iopub.status.busy": "2023-11-03T05:11:33.546838Z",
     "iopub.status.idle": "2023-11-03T05:11:33.554393Z",
     "shell.execute_reply": "2023-11-03T05:11:33.553496Z"
    },
    "papermill": {
     "duration": 0.030039,
     "end_time": "2023-11-03T05:11:33.556340",
     "exception": false,
     "start_time": "2023-11-03T05:11:33.526301",
     "status": "completed"
    },
    "tags": [],
    "ExecuteTime": {
     "end_time": "2023-11-14T16:29:42.774678800Z",
     "start_time": "2023-11-14T16:29:42.755682Z"
    }
   },
   "outputs": [],
   "source": [
    "def get_callbacks(fold):\n",
    "    callbacks = []\n",
    "    lr_cb = get_lr_callback(CFG.batch_size*CFG.replicas)  # Get lr callback\n",
    "    ckpt_cb = keras.callbacks.ModelCheckpoint(f'fold{fold}.keras',\n",
    "                                              monitor='val_auc',\n",
    "                                              save_best_only=True,\n",
    "                                              save_weights_only=False,\n",
    "                                              mode='max')  # Get Model checkpoint callback\n",
    "    callbacks.extend([lr_cb, ckpt_cb])  # Add lr and checkpoint callbacks\n",
    "\n",
    "    if CFG.wandb:  # If WandB is enabled\n",
    "        wb_cbs = get_wb_callbacks(fold)  # Get WandB callbacks\n",
    "        callbacks.extend(wb_cbs) \n",
    "        \n",
    "    return callbacks  # Return the list of callbacks"
   ]
  },
  {
   "cell_type": "markdown",
   "id": "2b5e6916",
   "metadata": {
    "papermill": {
     "duration": 0.028027,
     "end_time": "2023-11-03T05:11:33.610554",
     "exception": false,
     "start_time": "2023-11-03T05:11:33.582527",
     "status": "completed"
    },
    "tags": []
   },
   "source": [
    "# 🤖 | Modeling\n",
    "\n"
   ]
  },
  {
   "cell_type": "markdown",
   "id": "83734099",
   "metadata": {
    "papermill": {
     "duration": 0.020586,
     "end_time": "2023-11-03T05:11:33.655904",
     "exception": false,
     "start_time": "2023-11-03T05:11:33.635318",
     "status": "completed"
    },
    "tags": []
   },
   "source": [
    "## KerasNLP Classifier\n",
    "\n",
    "<img src=\"https://keras.io/img/logo.png\" width=\"400\">\n",
    "\n",
    "The `KerasNLP` library provides comprehensive, ready-to-use implementations of popular NLP model architectures. It features a variety of pre-trained models including `Bert`, `Roberta`, `DebertaV3`, and more. In this notebook, we'll showcase the usage of `DebertaV3`. However, feel free to explore all available models in the [KerasNLP documentation](https://keras.io/api/keras_nlp/models/). Also for a deeper understanding of `KerasNLP`, refer to the informative [getting started guide](https://keras.io/guides/keras_nlp/getting_started/).\n",
    "\n",
    "Our approach involves using `keras_nlp.models.XXClassifier` to process each text and generatie logits. These logits are passed through a `softmax` function to produce the final output."
   ]
  },
  {
   "cell_type": "code",
   "execution_count": 23,
   "id": "51d4b93f",
   "metadata": {
    "execution": {
     "iopub.execute_input": "2023-11-03T05:11:33.698966Z",
     "iopub.status.busy": "2023-11-03T05:11:33.698227Z",
     "iopub.status.idle": "2023-11-03T05:11:33.705739Z",
     "shell.execute_reply": "2023-11-03T05:11:33.704752Z"
    },
    "papermill": {
     "duration": 0.031711,
     "end_time": "2023-11-03T05:11:33.708025",
     "exception": false,
     "start_time": "2023-11-03T05:11:33.676314",
     "status": "completed"
    },
    "tags": [],
    "ExecuteTime": {
     "end_time": "2023-11-14T16:29:42.864287300Z",
     "start_time": "2023-11-14T16:29:42.772680200Z"
    }
   },
   "outputs": [],
   "source": [
    "def build_model():\n",
    "    ## BERT Preprocess Data\n",
    "    \n",
    "    classifier = keras_nlp.models.DebertaV3Classifier.from_preset(\n",
    "        CFG.preset,\n",
    "        preprocessor=None,\n",
    "        num_classes=1\n",
    "    )\n",
    "\n",
    "    inputs = classifier.input\n",
    "    logits = classifier(inputs)\n",
    "        \n",
    "    # Compute final output\n",
    "    outputs = keras.layers.Activation(\"sigmoid\")(logits)\n",
    "    model = keras.Model(inputs, outputs)\n",
    "    \n",
    "    # Compile the model with optimizer, loss, and metrics\n",
    "    model.compile(\n",
    "        optimizer=keras.optimizers.AdamW(5e-6),\n",
    "        loss=keras.losses.BinaryCrossentropy(label_smoothing=0.02),\n",
    "        metrics=[\n",
    "            keras.metrics.AUC(name=\"auc\"),\n",
    "        ],\n",
    "        jit_compile=True\n",
    "    )\n",
    "    return model"
   ]
  },
  {
   "cell_type": "code",
   "execution_count": 24,
   "id": "01acd351",
   "metadata": {
    "execution": {
     "iopub.execute_input": "2023-11-03T05:11:33.749892Z",
     "iopub.status.busy": "2023-11-03T05:11:33.749549Z",
     "iopub.status.idle": "2023-11-03T05:11:40.866982Z",
     "shell.execute_reply": "2023-11-03T05:11:40.865996Z"
    },
    "papermill": {
     "duration": 7.141106,
     "end_time": "2023-11-03T05:11:40.869310",
     "exception": false,
     "start_time": "2023-11-03T05:11:33.728204",
     "status": "completed"
    },
    "tags": [],
    "ExecuteTime": {
     "end_time": "2023-11-14T16:29:50.265099200Z",
     "start_time": "2023-11-14T16:29:42.784682500Z"
    }
   },
   "outputs": [
    {
     "name": "stderr",
     "output_type": "stream",
     "text": [
      "C:\\Users\\dinle\\AppData\\Local\\Programs\\Python\\Python39\\lib\\site-packages\\keras_core\\src\\trainers\\trainer.py:166: UserWarning: `jit_compile` is not yet enabled for the PyTorch backend. Proceeding with `jit_compile=False`.\n",
      "  warnings.warn(\n"
     ]
    }
   ],
   "source": [
    "# with strategy.scope\n",
    "model = build_model()"
   ]
  },
  {
   "cell_type": "markdown",
   "id": "b94a578a",
   "metadata": {
    "papermill": {
     "duration": 0.024827,
     "end_time": "2023-11-03T05:11:40.919792",
     "exception": false,
     "start_time": "2023-11-03T05:11:40.894965",
     "status": "completed"
    },
    "tags": []
   },
   "source": [
    "### Model Summary"
   ]
  },
  {
   "cell_type": "code",
   "execution_count": 25,
   "id": "c07063b2",
   "metadata": {
    "_kg_hide-input": true,
    "execution": {
     "iopub.execute_input": "2023-11-03T05:11:40.972814Z",
     "iopub.status.busy": "2023-11-03T05:11:40.972457Z",
     "iopub.status.idle": "2023-11-03T05:11:40.996548Z",
     "shell.execute_reply": "2023-11-03T05:11:40.995672Z"
    },
    "papermill": {
     "duration": 0.053057,
     "end_time": "2023-11-03T05:11:40.998673",
     "exception": false,
     "start_time": "2023-11-03T05:11:40.945616",
     "status": "completed"
    },
    "tags": [],
    "ExecuteTime": {
     "end_time": "2023-11-14T16:29:50.324106500Z",
     "start_time": "2023-11-14T16:29:50.262099300Z"
    }
   },
   "outputs": [
    {
     "data": {
      "text/plain": "\u001B[1mModel: \"functional_1\"\u001B[0m\n",
      "text/html": "<pre style=\"white-space:pre;overflow-x:auto;line-height:normal;font-family:Menlo,'DejaVu Sans Mono',consolas,'Courier New',monospace\"><span style=\"font-weight: bold\">Model: \"functional_1\"</span>\n</pre>\n"
     },
     "metadata": {},
     "output_type": "display_data"
    },
    {
     "data": {
      "text/plain": "┏━━━━━━━━━━━━━━━━━━━━━┳━━━━━━━━━━━━━━━━━━━┳━━━━━━━━━┳━━━━━━━━━━━━━━━━━━━━━━┓\n┃\u001B[1m \u001B[0m\u001B[1mLayer (type)       \u001B[0m\u001B[1m \u001B[0m┃\u001B[1m \u001B[0m\u001B[1mOutput Shape     \u001B[0m\u001B[1m \u001B[0m┃\u001B[1m \u001B[0m\u001B[1mParam #\u001B[0m\u001B[1m \u001B[0m┃\u001B[1m \u001B[0m\u001B[1mConnected to        \u001B[0m\u001B[1m \u001B[0m┃\n┡━━━━━━━━━━━━━━━━━━━━━╇━━━━━━━━━━━━━━━━━━━╇━━━━━━━━━╇━━━━━━━━━━━━━━━━━━━━━━┩\n│ padding_mask        │ (\u001B[38;5;45mNone\u001B[0m, \u001B[38;5;45mNone\u001B[0m)      │       \u001B[38;5;34m0\u001B[0m │ -                    │\n│ (\u001B[38;5;33mInputLayer\u001B[0m)        │                   │         │                      │\n├─────────────────────┼───────────────────┼─────────┼──────────────────────┤\n│ token_ids           │ (\u001B[38;5;45mNone\u001B[0m, \u001B[38;5;45mNone\u001B[0m)      │       \u001B[38;5;34m0\u001B[0m │ -                    │\n│ (\u001B[38;5;33mInputLayer\u001B[0m)        │                   │         │                      │\n├─────────────────────┼───────────────────┼─────────┼──────────────────────┤\n│ deberta_v3_classif… │ (\u001B[38;5;45mNone\u001B[0m, \u001B[38;5;34m1\u001B[0m)         │ \u001B[38;5;34m141,89…\u001B[0m │ padding_mask[\u001B[38;5;34m0\u001B[0m][\u001B[38;5;34m0\u001B[0m],  │\n│ (\u001B[38;5;33mDebertaV3Classifi…\u001B[0m │                   │         │ token_ids[\u001B[38;5;34m0\u001B[0m][\u001B[38;5;34m0\u001B[0m]      │\n├─────────────────────┼───────────────────┼─────────┼──────────────────────┤\n│ activation          │ (\u001B[38;5;45mNone\u001B[0m, \u001B[38;5;34m1\u001B[0m)         │       \u001B[38;5;34m0\u001B[0m │ deberta_v3_classifi… │\n│ (\u001B[38;5;33mActivation\u001B[0m)        │                   │         │                      │\n└─────────────────────┴───────────────────┴─────────┴──────────────────────┘\n",
      "text/html": "<pre style=\"white-space:pre;overflow-x:auto;line-height:normal;font-family:Menlo,'DejaVu Sans Mono',consolas,'Courier New',monospace\">┏━━━━━━━━━━━━━━━━━━━━━┳━━━━━━━━━━━━━━━━━━━┳━━━━━━━━━┳━━━━━━━━━━━━━━━━━━━━━━┓\n┃<span style=\"font-weight: bold\"> Layer (type)        </span>┃<span style=\"font-weight: bold\"> Output Shape      </span>┃<span style=\"font-weight: bold\"> Param # </span>┃<span style=\"font-weight: bold\"> Connected to         </span>┃\n┡━━━━━━━━━━━━━━━━━━━━━╇━━━━━━━━━━━━━━━━━━━╇━━━━━━━━━╇━━━━━━━━━━━━━━━━━━━━━━┩\n│ padding_mask        │ (<span style=\"color: #00d7ff; text-decoration-color: #00d7ff\">None</span>, <span style=\"color: #00d7ff; text-decoration-color: #00d7ff\">None</span>)      │       <span style=\"color: #00af00; text-decoration-color: #00af00\">0</span> │ -                    │\n│ (<span style=\"color: #0087ff; text-decoration-color: #0087ff\">InputLayer</span>)        │                   │         │                      │\n├─────────────────────┼───────────────────┼─────────┼──────────────────────┤\n│ token_ids           │ (<span style=\"color: #00d7ff; text-decoration-color: #00d7ff\">None</span>, <span style=\"color: #00d7ff; text-decoration-color: #00d7ff\">None</span>)      │       <span style=\"color: #00af00; text-decoration-color: #00af00\">0</span> │ -                    │\n│ (<span style=\"color: #0087ff; text-decoration-color: #0087ff\">InputLayer</span>)        │                   │         │                      │\n├─────────────────────┼───────────────────┼─────────┼──────────────────────┤\n│ deberta_v3_classif… │ (<span style=\"color: #00d7ff; text-decoration-color: #00d7ff\">None</span>, <span style=\"color: #00af00; text-decoration-color: #00af00\">1</span>)         │ <span style=\"color: #00af00; text-decoration-color: #00af00\">141,89…</span> │ padding_mask[<span style=\"color: #00af00; text-decoration-color: #00af00\">0</span>][<span style=\"color: #00af00; text-decoration-color: #00af00\">0</span>],  │\n│ (<span style=\"color: #0087ff; text-decoration-color: #0087ff\">DebertaV3Classifi…</span> │                   │         │ token_ids[<span style=\"color: #00af00; text-decoration-color: #00af00\">0</span>][<span style=\"color: #00af00; text-decoration-color: #00af00\">0</span>]      │\n├─────────────────────┼───────────────────┼─────────┼──────────────────────┤\n│ activation          │ (<span style=\"color: #00d7ff; text-decoration-color: #00d7ff\">None</span>, <span style=\"color: #00af00; text-decoration-color: #00af00\">1</span>)         │       <span style=\"color: #00af00; text-decoration-color: #00af00\">0</span> │ deberta_v3_classifi… │\n│ (<span style=\"color: #0087ff; text-decoration-color: #0087ff\">Activation</span>)        │                   │         │                      │\n└─────────────────────┴───────────────────┴─────────┴──────────────────────┘\n</pre>\n"
     },
     "metadata": {},
     "output_type": "display_data"
    },
    {
     "data": {
      "text/plain": "\u001B[1m Total params: \u001B[0m\u001B[38;5;34m141,895,681\u001B[0m (541.29 MB)\n",
      "text/html": "<pre style=\"white-space:pre;overflow-x:auto;line-height:normal;font-family:Menlo,'DejaVu Sans Mono',consolas,'Courier New',monospace\"><span style=\"font-weight: bold\"> Total params: </span><span style=\"color: #00af00; text-decoration-color: #00af00\">141,895,681</span> (541.29 MB)\n</pre>\n"
     },
     "metadata": {},
     "output_type": "display_data"
    },
    {
     "data": {
      "text/plain": "\u001B[1m Trainable params: \u001B[0m\u001B[38;5;34m141,895,681\u001B[0m (541.29 MB)\n",
      "text/html": "<pre style=\"white-space:pre;overflow-x:auto;line-height:normal;font-family:Menlo,'DejaVu Sans Mono',consolas,'Courier New',monospace\"><span style=\"font-weight: bold\"> Trainable params: </span><span style=\"color: #00af00; text-decoration-color: #00af00\">141,895,681</span> (541.29 MB)\n</pre>\n"
     },
     "metadata": {},
     "output_type": "display_data"
    },
    {
     "data": {
      "text/plain": "\u001B[1m Non-trainable params: \u001B[0m\u001B[38;5;34m0\u001B[0m (0.00 B)\n",
      "text/html": "<pre style=\"white-space:pre;overflow-x:auto;line-height:normal;font-family:Menlo,'DejaVu Sans Mono',consolas,'Courier New',monospace\"><span style=\"font-weight: bold\"> Non-trainable params: </span><span style=\"color: #00af00; text-decoration-color: #00af00\">0</span> (0.00 B)\n</pre>\n"
     },
     "metadata": {},
     "output_type": "display_data"
    }
   ],
   "source": [
    "model.summary()"
   ]
  },
  {
   "cell_type": "markdown",
   "id": "f5b5744c",
   "metadata": {
    "papermill": {
     "duration": 0.025105,
     "end_time": "2023-11-03T05:11:41.049976",
     "exception": false,
     "start_time": "2023-11-03T05:11:41.024871",
     "status": "completed"
    },
    "tags": []
   },
   "source": [
    "### Model Plot"
   ]
  },
  {
   "cell_type": "code",
   "execution_count": 26,
   "id": "b9a06165",
   "metadata": {
    "_kg_hide-input": true,
    "execution": {
     "iopub.execute_input": "2023-11-03T05:11:41.102921Z",
     "iopub.status.busy": "2023-11-03T05:11:41.102127Z",
     "iopub.status.idle": "2023-11-03T05:11:41.560661Z",
     "shell.execute_reply": "2023-11-03T05:11:41.559683Z"
    },
    "papermill": {
     "duration": 0.487096,
     "end_time": "2023-11-03T05:11:41.562740",
     "exception": false,
     "start_time": "2023-11-03T05:11:41.075644",
     "status": "completed"
    },
    "tags": [],
    "ExecuteTime": {
     "end_time": "2023-11-14T16:29:50.340206800Z",
     "start_time": "2023-11-14T16:29:50.294098900Z"
    }
   },
   "outputs": [
    {
     "name": "stdout",
     "output_type": "stream",
     "text": [
      "You must install graphviz (see instructions at https://graphviz.gitlab.io/download/) for `plot_model` to work.\n"
     ]
    }
   ],
   "source": [
    "keras.utils.plot_model(model, show_shapes=True)"
   ]
  },
  {
   "cell_type": "markdown",
   "id": "55060b6b",
   "metadata": {
    "papermill": {
     "duration": 0.026555,
     "end_time": "2023-11-03T05:11:41.616770",
     "exception": false,
     "start_time": "2023-11-03T05:11:41.590215",
     "status": "completed"
    },
    "tags": []
   },
   "source": [
    "# 🚂 | Training"
   ]
  },
  {
   "cell_type": "code",
   "execution_count": 27,
   "id": "469a43e1",
   "metadata": {
    "_kg_hide-input": true,
    "execution": {
     "iopub.execute_input": "2023-11-03T05:11:41.671851Z",
     "iopub.status.busy": "2023-11-03T05:11:41.671210Z",
     "iopub.status.idle": "2023-11-03T09:51:48.644323Z",
     "shell.execute_reply": "2023-11-03T09:51:48.643156Z"
    },
    "papermill": {
     "duration": 16807.002657,
     "end_time": "2023-11-03T09:51:48.646592",
     "exception": false,
     "start_time": "2023-11-03T05:11:41.643935",
     "status": "completed"
    },
    "tags": [],
    "ExecuteTime": {
     "end_time": "2023-11-15T05:53:34.919294Z",
     "start_time": "2023-11-14T16:29:50.312098800Z"
    }
   },
   "outputs": [
    {
     "name": "stdout",
     "output_type": "stream",
     "text": [
      "##################################################\n",
      "\tFold: 1 | Model: deberta_v3_small_en\n",
      "\tBatch Size: 32 | Scheduler: cosine\n",
      "\tNum Train: 22261 | Num Valid: 5566\n",
      "##################################################\n",
      "Epoch 1/3\n",
      "\u001B[1m695/695\u001B[0m \u001B[32m━━━━━━━━━━━━━━━━━━━━\u001B[0m\u001B[37m\u001B[0m \u001B[1m12985s\u001B[0m 19s/step - auc: 0.6538 - loss: 0.6372 - val_auc: 0.9810 - val_loss: 0.2317 - learning_rate: 6.0000e-07\n",
      "Epoch 2/3\n",
      "\u001B[1m695/695\u001B[0m \u001B[32m━━━━━━━━━━━━━━━━━━━━\u001B[0m\u001B[37m\u001B[0m \u001B[1m12992s\u001B[0m 19s/step - auc: 0.9979 - loss: 0.0948 - val_auc: 0.9996 - val_loss: 0.0727 - learning_rate: 1.6000e-05\n",
      "Epoch 3/3\n",
      "\u001B[1m695/695\u001B[0m \u001B[32m━━━━━━━━━━━━━━━━━━━━\u001B[0m\u001B[37m\u001B[0m \u001B[1m13016s\u001B[0m 19s/step - auc: 0.9997 - loss: 0.0626 - val_auc: 0.9986 - val_loss: 0.0988 - learning_rate: 1.5733e-05\n",
      "\n",
      "================= FOLD 0 RESULTS =================\n",
      ">>>> BEST Loss  : 0.073\n",
      ">>>> BEST AUC   : 1.000\n",
      ">>>> BEST Epoch : 1\n",
      "==================================================\n",
      "\n",
      "\n",
      "##################################################\n",
      "\tFold: 2 | Model: deberta_v3_small_en\n",
      "\tBatch Size: 32 | Scheduler: cosine\n",
      "\tNum Train: 22261 | Num Valid: 5566\n",
      "##################################################\n",
      "Epoch 1/3\n",
      "\u001B[1m532/695\u001B[0m \u001B[32m━━━━━━━━━━━━━━━\u001B[0m\u001B[37m━━━━━\u001B[0m \u001B[1m46:57\u001B[0m 17s/step - auc: 0.6195 - loss: 0.6646"
     ]
    },
    {
     "ename": "KeyboardInterrupt",
     "evalue": "",
     "output_type": "error",
     "traceback": [
      "\u001B[1;31m---------------------------------------------------------------------------\u001B[0m",
      "\u001B[1;31mKeyboardInterrupt\u001B[0m                         Traceback (most recent call last)",
      "Cell \u001B[1;32mIn[27], line 24\u001B[0m\n\u001B[0;32m     21\u001B[0m     model \u001B[38;5;241m=\u001B[39m build_model()\n\u001B[0;32m     23\u001B[0m \u001B[38;5;66;03m# Start training the model\u001B[39;00m\n\u001B[1;32m---> 24\u001B[0m history \u001B[38;5;241m=\u001B[39m \u001B[43mmodel\u001B[49m\u001B[38;5;241;43m.\u001B[39;49m\u001B[43mfit\u001B[49m\u001B[43m(\u001B[49m\n\u001B[0;32m     25\u001B[0m \u001B[43m    \u001B[49m\u001B[43mtrain_ds\u001B[49m\u001B[43m,\u001B[49m\n\u001B[0;32m     26\u001B[0m \u001B[43m    \u001B[49m\u001B[43mepochs\u001B[49m\u001B[38;5;241;43m=\u001B[39;49m\u001B[43mCFG\u001B[49m\u001B[38;5;241;43m.\u001B[39;49m\u001B[43mepochs\u001B[49m\u001B[43m,\u001B[49m\n\u001B[0;32m     27\u001B[0m \u001B[43m    \u001B[49m\u001B[43mvalidation_data\u001B[49m\u001B[38;5;241;43m=\u001B[39;49m\u001B[43mvalid_ds\u001B[49m\u001B[43m,\u001B[49m\n\u001B[0;32m     28\u001B[0m \u001B[43m    \u001B[49m\u001B[43mcallbacks\u001B[49m\u001B[38;5;241;43m=\u001B[39;49m\u001B[43mcallbacks\u001B[49m\u001B[43m,\u001B[49m\n\u001B[0;32m     29\u001B[0m \u001B[43m    \u001B[49m\u001B[43msteps_per_epoch\u001B[49m\u001B[38;5;241;43m=\u001B[39;49m\u001B[38;5;28;43mint\u001B[39;49m\u001B[43m(\u001B[49m\u001B[38;5;28;43mlen\u001B[39;49m\u001B[43m(\u001B[49m\u001B[43mtrain_df\u001B[49m\u001B[43m)\u001B[49m\u001B[43m \u001B[49m\u001B[38;5;241;43m/\u001B[39;49m\u001B[43m \u001B[49m\u001B[43mCFG\u001B[49m\u001B[38;5;241;43m.\u001B[39;49m\u001B[43mbatch_size\u001B[49m\u001B[43m \u001B[49m\u001B[38;5;241;43m/\u001B[39;49m\u001B[43m \u001B[49m\u001B[43mCFG\u001B[49m\u001B[38;5;241;43m.\u001B[39;49m\u001B[43mreplicas\u001B[49m\u001B[43m)\u001B[49m\u001B[43m,\u001B[49m\n\u001B[0;32m     30\u001B[0m \u001B[43m\u001B[49m\u001B[43m)\u001B[49m\n\u001B[0;32m     32\u001B[0m \u001B[38;5;66;03m# Find the epoch with the best validation accuracy\u001B[39;00m\n\u001B[0;32m     33\u001B[0m best_epoch \u001B[38;5;241m=\u001B[39m np\u001B[38;5;241m.\u001B[39margmax(model\u001B[38;5;241m.\u001B[39mhistory\u001B[38;5;241m.\u001B[39mhistory[\u001B[38;5;124m'\u001B[39m\u001B[38;5;124mval_auc\u001B[39m\u001B[38;5;124m'\u001B[39m])\n",
      "File \u001B[1;32m~\\AppData\\Local\\Programs\\Python\\Python39\\lib\\site-packages\\keras_core\\src\\utils\\traceback_utils.py:118\u001B[0m, in \u001B[0;36mfilter_traceback.<locals>.error_handler\u001B[1;34m(*args, **kwargs)\u001B[0m\n\u001B[0;32m    116\u001B[0m filtered_tb \u001B[38;5;241m=\u001B[39m \u001B[38;5;28;01mNone\u001B[39;00m\n\u001B[0;32m    117\u001B[0m \u001B[38;5;28;01mtry\u001B[39;00m:\n\u001B[1;32m--> 118\u001B[0m     \u001B[38;5;28;01mreturn\u001B[39;00m fn(\u001B[38;5;241m*\u001B[39margs, \u001B[38;5;241m*\u001B[39m\u001B[38;5;241m*\u001B[39mkwargs)\n\u001B[0;32m    119\u001B[0m \u001B[38;5;28;01mexcept\u001B[39;00m \u001B[38;5;167;01mException\u001B[39;00m \u001B[38;5;28;01mas\u001B[39;00m e:\n\u001B[0;32m    120\u001B[0m     filtered_tb \u001B[38;5;241m=\u001B[39m _process_traceback_frames(e\u001B[38;5;241m.\u001B[39m__traceback__)\n",
      "File \u001B[1;32m~\\AppData\\Local\\Programs\\Python\\Python39\\lib\\site-packages\\keras_core\\src\\backend\\torch\\trainer.py:295\u001B[0m, in \u001B[0;36mTorchTrainer.fit\u001B[1;34m(self, x, y, batch_size, epochs, verbose, callbacks, validation_split, validation_data, shuffle, class_weight, sample_weight, initial_epoch, steps_per_epoch, validation_steps, validation_batch_size, validation_freq)\u001B[0m\n\u001B[0;32m    291\u001B[0m \u001B[38;5;28;01mfor\u001B[39;00m step, data \u001B[38;5;129;01min\u001B[39;00m epoch_iterator\u001B[38;5;241m.\u001B[39menumerate_epoch(return_type\u001B[38;5;241m=\u001B[39m\u001B[38;5;124m\"\u001B[39m\u001B[38;5;124mnp\u001B[39m\u001B[38;5;124m\"\u001B[39m):\n\u001B[0;32m    292\u001B[0m     \u001B[38;5;66;03m# Callbacks\u001B[39;00m\n\u001B[0;32m    293\u001B[0m     callbacks\u001B[38;5;241m.\u001B[39mon_train_batch_begin(step)\n\u001B[1;32m--> 295\u001B[0m     logs \u001B[38;5;241m=\u001B[39m \u001B[38;5;28;43mself\u001B[39;49m\u001B[38;5;241;43m.\u001B[39;49m\u001B[43mtrain_function\u001B[49m\u001B[43m(\u001B[49m\u001B[43mdata\u001B[49m\u001B[43m)\u001B[49m\n\u001B[0;32m    297\u001B[0m     \u001B[38;5;66;03m# Callbacks\u001B[39;00m\n\u001B[0;32m    298\u001B[0m     callbacks\u001B[38;5;241m.\u001B[39mon_train_batch_end(step, \u001B[38;5;28mself\u001B[39m\u001B[38;5;241m.\u001B[39m_pythonify_logs(logs))\n",
      "File \u001B[1;32m~\\AppData\\Local\\Programs\\Python\\Python39\\lib\\site-packages\\keras_core\\src\\backend\\torch\\trainer.py:100\u001B[0m, in \u001B[0;36mTorchTrainer.make_train_function.<locals>.one_step_on_data\u001B[1;34m(data)\u001B[0m\n\u001B[0;32m     98\u001B[0m \u001B[38;5;250m\u001B[39m\u001B[38;5;124;03m\"\"\"Runs a single training step on a batch of data.\"\"\"\u001B[39;00m\n\u001B[0;32m     99\u001B[0m data \u001B[38;5;241m=\u001B[39m data[\u001B[38;5;241m0\u001B[39m]\n\u001B[1;32m--> 100\u001B[0m \u001B[38;5;28;01mreturn\u001B[39;00m \u001B[38;5;28;43mself\u001B[39;49m\u001B[38;5;241;43m.\u001B[39;49m\u001B[43mtrain_step\u001B[49m\u001B[43m(\u001B[49m\u001B[43mdata\u001B[49m\u001B[43m)\u001B[49m\n",
      "File \u001B[1;32m~\\AppData\\Local\\Programs\\Python\\Python39\\lib\\site-packages\\keras_core\\src\\backend\\torch\\trainer.py:31\u001B[0m, in \u001B[0;36mTorchTrainer.train_step\u001B[1;34m(self, data)\u001B[0m\n\u001B[0;32m     29\u001B[0m \u001B[38;5;66;03m# Compute predictions\u001B[39;00m\n\u001B[0;32m     30\u001B[0m \u001B[38;5;28;01mif\u001B[39;00m \u001B[38;5;28mself\u001B[39m\u001B[38;5;241m.\u001B[39m_call_has_training_arg:\n\u001B[1;32m---> 31\u001B[0m     y_pred \u001B[38;5;241m=\u001B[39m \u001B[38;5;28;43mself\u001B[39;49m\u001B[43m(\u001B[49m\u001B[43mx\u001B[49m\u001B[43m,\u001B[49m\u001B[43m \u001B[49m\u001B[43mtraining\u001B[49m\u001B[38;5;241;43m=\u001B[39;49m\u001B[38;5;28;43;01mTrue\u001B[39;49;00m\u001B[43m)\u001B[49m\n\u001B[0;32m     32\u001B[0m \u001B[38;5;28;01melse\u001B[39;00m:\n\u001B[0;32m     33\u001B[0m     y_pred \u001B[38;5;241m=\u001B[39m \u001B[38;5;28mself\u001B[39m(x)\n",
      "File \u001B[1;32m~\\AppData\\Local\\Programs\\Python\\Python39\\lib\\site-packages\\keras_core\\src\\utils\\traceback_utils.py:118\u001B[0m, in \u001B[0;36mfilter_traceback.<locals>.error_handler\u001B[1;34m(*args, **kwargs)\u001B[0m\n\u001B[0;32m    116\u001B[0m filtered_tb \u001B[38;5;241m=\u001B[39m \u001B[38;5;28;01mNone\u001B[39;00m\n\u001B[0;32m    117\u001B[0m \u001B[38;5;28;01mtry\u001B[39;00m:\n\u001B[1;32m--> 118\u001B[0m     \u001B[38;5;28;01mreturn\u001B[39;00m fn(\u001B[38;5;241m*\u001B[39margs, \u001B[38;5;241m*\u001B[39m\u001B[38;5;241m*\u001B[39mkwargs)\n\u001B[0;32m    119\u001B[0m \u001B[38;5;28;01mexcept\u001B[39;00m \u001B[38;5;167;01mException\u001B[39;00m \u001B[38;5;28;01mas\u001B[39;00m e:\n\u001B[0;32m    120\u001B[0m     filtered_tb \u001B[38;5;241m=\u001B[39m _process_traceback_frames(e\u001B[38;5;241m.\u001B[39m__traceback__)\n",
      "File \u001B[1;32m~\\AppData\\Local\\Programs\\Python\\Python39\\lib\\site-packages\\keras_core\\src\\layers\\layer.py:810\u001B[0m, in \u001B[0;36mLayer.__call__\u001B[1;34m(self, *args, **kwargs)\u001B[0m\n\u001B[0;32m    808\u001B[0m         outputs \u001B[38;5;241m=\u001B[39m \u001B[38;5;28msuper\u001B[39m()\u001B[38;5;241m.\u001B[39m\u001B[38;5;21m__call__\u001B[39m(\u001B[38;5;241m*\u001B[39margs, \u001B[38;5;241m*\u001B[39m\u001B[38;5;241m*\u001B[39mkwargs)\n\u001B[0;32m    809\u001B[0m \u001B[38;5;28;01melse\u001B[39;00m:\n\u001B[1;32m--> 810\u001B[0m     outputs \u001B[38;5;241m=\u001B[39m \u001B[38;5;28msuper\u001B[39m()\u001B[38;5;241m.\u001B[39m\u001B[38;5;21m__call__\u001B[39m(\u001B[38;5;241m*\u001B[39margs, \u001B[38;5;241m*\u001B[39m\u001B[38;5;241m*\u001B[39mkwargs)\n\u001B[0;32m    811\u001B[0m \u001B[38;5;28;01mif\u001B[39;00m \u001B[38;5;129;01mnot\u001B[39;00m \u001B[38;5;28mself\u001B[39m\u001B[38;5;241m.\u001B[39mbuilt:\n\u001B[0;32m    812\u001B[0m     \u001B[38;5;28mself\u001B[39m\u001B[38;5;241m.\u001B[39mbuilt \u001B[38;5;241m=\u001B[39m \u001B[38;5;28;01mTrue\u001B[39;00m\n",
      "File \u001B[1;32m~\\AppData\\Local\\Programs\\Python\\Python39\\lib\\site-packages\\torch\\nn\\modules\\module.py:1501\u001B[0m, in \u001B[0;36mModule._call_impl\u001B[1;34m(self, *args, **kwargs)\u001B[0m\n\u001B[0;32m   1496\u001B[0m \u001B[38;5;66;03m# If we don't have any hooks, we want to skip the rest of the logic in\u001B[39;00m\n\u001B[0;32m   1497\u001B[0m \u001B[38;5;66;03m# this function, and just call forward.\u001B[39;00m\n\u001B[0;32m   1498\u001B[0m \u001B[38;5;28;01mif\u001B[39;00m \u001B[38;5;129;01mnot\u001B[39;00m (\u001B[38;5;28mself\u001B[39m\u001B[38;5;241m.\u001B[39m_backward_hooks \u001B[38;5;129;01mor\u001B[39;00m \u001B[38;5;28mself\u001B[39m\u001B[38;5;241m.\u001B[39m_backward_pre_hooks \u001B[38;5;129;01mor\u001B[39;00m \u001B[38;5;28mself\u001B[39m\u001B[38;5;241m.\u001B[39m_forward_hooks \u001B[38;5;129;01mor\u001B[39;00m \u001B[38;5;28mself\u001B[39m\u001B[38;5;241m.\u001B[39m_forward_pre_hooks\n\u001B[0;32m   1499\u001B[0m         \u001B[38;5;129;01mor\u001B[39;00m _global_backward_pre_hooks \u001B[38;5;129;01mor\u001B[39;00m _global_backward_hooks\n\u001B[0;32m   1500\u001B[0m         \u001B[38;5;129;01mor\u001B[39;00m _global_forward_hooks \u001B[38;5;129;01mor\u001B[39;00m _global_forward_pre_hooks):\n\u001B[1;32m-> 1501\u001B[0m     \u001B[38;5;28;01mreturn\u001B[39;00m forward_call(\u001B[38;5;241m*\u001B[39margs, \u001B[38;5;241m*\u001B[39m\u001B[38;5;241m*\u001B[39mkwargs)\n\u001B[0;32m   1502\u001B[0m \u001B[38;5;66;03m# Do not call functions when jit is used\u001B[39;00m\n\u001B[0;32m   1503\u001B[0m full_backward_hooks, non_full_backward_hooks \u001B[38;5;241m=\u001B[39m [], []\n",
      "File \u001B[1;32m~\\AppData\\Local\\Programs\\Python\\Python39\\lib\\site-packages\\keras_core\\src\\backend\\torch\\layer.py:26\u001B[0m, in \u001B[0;36mTorchLayer.forward\u001B[1;34m(self, *args, **kwargs)\u001B[0m\n\u001B[0;32m     25\u001B[0m \u001B[38;5;28;01mdef\u001B[39;00m \u001B[38;5;21mforward\u001B[39m(\u001B[38;5;28mself\u001B[39m, \u001B[38;5;241m*\u001B[39margs, \u001B[38;5;241m*\u001B[39m\u001B[38;5;241m*\u001B[39mkwargs):\n\u001B[1;32m---> 26\u001B[0m     \u001B[38;5;28;01mreturn\u001B[39;00m Operation\u001B[38;5;241m.\u001B[39m\u001B[38;5;21m__call__\u001B[39m(\u001B[38;5;28mself\u001B[39m, \u001B[38;5;241m*\u001B[39margs, \u001B[38;5;241m*\u001B[39m\u001B[38;5;241m*\u001B[39mkwargs)\n",
      "File \u001B[1;32m~\\AppData\\Local\\Programs\\Python\\Python39\\lib\\site-packages\\keras_core\\src\\utils\\traceback_utils.py:118\u001B[0m, in \u001B[0;36mfilter_traceback.<locals>.error_handler\u001B[1;34m(*args, **kwargs)\u001B[0m\n\u001B[0;32m    116\u001B[0m filtered_tb \u001B[38;5;241m=\u001B[39m \u001B[38;5;28;01mNone\u001B[39;00m\n\u001B[0;32m    117\u001B[0m \u001B[38;5;28;01mtry\u001B[39;00m:\n\u001B[1;32m--> 118\u001B[0m     \u001B[38;5;28;01mreturn\u001B[39;00m fn(\u001B[38;5;241m*\u001B[39margs, \u001B[38;5;241m*\u001B[39m\u001B[38;5;241m*\u001B[39mkwargs)\n\u001B[0;32m    119\u001B[0m \u001B[38;5;28;01mexcept\u001B[39;00m \u001B[38;5;167;01mException\u001B[39;00m \u001B[38;5;28;01mas\u001B[39;00m e:\n\u001B[0;32m    120\u001B[0m     filtered_tb \u001B[38;5;241m=\u001B[39m _process_traceback_frames(e\u001B[38;5;241m.\u001B[39m__traceback__)\n",
      "File \u001B[1;32m~\\AppData\\Local\\Programs\\Python\\Python39\\lib\\site-packages\\keras_core\\src\\ops\\operation.py:42\u001B[0m, in \u001B[0;36mOperation.__call__\u001B[1;34m(self, *args, **kwargs)\u001B[0m\n\u001B[0;32m     37\u001B[0m         call_fn \u001B[38;5;241m=\u001B[39m \u001B[38;5;28mself\u001B[39m\u001B[38;5;241m.\u001B[39mcall\n\u001B[0;32m     38\u001B[0m     call_fn \u001B[38;5;241m=\u001B[39m traceback_utils\u001B[38;5;241m.\u001B[39minject_argument_info_in_traceback(\n\u001B[0;32m     39\u001B[0m         call_fn,\n\u001B[0;32m     40\u001B[0m         object_name\u001B[38;5;241m=\u001B[39m(\u001B[38;5;124mf\u001B[39m\u001B[38;5;124m\"\u001B[39m\u001B[38;5;132;01m{\u001B[39;00m\u001B[38;5;28mself\u001B[39m\u001B[38;5;241m.\u001B[39m\u001B[38;5;18m__class__\u001B[39m\u001B[38;5;241m.\u001B[39m\u001B[38;5;18m__name__\u001B[39m\u001B[38;5;132;01m}\u001B[39;00m\u001B[38;5;124m.call()\u001B[39m\u001B[38;5;124m\"\u001B[39m),\n\u001B[0;32m     41\u001B[0m     )\n\u001B[1;32m---> 42\u001B[0m     \u001B[38;5;28;01mreturn\u001B[39;00m call_fn(\u001B[38;5;241m*\u001B[39margs, \u001B[38;5;241m*\u001B[39m\u001B[38;5;241m*\u001B[39mkwargs)\n\u001B[0;32m     44\u001B[0m \u001B[38;5;66;03m# Plain flow.\u001B[39;00m\n\u001B[0;32m     45\u001B[0m \u001B[38;5;28;01mif\u001B[39;00m any_symbolic_tensors(args, kwargs):\n",
      "File \u001B[1;32m~\\AppData\\Local\\Programs\\Python\\Python39\\lib\\site-packages\\keras_core\\src\\utils\\traceback_utils.py:157\u001B[0m, in \u001B[0;36minject_argument_info_in_traceback.<locals>.error_handler\u001B[1;34m(*args, **kwargs)\u001B[0m\n\u001B[0;32m    155\u001B[0m bound_signature \u001B[38;5;241m=\u001B[39m \u001B[38;5;28;01mNone\u001B[39;00m\n\u001B[0;32m    156\u001B[0m \u001B[38;5;28;01mtry\u001B[39;00m:\n\u001B[1;32m--> 157\u001B[0m     \u001B[38;5;28;01mreturn\u001B[39;00m fn(\u001B[38;5;241m*\u001B[39margs, \u001B[38;5;241m*\u001B[39m\u001B[38;5;241m*\u001B[39mkwargs)\n\u001B[0;32m    158\u001B[0m \u001B[38;5;28;01mexcept\u001B[39;00m \u001B[38;5;167;01mException\u001B[39;00m \u001B[38;5;28;01mas\u001B[39;00m e:\n\u001B[0;32m    159\u001B[0m     \u001B[38;5;28;01mif\u001B[39;00m \u001B[38;5;28mhasattr\u001B[39m(e, \u001B[38;5;124m\"\u001B[39m\u001B[38;5;124m_keras_call_info_injected\u001B[39m\u001B[38;5;124m\"\u001B[39m):\n\u001B[0;32m    160\u001B[0m         \u001B[38;5;66;03m# Only inject info for the innermost failing call\u001B[39;00m\n",
      "File \u001B[1;32m~\\AppData\\Local\\Programs\\Python\\Python39\\lib\\site-packages\\keras_core\\src\\models\\functional.py:188\u001B[0m, in \u001B[0;36mFunctional.call\u001B[1;34m(self, inputs, training, mask)\u001B[0m\n\u001B[0;32m    186\u001B[0m         \u001B[38;5;28;01mif\u001B[39;00m mask \u001B[38;5;129;01mis\u001B[39;00m \u001B[38;5;129;01mnot\u001B[39;00m \u001B[38;5;28;01mNone\u001B[39;00m:\n\u001B[0;32m    187\u001B[0m             x\u001B[38;5;241m.\u001B[39m_keras_mask \u001B[38;5;241m=\u001B[39m mask\n\u001B[1;32m--> 188\u001B[0m outputs \u001B[38;5;241m=\u001B[39m \u001B[38;5;28;43mself\u001B[39;49m\u001B[38;5;241;43m.\u001B[39;49m\u001B[43m_run_through_graph\u001B[49m\u001B[43m(\u001B[49m\n\u001B[0;32m    189\u001B[0m \u001B[43m    \u001B[49m\u001B[43minputs\u001B[49m\u001B[43m,\u001B[49m\u001B[43m \u001B[49m\u001B[43moperation_fn\u001B[49m\u001B[38;5;241;43m=\u001B[39;49m\u001B[38;5;28;43;01mlambda\u001B[39;49;00m\u001B[43m \u001B[49m\u001B[43mop\u001B[49m\u001B[43m:\u001B[49m\u001B[43m \u001B[49m\u001B[43moperation_fn\u001B[49m\u001B[43m(\u001B[49m\u001B[43mop\u001B[49m\u001B[43m,\u001B[49m\u001B[43m \u001B[49m\u001B[43mtraining\u001B[49m\u001B[38;5;241;43m=\u001B[39;49m\u001B[43mtraining\u001B[49m\u001B[43m)\u001B[49m\n\u001B[0;32m    190\u001B[0m \u001B[43m\u001B[49m\u001B[43m)\u001B[49m\n\u001B[0;32m    191\u001B[0m \u001B[38;5;28;01mreturn\u001B[39;00m unpack_singleton(outputs)\n",
      "File \u001B[1;32m~\\AppData\\Local\\Programs\\Python\\Python39\\lib\\site-packages\\keras_core\\src\\ops\\function.py:140\u001B[0m, in \u001B[0;36mFunction._run_through_graph\u001B[1;34m(self, inputs, operation_fn)\u001B[0m\n\u001B[0;32m    137\u001B[0m     \u001B[38;5;28;01mcontinue\u001B[39;00m  \u001B[38;5;66;03m# Node is not computable, try skipping.\u001B[39;00m\n\u001B[0;32m    139\u001B[0m args, kwargs \u001B[38;5;241m=\u001B[39m node\u001B[38;5;241m.\u001B[39marguments\u001B[38;5;241m.\u001B[39mfill_in(tensor_dict)\n\u001B[1;32m--> 140\u001B[0m outputs \u001B[38;5;241m=\u001B[39m operation_fn(node\u001B[38;5;241m.\u001B[39moperation)(\u001B[38;5;241m*\u001B[39margs, \u001B[38;5;241m*\u001B[39m\u001B[38;5;241m*\u001B[39mkwargs)\n\u001B[0;32m    142\u001B[0m \u001B[38;5;66;03m# Update tensor_dict.\u001B[39;00m\n\u001B[0;32m    143\u001B[0m \u001B[38;5;28;01mfor\u001B[39;00m x, y \u001B[38;5;129;01min\u001B[39;00m \u001B[38;5;28mzip\u001B[39m(node\u001B[38;5;241m.\u001B[39moutputs, tree\u001B[38;5;241m.\u001B[39mflatten(outputs)):\n",
      "File \u001B[1;32m~\\AppData\\Local\\Programs\\Python\\Python39\\lib\\site-packages\\keras_core\\src\\models\\functional.py:574\u001B[0m, in \u001B[0;36moperation_fn.<locals>.call\u001B[1;34m(*args, **kwargs)\u001B[0m\n\u001B[0;32m    568\u001B[0m \u001B[38;5;28;01mif\u001B[39;00m (\n\u001B[0;32m    569\u001B[0m     \u001B[38;5;28mhasattr\u001B[39m(operation, \u001B[38;5;124m\"\u001B[39m\u001B[38;5;124m_call_has_training_arg\u001B[39m\u001B[38;5;124m\"\u001B[39m)\n\u001B[0;32m    570\u001B[0m     \u001B[38;5;129;01mand\u001B[39;00m operation\u001B[38;5;241m.\u001B[39m_call_has_training_arg\n\u001B[0;32m    571\u001B[0m     \u001B[38;5;129;01mand\u001B[39;00m training \u001B[38;5;129;01mis\u001B[39;00m \u001B[38;5;129;01mnot\u001B[39;00m \u001B[38;5;28;01mNone\u001B[39;00m\n\u001B[0;32m    572\u001B[0m ):\n\u001B[0;32m    573\u001B[0m     kwargs[\u001B[38;5;124m\"\u001B[39m\u001B[38;5;124mtraining\u001B[39m\u001B[38;5;124m\"\u001B[39m] \u001B[38;5;241m=\u001B[39m training\n\u001B[1;32m--> 574\u001B[0m \u001B[38;5;28;01mreturn\u001B[39;00m operation(\u001B[38;5;241m*\u001B[39margs, \u001B[38;5;241m*\u001B[39m\u001B[38;5;241m*\u001B[39mkwargs)\n",
      "File \u001B[1;32m~\\AppData\\Local\\Programs\\Python\\Python39\\lib\\site-packages\\keras_core\\src\\utils\\traceback_utils.py:118\u001B[0m, in \u001B[0;36mfilter_traceback.<locals>.error_handler\u001B[1;34m(*args, **kwargs)\u001B[0m\n\u001B[0;32m    116\u001B[0m filtered_tb \u001B[38;5;241m=\u001B[39m \u001B[38;5;28;01mNone\u001B[39;00m\n\u001B[0;32m    117\u001B[0m \u001B[38;5;28;01mtry\u001B[39;00m:\n\u001B[1;32m--> 118\u001B[0m     \u001B[38;5;28;01mreturn\u001B[39;00m fn(\u001B[38;5;241m*\u001B[39margs, \u001B[38;5;241m*\u001B[39m\u001B[38;5;241m*\u001B[39mkwargs)\n\u001B[0;32m    119\u001B[0m \u001B[38;5;28;01mexcept\u001B[39;00m \u001B[38;5;167;01mException\u001B[39;00m \u001B[38;5;28;01mas\u001B[39;00m e:\n\u001B[0;32m    120\u001B[0m     filtered_tb \u001B[38;5;241m=\u001B[39m _process_traceback_frames(e\u001B[38;5;241m.\u001B[39m__traceback__)\n",
      "File \u001B[1;32m~\\AppData\\Local\\Programs\\Python\\Python39\\lib\\site-packages\\keras_core\\src\\layers\\layer.py:810\u001B[0m, in \u001B[0;36mLayer.__call__\u001B[1;34m(self, *args, **kwargs)\u001B[0m\n\u001B[0;32m    808\u001B[0m         outputs \u001B[38;5;241m=\u001B[39m \u001B[38;5;28msuper\u001B[39m()\u001B[38;5;241m.\u001B[39m\u001B[38;5;21m__call__\u001B[39m(\u001B[38;5;241m*\u001B[39margs, \u001B[38;5;241m*\u001B[39m\u001B[38;5;241m*\u001B[39mkwargs)\n\u001B[0;32m    809\u001B[0m \u001B[38;5;28;01melse\u001B[39;00m:\n\u001B[1;32m--> 810\u001B[0m     outputs \u001B[38;5;241m=\u001B[39m \u001B[38;5;28msuper\u001B[39m()\u001B[38;5;241m.\u001B[39m\u001B[38;5;21m__call__\u001B[39m(\u001B[38;5;241m*\u001B[39margs, \u001B[38;5;241m*\u001B[39m\u001B[38;5;241m*\u001B[39mkwargs)\n\u001B[0;32m    811\u001B[0m \u001B[38;5;28;01mif\u001B[39;00m \u001B[38;5;129;01mnot\u001B[39;00m \u001B[38;5;28mself\u001B[39m\u001B[38;5;241m.\u001B[39mbuilt:\n\u001B[0;32m    812\u001B[0m     \u001B[38;5;28mself\u001B[39m\u001B[38;5;241m.\u001B[39mbuilt \u001B[38;5;241m=\u001B[39m \u001B[38;5;28;01mTrue\u001B[39;00m\n",
      "File \u001B[1;32m~\\AppData\\Local\\Programs\\Python\\Python39\\lib\\site-packages\\torch\\nn\\modules\\module.py:1501\u001B[0m, in \u001B[0;36mModule._call_impl\u001B[1;34m(self, *args, **kwargs)\u001B[0m\n\u001B[0;32m   1496\u001B[0m \u001B[38;5;66;03m# If we don't have any hooks, we want to skip the rest of the logic in\u001B[39;00m\n\u001B[0;32m   1497\u001B[0m \u001B[38;5;66;03m# this function, and just call forward.\u001B[39;00m\n\u001B[0;32m   1498\u001B[0m \u001B[38;5;28;01mif\u001B[39;00m \u001B[38;5;129;01mnot\u001B[39;00m (\u001B[38;5;28mself\u001B[39m\u001B[38;5;241m.\u001B[39m_backward_hooks \u001B[38;5;129;01mor\u001B[39;00m \u001B[38;5;28mself\u001B[39m\u001B[38;5;241m.\u001B[39m_backward_pre_hooks \u001B[38;5;129;01mor\u001B[39;00m \u001B[38;5;28mself\u001B[39m\u001B[38;5;241m.\u001B[39m_forward_hooks \u001B[38;5;129;01mor\u001B[39;00m \u001B[38;5;28mself\u001B[39m\u001B[38;5;241m.\u001B[39m_forward_pre_hooks\n\u001B[0;32m   1499\u001B[0m         \u001B[38;5;129;01mor\u001B[39;00m _global_backward_pre_hooks \u001B[38;5;129;01mor\u001B[39;00m _global_backward_hooks\n\u001B[0;32m   1500\u001B[0m         \u001B[38;5;129;01mor\u001B[39;00m _global_forward_hooks \u001B[38;5;129;01mor\u001B[39;00m _global_forward_pre_hooks):\n\u001B[1;32m-> 1501\u001B[0m     \u001B[38;5;28;01mreturn\u001B[39;00m forward_call(\u001B[38;5;241m*\u001B[39margs, \u001B[38;5;241m*\u001B[39m\u001B[38;5;241m*\u001B[39mkwargs)\n\u001B[0;32m   1502\u001B[0m \u001B[38;5;66;03m# Do not call functions when jit is used\u001B[39;00m\n\u001B[0;32m   1503\u001B[0m full_backward_hooks, non_full_backward_hooks \u001B[38;5;241m=\u001B[39m [], []\n",
      "File \u001B[1;32m~\\AppData\\Local\\Programs\\Python\\Python39\\lib\\site-packages\\keras_core\\src\\backend\\torch\\layer.py:26\u001B[0m, in \u001B[0;36mTorchLayer.forward\u001B[1;34m(self, *args, **kwargs)\u001B[0m\n\u001B[0;32m     25\u001B[0m \u001B[38;5;28;01mdef\u001B[39;00m \u001B[38;5;21mforward\u001B[39m(\u001B[38;5;28mself\u001B[39m, \u001B[38;5;241m*\u001B[39margs, \u001B[38;5;241m*\u001B[39m\u001B[38;5;241m*\u001B[39mkwargs):\n\u001B[1;32m---> 26\u001B[0m     \u001B[38;5;28;01mreturn\u001B[39;00m Operation\u001B[38;5;241m.\u001B[39m\u001B[38;5;21m__call__\u001B[39m(\u001B[38;5;28mself\u001B[39m, \u001B[38;5;241m*\u001B[39margs, \u001B[38;5;241m*\u001B[39m\u001B[38;5;241m*\u001B[39mkwargs)\n",
      "File \u001B[1;32m~\\AppData\\Local\\Programs\\Python\\Python39\\lib\\site-packages\\keras_core\\src\\utils\\traceback_utils.py:118\u001B[0m, in \u001B[0;36mfilter_traceback.<locals>.error_handler\u001B[1;34m(*args, **kwargs)\u001B[0m\n\u001B[0;32m    116\u001B[0m filtered_tb \u001B[38;5;241m=\u001B[39m \u001B[38;5;28;01mNone\u001B[39;00m\n\u001B[0;32m    117\u001B[0m \u001B[38;5;28;01mtry\u001B[39;00m:\n\u001B[1;32m--> 118\u001B[0m     \u001B[38;5;28;01mreturn\u001B[39;00m fn(\u001B[38;5;241m*\u001B[39margs, \u001B[38;5;241m*\u001B[39m\u001B[38;5;241m*\u001B[39mkwargs)\n\u001B[0;32m    119\u001B[0m \u001B[38;5;28;01mexcept\u001B[39;00m \u001B[38;5;167;01mException\u001B[39;00m \u001B[38;5;28;01mas\u001B[39;00m e:\n\u001B[0;32m    120\u001B[0m     filtered_tb \u001B[38;5;241m=\u001B[39m _process_traceback_frames(e\u001B[38;5;241m.\u001B[39m__traceback__)\n",
      "File \u001B[1;32m~\\AppData\\Local\\Programs\\Python\\Python39\\lib\\site-packages\\keras_core\\src\\ops\\operation.py:42\u001B[0m, in \u001B[0;36mOperation.__call__\u001B[1;34m(self, *args, **kwargs)\u001B[0m\n\u001B[0;32m     37\u001B[0m         call_fn \u001B[38;5;241m=\u001B[39m \u001B[38;5;28mself\u001B[39m\u001B[38;5;241m.\u001B[39mcall\n\u001B[0;32m     38\u001B[0m     call_fn \u001B[38;5;241m=\u001B[39m traceback_utils\u001B[38;5;241m.\u001B[39minject_argument_info_in_traceback(\n\u001B[0;32m     39\u001B[0m         call_fn,\n\u001B[0;32m     40\u001B[0m         object_name\u001B[38;5;241m=\u001B[39m(\u001B[38;5;124mf\u001B[39m\u001B[38;5;124m\"\u001B[39m\u001B[38;5;132;01m{\u001B[39;00m\u001B[38;5;28mself\u001B[39m\u001B[38;5;241m.\u001B[39m\u001B[38;5;18m__class__\u001B[39m\u001B[38;5;241m.\u001B[39m\u001B[38;5;18m__name__\u001B[39m\u001B[38;5;132;01m}\u001B[39;00m\u001B[38;5;124m.call()\u001B[39m\u001B[38;5;124m\"\u001B[39m),\n\u001B[0;32m     41\u001B[0m     )\n\u001B[1;32m---> 42\u001B[0m     \u001B[38;5;28;01mreturn\u001B[39;00m call_fn(\u001B[38;5;241m*\u001B[39margs, \u001B[38;5;241m*\u001B[39m\u001B[38;5;241m*\u001B[39mkwargs)\n\u001B[0;32m     44\u001B[0m \u001B[38;5;66;03m# Plain flow.\u001B[39;00m\n\u001B[0;32m     45\u001B[0m \u001B[38;5;28;01mif\u001B[39;00m any_symbolic_tensors(args, kwargs):\n",
      "File \u001B[1;32m~\\AppData\\Local\\Programs\\Python\\Python39\\lib\\site-packages\\keras_core\\src\\utils\\traceback_utils.py:157\u001B[0m, in \u001B[0;36minject_argument_info_in_traceback.<locals>.error_handler\u001B[1;34m(*args, **kwargs)\u001B[0m\n\u001B[0;32m    155\u001B[0m bound_signature \u001B[38;5;241m=\u001B[39m \u001B[38;5;28;01mNone\u001B[39;00m\n\u001B[0;32m    156\u001B[0m \u001B[38;5;28;01mtry\u001B[39;00m:\n\u001B[1;32m--> 157\u001B[0m     \u001B[38;5;28;01mreturn\u001B[39;00m fn(\u001B[38;5;241m*\u001B[39margs, \u001B[38;5;241m*\u001B[39m\u001B[38;5;241m*\u001B[39mkwargs)\n\u001B[0;32m    158\u001B[0m \u001B[38;5;28;01mexcept\u001B[39;00m \u001B[38;5;167;01mException\u001B[39;00m \u001B[38;5;28;01mas\u001B[39;00m e:\n\u001B[0;32m    159\u001B[0m     \u001B[38;5;28;01mif\u001B[39;00m \u001B[38;5;28mhasattr\u001B[39m(e, \u001B[38;5;124m\"\u001B[39m\u001B[38;5;124m_keras_call_info_injected\u001B[39m\u001B[38;5;124m\"\u001B[39m):\n\u001B[0;32m    160\u001B[0m         \u001B[38;5;66;03m# Only inject info for the innermost failing call\u001B[39;00m\n",
      "File \u001B[1;32m~\\AppData\\Local\\Programs\\Python\\Python39\\lib\\site-packages\\keras_core\\src\\models\\functional.py:188\u001B[0m, in \u001B[0;36mFunctional.call\u001B[1;34m(self, inputs, training, mask)\u001B[0m\n\u001B[0;32m    186\u001B[0m         \u001B[38;5;28;01mif\u001B[39;00m mask \u001B[38;5;129;01mis\u001B[39;00m \u001B[38;5;129;01mnot\u001B[39;00m \u001B[38;5;28;01mNone\u001B[39;00m:\n\u001B[0;32m    187\u001B[0m             x\u001B[38;5;241m.\u001B[39m_keras_mask \u001B[38;5;241m=\u001B[39m mask\n\u001B[1;32m--> 188\u001B[0m outputs \u001B[38;5;241m=\u001B[39m \u001B[38;5;28;43mself\u001B[39;49m\u001B[38;5;241;43m.\u001B[39;49m\u001B[43m_run_through_graph\u001B[49m\u001B[43m(\u001B[49m\n\u001B[0;32m    189\u001B[0m \u001B[43m    \u001B[49m\u001B[43minputs\u001B[49m\u001B[43m,\u001B[49m\u001B[43m \u001B[49m\u001B[43moperation_fn\u001B[49m\u001B[38;5;241;43m=\u001B[39;49m\u001B[38;5;28;43;01mlambda\u001B[39;49;00m\u001B[43m \u001B[49m\u001B[43mop\u001B[49m\u001B[43m:\u001B[49m\u001B[43m \u001B[49m\u001B[43moperation_fn\u001B[49m\u001B[43m(\u001B[49m\u001B[43mop\u001B[49m\u001B[43m,\u001B[49m\u001B[43m \u001B[49m\u001B[43mtraining\u001B[49m\u001B[38;5;241;43m=\u001B[39;49m\u001B[43mtraining\u001B[49m\u001B[43m)\u001B[49m\n\u001B[0;32m    190\u001B[0m \u001B[43m\u001B[49m\u001B[43m)\u001B[49m\n\u001B[0;32m    191\u001B[0m \u001B[38;5;28;01mreturn\u001B[39;00m unpack_singleton(outputs)\n",
      "File \u001B[1;32m~\\AppData\\Local\\Programs\\Python\\Python39\\lib\\site-packages\\keras_core\\src\\ops\\function.py:140\u001B[0m, in \u001B[0;36mFunction._run_through_graph\u001B[1;34m(self, inputs, operation_fn)\u001B[0m\n\u001B[0;32m    137\u001B[0m     \u001B[38;5;28;01mcontinue\u001B[39;00m  \u001B[38;5;66;03m# Node is not computable, try skipping.\u001B[39;00m\n\u001B[0;32m    139\u001B[0m args, kwargs \u001B[38;5;241m=\u001B[39m node\u001B[38;5;241m.\u001B[39marguments\u001B[38;5;241m.\u001B[39mfill_in(tensor_dict)\n\u001B[1;32m--> 140\u001B[0m outputs \u001B[38;5;241m=\u001B[39m operation_fn(node\u001B[38;5;241m.\u001B[39moperation)(\u001B[38;5;241m*\u001B[39margs, \u001B[38;5;241m*\u001B[39m\u001B[38;5;241m*\u001B[39mkwargs)\n\u001B[0;32m    142\u001B[0m \u001B[38;5;66;03m# Update tensor_dict.\u001B[39;00m\n\u001B[0;32m    143\u001B[0m \u001B[38;5;28;01mfor\u001B[39;00m x, y \u001B[38;5;129;01min\u001B[39;00m \u001B[38;5;28mzip\u001B[39m(node\u001B[38;5;241m.\u001B[39moutputs, tree\u001B[38;5;241m.\u001B[39mflatten(outputs)):\n",
      "File \u001B[1;32m~\\AppData\\Local\\Programs\\Python\\Python39\\lib\\site-packages\\keras_core\\src\\models\\functional.py:574\u001B[0m, in \u001B[0;36moperation_fn.<locals>.call\u001B[1;34m(*args, **kwargs)\u001B[0m\n\u001B[0;32m    568\u001B[0m \u001B[38;5;28;01mif\u001B[39;00m (\n\u001B[0;32m    569\u001B[0m     \u001B[38;5;28mhasattr\u001B[39m(operation, \u001B[38;5;124m\"\u001B[39m\u001B[38;5;124m_call_has_training_arg\u001B[39m\u001B[38;5;124m\"\u001B[39m)\n\u001B[0;32m    570\u001B[0m     \u001B[38;5;129;01mand\u001B[39;00m operation\u001B[38;5;241m.\u001B[39m_call_has_training_arg\n\u001B[0;32m    571\u001B[0m     \u001B[38;5;129;01mand\u001B[39;00m training \u001B[38;5;129;01mis\u001B[39;00m \u001B[38;5;129;01mnot\u001B[39;00m \u001B[38;5;28;01mNone\u001B[39;00m\n\u001B[0;32m    572\u001B[0m ):\n\u001B[0;32m    573\u001B[0m     kwargs[\u001B[38;5;124m\"\u001B[39m\u001B[38;5;124mtraining\u001B[39m\u001B[38;5;124m\"\u001B[39m] \u001B[38;5;241m=\u001B[39m training\n\u001B[1;32m--> 574\u001B[0m \u001B[38;5;28;01mreturn\u001B[39;00m operation(\u001B[38;5;241m*\u001B[39margs, \u001B[38;5;241m*\u001B[39m\u001B[38;5;241m*\u001B[39mkwargs)\n",
      "File \u001B[1;32m~\\AppData\\Local\\Programs\\Python\\Python39\\lib\\site-packages\\keras_core\\src\\utils\\traceback_utils.py:118\u001B[0m, in \u001B[0;36mfilter_traceback.<locals>.error_handler\u001B[1;34m(*args, **kwargs)\u001B[0m\n\u001B[0;32m    116\u001B[0m filtered_tb \u001B[38;5;241m=\u001B[39m \u001B[38;5;28;01mNone\u001B[39;00m\n\u001B[0;32m    117\u001B[0m \u001B[38;5;28;01mtry\u001B[39;00m:\n\u001B[1;32m--> 118\u001B[0m     \u001B[38;5;28;01mreturn\u001B[39;00m fn(\u001B[38;5;241m*\u001B[39margs, \u001B[38;5;241m*\u001B[39m\u001B[38;5;241m*\u001B[39mkwargs)\n\u001B[0;32m    119\u001B[0m \u001B[38;5;28;01mexcept\u001B[39;00m \u001B[38;5;167;01mException\u001B[39;00m \u001B[38;5;28;01mas\u001B[39;00m e:\n\u001B[0;32m    120\u001B[0m     filtered_tb \u001B[38;5;241m=\u001B[39m _process_traceback_frames(e\u001B[38;5;241m.\u001B[39m__traceback__)\n",
      "File \u001B[1;32m~\\AppData\\Local\\Programs\\Python\\Python39\\lib\\site-packages\\keras_core\\src\\layers\\layer.py:810\u001B[0m, in \u001B[0;36mLayer.__call__\u001B[1;34m(self, *args, **kwargs)\u001B[0m\n\u001B[0;32m    808\u001B[0m         outputs \u001B[38;5;241m=\u001B[39m \u001B[38;5;28msuper\u001B[39m()\u001B[38;5;241m.\u001B[39m\u001B[38;5;21m__call__\u001B[39m(\u001B[38;5;241m*\u001B[39margs, \u001B[38;5;241m*\u001B[39m\u001B[38;5;241m*\u001B[39mkwargs)\n\u001B[0;32m    809\u001B[0m \u001B[38;5;28;01melse\u001B[39;00m:\n\u001B[1;32m--> 810\u001B[0m     outputs \u001B[38;5;241m=\u001B[39m \u001B[38;5;28msuper\u001B[39m()\u001B[38;5;241m.\u001B[39m\u001B[38;5;21m__call__\u001B[39m(\u001B[38;5;241m*\u001B[39margs, \u001B[38;5;241m*\u001B[39m\u001B[38;5;241m*\u001B[39mkwargs)\n\u001B[0;32m    811\u001B[0m \u001B[38;5;28;01mif\u001B[39;00m \u001B[38;5;129;01mnot\u001B[39;00m \u001B[38;5;28mself\u001B[39m\u001B[38;5;241m.\u001B[39mbuilt:\n\u001B[0;32m    812\u001B[0m     \u001B[38;5;28mself\u001B[39m\u001B[38;5;241m.\u001B[39mbuilt \u001B[38;5;241m=\u001B[39m \u001B[38;5;28;01mTrue\u001B[39;00m\n",
      "File \u001B[1;32m~\\AppData\\Local\\Programs\\Python\\Python39\\lib\\site-packages\\torch\\nn\\modules\\module.py:1501\u001B[0m, in \u001B[0;36mModule._call_impl\u001B[1;34m(self, *args, **kwargs)\u001B[0m\n\u001B[0;32m   1496\u001B[0m \u001B[38;5;66;03m# If we don't have any hooks, we want to skip the rest of the logic in\u001B[39;00m\n\u001B[0;32m   1497\u001B[0m \u001B[38;5;66;03m# this function, and just call forward.\u001B[39;00m\n\u001B[0;32m   1498\u001B[0m \u001B[38;5;28;01mif\u001B[39;00m \u001B[38;5;129;01mnot\u001B[39;00m (\u001B[38;5;28mself\u001B[39m\u001B[38;5;241m.\u001B[39m_backward_hooks \u001B[38;5;129;01mor\u001B[39;00m \u001B[38;5;28mself\u001B[39m\u001B[38;5;241m.\u001B[39m_backward_pre_hooks \u001B[38;5;129;01mor\u001B[39;00m \u001B[38;5;28mself\u001B[39m\u001B[38;5;241m.\u001B[39m_forward_hooks \u001B[38;5;129;01mor\u001B[39;00m \u001B[38;5;28mself\u001B[39m\u001B[38;5;241m.\u001B[39m_forward_pre_hooks\n\u001B[0;32m   1499\u001B[0m         \u001B[38;5;129;01mor\u001B[39;00m _global_backward_pre_hooks \u001B[38;5;129;01mor\u001B[39;00m _global_backward_hooks\n\u001B[0;32m   1500\u001B[0m         \u001B[38;5;129;01mor\u001B[39;00m _global_forward_hooks \u001B[38;5;129;01mor\u001B[39;00m _global_forward_pre_hooks):\n\u001B[1;32m-> 1501\u001B[0m     \u001B[38;5;28;01mreturn\u001B[39;00m forward_call(\u001B[38;5;241m*\u001B[39margs, \u001B[38;5;241m*\u001B[39m\u001B[38;5;241m*\u001B[39mkwargs)\n\u001B[0;32m   1502\u001B[0m \u001B[38;5;66;03m# Do not call functions when jit is used\u001B[39;00m\n\u001B[0;32m   1503\u001B[0m full_backward_hooks, non_full_backward_hooks \u001B[38;5;241m=\u001B[39m [], []\n",
      "File \u001B[1;32m~\\AppData\\Local\\Programs\\Python\\Python39\\lib\\site-packages\\keras_core\\src\\backend\\torch\\layer.py:26\u001B[0m, in \u001B[0;36mTorchLayer.forward\u001B[1;34m(self, *args, **kwargs)\u001B[0m\n\u001B[0;32m     25\u001B[0m \u001B[38;5;28;01mdef\u001B[39;00m \u001B[38;5;21mforward\u001B[39m(\u001B[38;5;28mself\u001B[39m, \u001B[38;5;241m*\u001B[39margs, \u001B[38;5;241m*\u001B[39m\u001B[38;5;241m*\u001B[39mkwargs):\n\u001B[1;32m---> 26\u001B[0m     \u001B[38;5;28;01mreturn\u001B[39;00m Operation\u001B[38;5;241m.\u001B[39m\u001B[38;5;21m__call__\u001B[39m(\u001B[38;5;28mself\u001B[39m, \u001B[38;5;241m*\u001B[39margs, \u001B[38;5;241m*\u001B[39m\u001B[38;5;241m*\u001B[39mkwargs)\n",
      "File \u001B[1;32m~\\AppData\\Local\\Programs\\Python\\Python39\\lib\\site-packages\\keras_core\\src\\utils\\traceback_utils.py:118\u001B[0m, in \u001B[0;36mfilter_traceback.<locals>.error_handler\u001B[1;34m(*args, **kwargs)\u001B[0m\n\u001B[0;32m    116\u001B[0m filtered_tb \u001B[38;5;241m=\u001B[39m \u001B[38;5;28;01mNone\u001B[39;00m\n\u001B[0;32m    117\u001B[0m \u001B[38;5;28;01mtry\u001B[39;00m:\n\u001B[1;32m--> 118\u001B[0m     \u001B[38;5;28;01mreturn\u001B[39;00m fn(\u001B[38;5;241m*\u001B[39margs, \u001B[38;5;241m*\u001B[39m\u001B[38;5;241m*\u001B[39mkwargs)\n\u001B[0;32m    119\u001B[0m \u001B[38;5;28;01mexcept\u001B[39;00m \u001B[38;5;167;01mException\u001B[39;00m \u001B[38;5;28;01mas\u001B[39;00m e:\n\u001B[0;32m    120\u001B[0m     filtered_tb \u001B[38;5;241m=\u001B[39m _process_traceback_frames(e\u001B[38;5;241m.\u001B[39m__traceback__)\n",
      "File \u001B[1;32m~\\AppData\\Local\\Programs\\Python\\Python39\\lib\\site-packages\\keras_core\\src\\ops\\operation.py:42\u001B[0m, in \u001B[0;36mOperation.__call__\u001B[1;34m(self, *args, **kwargs)\u001B[0m\n\u001B[0;32m     37\u001B[0m         call_fn \u001B[38;5;241m=\u001B[39m \u001B[38;5;28mself\u001B[39m\u001B[38;5;241m.\u001B[39mcall\n\u001B[0;32m     38\u001B[0m     call_fn \u001B[38;5;241m=\u001B[39m traceback_utils\u001B[38;5;241m.\u001B[39minject_argument_info_in_traceback(\n\u001B[0;32m     39\u001B[0m         call_fn,\n\u001B[0;32m     40\u001B[0m         object_name\u001B[38;5;241m=\u001B[39m(\u001B[38;5;124mf\u001B[39m\u001B[38;5;124m\"\u001B[39m\u001B[38;5;132;01m{\u001B[39;00m\u001B[38;5;28mself\u001B[39m\u001B[38;5;241m.\u001B[39m\u001B[38;5;18m__class__\u001B[39m\u001B[38;5;241m.\u001B[39m\u001B[38;5;18m__name__\u001B[39m\u001B[38;5;132;01m}\u001B[39;00m\u001B[38;5;124m.call()\u001B[39m\u001B[38;5;124m\"\u001B[39m),\n\u001B[0;32m     41\u001B[0m     )\n\u001B[1;32m---> 42\u001B[0m     \u001B[38;5;28;01mreturn\u001B[39;00m call_fn(\u001B[38;5;241m*\u001B[39margs, \u001B[38;5;241m*\u001B[39m\u001B[38;5;241m*\u001B[39mkwargs)\n\u001B[0;32m     44\u001B[0m \u001B[38;5;66;03m# Plain flow.\u001B[39;00m\n\u001B[0;32m     45\u001B[0m \u001B[38;5;28;01mif\u001B[39;00m any_symbolic_tensors(args, kwargs):\n",
      "File \u001B[1;32m~\\AppData\\Local\\Programs\\Python\\Python39\\lib\\site-packages\\keras_core\\src\\utils\\traceback_utils.py:157\u001B[0m, in \u001B[0;36minject_argument_info_in_traceback.<locals>.error_handler\u001B[1;34m(*args, **kwargs)\u001B[0m\n\u001B[0;32m    155\u001B[0m bound_signature \u001B[38;5;241m=\u001B[39m \u001B[38;5;28;01mNone\u001B[39;00m\n\u001B[0;32m    156\u001B[0m \u001B[38;5;28;01mtry\u001B[39;00m:\n\u001B[1;32m--> 157\u001B[0m     \u001B[38;5;28;01mreturn\u001B[39;00m fn(\u001B[38;5;241m*\u001B[39margs, \u001B[38;5;241m*\u001B[39m\u001B[38;5;241m*\u001B[39mkwargs)\n\u001B[0;32m    158\u001B[0m \u001B[38;5;28;01mexcept\u001B[39;00m \u001B[38;5;167;01mException\u001B[39;00m \u001B[38;5;28;01mas\u001B[39;00m e:\n\u001B[0;32m    159\u001B[0m     \u001B[38;5;28;01mif\u001B[39;00m \u001B[38;5;28mhasattr\u001B[39m(e, \u001B[38;5;124m\"\u001B[39m\u001B[38;5;124m_keras_call_info_injected\u001B[39m\u001B[38;5;124m\"\u001B[39m):\n\u001B[0;32m    160\u001B[0m         \u001B[38;5;66;03m# Only inject info for the innermost failing call\u001B[39;00m\n",
      "File \u001B[1;32m~\\AppData\\Local\\Programs\\Python\\Python39\\lib\\site-packages\\keras_core\\src\\models\\functional.py:188\u001B[0m, in \u001B[0;36mFunctional.call\u001B[1;34m(self, inputs, training, mask)\u001B[0m\n\u001B[0;32m    186\u001B[0m         \u001B[38;5;28;01mif\u001B[39;00m mask \u001B[38;5;129;01mis\u001B[39;00m \u001B[38;5;129;01mnot\u001B[39;00m \u001B[38;5;28;01mNone\u001B[39;00m:\n\u001B[0;32m    187\u001B[0m             x\u001B[38;5;241m.\u001B[39m_keras_mask \u001B[38;5;241m=\u001B[39m mask\n\u001B[1;32m--> 188\u001B[0m outputs \u001B[38;5;241m=\u001B[39m \u001B[38;5;28;43mself\u001B[39;49m\u001B[38;5;241;43m.\u001B[39;49m\u001B[43m_run_through_graph\u001B[49m\u001B[43m(\u001B[49m\n\u001B[0;32m    189\u001B[0m \u001B[43m    \u001B[49m\u001B[43minputs\u001B[49m\u001B[43m,\u001B[49m\u001B[43m \u001B[49m\u001B[43moperation_fn\u001B[49m\u001B[38;5;241;43m=\u001B[39;49m\u001B[38;5;28;43;01mlambda\u001B[39;49;00m\u001B[43m \u001B[49m\u001B[43mop\u001B[49m\u001B[43m:\u001B[49m\u001B[43m \u001B[49m\u001B[43moperation_fn\u001B[49m\u001B[43m(\u001B[49m\u001B[43mop\u001B[49m\u001B[43m,\u001B[49m\u001B[43m \u001B[49m\u001B[43mtraining\u001B[49m\u001B[38;5;241;43m=\u001B[39;49m\u001B[43mtraining\u001B[49m\u001B[43m)\u001B[49m\n\u001B[0;32m    190\u001B[0m \u001B[43m\u001B[49m\u001B[43m)\u001B[49m\n\u001B[0;32m    191\u001B[0m \u001B[38;5;28;01mreturn\u001B[39;00m unpack_singleton(outputs)\n",
      "File \u001B[1;32m~\\AppData\\Local\\Programs\\Python\\Python39\\lib\\site-packages\\keras_core\\src\\ops\\function.py:140\u001B[0m, in \u001B[0;36mFunction._run_through_graph\u001B[1;34m(self, inputs, operation_fn)\u001B[0m\n\u001B[0;32m    137\u001B[0m     \u001B[38;5;28;01mcontinue\u001B[39;00m  \u001B[38;5;66;03m# Node is not computable, try skipping.\u001B[39;00m\n\u001B[0;32m    139\u001B[0m args, kwargs \u001B[38;5;241m=\u001B[39m node\u001B[38;5;241m.\u001B[39marguments\u001B[38;5;241m.\u001B[39mfill_in(tensor_dict)\n\u001B[1;32m--> 140\u001B[0m outputs \u001B[38;5;241m=\u001B[39m operation_fn(node\u001B[38;5;241m.\u001B[39moperation)(\u001B[38;5;241m*\u001B[39margs, \u001B[38;5;241m*\u001B[39m\u001B[38;5;241m*\u001B[39mkwargs)\n\u001B[0;32m    142\u001B[0m \u001B[38;5;66;03m# Update tensor_dict.\u001B[39;00m\n\u001B[0;32m    143\u001B[0m \u001B[38;5;28;01mfor\u001B[39;00m x, y \u001B[38;5;129;01min\u001B[39;00m \u001B[38;5;28mzip\u001B[39m(node\u001B[38;5;241m.\u001B[39moutputs, tree\u001B[38;5;241m.\u001B[39mflatten(outputs)):\n",
      "File \u001B[1;32m~\\AppData\\Local\\Programs\\Python\\Python39\\lib\\site-packages\\keras_core\\src\\models\\functional.py:574\u001B[0m, in \u001B[0;36moperation_fn.<locals>.call\u001B[1;34m(*args, **kwargs)\u001B[0m\n\u001B[0;32m    568\u001B[0m \u001B[38;5;28;01mif\u001B[39;00m (\n\u001B[0;32m    569\u001B[0m     \u001B[38;5;28mhasattr\u001B[39m(operation, \u001B[38;5;124m\"\u001B[39m\u001B[38;5;124m_call_has_training_arg\u001B[39m\u001B[38;5;124m\"\u001B[39m)\n\u001B[0;32m    570\u001B[0m     \u001B[38;5;129;01mand\u001B[39;00m operation\u001B[38;5;241m.\u001B[39m_call_has_training_arg\n\u001B[0;32m    571\u001B[0m     \u001B[38;5;129;01mand\u001B[39;00m training \u001B[38;5;129;01mis\u001B[39;00m \u001B[38;5;129;01mnot\u001B[39;00m \u001B[38;5;28;01mNone\u001B[39;00m\n\u001B[0;32m    572\u001B[0m ):\n\u001B[0;32m    573\u001B[0m     kwargs[\u001B[38;5;124m\"\u001B[39m\u001B[38;5;124mtraining\u001B[39m\u001B[38;5;124m\"\u001B[39m] \u001B[38;5;241m=\u001B[39m training\n\u001B[1;32m--> 574\u001B[0m \u001B[38;5;28;01mreturn\u001B[39;00m operation(\u001B[38;5;241m*\u001B[39margs, \u001B[38;5;241m*\u001B[39m\u001B[38;5;241m*\u001B[39mkwargs)\n",
      "File \u001B[1;32m~\\AppData\\Local\\Programs\\Python\\Python39\\lib\\site-packages\\keras_core\\src\\utils\\traceback_utils.py:118\u001B[0m, in \u001B[0;36mfilter_traceback.<locals>.error_handler\u001B[1;34m(*args, **kwargs)\u001B[0m\n\u001B[0;32m    116\u001B[0m filtered_tb \u001B[38;5;241m=\u001B[39m \u001B[38;5;28;01mNone\u001B[39;00m\n\u001B[0;32m    117\u001B[0m \u001B[38;5;28;01mtry\u001B[39;00m:\n\u001B[1;32m--> 118\u001B[0m     \u001B[38;5;28;01mreturn\u001B[39;00m fn(\u001B[38;5;241m*\u001B[39margs, \u001B[38;5;241m*\u001B[39m\u001B[38;5;241m*\u001B[39mkwargs)\n\u001B[0;32m    119\u001B[0m \u001B[38;5;28;01mexcept\u001B[39;00m \u001B[38;5;167;01mException\u001B[39;00m \u001B[38;5;28;01mas\u001B[39;00m e:\n\u001B[0;32m    120\u001B[0m     filtered_tb \u001B[38;5;241m=\u001B[39m _process_traceback_frames(e\u001B[38;5;241m.\u001B[39m__traceback__)\n",
      "File \u001B[1;32m~\\AppData\\Local\\Programs\\Python\\Python39\\lib\\site-packages\\keras_core\\src\\layers\\layer.py:810\u001B[0m, in \u001B[0;36mLayer.__call__\u001B[1;34m(self, *args, **kwargs)\u001B[0m\n\u001B[0;32m    808\u001B[0m         outputs \u001B[38;5;241m=\u001B[39m \u001B[38;5;28msuper\u001B[39m()\u001B[38;5;241m.\u001B[39m\u001B[38;5;21m__call__\u001B[39m(\u001B[38;5;241m*\u001B[39margs, \u001B[38;5;241m*\u001B[39m\u001B[38;5;241m*\u001B[39mkwargs)\n\u001B[0;32m    809\u001B[0m \u001B[38;5;28;01melse\u001B[39;00m:\n\u001B[1;32m--> 810\u001B[0m     outputs \u001B[38;5;241m=\u001B[39m \u001B[38;5;28msuper\u001B[39m()\u001B[38;5;241m.\u001B[39m\u001B[38;5;21m__call__\u001B[39m(\u001B[38;5;241m*\u001B[39margs, \u001B[38;5;241m*\u001B[39m\u001B[38;5;241m*\u001B[39mkwargs)\n\u001B[0;32m    811\u001B[0m \u001B[38;5;28;01mif\u001B[39;00m \u001B[38;5;129;01mnot\u001B[39;00m \u001B[38;5;28mself\u001B[39m\u001B[38;5;241m.\u001B[39mbuilt:\n\u001B[0;32m    812\u001B[0m     \u001B[38;5;28mself\u001B[39m\u001B[38;5;241m.\u001B[39mbuilt \u001B[38;5;241m=\u001B[39m \u001B[38;5;28;01mTrue\u001B[39;00m\n",
      "File \u001B[1;32m~\\AppData\\Local\\Programs\\Python\\Python39\\lib\\site-packages\\torch\\nn\\modules\\module.py:1501\u001B[0m, in \u001B[0;36mModule._call_impl\u001B[1;34m(self, *args, **kwargs)\u001B[0m\n\u001B[0;32m   1496\u001B[0m \u001B[38;5;66;03m# If we don't have any hooks, we want to skip the rest of the logic in\u001B[39;00m\n\u001B[0;32m   1497\u001B[0m \u001B[38;5;66;03m# this function, and just call forward.\u001B[39;00m\n\u001B[0;32m   1498\u001B[0m \u001B[38;5;28;01mif\u001B[39;00m \u001B[38;5;129;01mnot\u001B[39;00m (\u001B[38;5;28mself\u001B[39m\u001B[38;5;241m.\u001B[39m_backward_hooks \u001B[38;5;129;01mor\u001B[39;00m \u001B[38;5;28mself\u001B[39m\u001B[38;5;241m.\u001B[39m_backward_pre_hooks \u001B[38;5;129;01mor\u001B[39;00m \u001B[38;5;28mself\u001B[39m\u001B[38;5;241m.\u001B[39m_forward_hooks \u001B[38;5;129;01mor\u001B[39;00m \u001B[38;5;28mself\u001B[39m\u001B[38;5;241m.\u001B[39m_forward_pre_hooks\n\u001B[0;32m   1499\u001B[0m         \u001B[38;5;129;01mor\u001B[39;00m _global_backward_pre_hooks \u001B[38;5;129;01mor\u001B[39;00m _global_backward_hooks\n\u001B[0;32m   1500\u001B[0m         \u001B[38;5;129;01mor\u001B[39;00m _global_forward_hooks \u001B[38;5;129;01mor\u001B[39;00m _global_forward_pre_hooks):\n\u001B[1;32m-> 1501\u001B[0m     \u001B[38;5;28;01mreturn\u001B[39;00m forward_call(\u001B[38;5;241m*\u001B[39margs, \u001B[38;5;241m*\u001B[39m\u001B[38;5;241m*\u001B[39mkwargs)\n\u001B[0;32m   1502\u001B[0m \u001B[38;5;66;03m# Do not call functions when jit is used\u001B[39;00m\n\u001B[0;32m   1503\u001B[0m full_backward_hooks, non_full_backward_hooks \u001B[38;5;241m=\u001B[39m [], []\n",
      "File \u001B[1;32m~\\AppData\\Local\\Programs\\Python\\Python39\\lib\\site-packages\\keras_core\\src\\backend\\torch\\layer.py:26\u001B[0m, in \u001B[0;36mTorchLayer.forward\u001B[1;34m(self, *args, **kwargs)\u001B[0m\n\u001B[0;32m     25\u001B[0m \u001B[38;5;28;01mdef\u001B[39;00m \u001B[38;5;21mforward\u001B[39m(\u001B[38;5;28mself\u001B[39m, \u001B[38;5;241m*\u001B[39margs, \u001B[38;5;241m*\u001B[39m\u001B[38;5;241m*\u001B[39mkwargs):\n\u001B[1;32m---> 26\u001B[0m     \u001B[38;5;28;01mreturn\u001B[39;00m Operation\u001B[38;5;241m.\u001B[39m\u001B[38;5;21m__call__\u001B[39m(\u001B[38;5;28mself\u001B[39m, \u001B[38;5;241m*\u001B[39margs, \u001B[38;5;241m*\u001B[39m\u001B[38;5;241m*\u001B[39mkwargs)\n",
      "File \u001B[1;32m~\\AppData\\Local\\Programs\\Python\\Python39\\lib\\site-packages\\keras_core\\src\\utils\\traceback_utils.py:118\u001B[0m, in \u001B[0;36mfilter_traceback.<locals>.error_handler\u001B[1;34m(*args, **kwargs)\u001B[0m\n\u001B[0;32m    116\u001B[0m filtered_tb \u001B[38;5;241m=\u001B[39m \u001B[38;5;28;01mNone\u001B[39;00m\n\u001B[0;32m    117\u001B[0m \u001B[38;5;28;01mtry\u001B[39;00m:\n\u001B[1;32m--> 118\u001B[0m     \u001B[38;5;28;01mreturn\u001B[39;00m fn(\u001B[38;5;241m*\u001B[39margs, \u001B[38;5;241m*\u001B[39m\u001B[38;5;241m*\u001B[39mkwargs)\n\u001B[0;32m    119\u001B[0m \u001B[38;5;28;01mexcept\u001B[39;00m \u001B[38;5;167;01mException\u001B[39;00m \u001B[38;5;28;01mas\u001B[39;00m e:\n\u001B[0;32m    120\u001B[0m     filtered_tb \u001B[38;5;241m=\u001B[39m _process_traceback_frames(e\u001B[38;5;241m.\u001B[39m__traceback__)\n",
      "File \u001B[1;32m~\\AppData\\Local\\Programs\\Python\\Python39\\lib\\site-packages\\keras_core\\src\\ops\\operation.py:42\u001B[0m, in \u001B[0;36mOperation.__call__\u001B[1;34m(self, *args, **kwargs)\u001B[0m\n\u001B[0;32m     37\u001B[0m         call_fn \u001B[38;5;241m=\u001B[39m \u001B[38;5;28mself\u001B[39m\u001B[38;5;241m.\u001B[39mcall\n\u001B[0;32m     38\u001B[0m     call_fn \u001B[38;5;241m=\u001B[39m traceback_utils\u001B[38;5;241m.\u001B[39minject_argument_info_in_traceback(\n\u001B[0;32m     39\u001B[0m         call_fn,\n\u001B[0;32m     40\u001B[0m         object_name\u001B[38;5;241m=\u001B[39m(\u001B[38;5;124mf\u001B[39m\u001B[38;5;124m\"\u001B[39m\u001B[38;5;132;01m{\u001B[39;00m\u001B[38;5;28mself\u001B[39m\u001B[38;5;241m.\u001B[39m\u001B[38;5;18m__class__\u001B[39m\u001B[38;5;241m.\u001B[39m\u001B[38;5;18m__name__\u001B[39m\u001B[38;5;132;01m}\u001B[39;00m\u001B[38;5;124m.call()\u001B[39m\u001B[38;5;124m\"\u001B[39m),\n\u001B[0;32m     41\u001B[0m     )\n\u001B[1;32m---> 42\u001B[0m     \u001B[38;5;28;01mreturn\u001B[39;00m call_fn(\u001B[38;5;241m*\u001B[39margs, \u001B[38;5;241m*\u001B[39m\u001B[38;5;241m*\u001B[39mkwargs)\n\u001B[0;32m     44\u001B[0m \u001B[38;5;66;03m# Plain flow.\u001B[39;00m\n\u001B[0;32m     45\u001B[0m \u001B[38;5;28;01mif\u001B[39;00m any_symbolic_tensors(args, kwargs):\n",
      "File \u001B[1;32m~\\AppData\\Local\\Programs\\Python\\Python39\\lib\\site-packages\\keras_core\\src\\utils\\traceback_utils.py:157\u001B[0m, in \u001B[0;36minject_argument_info_in_traceback.<locals>.error_handler\u001B[1;34m(*args, **kwargs)\u001B[0m\n\u001B[0;32m    155\u001B[0m bound_signature \u001B[38;5;241m=\u001B[39m \u001B[38;5;28;01mNone\u001B[39;00m\n\u001B[0;32m    156\u001B[0m \u001B[38;5;28;01mtry\u001B[39;00m:\n\u001B[1;32m--> 157\u001B[0m     \u001B[38;5;28;01mreturn\u001B[39;00m fn(\u001B[38;5;241m*\u001B[39margs, \u001B[38;5;241m*\u001B[39m\u001B[38;5;241m*\u001B[39mkwargs)\n\u001B[0;32m    158\u001B[0m \u001B[38;5;28;01mexcept\u001B[39;00m \u001B[38;5;167;01mException\u001B[39;00m \u001B[38;5;28;01mas\u001B[39;00m e:\n\u001B[0;32m    159\u001B[0m     \u001B[38;5;28;01mif\u001B[39;00m \u001B[38;5;28mhasattr\u001B[39m(e, \u001B[38;5;124m\"\u001B[39m\u001B[38;5;124m_keras_call_info_injected\u001B[39m\u001B[38;5;124m\"\u001B[39m):\n\u001B[0;32m    160\u001B[0m         \u001B[38;5;66;03m# Only inject info for the innermost failing call\u001B[39;00m\n",
      "File \u001B[1;32m~\\AppData\\Local\\Programs\\Python\\Python39\\lib\\site-packages\\keras_nlp\\src\\models\\deberta_v3\\disentangled_attention_encoder.py:178\u001B[0m, in \u001B[0;36mDisentangledAttentionEncoder.call\u001B[1;34m(self, inputs, rel_embeddings, padding_mask, attention_mask)\u001B[0m\n\u001B[0;32m    176\u001B[0m \u001B[38;5;66;03m# Self attention block.\u001B[39;00m\n\u001B[0;32m    177\u001B[0m residual \u001B[38;5;241m=\u001B[39m x\n\u001B[1;32m--> 178\u001B[0m x \u001B[38;5;241m=\u001B[39m \u001B[38;5;28;43mself\u001B[39;49m\u001B[38;5;241;43m.\u001B[39;49m\u001B[43m_self_attention_layer\u001B[49m\u001B[43m(\u001B[49m\n\u001B[0;32m    179\u001B[0m \u001B[43m    \u001B[49m\u001B[43mx\u001B[49m\u001B[43m,\u001B[49m\n\u001B[0;32m    180\u001B[0m \u001B[43m    \u001B[49m\u001B[43mrel_embeddings\u001B[49m\u001B[38;5;241;43m=\u001B[39;49m\u001B[43mrel_embeddings\u001B[49m\u001B[43m,\u001B[49m\n\u001B[0;32m    181\u001B[0m \u001B[43m    \u001B[49m\u001B[43mattention_mask\u001B[49m\u001B[38;5;241;43m=\u001B[39;49m\u001B[43mself_attention_mask\u001B[49m\u001B[43m,\u001B[49m\n\u001B[0;32m    182\u001B[0m \u001B[43m\u001B[49m\u001B[43m)\u001B[49m\n\u001B[0;32m    183\u001B[0m x \u001B[38;5;241m=\u001B[39m \u001B[38;5;28mself\u001B[39m\u001B[38;5;241m.\u001B[39m_self_attention_dropout(x)\n\u001B[0;32m    184\u001B[0m x \u001B[38;5;241m=\u001B[39m x \u001B[38;5;241m+\u001B[39m residual\n",
      "File \u001B[1;32m~\\AppData\\Local\\Programs\\Python\\Python39\\lib\\site-packages\\keras_core\\src\\utils\\traceback_utils.py:118\u001B[0m, in \u001B[0;36mfilter_traceback.<locals>.error_handler\u001B[1;34m(*args, **kwargs)\u001B[0m\n\u001B[0;32m    116\u001B[0m filtered_tb \u001B[38;5;241m=\u001B[39m \u001B[38;5;28;01mNone\u001B[39;00m\n\u001B[0;32m    117\u001B[0m \u001B[38;5;28;01mtry\u001B[39;00m:\n\u001B[1;32m--> 118\u001B[0m     \u001B[38;5;28;01mreturn\u001B[39;00m fn(\u001B[38;5;241m*\u001B[39margs, \u001B[38;5;241m*\u001B[39m\u001B[38;5;241m*\u001B[39mkwargs)\n\u001B[0;32m    119\u001B[0m \u001B[38;5;28;01mexcept\u001B[39;00m \u001B[38;5;167;01mException\u001B[39;00m \u001B[38;5;28;01mas\u001B[39;00m e:\n\u001B[0;32m    120\u001B[0m     filtered_tb \u001B[38;5;241m=\u001B[39m _process_traceback_frames(e\u001B[38;5;241m.\u001B[39m__traceback__)\n",
      "File \u001B[1;32m~\\AppData\\Local\\Programs\\Python\\Python39\\lib\\site-packages\\keras_core\\src\\layers\\layer.py:810\u001B[0m, in \u001B[0;36mLayer.__call__\u001B[1;34m(self, *args, **kwargs)\u001B[0m\n\u001B[0;32m    808\u001B[0m         outputs \u001B[38;5;241m=\u001B[39m \u001B[38;5;28msuper\u001B[39m()\u001B[38;5;241m.\u001B[39m\u001B[38;5;21m__call__\u001B[39m(\u001B[38;5;241m*\u001B[39margs, \u001B[38;5;241m*\u001B[39m\u001B[38;5;241m*\u001B[39mkwargs)\n\u001B[0;32m    809\u001B[0m \u001B[38;5;28;01melse\u001B[39;00m:\n\u001B[1;32m--> 810\u001B[0m     outputs \u001B[38;5;241m=\u001B[39m \u001B[38;5;28msuper\u001B[39m()\u001B[38;5;241m.\u001B[39m\u001B[38;5;21m__call__\u001B[39m(\u001B[38;5;241m*\u001B[39margs, \u001B[38;5;241m*\u001B[39m\u001B[38;5;241m*\u001B[39mkwargs)\n\u001B[0;32m    811\u001B[0m \u001B[38;5;28;01mif\u001B[39;00m \u001B[38;5;129;01mnot\u001B[39;00m \u001B[38;5;28mself\u001B[39m\u001B[38;5;241m.\u001B[39mbuilt:\n\u001B[0;32m    812\u001B[0m     \u001B[38;5;28mself\u001B[39m\u001B[38;5;241m.\u001B[39mbuilt \u001B[38;5;241m=\u001B[39m \u001B[38;5;28;01mTrue\u001B[39;00m\n",
      "File \u001B[1;32m~\\AppData\\Local\\Programs\\Python\\Python39\\lib\\site-packages\\torch\\nn\\modules\\module.py:1501\u001B[0m, in \u001B[0;36mModule._call_impl\u001B[1;34m(self, *args, **kwargs)\u001B[0m\n\u001B[0;32m   1496\u001B[0m \u001B[38;5;66;03m# If we don't have any hooks, we want to skip the rest of the logic in\u001B[39;00m\n\u001B[0;32m   1497\u001B[0m \u001B[38;5;66;03m# this function, and just call forward.\u001B[39;00m\n\u001B[0;32m   1498\u001B[0m \u001B[38;5;28;01mif\u001B[39;00m \u001B[38;5;129;01mnot\u001B[39;00m (\u001B[38;5;28mself\u001B[39m\u001B[38;5;241m.\u001B[39m_backward_hooks \u001B[38;5;129;01mor\u001B[39;00m \u001B[38;5;28mself\u001B[39m\u001B[38;5;241m.\u001B[39m_backward_pre_hooks \u001B[38;5;129;01mor\u001B[39;00m \u001B[38;5;28mself\u001B[39m\u001B[38;5;241m.\u001B[39m_forward_hooks \u001B[38;5;129;01mor\u001B[39;00m \u001B[38;5;28mself\u001B[39m\u001B[38;5;241m.\u001B[39m_forward_pre_hooks\n\u001B[0;32m   1499\u001B[0m         \u001B[38;5;129;01mor\u001B[39;00m _global_backward_pre_hooks \u001B[38;5;129;01mor\u001B[39;00m _global_backward_hooks\n\u001B[0;32m   1500\u001B[0m         \u001B[38;5;129;01mor\u001B[39;00m _global_forward_hooks \u001B[38;5;129;01mor\u001B[39;00m _global_forward_pre_hooks):\n\u001B[1;32m-> 1501\u001B[0m     \u001B[38;5;28;01mreturn\u001B[39;00m forward_call(\u001B[38;5;241m*\u001B[39margs, \u001B[38;5;241m*\u001B[39m\u001B[38;5;241m*\u001B[39mkwargs)\n\u001B[0;32m   1502\u001B[0m \u001B[38;5;66;03m# Do not call functions when jit is used\u001B[39;00m\n\u001B[0;32m   1503\u001B[0m full_backward_hooks, non_full_backward_hooks \u001B[38;5;241m=\u001B[39m [], []\n",
      "File \u001B[1;32m~\\AppData\\Local\\Programs\\Python\\Python39\\lib\\site-packages\\keras_core\\src\\backend\\torch\\layer.py:26\u001B[0m, in \u001B[0;36mTorchLayer.forward\u001B[1;34m(self, *args, **kwargs)\u001B[0m\n\u001B[0;32m     25\u001B[0m \u001B[38;5;28;01mdef\u001B[39;00m \u001B[38;5;21mforward\u001B[39m(\u001B[38;5;28mself\u001B[39m, \u001B[38;5;241m*\u001B[39margs, \u001B[38;5;241m*\u001B[39m\u001B[38;5;241m*\u001B[39mkwargs):\n\u001B[1;32m---> 26\u001B[0m     \u001B[38;5;28;01mreturn\u001B[39;00m Operation\u001B[38;5;241m.\u001B[39m\u001B[38;5;21m__call__\u001B[39m(\u001B[38;5;28mself\u001B[39m, \u001B[38;5;241m*\u001B[39margs, \u001B[38;5;241m*\u001B[39m\u001B[38;5;241m*\u001B[39mkwargs)\n",
      "File \u001B[1;32m~\\AppData\\Local\\Programs\\Python\\Python39\\lib\\site-packages\\keras_core\\src\\utils\\traceback_utils.py:118\u001B[0m, in \u001B[0;36mfilter_traceback.<locals>.error_handler\u001B[1;34m(*args, **kwargs)\u001B[0m\n\u001B[0;32m    116\u001B[0m filtered_tb \u001B[38;5;241m=\u001B[39m \u001B[38;5;28;01mNone\u001B[39;00m\n\u001B[0;32m    117\u001B[0m \u001B[38;5;28;01mtry\u001B[39;00m:\n\u001B[1;32m--> 118\u001B[0m     \u001B[38;5;28;01mreturn\u001B[39;00m fn(\u001B[38;5;241m*\u001B[39margs, \u001B[38;5;241m*\u001B[39m\u001B[38;5;241m*\u001B[39mkwargs)\n\u001B[0;32m    119\u001B[0m \u001B[38;5;28;01mexcept\u001B[39;00m \u001B[38;5;167;01mException\u001B[39;00m \u001B[38;5;28;01mas\u001B[39;00m e:\n\u001B[0;32m    120\u001B[0m     filtered_tb \u001B[38;5;241m=\u001B[39m _process_traceback_frames(e\u001B[38;5;241m.\u001B[39m__traceback__)\n",
      "File \u001B[1;32m~\\AppData\\Local\\Programs\\Python\\Python39\\lib\\site-packages\\keras_core\\src\\ops\\operation.py:42\u001B[0m, in \u001B[0;36mOperation.__call__\u001B[1;34m(self, *args, **kwargs)\u001B[0m\n\u001B[0;32m     37\u001B[0m         call_fn \u001B[38;5;241m=\u001B[39m \u001B[38;5;28mself\u001B[39m\u001B[38;5;241m.\u001B[39mcall\n\u001B[0;32m     38\u001B[0m     call_fn \u001B[38;5;241m=\u001B[39m traceback_utils\u001B[38;5;241m.\u001B[39minject_argument_info_in_traceback(\n\u001B[0;32m     39\u001B[0m         call_fn,\n\u001B[0;32m     40\u001B[0m         object_name\u001B[38;5;241m=\u001B[39m(\u001B[38;5;124mf\u001B[39m\u001B[38;5;124m\"\u001B[39m\u001B[38;5;132;01m{\u001B[39;00m\u001B[38;5;28mself\u001B[39m\u001B[38;5;241m.\u001B[39m\u001B[38;5;18m__class__\u001B[39m\u001B[38;5;241m.\u001B[39m\u001B[38;5;18m__name__\u001B[39m\u001B[38;5;132;01m}\u001B[39;00m\u001B[38;5;124m.call()\u001B[39m\u001B[38;5;124m\"\u001B[39m),\n\u001B[0;32m     41\u001B[0m     )\n\u001B[1;32m---> 42\u001B[0m     \u001B[38;5;28;01mreturn\u001B[39;00m call_fn(\u001B[38;5;241m*\u001B[39margs, \u001B[38;5;241m*\u001B[39m\u001B[38;5;241m*\u001B[39mkwargs)\n\u001B[0;32m     44\u001B[0m \u001B[38;5;66;03m# Plain flow.\u001B[39;00m\n\u001B[0;32m     45\u001B[0m \u001B[38;5;28;01mif\u001B[39;00m any_symbolic_tensors(args, kwargs):\n",
      "File \u001B[1;32m~\\AppData\\Local\\Programs\\Python\\Python39\\lib\\site-packages\\keras_core\\src\\utils\\traceback_utils.py:157\u001B[0m, in \u001B[0;36minject_argument_info_in_traceback.<locals>.error_handler\u001B[1;34m(*args, **kwargs)\u001B[0m\n\u001B[0;32m    155\u001B[0m bound_signature \u001B[38;5;241m=\u001B[39m \u001B[38;5;28;01mNone\u001B[39;00m\n\u001B[0;32m    156\u001B[0m \u001B[38;5;28;01mtry\u001B[39;00m:\n\u001B[1;32m--> 157\u001B[0m     \u001B[38;5;28;01mreturn\u001B[39;00m fn(\u001B[38;5;241m*\u001B[39margs, \u001B[38;5;241m*\u001B[39m\u001B[38;5;241m*\u001B[39mkwargs)\n\u001B[0;32m    158\u001B[0m \u001B[38;5;28;01mexcept\u001B[39;00m \u001B[38;5;167;01mException\u001B[39;00m \u001B[38;5;28;01mas\u001B[39;00m e:\n\u001B[0;32m    159\u001B[0m     \u001B[38;5;28;01mif\u001B[39;00m \u001B[38;5;28mhasattr\u001B[39m(e, \u001B[38;5;124m\"\u001B[39m\u001B[38;5;124m_keras_call_info_injected\u001B[39m\u001B[38;5;124m\"\u001B[39m):\n\u001B[0;32m    160\u001B[0m         \u001B[38;5;66;03m# Only inject info for the innermost failing call\u001B[39;00m\n",
      "File \u001B[1;32m~\\AppData\\Local\\Programs\\Python\\Python39\\lib\\site-packages\\keras_nlp\\src\\models\\deberta_v3\\disentangled_self_attention.py:336\u001B[0m, in \u001B[0;36mDisentangledSelfAttention.call\u001B[1;34m(self, inputs, rel_embeddings, attention_mask, return_attention_scores, training)\u001B[0m\n\u001B[0;32m    333\u001B[0m key \u001B[38;5;241m=\u001B[39m \u001B[38;5;28mself\u001B[39m\u001B[38;5;241m.\u001B[39m_key_dense(inputs)\n\u001B[0;32m    334\u001B[0m value \u001B[38;5;241m=\u001B[39m \u001B[38;5;28mself\u001B[39m\u001B[38;5;241m.\u001B[39m_value_dense(inputs)\n\u001B[1;32m--> 336\u001B[0m attention_output, attention_scores \u001B[38;5;241m=\u001B[39m \u001B[38;5;28;43mself\u001B[39;49m\u001B[38;5;241;43m.\u001B[39;49m\u001B[43m_compute_attention\u001B[49m\u001B[43m(\u001B[49m\n\u001B[0;32m    337\u001B[0m \u001B[43m    \u001B[49m\u001B[43mquery\u001B[49m\u001B[38;5;241;43m=\u001B[39;49m\u001B[43mquery\u001B[49m\u001B[43m,\u001B[49m\n\u001B[0;32m    338\u001B[0m \u001B[43m    \u001B[49m\u001B[43mkey\u001B[49m\u001B[38;5;241;43m=\u001B[39;49m\u001B[43mkey\u001B[49m\u001B[43m,\u001B[49m\n\u001B[0;32m    339\u001B[0m \u001B[43m    \u001B[49m\u001B[43mvalue\u001B[49m\u001B[38;5;241;43m=\u001B[39;49m\u001B[43mvalue\u001B[49m\u001B[43m,\u001B[49m\n\u001B[0;32m    340\u001B[0m \u001B[43m    \u001B[49m\u001B[43mrel_embeddings\u001B[49m\u001B[38;5;241;43m=\u001B[39;49m\u001B[43mrel_embeddings\u001B[49m\u001B[43m,\u001B[49m\n\u001B[0;32m    341\u001B[0m \u001B[43m    \u001B[49m\u001B[43mattention_mask\u001B[49m\u001B[38;5;241;43m=\u001B[39;49m\u001B[43mattention_mask\u001B[49m\u001B[43m,\u001B[49m\n\u001B[0;32m    342\u001B[0m \u001B[43m    \u001B[49m\u001B[43mtraining\u001B[49m\u001B[38;5;241;43m=\u001B[39;49m\u001B[43mtraining\u001B[49m\u001B[43m,\u001B[49m\n\u001B[0;32m    343\u001B[0m \u001B[43m\u001B[49m\u001B[43m)\u001B[49m\n\u001B[0;32m    345\u001B[0m \u001B[38;5;66;03m# Reshape `attention_output` to `(batch_size, sequence_length, hidden_dim)`.\u001B[39;00m\n\u001B[0;32m    346\u001B[0m attention_output \u001B[38;5;241m=\u001B[39m ops\u001B[38;5;241m.\u001B[39mreshape(\n\u001B[0;32m    347\u001B[0m     attention_output,\n\u001B[0;32m    348\u001B[0m     [\n\u001B[1;32m   (...)\u001B[0m\n\u001B[0;32m    352\u001B[0m     ],\n\u001B[0;32m    353\u001B[0m )\n",
      "File \u001B[1;32m~\\AppData\\Local\\Programs\\Python\\Python39\\lib\\site-packages\\keras_nlp\\src\\models\\deberta_v3\\disentangled_self_attention.py:185\u001B[0m, in \u001B[0;36mDisentangledSelfAttention._compute_attention\u001B[1;34m(self, query, key, value, rel_embeddings, attention_mask, training)\u001B[0m\n\u001B[0;32m    178\u001B[0m attention_scores \u001B[38;5;241m=\u001B[39m ops\u001B[38;5;241m.\u001B[39mmultiply(attention_scores, \u001B[38;5;28mself\u001B[39m\u001B[38;5;241m.\u001B[39mscale_factor)\n\u001B[0;32m    180\u001B[0m rel_embeddings \u001B[38;5;241m=\u001B[39m \u001B[38;5;28mself\u001B[39m\u001B[38;5;241m.\u001B[39m_position_dropout_layer(\n\u001B[0;32m    181\u001B[0m     rel_embeddings,\n\u001B[0;32m    182\u001B[0m     training\u001B[38;5;241m=\u001B[39mtraining,\n\u001B[0;32m    183\u001B[0m )\n\u001B[1;32m--> 185\u001B[0m rel_attn_scores \u001B[38;5;241m=\u001B[39m \u001B[38;5;28;43mself\u001B[39;49m\u001B[38;5;241;43m.\u001B[39;49m\u001B[43m_compute_disentangled_attention\u001B[49m\u001B[43m(\u001B[49m\n\u001B[0;32m    186\u001B[0m \u001B[43m    \u001B[49m\u001B[43mquery\u001B[49m\u001B[38;5;241;43m=\u001B[39;49m\u001B[43mquery\u001B[49m\u001B[43m,\u001B[49m\n\u001B[0;32m    187\u001B[0m \u001B[43m    \u001B[49m\u001B[43mkey\u001B[49m\u001B[38;5;241;43m=\u001B[39;49m\u001B[43mkey\u001B[49m\u001B[43m,\u001B[49m\n\u001B[0;32m    188\u001B[0m \u001B[43m    \u001B[49m\u001B[43mrel_embeddings\u001B[49m\u001B[38;5;241;43m=\u001B[39;49m\u001B[43mrel_embeddings\u001B[49m\u001B[43m,\u001B[49m\n\u001B[0;32m    189\u001B[0m \u001B[43m\u001B[49m\u001B[43m)\u001B[49m\n\u001B[0;32m    191\u001B[0m \u001B[38;5;28;01mif\u001B[39;00m rel_attn_scores \u001B[38;5;129;01mis\u001B[39;00m \u001B[38;5;129;01mnot\u001B[39;00m \u001B[38;5;28;01mNone\u001B[39;00m:\n\u001B[0;32m    192\u001B[0m     attention_scores \u001B[38;5;241m+\u001B[39m\u001B[38;5;241m=\u001B[39m rel_attn_scores\n",
      "File \u001B[1;32m~\\AppData\\Local\\Programs\\Python\\Python39\\lib\\site-packages\\keras_nlp\\src\\models\\deberta_v3\\disentangled_self_attention.py:311\u001B[0m, in \u001B[0;36mDisentangledSelfAttention._compute_disentangled_attention\u001B[1;34m(self, query, key, rel_embeddings)\u001B[0m\n\u001B[0;32m    301\u001B[0m p2c_pos \u001B[38;5;241m=\u001B[39m ops\u001B[38;5;241m.\u001B[39mclip(\u001B[38;5;241m-\u001B[39mrel_pos \u001B[38;5;241m+\u001B[39m rel_attn_span, \u001B[38;5;241m0\u001B[39m, rel_attn_span \u001B[38;5;241m*\u001B[39m \u001B[38;5;241m2\u001B[39m \u001B[38;5;241m-\u001B[39m \u001B[38;5;241m1\u001B[39m)\n\u001B[0;32m    302\u001B[0m p2c_pos \u001B[38;5;241m=\u001B[39m ops\u001B[38;5;241m.\u001B[39mbroadcast_to(\n\u001B[0;32m    303\u001B[0m     p2c_pos,\n\u001B[0;32m    304\u001B[0m     shape\u001B[38;5;241m=\u001B[39m(\n\u001B[1;32m   (...)\u001B[0m\n\u001B[0;32m    309\u001B[0m     ),\n\u001B[0;32m    310\u001B[0m )\n\u001B[1;32m--> 311\u001B[0m p2c_attn_scores \u001B[38;5;241m=\u001B[39m \u001B[43mops\u001B[49m\u001B[38;5;241;43m.\u001B[39;49m\u001B[43mtake_along_axis\u001B[49m\u001B[43m(\u001B[49m\n\u001B[0;32m    312\u001B[0m \u001B[43m    \u001B[49m\u001B[43mp2c_attn_scores\u001B[49m\u001B[43m,\u001B[49m\n\u001B[0;32m    313\u001B[0m \u001B[43m    \u001B[49m\u001B[43mindices\u001B[49m\u001B[38;5;241;43m=\u001B[39;49m\u001B[43mp2c_pos\u001B[49m\u001B[43m,\u001B[49m\n\u001B[0;32m    314\u001B[0m \u001B[43m    \u001B[49m\u001B[43maxis\u001B[49m\u001B[38;5;241;43m=\u001B[39;49m\u001B[38;5;241;43m3\u001B[39;49m\u001B[43m,\u001B[49m\n\u001B[0;32m    315\u001B[0m \u001B[43m\u001B[49m\u001B[43m)\u001B[49m\n\u001B[0;32m    316\u001B[0m p2c_attn_scores \u001B[38;5;241m=\u001B[39m ops\u001B[38;5;241m.\u001B[39mtranspose(p2c_attn_scores, [\u001B[38;5;241m0\u001B[39m, \u001B[38;5;241m1\u001B[39m, \u001B[38;5;241m3\u001B[39m, \u001B[38;5;241m2\u001B[39m])\n\u001B[0;32m    317\u001B[0m p2c_attn_scores \u001B[38;5;241m=\u001B[39m ops\u001B[38;5;241m.\u001B[39mmultiply(p2c_attn_scores, \u001B[38;5;28mself\u001B[39m\u001B[38;5;241m.\u001B[39mscale_factor)\n",
      "File \u001B[1;32m~\\AppData\\Local\\Programs\\Python\\Python39\\lib\\site-packages\\keras_core\\src\\ops\\numpy.py:4672\u001B[0m, in \u001B[0;36mtake_along_axis\u001B[1;34m(x, indices, axis)\u001B[0m\n\u001B[0;32m   4670\u001B[0m \u001B[38;5;28;01mif\u001B[39;00m any_symbolic_tensors((x, indices)):\n\u001B[0;32m   4671\u001B[0m     \u001B[38;5;28;01mreturn\u001B[39;00m TakeAlongAxis(axis\u001B[38;5;241m=\u001B[39maxis)\u001B[38;5;241m.\u001B[39msymbolic_call(x, indices)\n\u001B[1;32m-> 4672\u001B[0m \u001B[38;5;28;01mreturn\u001B[39;00m \u001B[43mbackend\u001B[49m\u001B[38;5;241;43m.\u001B[39;49m\u001B[43mnumpy\u001B[49m\u001B[38;5;241;43m.\u001B[39;49m\u001B[43mtake_along_axis\u001B[49m\u001B[43m(\u001B[49m\u001B[43mx\u001B[49m\u001B[43m,\u001B[49m\u001B[43m \u001B[49m\u001B[43mindices\u001B[49m\u001B[43m,\u001B[49m\u001B[43m \u001B[49m\u001B[43maxis\u001B[49m\u001B[38;5;241;43m=\u001B[39;49m\u001B[43maxis\u001B[49m\u001B[43m)\u001B[49m\n",
      "File \u001B[1;32m~\\AppData\\Local\\Programs\\Python\\Python39\\lib\\site-packages\\keras_core\\src\\backend\\torch\\numpy.py:898\u001B[0m, in \u001B[0;36mtake_along_axis\u001B[1;34m(x, indices, axis)\u001B[0m\n\u001B[0;32m    896\u001B[0m x \u001B[38;5;241m=\u001B[39m convert_to_tensor(x)\n\u001B[0;32m    897\u001B[0m indices \u001B[38;5;241m=\u001B[39m convert_to_tensor(indices)\u001B[38;5;241m.\u001B[39mlong()\n\u001B[1;32m--> 898\u001B[0m \u001B[38;5;28;01mreturn\u001B[39;00m \u001B[43mtorch\u001B[49m\u001B[38;5;241;43m.\u001B[39;49m\u001B[43mtake_along_dim\u001B[49m\u001B[43m(\u001B[49m\u001B[43mx\u001B[49m\u001B[43m,\u001B[49m\u001B[43m \u001B[49m\u001B[43mindices\u001B[49m\u001B[43m,\u001B[49m\u001B[43m \u001B[49m\u001B[43mdim\u001B[49m\u001B[38;5;241;43m=\u001B[39;49m\u001B[43maxis\u001B[49m\u001B[43m)\u001B[49m\n",
      "\u001B[1;31mKeyboardInterrupt\u001B[0m: "
     ]
    }
   ],
   "source": [
    "for fold in CFG.selected_folds:\n",
    "    # Initialize Weights and Biases if enabled\n",
    "    if CFG.wandb:\n",
    "        run = wandb_init(fold)\n",
    "\n",
    "    # Get train and validation datasets\n",
    "    (train_ds, train_df), (valid_ds, valid_df) = get_datasets(fold)\n",
    "    \n",
    "    # Get callback functions for training\n",
    "    callbacks = get_callbacks(fold)\n",
    "\n",
    "    # Print training information\n",
    "    print('#' * 50)\n",
    "    print(f'\\tFold: {fold + 1} | Model: {CFG.preset}\\n\\tBatch Size: {CFG.batch_size * CFG.replicas} | Scheduler: {CFG.scheduler}')\n",
    "    print(f'\\tNum Train: {len(train_df)} | Num Valid: {len(valid_df)}')\n",
    "    print('#' * 50)\n",
    "    \n",
    "    # Clear TensorFlow session and build the model within the strategy scope\n",
    "    K.clear_session()\n",
    "    with strategy.scope():\n",
    "        model = build_model()\n",
    "\n",
    "    # Start training the model\n",
    "    history = model.fit(\n",
    "        train_ds,\n",
    "        epochs=CFG.epochs,\n",
    "        validation_data=valid_ds,\n",
    "        callbacks=callbacks,\n",
    "        steps_per_epoch=int(len(train_df) / CFG.batch_size / CFG.replicas),\n",
    "    )\n",
    "    \n",
    "    # Find the epoch with the best validation accuracy\n",
    "    best_epoch = np.argmax(model.history.history['val_auc'])\n",
    "    best_auc = model.history.history['val_auc'][best_epoch]\n",
    "    best_loss = model.history.history['val_loss'][best_epoch]\n",
    "\n",
    "    # Print and display best results\n",
    "    print(f'\\n{\"=\" * 17} FOLD {fold} RESULTS {\"=\" * 17}')\n",
    "    print(f'>>>> BEST Loss  : {best_loss:.3f}\\n>>>> BEST AUC   : {best_auc:.3f}\\n>>>> BEST Epoch : {best_epoch}')\n",
    "    print('=' * 50)\n",
    "    \n",
    "    # Log best result on Weights and Biases (wandb) if enabled\n",
    "    if CFG.wandb:\n",
    "        log_wandb()  # Log results\n",
    "        wandb.run.finish()  # Finish the run\n",
    "#         display(ipd.IFrame(run.url, width=1080, height=720)) # show wandb dashboard\n",
    "    print(\"\\n\\n\")"
   ]
  },
  {
   "attachments": {
    "4164c26d-d907-45db-9df9-93d90713d784.png": {
     "image/png": "[encoded data removed]"
    }
   },
   "cell_type": "markdown",
   "id": "e87dd1c7",
   "metadata": {
    "papermill": {
     "duration": 2.798692,
     "end_time": "2023-11-03T09:51:54.259736",
     "exception": false,
     "start_time": "2023-11-03T09:51:51.461044",
     "status": "completed"
    },
    "tags": []
   },
   "source": [
    "## Training Log\n",
    "### [Click Here ➡️](https://wandb.ai/awsaf49/llm-science-exam-public) to check all the training logs in **WandB** dashboard.\n",
    "\n",
    "![image.png](attachment:4164c26d-d907-45db-9df9-93d90713d784.png)"
   ]
  },
  {
   "cell_type": "markdown",
   "id": "35349273",
   "metadata": {
    "papermill": {
     "duration": 2.856955,
     "end_time": "2023-11-03T09:51:59.893529",
     "exception": false,
     "start_time": "2023-11-03T09:51:57.036574",
     "status": "completed"
    },
    "tags": []
   },
   "source": [
    "# 🧪 | Prediction"
   ]
  },
  {
   "cell_type": "code",
   "execution_count": null,
   "id": "d4e45e66",
   "metadata": {
    "execution": {
     "iopub.execute_input": "2023-11-03T09:52:05.346057Z",
     "iopub.status.busy": "2023-11-03T09:52:05.345691Z",
     "iopub.status.idle": "2023-11-03T09:54:16.249858Z",
     "shell.execute_reply": "2023-11-03T09:54:16.248920Z"
    },
    "papermill": {
     "duration": 135.369704,
     "end_time": "2023-11-03T09:54:17.942098",
     "exception": false,
     "start_time": "2023-11-03T09:52:02.572394",
     "status": "completed"
    },
    "tags": [],
    "ExecuteTime": {
     "start_time": "2023-11-15T05:53:34.912292300Z"
    }
   },
   "outputs": [],
   "source": [
    "# Make predictions using the trained model on last validation data\n",
    "predictions = model.predict(\n",
    "    valid_ds,\n",
    "    batch_size=min(CFG.batch_size * CFG.replicas * 2, len(valid_df)), # max batch size = valid size\n",
    "    verbose=1\n",
    ")"
   ]
  },
  {
   "cell_type": "code",
   "execution_count": null,
   "id": "e67dffd8",
   "metadata": {
    "_kg_hide-input": true,
    "execution": {
     "iopub.execute_input": "2023-11-03T09:54:23.724899Z",
     "iopub.status.busy": "2023-11-03T09:54:23.724549Z",
     "iopub.status.idle": "2023-11-03T09:54:23.733653Z",
     "shell.execute_reply": "2023-11-03T09:54:23.732698Z"
    },
    "papermill": {
     "duration": 2.873753,
     "end_time": "2023-11-03T09:54:23.736115",
     "exception": false,
     "start_time": "2023-11-03T09:54:20.862362",
     "status": "completed"
    },
    "tags": [],
    "ExecuteTime": {
     "start_time": "2023-11-15T05:53:34.916293700Z"
    }
   },
   "outputs": [],
   "source": [
    "# Format predictions and true answers\n",
    "pred_answers = (predictions > 0.5).astype(int).squeeze()\n",
    "true_answers = valid_df.label.values\n",
    "\n",
    "# Check 5 Predictions\n",
    "print(\"# Predictions\\n\")\n",
    "for i in range(5):\n",
    "    row = valid_df.iloc[i]\n",
    "    text  = row.text\n",
    "    pred_answer = CFG.label2name[pred_answers[i]]\n",
    "    true_answer = CFG.label2name[true_answers[i]]\n",
    "    print(f\"❓ Text {i+1}:\\n{text[:100]} .... {text[-100:]}\\n\")\n",
    "    print(f\"✅ True: {true_answer}\\n\")\n",
    "    print(f\"🤖 Predicted: {pred_answer}\\n\")\n",
    "    print(\"-\"*90, \"\\n\")"
   ]
  },
  {
   "cell_type": "markdown",
   "id": "695e8806",
   "metadata": {
    "papermill": {
     "duration": 2.872976,
     "end_time": "2023-11-03T09:54:29.462015",
     "exception": false,
     "start_time": "2023-11-03T09:54:26.589039",
     "status": "completed"
    },
    "tags": []
   },
   "source": [
    "# ✍️ | Reference\n",
    "* [LLM Science Exam: KerasCore + KerasNLP [TPU]](https://www.kaggle.com/code/awsaf49/llm-science-exam-kerascore-kerasnlp-tpu)\n",
    "* [Keras NLP](https://keras.io/api/keras_nlp/)\n",
    "* [Triple Stratified KFold with TFRecords](https://www.kaggle.com/code/cdeotte/triple-stratified-kfold-with-tfrecords) by @cdeotte"
   ]
  },
  {
   "cell_type": "code",
   "execution_count": null,
   "id": "87528fed",
   "metadata": {
    "_kg_hide-input": true,
    "_kg_hide-output": true,
    "execution": {
     "iopub.execute_input": "2023-11-03T09:54:35.116328Z",
     "iopub.status.busy": "2023-11-03T09:54:35.115471Z",
     "iopub.status.idle": "2023-11-03T09:54:36.186027Z",
     "shell.execute_reply": "2023-11-03T09:54:36.184843Z"
    },
    "papermill": {
     "duration": 3.822968,
     "end_time": "2023-11-03T09:54:36.188306",
     "exception": false,
     "start_time": "2023-11-03T09:54:32.365338",
     "status": "completed"
    },
    "tags": [],
    "ExecuteTime": {
     "start_time": "2023-11-15T05:53:34.918323600Z"
    }
   },
   "outputs": [],
   "source": [
    "!rm -r /kaggle/working/wandb  "
   ]
  }
 ],
 "metadata": {
  "kernelspec": {
   "display_name": "Python 3",
   "language": "python",
   "name": "python3"
  },
  "language_info": {
   "codemirror_mode": {
    "name": "ipython",
    "version": 3
   },
   "file_extension": ".py",
   "mimetype": "text/x-python",
   "name": "python",
   "nbconvert_exporter": "python",
   "pygments_lexer": "ipython3",
   "version": "3.10.12"
  },
  "papermill": {
   "default_parameters": {},
   "duration": 17102.553119,
   "end_time": "2023-11-03T09:54:42.134234",
   "environment_variables": {},
   "exception": null,
   "input_path": "__notebook__.ipynb",
   "output_path": "__notebook__.ipynb",
   "parameters": {},
   "start_time": "2023-11-03T05:09:39.581115",
   "version": "2.4.0"
  }
 },
 "nbformat": 4,
 "nbformat_minor": 5
}
