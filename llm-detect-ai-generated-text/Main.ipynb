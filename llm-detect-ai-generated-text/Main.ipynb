{
 "cells": [
  {
   "cell_type": "markdown",
   "id": "058b6cc8",
   "metadata": {
    "papermill": {
     "duration": 0.018016,
     "end_time": "2023-11-03T05:09:44.088558",
     "exception": false,
     "start_time": "2023-11-03T05:09:44.070542",
     "status": "completed"
    },
    "tags": []
   },
   "source": [
    "# LLM - Detect AI Generated Text\n",
    "> Identify which essay was written by a large language model\n",
    "\n",
    "<img src=\"https://user-images.githubusercontent.com/36858976/279902422-b365f6ef-ef01-49ac-af7f-0bc2ca3ba835.png\">"
   ]
  },
  {
   "cell_type": "markdown",
   "id": "c8a7fab7",
   "metadata": {
    "papermill": {
     "duration": 0.015534,
     "end_time": "2023-11-03T05:09:44.185157",
     "exception": false,
     "start_time": "2023-11-03T05:09:44.169623",
     "status": "completed"
    },
    "tags": []
   },
   "source": [
    "# 🛠 | Install Libraries "
   ]
  },
  {
   "cell_type": "code",
   "execution_count": 1,
   "id": "26b93973",
   "metadata": {
    "_cell_guid": "b1076dfc-b9ad-4769-8c92-a6c4dae69d19",
    "_uuid": "8f2839f25d086af736a60e9eeb907d3b93b6e0e5",
    "execution": {
     "iopub.execute_input": "2023-11-03T05:09:44.218433Z",
     "iopub.status.busy": "2023-11-03T05:09:44.218130Z",
     "iopub.status.idle": "2023-11-03T05:10:48.787350Z",
     "shell.execute_reply": "2023-11-03T05:10:48.786278Z"
    },
    "papermill": {
     "duration": 64.589104,
     "end_time": "2023-11-03T05:10:48.789960",
     "exception": false,
     "start_time": "2023-11-03T05:09:44.200856",
     "status": "completed"
    },
    "tags": [],
    "ExecuteTime": {
     "end_time": "2023-12-09T07:12:45.977822100Z",
     "start_time": "2023-12-09T07:12:45.456235600Z"
    }
   },
   "outputs": [],
   "source": [
    "# !pip install keras-core==0.1.7\n",
    "# !pip install keras-nlp==0.6.3\n",
    "# !pip install --upgrade wandb git+https://github.com/soumik12345/wandb-addons"
   ]
  },
  {
   "cell_type": "markdown",
   "id": "5b84e97b",
   "metadata": {
    "papermill": {
     "duration": 0.016026,
     "end_time": "2023-11-03T05:10:48.822748",
     "exception": false,
     "start_time": "2023-11-03T05:10:48.806722",
     "status": "completed"
    },
    "tags": []
   },
   "source": [
    "# 📚 | Import Libraries "
   ]
  },
  {
   "cell_type": "code",
   "execution_count": 2,
   "id": "038591a7",
   "metadata": {
    "_kg_hide-output": true,
    "execution": {
     "iopub.execute_input": "2023-11-03T05:10:48.857107Z",
     "iopub.status.busy": "2023-11-03T05:10:48.856748Z",
     "iopub.status.idle": "2023-11-03T05:11:12.065982Z",
     "shell.execute_reply": "2023-11-03T05:11:12.065050Z"
    },
    "papermill": {
     "duration": 23.228744,
     "end_time": "2023-11-03T05:11:12.067988",
     "exception": false,
     "start_time": "2023-11-03T05:10:48.839244",
     "status": "completed"
    },
    "tags": [],
    "ExecuteTime": {
     "end_time": "2023-12-09T07:12:57.520389200Z",
     "start_time": "2023-12-09T07:12:45.473239Z"
    }
   },
   "outputs": [
    {
     "name": "stdout",
     "output_type": "stream",
     "text": [
      "Using PyTorch backend.\n"
     ]
    },
    {
     "name": "stderr",
     "output_type": "stream",
     "text": [
      "C:\\Users\\dinle\\AppData\\Local\\Temp\\ipykernel_48480\\2944925690.py:18: MatplotlibDeprecationWarning: The get_cmap function was deprecated in Matplotlib 3.7 and will be removed two minor releases later. Use ``matplotlib.colormaps[name]`` or ``matplotlib.colormaps.get_cmap(obj)`` instead.\n",
      "  cmap = mpl.cm.get_cmap('coolwarm')\n"
     ]
    }
   ],
   "source": [
    "import os\n",
    "os.environ[\"KERAS_BACKEND\"] = \"torch\" \n",
    "import keras_nlp\n",
    "import keras_core as keras\n",
    "import keras_core.backend as K\n",
    "\n",
    "\n",
    "import torch\n",
    "import tensorflow as tf\n",
    "\n",
    "\n",
    "import numpy as np \n",
    "import pandas as pd\n",
    "\n",
    "import matplotlib.pyplot as plt\n",
    "import matplotlib as mpl\n",
    "\n",
    "cmap = mpl.cm.get_cmap('coolwarm')"
   ]
  },
  {
   "cell_type": "markdown",
   "id": "48532e06",
   "metadata": {
    "papermill": {
     "duration": 0.016533,
     "end_time": "2023-11-03T05:11:12.100930",
     "exception": false,
     "start_time": "2023-11-03T05:11:12.084397",
     "status": "completed"
    },
    "tags": []
   },
   "source": [
    "## Library Version"
   ]
  },
  {
   "cell_type": "code",
   "execution_count": 3,
   "id": "76580982",
   "metadata": {
    "_kg_hide-input": true,
    "execution": {
     "iopub.execute_input": "2023-11-03T05:11:12.134258Z",
     "iopub.status.busy": "2023-11-03T05:11:12.133703Z",
     "iopub.status.idle": "2023-11-03T05:11:12.138760Z",
     "shell.execute_reply": "2023-11-03T05:11:12.137967Z"
    },
    "papermill": {
     "duration": 0.023629,
     "end_time": "2023-11-03T05:11:12.140681",
     "exception": false,
     "start_time": "2023-11-03T05:11:12.117052",
     "status": "completed"
    },
    "tags": [],
    "ExecuteTime": {
     "end_time": "2023-12-09T07:12:57.605915400Z",
     "start_time": "2023-12-09T07:12:57.520389200Z"
    }
   },
   "outputs": [
    {
     "name": "stdout",
     "output_type": "stream",
     "text": [
      "Torch: 2.1.1+cu118\n",
      "TensorFlow: 2.10.1\n",
      "Keras: 0.1.7\n",
      "KerasNLP: 0.6.3\n"
     ]
    },
    {
     "data": {
      "text/plain": "True"
     },
     "execution_count": 3,
     "metadata": {},
     "output_type": "execute_result"
    }
   ],
   "source": [
    "print(\"Torch:\", torch.__version__)\n",
    "print(\"TensorFlow:\", tf.__version__)\n",
    "print(\"Keras:\", keras.__version__)\n",
    "print(\"KerasNLP:\", keras_nlp.__version__)\n",
    "torch.cuda.is_available()"
   ]
  },
  {
   "cell_type": "markdown",
   "id": "5f84952a",
   "metadata": {
    "papermill": {
     "duration": 0.0157,
     "end_time": "2023-11-03T05:11:12.172211",
     "exception": false,
     "start_time": "2023-11-03T05:11:12.156511",
     "status": "completed"
    },
    "tags": []
   },
   "source": [
    "# ⚙️ | Configuration"
   ]
  },
  {
   "cell_type": "code",
   "execution_count": 4,
   "id": "78f624e9",
   "metadata": {
    "_kg_hide-input": true,
    "execution": {
     "iopub.execute_input": "2023-11-03T05:11:12.205345Z",
     "iopub.status.busy": "2023-11-03T05:11:12.204663Z",
     "iopub.status.idle": "2023-11-03T05:11:12.211906Z",
     "shell.execute_reply": "2023-11-03T05:11:12.211074Z"
    },
    "papermill": {
     "duration": 0.025712,
     "end_time": "2023-11-03T05:11:12.213734",
     "exception": false,
     "start_time": "2023-11-03T05:11:12.188022",
     "status": "completed"
    },
    "tags": [],
    "ExecuteTime": {
     "end_time": "2023-12-09T07:12:57.624916500Z",
     "start_time": "2023-12-09T07:12:57.536397200Z"
    }
   },
   "outputs": [],
   "source": [
    "class CFG:\n",
    "    verbose = 0  # Verbosity\n",
    "    \n",
    "    TRAIN_PATH = './kaggle/input/daigt-proper-train-dataset/train_drcat_01.csv'\n",
    "    TEST_PATH = './kaggle/input/daigt-proper-train-dataset/train_drcat_02.csv'\n",
    "    WORKING_PATH = './kaggle/working/'\n",
    "    num_of_train_dataset = 2000 # total num of train dataset\n",
    "    num_of_test_dataset = 1000 # total num of test dataset\n",
    "    \n",
    "    wandb = True  # Weights & Biases logging\n",
    "    competition = 'llm-detect-ai-generated-text'  # Competition name\n",
    "    _wandb_kernel = 'dinleo11'  # WandB kernel\n",
    "    comment = 'DebertaV3-MaxSeq_200-ext_s-torch'  # Comment description\n",
    "    preset = \"deberta_v3_small_en\"  # Name of pretrained models\n",
    "    sequence_length = 200  # Input sequence length\n",
    "    \n",
    "    device = 'GPU'  # Device\n",
    "    \n",
    "    seed = 42  # Random seed\n",
    "    \n",
    "    num_folds = 5  # Total folds\n",
    "    selected_folds = [0]  # Folds to train on\n",
    "    \n",
    "    epochs = 5 # Training epochs\n",
    "    batch_size = 10  # Batch size\n",
    "    drop_remainder = True  # Drop incomplete batches\n",
    "    cache = True # Caches data after one iteration, use only with `TPU` to avoid OOM\n",
    "    \n",
    "    scheduler = 'cosine'  # Learning rate scheduler\n",
    "    \n",
    "    class_names = [\"real\", \"fake\"]  # Class names [A, B, C, D, E]\n",
    "    num_classes = len(class_names)  # Number of classes\n",
    "    class_labels = list(range(num_classes))  # Class labels [0, 1, 2, 3, 4]\n",
    "    label2name = dict(zip(class_labels, class_names))  # Label to class name mapping\n",
    "    name2label = {v: k for k, v in label2name.items()}  # Class name to label mapping\n",
    "    "
   ]
  },
  {
   "cell_type": "markdown",
   "id": "2ba4d558",
   "metadata": {
    "papermill": {
     "duration": 0.015864,
     "end_time": "2023-11-03T05:11:12.286775",
     "exception": false,
     "start_time": "2023-11-03T05:11:12.270911",
     "status": "completed"
    },
    "tags": []
   },
   "source": [
    "# ♻️ | Reproducibility \n",
    "Sets value for random seed to produce similar result in each run."
   ]
  },
  {
   "cell_type": "code",
   "execution_count": 5,
   "id": "3391d82a",
   "metadata": {
    "execution": {
     "iopub.execute_input": "2023-11-03T05:11:12.321271Z",
     "iopub.status.busy": "2023-11-03T05:11:12.320449Z",
     "iopub.status.idle": "2023-11-03T05:11:12.332699Z",
     "shell.execute_reply": "2023-11-03T05:11:12.331937Z"
    },
    "papermill": {
     "duration": 0.031327,
     "end_time": "2023-11-03T05:11:12.334654",
     "exception": false,
     "start_time": "2023-11-03T05:11:12.303327",
     "status": "completed"
    },
    "tags": [],
    "ExecuteTime": {
     "end_time": "2023-12-09T07:12:57.647433800Z",
     "start_time": "2023-12-09T07:12:57.552916100Z"
    }
   },
   "outputs": [],
   "source": [
    "keras.utils.set_random_seed(CFG.seed)"
   ]
  },
  {
   "cell_type": "markdown",
   "id": "868a962b",
   "metadata": {
    "papermill": {
     "duration": 0.01681,
     "end_time": "2023-11-03T05:11:12.370020",
     "exception": false,
     "start_time": "2023-11-03T05:11:12.353210",
     "status": "completed"
    },
    "tags": []
   },
   "source": [
    "# 💾 | Hardware\n",
    "Following codes automatically detects hardware (TPU or GPU). "
   ]
  },
  {
   "cell_type": "code",
   "execution_count": 6,
   "id": "37f89880",
   "metadata": {
    "_kg_hide-input": true,
    "execution": {
     "iopub.execute_input": "2023-11-03T05:11:12.403558Z",
     "iopub.status.busy": "2023-11-03T05:11:12.403269Z",
     "iopub.status.idle": "2023-11-03T05:11:12.410361Z",
     "shell.execute_reply": "2023-11-03T05:11:12.409623Z"
    },
    "papermill": {
     "duration": 0.025783,
     "end_time": "2023-11-03T05:11:12.412331",
     "exception": false,
     "start_time": "2023-11-03T05:11:12.386548",
     "status": "completed"
    },
    "tags": [],
    "ExecuteTime": {
     "end_time": "2023-12-09T07:12:57.648442700Z",
     "start_time": "2023-12-09T07:12:57.564917700Z"
    }
   },
   "outputs": [],
   "source": [
    "def get_device():\n",
    "    \"Detect and intializes GPU/TPU automatically\"\n",
    "    try:\n",
    "        # Connect to TPU\n",
    "        tpu = tf.distribute.cluster_resolver.TPUClusterResolver.connect() \n",
    "        # Set TPU strategy\n",
    "        strategy = tf.distribute.TPUStrategy(tpu)\n",
    "        print(f'> Running on TPU', tpu.master(), end=' | ')\n",
    "        print('Num of TPUs: ', strategy.num_replicas_in_sync)\n",
    "        device=CFG.device\n",
    "    except:\n",
    "        # If TPU is not available, detect GPUs\n",
    "        gpus = tf.config.list_logical_devices('GPU')\n",
    "        ngpu = len(gpus)\n",
    "         # Check number of GPUs\n",
    "        if ngpu:\n",
    "            # Set GPU strategy\n",
    "            strategy = tf.distribute.MirroredStrategy(gpus) # single-GPU or multi-GPU\n",
    "            # Print GPU details\n",
    "            print(\"> Running on GPU\", end=' | ')\n",
    "            print(\"Num of GPUs: \", ngpu)\n",
    "            device='GPU'\n",
    "        else:\n",
    "            # If no GPUs are available, use CPU\n",
    "            print(\"> Running on CPU\")\n",
    "            strategy = tf.distribute.get_strategy()\n",
    "            device='CPU'\n",
    "    return strategy, device"
   ]
  },
  {
   "cell_type": "code",
   "execution_count": 7,
   "id": "f9bd017a",
   "metadata": {
    "execution": {
     "iopub.execute_input": "2023-11-03T05:11:12.445484Z",
     "iopub.status.busy": "2023-11-03T05:11:12.445213Z",
     "iopub.status.idle": "2023-11-03T05:11:23.226610Z",
     "shell.execute_reply": "2023-11-03T05:11:23.225486Z"
    },
    "papermill": {
     "duration": 10.800704,
     "end_time": "2023-11-03T05:11:23.229026",
     "exception": false,
     "start_time": "2023-11-03T05:11:12.428322",
     "status": "completed"
    },
    "tags": [],
    "ExecuteTime": {
     "end_time": "2023-12-09T07:12:58.155894500Z",
     "start_time": "2023-12-09T07:12:57.580913600Z"
    }
   },
   "outputs": [
    {
     "name": "stdout",
     "output_type": "stream",
     "text": [
      "INFO:tensorflow:Using MirroredStrategy with devices ('/job:localhost/replica:0/task:0/device:GPU:0',)\n",
      "> Running on GPU | Num of GPUs:  1\n"
     ]
    }
   ],
   "source": [
    "# Initialize GPU/TPU/TPU-VM\n",
    "strategy, CFG.device = get_device()\n",
    "CFG.replicas = strategy.num_replicas_in_sync"
   ]
  },
  {
   "cell_type": "markdown",
   "id": "c314cca3",
   "metadata": {
    "papermill": {
     "duration": 0.017978,
     "end_time": "2023-11-03T05:11:23.924731",
     "exception": false,
     "start_time": "2023-11-03T05:11:23.906753",
     "status": "completed"
    },
    "tags": []
   },
   "source": [
    "## External Datasets\n",
    "\n",
    "We'll be utilizing the following external datasets:\n",
    "\n",
    "* [Proper Train Dataset](https://www.kaggle.com/datasets/thedrcat/daigt-proper-train-dataset/) @thedrcat\n"
   ]
  },
  {
   "cell_type": "markdown",
   "source": [
    "# 📖 | Meta Data \n",
    "* `{test|train}_essays.csv`\n",
    "    * `essay_id` - A unique identifier for each essay.\n",
    "    * `source, prompt_id` - Identifies the source, prompt the essay was written in response to.\n",
    "    * `text` - The essay text itself.\n",
    "    * `label` - Whether the essay was written by a student (0) or generated by an LLM (1). This field is the target and is not present in test_essays.csv.\n",
    "* **sample_submission.csv** - is the valid sample submission."
   ],
   "metadata": {
    "collapsed": false
   },
   "id": "68bb262d"
  },
  {
   "cell_type": "code",
   "execution_count": 8,
   "id": "49f20d14",
   "metadata": {
    "_kg_hide-input": true,
    "execution": {
     "iopub.execute_input": "2023-11-03T05:11:23.961536Z",
     "iopub.status.busy": "2023-11-03T05:11:23.961216Z",
     "iopub.status.idle": "2023-11-03T05:11:26.708537Z",
     "shell.execute_reply": "2023-11-03T05:11:26.707599Z"
    },
    "papermill": {
     "duration": 2.76865,
     "end_time": "2023-11-03T05:11:26.710754",
     "exception": false,
     "start_time": "2023-11-03T05:11:23.942104",
     "status": "completed"
    },
    "tags": [],
    "ExecuteTime": {
     "end_time": "2023-12-09T07:13:00.334530100Z",
     "start_time": "2023-12-09T07:12:58.166896200Z"
    }
   },
   "outputs": [],
   "source": [
    "# Load external data\n",
    "ext_train_df = pd.read_csv(CFG.TRAIN_PATH)\n",
    "ext_train_df = ext_train_df[['text', 'label']]\n",
    "ext_test_df = pd.read_csv(CFG.TEST_PATH)\n",
    "ext_test_df = ext_test_df[['essay_id', 'text', 'label']]"
   ]
  },
  {
   "cell_type": "code",
   "execution_count": 9,
   "outputs": [
    {
     "data": {
      "text/plain": "                                                text  label\n0  There are alot reasons to keep our the despise...      0\n1  Driving smart cars that drive by themself has ...      0",
      "text/html": "<div>\n<style scoped>\n    .dataframe tbody tr th:only-of-type {\n        vertical-align: middle;\n    }\n\n    .dataframe tbody tr th {\n        vertical-align: top;\n    }\n\n    .dataframe thead th {\n        text-align: right;\n    }\n</style>\n<table border=\"1\" class=\"dataframe\">\n  <thead>\n    <tr style=\"text-align: right;\">\n      <th></th>\n      <th>text</th>\n      <th>label</th>\n    </tr>\n  </thead>\n  <tbody>\n    <tr>\n      <th>0</th>\n      <td>There are alot reasons to keep our the despise...</td>\n      <td>0</td>\n    </tr>\n    <tr>\n      <th>1</th>\n      <td>Driving smart cars that drive by themself has ...</td>\n      <td>0</td>\n    </tr>\n  </tbody>\n</table>\n</div>"
     },
     "execution_count": 9,
     "metadata": {},
     "output_type": "execute_result"
    }
   ],
   "source": [
    "ext_train_df.head(2)"
   ],
   "metadata": {
    "collapsed": false,
    "ExecuteTime": {
     "end_time": "2023-12-09T07:13:00.363660800Z",
     "start_time": "2023-12-09T07:13:00.333514800Z"
    }
   },
   "id": "c19d7886798c9c3b"
  },
  {
   "cell_type": "code",
   "execution_count": 10,
   "outputs": [
    {
     "data": {
      "text/plain": "       essay_id                                               text  label\n0  E0B86027C5C5  Okay, here is my essay:\\n\\nWorking or doing th...      1\n1  8B9EEF86DD66  Dear Principal,\\r\\n\\r\\nI just want to let you ...      0",
      "text/html": "<div>\n<style scoped>\n    .dataframe tbody tr th:only-of-type {\n        vertical-align: middle;\n    }\n\n    .dataframe tbody tr th {\n        vertical-align: top;\n    }\n\n    .dataframe thead th {\n        text-align: right;\n    }\n</style>\n<table border=\"1\" class=\"dataframe\">\n  <thead>\n    <tr style=\"text-align: right;\">\n      <th></th>\n      <th>essay_id</th>\n      <th>text</th>\n      <th>label</th>\n    </tr>\n  </thead>\n  <tbody>\n    <tr>\n      <th>0</th>\n      <td>E0B86027C5C5</td>\n      <td>Okay, here is my essay:\\n\\nWorking or doing th...</td>\n      <td>1</td>\n    </tr>\n    <tr>\n      <th>1</th>\n      <td>8B9EEF86DD66</td>\n      <td>Dear Principal,\\r\\n\\r\\nI just want to let you ...</td>\n      <td>0</td>\n    </tr>\n  </tbody>\n</table>\n</div>"
     },
     "execution_count": 10,
     "metadata": {},
     "output_type": "execute_result"
    }
   ],
   "source": [
    "ext_test_df.head(2)"
   ],
   "metadata": {
    "collapsed": false,
    "ExecuteTime": {
     "end_time": "2023-12-09T07:13:00.395660800Z",
     "start_time": "2023-12-09T07:13:00.349659400Z"
    }
   },
   "id": "ca6609b5f20cb5be"
  },
  {
   "cell_type": "markdown",
   "source": [
    "### Train Data"
   ],
   "metadata": {
    "collapsed": false
   },
   "id": "7073aae72ba0aacc"
  },
  {
   "cell_type": "code",
   "execution_count": 11,
   "outputs": [
    {
     "name": "stdout",
     "output_type": "stream",
     "text": [
      "# External Data: 2,000\n",
      "# Sample:\n",
      "2000\n"
     ]
    },
    {
     "data": {
      "text/plain": "<Figure size 800x400 with 1 Axes>",
      "image/png": "[encoded data removed]"
     },
     "metadata": {},
     "output_type": "display_data"
    }
   ],
   "source": [
    "train_df = pd.concat([\n",
    "    ext_train_df[ext_train_df.label == 0].sample(CFG.num_of_train_dataset // 2),\n",
    "    ext_train_df[ext_train_df.label == 1].sample(CFG.num_of_train_dataset // 2)\n",
    "])\n",
    "train_df['name'] = train_df.label.map(CFG.label2name)\n",
    "\n",
    "# Display information about the external data\n",
    "print(\"# External Data: {:,}\".format(len(train_df)))\n",
    "print(\"# Sample:\")\n",
    "train_df.head(2)\n",
    "print(len(train_df))\n",
    "# Show distribution of answers using a bar plot\n",
    "plt.figure(figsize=(8, 4))\n",
    "train_df.name.value_counts().plot.bar(color=[cmap(0.0), cmap(0.65)])\n",
    "plt.xlabel(\"Class\")\n",
    "plt.ylabel(\"Count\")\n",
    "plt.title(\"Answer distribution for External Data\")\n",
    "plt.show()"
   ],
   "metadata": {
    "collapsed": false,
    "ExecuteTime": {
     "end_time": "2023-12-09T07:13:00.847811800Z",
     "start_time": "2023-12-09T07:13:00.369662Z"
    }
   },
   "id": "50454c8a2e7192c"
  },
  {
   "cell_type": "code",
   "execution_count": 12,
   "id": "ae745fb5",
   "metadata": {
    "execution": {
     "iopub.execute_input": "2023-11-03T05:11:26.782403Z",
     "iopub.status.busy": "2023-11-03T05:11:26.782101Z",
     "iopub.status.idle": "2023-11-03T05:11:26.804278Z",
     "shell.execute_reply": "2023-11-03T05:11:26.803398Z"
    },
    "papermill": {
     "duration": 0.042689,
     "end_time": "2023-11-03T05:11:26.806371",
     "exception": false,
     "start_time": "2023-11-03T05:11:26.763682",
     "status": "completed"
    },
    "tags": [],
    "ExecuteTime": {
     "end_time": "2023-12-09T07:13:00.856328500Z",
     "start_time": "2023-12-09T07:13:00.610607100Z"
    }
   },
   "outputs": [
    {
     "data": {
      "text/plain": "                                                text  label  name\n0  Being able to know what your students are feel...      0  real\n1  The new technology called the Facial Action Co...      0  real\n2  The new Facial Action Coding System cannot be ...      0  real\n3  Is the \"Facial Action Coding System\" really go...      0  real\n4  Generic_Name\\n\\nGeneric_City\\n\\nMarch 12, 2020...      0  real",
      "text/html": "<div>\n<style scoped>\n    .dataframe tbody tr th:only-of-type {\n        vertical-align: middle;\n    }\n\n    .dataframe tbody tr th {\n        vertical-align: top;\n    }\n\n    .dataframe thead th {\n        text-align: right;\n    }\n</style>\n<table border=\"1\" class=\"dataframe\">\n  <thead>\n    <tr style=\"text-align: right;\">\n      <th></th>\n      <th>text</th>\n      <th>label</th>\n      <th>name</th>\n    </tr>\n  </thead>\n  <tbody>\n    <tr>\n      <th>0</th>\n      <td>Being able to know what your students are feel...</td>\n      <td>0</td>\n      <td>real</td>\n    </tr>\n    <tr>\n      <th>1</th>\n      <td>The new technology called the Facial Action Co...</td>\n      <td>0</td>\n      <td>real</td>\n    </tr>\n    <tr>\n      <th>2</th>\n      <td>The new Facial Action Coding System cannot be ...</td>\n      <td>0</td>\n      <td>real</td>\n    </tr>\n    <tr>\n      <th>3</th>\n      <td>Is the \"Facial Action Coding System\" really go...</td>\n      <td>0</td>\n      <td>real</td>\n    </tr>\n    <tr>\n      <th>4</th>\n      <td>Generic_Name\\n\\nGeneric_City\\n\\nMarch 12, 2020...</td>\n      <td>0</td>\n      <td>real</td>\n    </tr>\n  </tbody>\n</table>\n</div>"
     },
     "execution_count": 12,
     "metadata": {},
     "output_type": "execute_result"
    }
   ],
   "source": [
    "train_df = train_df.copy().reset_index(drop=True)\n",
    "train_df.head()"
   ]
  },
  {
   "cell_type": "markdown",
   "source": [
    "# 🔪 | Data Split\n",
    "\n",
    "In the code snippet provided below, we will divide the existing **train** data into folds using a stratification of `label` column."
   ],
   "metadata": {
    "collapsed": false
   },
   "id": "eb7c57ae"
  },
  {
   "cell_type": "code",
   "execution_count": 13,
   "outputs": [
    {
     "data": {
      "text/plain": "fold  name\n0     fake    200\n      real    200\n1     fake    200\n      real    200\n2     fake    200\n      real    200\n3     fake    200\n      real    200\n4     fake    200\n      real    200\ndtype: int64"
     },
     "execution_count": 13,
     "metadata": {},
     "output_type": "execute_result"
    }
   ],
   "source": [
    "from sklearn.model_selection import StratifiedKFold  # Import package\n",
    "\n",
    "skf = StratifiedKFold(n_splits=CFG.num_folds, shuffle=True, random_state=CFG.seed)  # Initialize K-Fold\n",
    "\n",
    "train_df = train_df.reset_index(drop=True)  # Reset dataframe index\n",
    "\n",
    "train_df['stratify'] = train_df.label.astype(str)\n",
    "\n",
    "train_df[\"fold\"] = -1  # New 'fold' column\n",
    "\n",
    "# Assign folds using StratifiedKFold\n",
    "for fold, (train_idx, val_idx) in enumerate(skf.split(train_df, train_df['stratify'])):\n",
    "    train_df.loc[val_idx, 'fold'] = fold\n",
    "\n",
    "# Display label distribution for each fold\n",
    "train_df.groupby([\"fold\", \"name\"]).size()"
   ],
   "metadata": {
    "collapsed": false,
    "ExecuteTime": {
     "end_time": "2023-12-09T07:13:01.459228500Z",
     "start_time": "2023-12-09T07:13:00.628604500Z"
    }
   },
   "id": "be8a0b83"
  },
  {
   "cell_type": "markdown",
   "source": [
    "### Test Data"
   ],
   "metadata": {
    "collapsed": false
   },
   "id": "7251aa6fd5eaa214"
  },
  {
   "cell_type": "code",
   "execution_count": 14,
   "outputs": [
    {
     "name": "stdout",
     "output_type": "stream",
     "text": [
      "# Test Data: 1,000\n",
      "# Sample:\n"
     ]
    },
    {
     "data": {
      "text/plain": "           essay_id                                               text  label\n20797  52F4E96E8282  Using cars creates admissions that damages our...      0\n7609   71DFA360D5EC  I believe the author article can be supported ...      0",
      "text/html": "<div>\n<style scoped>\n    .dataframe tbody tr th:only-of-type {\n        vertical-align: middle;\n    }\n\n    .dataframe tbody tr th {\n        vertical-align: top;\n    }\n\n    .dataframe thead th {\n        text-align: right;\n    }\n</style>\n<table border=\"1\" class=\"dataframe\">\n  <thead>\n    <tr style=\"text-align: right;\">\n      <th></th>\n      <th>essay_id</th>\n      <th>text</th>\n      <th>label</th>\n    </tr>\n  </thead>\n  <tbody>\n    <tr>\n      <th>20797</th>\n      <td>52F4E96E8282</td>\n      <td>Using cars creates admissions that damages our...</td>\n      <td>0</td>\n    </tr>\n    <tr>\n      <th>7609</th>\n      <td>71DFA360D5EC</td>\n      <td>I believe the author article can be supported ...</td>\n      <td>0</td>\n    </tr>\n  </tbody>\n</table>\n</div>"
     },
     "metadata": {},
     "output_type": "display_data"
    }
   ],
   "source": [
    "test_df = pd.concat([\n",
    "    ext_test_df[ext_test_df.label == 0].sample(CFG.num_of_test_dataset // 2),\n",
    "    ext_test_df[ext_test_df.label == 1].sample(CFG.num_of_test_dataset // 2)\n",
    "])\n",
    "\n",
    "\n",
    "# Display information about the train data\n",
    "print(\"# Test Data: {:,}\".format(len(test_df)))\n",
    "print(\"# Sample:\")\n",
    "display(test_df.head(2))"
   ],
   "metadata": {
    "collapsed": false,
    "ExecuteTime": {
     "end_time": "2023-12-09T07:13:01.544240500Z",
     "start_time": "2023-12-09T07:13:01.451229100Z"
    }
   },
   "id": "b9a06165"
  },
  {
   "cell_type": "markdown",
   "source": [
    "# 🍽️ | Preprocessing\n",
    "\n",
    "**What it does:** The preprocessor takes input strings and transforms them into a dictionary (`token_ids`, `padding_mask`) containing preprocessed tensors. This process starts with tokenization, where input strings are converted into sequences of token IDs.\n",
    "\n",
    "**Why it's important:** Initially, raw text data is complex and challenging for modeling due to its high dimensionality. By converting text into a compact set of tokens, such as transforming `\"The quick brown fox\"` into `[\"the\", \"qu\", \"##ick\", \"br\", \"##own\", \"fox\"]`, we simplify the data. Many models rely on special tokens and additional tensors to understand input. These tokens help divide input and identify padding, among other tasks. Making all sequences the same length through padding boosts computational efficiency, making subsequent steps smoother.\n",
    "\n",
    "Explore the following pages to access the available preprocessing and tokenizer layers in **KerasNLP**:\n",
    "- [Preprocessing](https://keras.io/api/keras_nlp/preprocessing_layers/)\n",
    "- [Tokenizers](https://keras.io/api/keras_nlp/tokenizers/)"
   ],
   "metadata": {
    "collapsed": false
   },
   "id": "6a435d12"
  },
  {
   "cell_type": "code",
   "execution_count": 15,
   "outputs": [],
   "source": [
    "preprocessor = keras_nlp.models.DebertaV3Preprocessor.from_preset(\n",
    "    preset=CFG.preset, # Name of the model\n",
    "    sequence_length=CFG.sequence_length, # Max sequence length, will be padded if shorter\n",
    ")"
   ],
   "metadata": {
    "collapsed": false,
    "ExecuteTime": {
     "end_time": "2023-12-09T07:13:02.187140600Z",
     "start_time": "2023-12-09T07:13:01.478230100Z"
    }
   },
   "id": "d2568aa1"
  },
  {
   "cell_type": "markdown",
   "source": [
    "Now, let's examine what the output shape of the preprocessing layer looks like. The output shape of the layer can be represented as $(num\\_choices, sequence\\_length)$."
   ],
   "metadata": {
    "collapsed": false
   },
   "id": "02000747"
  },
  {
   "cell_type": "code",
   "execution_count": 16,
   "outputs": [
    {
     "name": "stdout",
     "output_type": "stream",
     "text": [
      "token_ids : torch.Size([200])\n",
      "padding_mask : torch.Size([200])\n"
     ]
    }
   ],
   "source": [
    "inp = preprocessor(train_df.text.iloc[0])  # Process text for the first row\n",
    "\n",
    "# Display the shape of each processed output\n",
    "for k, v in inp.items():\n",
    "    print(k, \":\", v.shape)"
   ],
   "metadata": {
    "collapsed": false,
    "ExecuteTime": {
     "end_time": "2023-12-09T07:13:06.477491700Z",
     "start_time": "2023-12-09T07:13:02.188143Z"
    }
   },
   "id": "d92ab330"
  },
  {
   "cell_type": "markdown",
   "source": [
    "We'll use the `preprocessing_fn` function to transform each text option using the `dataset.map(preprocessing_fn)` method."
   ],
   "metadata": {
    "collapsed": false
   },
   "id": "4e08eb18"
  },
  {
   "cell_type": "code",
   "execution_count": 17,
   "outputs": [],
   "source": [
    "def preprocess_fn(text, label=None):\n",
    "    text = preprocessor(text)  # Preprocess text\n",
    "    return (text, label) if label is not None else text  # Return processed text and label if available"
   ],
   "metadata": {
    "collapsed": false,
    "ExecuteTime": {
     "end_time": "2023-12-09T07:13:06.527625800Z",
     "start_time": "2023-12-09T07:13:06.472492800Z"
    }
   },
   "id": "939b1bc2"
  },
  {
   "cell_type": "markdown",
   "source": [
    "# 🍚 | DataLoader\n",
    "\n",
    "The code below sets up a robust data flow pipeline using `tf.data.Dataset` for data processing. Notable aspects of `tf.data` include its ability to simplify pipeline construction and represent components in sequences.\n",
    "\n",
    "To learn more about `tf.data`, refer to this [documentation](https://www.tensorflow.org/guide/data)."
   ],
   "metadata": {
    "collapsed": false
   },
   "id": "b0087a0e"
  },
  {
   "cell_type": "code",
   "execution_count": 18,
   "outputs": [],
   "source": [
    "def build_dataset(texts, labels=None, batch_size=32,\n",
    "                  cache=False, drop_remainder=True,\n",
    "                  repeat=False, shuffle=1024):\n",
    "    AUTO = tf.data.AUTOTUNE  # AUTOTUNE option\n",
    "    slices = (texts,) if labels is None else (texts, labels)  # Create slices\n",
    "    ds = tf.data.Dataset.from_tensor_slices(slices)  # Create dataset from slices\n",
    "    ds = ds.cache() if cache else ds  # Cache dataset if enabled\n",
    "    ds = ds.map(preprocess_fn, num_parallel_calls=AUTO)  # Map preprocessing function\n",
    "    ds = ds.repeat() if repeat else ds  # Repeat dataset if enabled\n",
    "    opt = tf.data.Options()  # Create dataset options\n",
    "    if shuffle: \n",
    "        ds = ds.shuffle(shuffle, seed=CFG.seed)  # Shuffle dataset if enabled\n",
    "        opt.experimental_deterministic = False\n",
    "    ds = ds.with_options(opt)  # Set dataset options\n",
    "    ds = ds.batch(batch_size, drop_remainder=drop_remainder)  # Batch dataset\n",
    "    ds = ds.prefetch(buffer_size=AUTO)  # Prefetch next batch\n",
    "    return ds  # Return the built dataset"
   ],
   "metadata": {
    "collapsed": false,
    "ExecuteTime": {
     "end_time": "2023-12-09T07:13:06.527625800Z",
     "start_time": "2023-12-09T07:13:06.488490300Z"
    }
   },
   "id": "6f65b37e"
  },
  {
   "cell_type": "markdown",
   "source": [
    "## Fetch Train/Valid/Test Dataset\n",
    "\n",
    "The function below generates the training and validation datasets for a given fold."
   ],
   "metadata": {
    "collapsed": false
   },
   "id": "916dec5d"
  },
  {
   "cell_type": "code",
   "execution_count": 19,
   "outputs": [],
   "source": [
    "def get_train_datasets(fold):\n",
    "    tr_df = train_df[train_df.fold != fold].sample(frac=1)  # Get training fold data\n",
    "        \n",
    "    train_texts = tr_df.text.tolist()  # Extract training texts\n",
    "    train_labels = tr_df.label.tolist()  # Extract training labels\n",
    "    \n",
    "    # Build training dataset\n",
    "    tr_ds = build_dataset(train_texts, train_labels,\n",
    "                             batch_size=CFG.batch_size*CFG.replicas, cache=CFG.cache,\n",
    "                             shuffle=True, drop_remainder=True, repeat=True)\n",
    "\n",
    "    vl_df = train_df[train_df.fold == fold].sample(frac=1)  # Get validation fold data\n",
    "    valid_texts = vl_df.text.tolist()  # Extract validation texts\n",
    "    valid_labels = vl_df.label.tolist()  # Extract validation labels\n",
    "    \n",
    "    # Build validation dataset\n",
    "    vl_ds = build_dataset(valid_texts, valid_labels,\n",
    "                             batch_size=min(CFG.batch_size*CFG.replicas, len(vl_df)), cache=CFG.cache,\n",
    "                             shuffle=False, drop_remainder=True, repeat=False)\n",
    "    \n",
    "    return (tr_ds, tr_df), (vl_ds, vl_df)  # Return datasets and dataframes\n",
    "\n",
    "def get_test_dataset(ts_df):\n",
    "    test_texts = test_df.text.tolist()  # Extract testation texts\n",
    "    \n",
    "    # Build testation dataset\n",
    "    ts_ds = build_dataset(test_texts, labels=None,\n",
    "                             batch_size=min(CFG.batch_size*CFG.replicas, len(ts_df)), cache=False,\n",
    "                             shuffle=False, drop_remainder=False, repeat=False)\n",
    "    \n",
    "    return ts_ds  # Return datasets and dataframes"
   ],
   "metadata": {
    "collapsed": false,
    "ExecuteTime": {
     "end_time": "2023-12-09T07:13:06.552754600Z",
     "start_time": "2023-12-09T07:13:06.504491400Z"
    }
   },
   "id": "fcea9f76"
  },
  {
   "cell_type": "markdown",
   "source": [
    "# 🪄 | Wandb\n",
    "<img src=\"https://camo.githubusercontent.com/dd842f7b0be57140e68b2ab9cb007992acd131c48284eaf6b1aca758bfea358b/68747470733a2f2f692e696d6775722e636f6d2f52557469567a482e706e67\" width=\"400\" alt=\"Weights & Biases\" />\n",
    "\n",
    "To monitor the training of my text-based model, I'll make use of **Weights & Biases**. Weights & Biases (W&B) is an MLOps platform that offers experiment tracking, dataset versioning, and model management functionalities, aiding in efficient model development. "
   ],
   "metadata": {
    "collapsed": false
   },
   "id": "7cc33338"
  },
  {
   "cell_type": "code",
   "execution_count": 20,
   "outputs": [
    {
     "name": "stderr",
     "output_type": "stream",
     "text": [
      "\u001B[34m\u001B[1mwandb\u001B[0m: \u001B[33mWARNING\u001B[0m If you're specifying your api key in code, ensure this code is not shared publicly.\n",
      "\u001B[34m\u001B[1mwandb\u001B[0m: \u001B[33mWARNING\u001B[0m Consider setting the WANDB_API_KEY environment variable, or running `wandb login` from the command line.\n",
      "\u001B[34m\u001B[1mwandb\u001B[0m: Appending key for api.wandb.ai to your netrc file: C:\\Users\\dinle/.netrc\n"
     ]
    },
    {
     "data": {
      "text/plain": "True"
     },
     "execution_count": 20,
     "metadata": {},
     "output_type": "execute_result"
    }
   ],
   "source": [
    "import wandb  # Import wandb library for experiment tracking\n",
    "# import wandb_addons # Additional wandb utilities\n",
    "\n",
    "wandb.login(\n",
    "    key='e1ac62b7d72161b215fd29fe14ca0767e99c014c',\n",
    "    relogin=True,\n",
    ")\n"
   ],
   "metadata": {
    "collapsed": false,
    "ExecuteTime": {
     "end_time": "2023-12-09T07:13:09.875202800Z",
     "start_time": "2023-12-09T07:13:06.516626300Z"
    }
   },
   "id": "d8a53cbb"
  },
  {
   "cell_type": "markdown",
   "source": [
    "w## Logger\n",
    "\n",
    "The following code cell contains code to log data to WandB. It is noteworthy that the newly released callbacks offer more flexibility in terms of customization, and they are more compact compared to the classic `WandbCallback`, making it easier to use. Here's a brief introduction to them:\n",
    "\n",
    "* **WandbModelCheckpoint**: This callback saves the model or weights using `tf.keras.callbacks.ModelCheckpoint`. Hence, we can harness the power of the official TensorFlow callback to log even `tf.keras.Model` subclass model in TPU.\n",
    "* **WandbMetricsLogger**: This callback simply logs all the metrics and losses.\n",
    "* **WandbEvalCallback**: This one is even more special. We can use it to log the model's prediction after a certain epoch/frequency. We can use it to save segmentation masks, bounding boxes, GradCAM within epochs to check intermediate results and so on.\n",
    "\n",
    "For more details, please check the [official documentation](https://docs.wandb.ai/ref/python/integrations/keras)."
   ],
   "metadata": {
    "collapsed": false
   },
   "id": "3816eab4"
  },
  {
   "cell_type": "code",
   "execution_count": 21,
   "outputs": [],
   "source": [
    "from wandb.keras import WandbMetricsLogger\n",
    "\n",
    "\n",
    "# Initializes the W&B run with a config file and W&B run settings.\n",
    "def wandb_init(fold):\n",
    "    config = {k: v for k, v in dict(vars(CFG)).items() if '__' not in k}  # Create config dictionary\n",
    "    config.update({\"fold\": int(fold)})  # Add fold to config\n",
    "    run = wandb.init(project=\"llm-fake-text\",\n",
    "                     name=f\"fold-{fold}|max_seq-{CFG.sequence_length}|model-{CFG.preset}\",\n",
    "                     config=config,\n",
    "                     group=CFG.comment,\n",
    "                     save_code=True)\n",
    "    return run\n",
    "\n",
    "# Log best result for error analysis\n",
    "def log_wandb():\n",
    "    wandb.log({'best_auc': best_auc, 'best_loss': best_loss, 'best_epoch': best_epoch})\n",
    "\n",
    "# Fetch W&B callbacks\n",
    "def get_wb_callbacks(fold):\n",
    "    wb_metr = WandbMetricsLogger()\n",
    "    return [wb_metr]  # Return WandB callbacks\n"
   ],
   "metadata": {
    "collapsed": false,
    "ExecuteTime": {
     "end_time": "2023-12-09T07:13:09.930215600Z",
     "start_time": "2023-12-09T07:13:09.861064Z"
    }
   },
   "id": "dd1fff2f"
  },
  {
   "cell_type": "markdown",
   "source": [
    "# ⚓ | LR Schedule\n",
    "\n",
    "Implementing a learning rate scheduler is crucial for transfer learning. The learning rate initiates at `lr_start` and gradually tapers down to `lr_min` using various techniques, including:\n",
    "- `step`: Lowering the learning rate in step-wise manner resembling stairs.\n",
    "- `cos`: Utilizing a cosine curve to gradually reduce the learning rate.\n",
    "- `exp`: Exponentially decreasing the learning rate.\n",
    "\n",
    "**Importance:** A well-structured learning rate schedule is essential for efficient model training, ensuring optimal convergence and avoiding issues such as overshooting or stagnation."
   ],
   "metadata": {
    "collapsed": false
   },
   "id": "4f65bf0c"
  },
  {
   "cell_type": "code",
   "execution_count": 22,
   "outputs": [],
   "source": [
    "import math\n",
    "\n",
    "def get_lr_callback(batch_size=8, mode='cos', epochs=10, plot=False):\n",
    "    lr_start, lr_max, lr_min = 0.6e-6, 0.5e-6 * batch_size, 0.3e-6\n",
    "    lr_ramp_ep, lr_sus_ep, lr_decay = 1, 0, 0.75\n",
    "\n",
    "    def lrfn(epoch):  # Learning rate update function\n",
    "        if epoch < lr_ramp_ep: lr = (lr_max - lr_start) / lr_ramp_ep * epoch + lr_start\n",
    "        elif epoch < lr_ramp_ep + lr_sus_ep: lr = lr_max\n",
    "        elif mode == 'exp': lr = (lr_max - lr_min) * lr_decay**(epoch - lr_ramp_ep - lr_sus_ep) + lr_min\n",
    "        elif mode == 'step': lr = lr_max * lr_decay**((epoch - lr_ramp_ep - lr_sus_ep) // 2)\n",
    "        elif mode == 'cos':\n",
    "            decay_total_epochs, decay_epoch_index = epochs - lr_ramp_ep - lr_sus_ep + 3, epoch - lr_ramp_ep - lr_sus_ep\n",
    "            phase = math.pi * decay_epoch_index / decay_total_epochs\n",
    "            lr = (lr_max - lr_min) * 0.5 * (1 + math.cos(phase)) + lr_min\n",
    "        return lr\n",
    "\n",
    "    if plot:  # Plot lr curve if plot is True\n",
    "        plt.figure(figsize=(10, 5))\n",
    "        plt.plot(np.arange(epochs), [lrfn(epoch) for epoch in np.arange(epochs)], marker='o')\n",
    "        plt.xlabel('epoch'); plt.ylabel('lr')\n",
    "        plt.title('LR Scheduler')\n",
    "        plt.show()\n",
    "\n",
    "    return keras.callbacks.LearningRateScheduler(lrfn, verbose=False)  # Create lr callback"
   ],
   "metadata": {
    "collapsed": false,
    "ExecuteTime": {
     "end_time": "2023-12-09T07:13:09.951221600Z",
     "start_time": "2023-12-09T07:13:09.892195900Z"
    }
   },
   "id": "ac3c4656"
  },
  {
   "cell_type": "code",
   "execution_count": 23,
   "outputs": [
    {
     "data": {
      "text/plain": "<Figure size 1000x500 with 1 Axes>",
      "image/png": "[encoded data removed]"
     },
     "metadata": {},
     "output_type": "display_data"
    }
   ],
   "source": [
    "_=get_lr_callback(CFG.batch_size*CFG.replicas, plot=True)"
   ],
   "metadata": {
    "collapsed": false,
    "ExecuteTime": {
     "end_time": "2023-12-09T07:13:10.045736Z",
     "start_time": "2023-12-09T07:13:09.905218700Z"
    }
   },
   "id": "022fc5da"
  },
  {
   "cell_type": "markdown",
   "source": [
    "# ☎️ | Callbacks\n",
    "\n",
    "The function below will gather all the training callbacks, such as `lr_scheduler`, `model_checkpoint`, `wandb_logger`, and etc."
   ],
   "metadata": {
    "collapsed": false
   },
   "id": "603bbf32"
  },
  {
   "cell_type": "code",
   "execution_count": 24,
   "outputs": [],
   "source": [
    "def get_callbacks(fold):\n",
    "    callbacks = []\n",
    "    lr_cb = get_lr_callback(CFG.batch_size*CFG.replicas)  # Get lr callback\n",
    "\n",
    "    ckpt_cb = keras.callbacks.ModelCheckpoint(f'{CFG.WORKING_PATH}/model/fold{fold}.keras',\n",
    "                                              monitor='val_auc',\n",
    "                                              save_best_only=True,\n",
    "                                              save_weights_only=False,\n",
    "                                              mode='max')  # Get Model checkpoint callback\n",
    "    callbacks.extend([lr_cb, ckpt_cb])  # Add lr and checkpoint callbacks\n",
    "\n",
    "    if CFG.wandb:  # If WandB is enabled\n",
    "        wb_cbs = get_wb_callbacks(fold+1)  # Get WandB callbacks\n",
    "        callbacks.extend(wb_cbs) \n",
    "        \n",
    "    return callbacks  # Return the list of callbacks"
   ],
   "metadata": {
    "collapsed": false,
    "ExecuteTime": {
     "end_time": "2023-12-09T07:13:10.065251700Z",
     "start_time": "2023-12-09T07:13:10.041736200Z"
    }
   },
   "id": "dd0880cd"
  },
  {
   "cell_type": "markdown",
   "source": [
    "# 🤖 | Modeling\n",
    "\n"
   ],
   "metadata": {
    "collapsed": false
   },
   "id": "2b5e6916"
  },
  {
   "cell_type": "markdown",
   "source": [
    "## KerasNLP Classifier\n",
    "\n",
    "<img src=\"https://keras.io/img/logo.png\" width=\"400\">\n",
    "\n",
    "The `KerasNLP` library provides comprehensive, ready-to-use implementations of popular NLP model architectures. It features a variety of pre-trained models including `Bert`, `Roberta`, `DebertaV3`, and more. In this notebook, we'll showcase the usage of `DebertaV3`. However, feel free to explore all available models in the [KerasNLP documentation](https://keras.io/api/keras_nlp/models/). Also for a deeper understanding of `KerasNLP`, refer to the informative [getting started guide](https://keras.io/guides/keras_nlp/getting_started/).\n",
    "\n",
    "Our approach involves using `keras_nlp.models.XXClassifier` to process each text and generatie logits. These logits are passed through a `softmax` function to produce the final output."
   ],
   "metadata": {
    "collapsed": false
   },
   "id": "83734099"
  },
  {
   "cell_type": "code",
   "execution_count": 25,
   "outputs": [],
   "source": [
    "def build_model():\n",
    "    ## BERT Preprocess Data\n",
    "    \n",
    "    classifier = keras_nlp.models.DebertaV3Classifier.from_preset(\n",
    "        CFG.preset,\n",
    "        preprocessor=None,\n",
    "        num_classes=1\n",
    "    )\n",
    "    \n",
    "    inputs = classifier.input\n",
    "    logits = classifier(inputs)\n",
    "        \n",
    "    # Compute final output\n",
    "    outputs = keras.layers.Activation(\"sigmoid\")(logits)\n",
    "    model = keras.Model(inputs, outputs)\n",
    "\n",
    "    # Compile the model with optimizer, loss, and metrics\n",
    "    model.compile(\n",
    "        optimizer=keras.optimizers.AdamW(5e-6),\n",
    "        loss=keras.losses.BinaryCrossentropy(label_smoothing=0.02),\n",
    "        metrics=[\n",
    "            keras.metrics.AUC(name=\"auc\"),\n",
    "        ],\n",
    "        jit_compile=True\n",
    "    )\n",
    "    model.distribute_strategy = strategy\n",
    "    return model"
   ],
   "metadata": {
    "collapsed": false,
    "ExecuteTime": {
     "end_time": "2023-12-09T07:13:10.156763Z",
     "start_time": "2023-12-09T07:13:10.052737Z"
    }
   },
   "id": "51d4b93f"
  },
  {
   "cell_type": "code",
   "execution_count": 26,
   "outputs": [
    {
     "name": "stderr",
     "output_type": "stream",
     "text": [
      "C:\\Users\\dinle\\AppData\\Local\\Programs\\Python\\Python39\\lib\\site-packages\\keras_core\\src\\trainers\\trainer.py:166: UserWarning: `jit_compile` is not yet enabled for the PyTorch backend. Proceeding with `jit_compile=False`.\n",
      "  warnings.warn(\n"
     ]
    }
   ],
   "source": [
    "model = build_model()"
   ],
   "metadata": {
    "collapsed": false,
    "ExecuteTime": {
     "end_time": "2023-12-09T07:13:11.940092400Z",
     "start_time": "2023-12-09T07:13:10.070253400Z"
    }
   },
   "id": "01acd351"
  },
  {
   "cell_type": "markdown",
   "source": [
    "### Model Summary"
   ],
   "metadata": {
    "collapsed": false
   },
   "id": "b94a578a"
  },
  {
   "cell_type": "code",
   "execution_count": 27,
   "outputs": [
    {
     "data": {
      "text/plain": "\u001B[1mModel: \"functional_1\"\u001B[0m\n",
      "text/html": "<pre style=\"white-space:pre;overflow-x:auto;line-height:normal;font-family:Menlo,'DejaVu Sans Mono',consolas,'Courier New',monospace\"><span style=\"font-weight: bold\">Model: \"functional_1\"</span>\n</pre>\n"
     },
     "metadata": {},
     "output_type": "display_data"
    },
    {
     "data": {
      "text/plain": "┏━━━━━━━━━━━━━━━━━━━━━┳━━━━━━━━━━━━━━━━━━━┳━━━━━━━━━┳━━━━━━━━━━━━━━━━━━━━━━┓\n┃\u001B[1m \u001B[0m\u001B[1mLayer (type)       \u001B[0m\u001B[1m \u001B[0m┃\u001B[1m \u001B[0m\u001B[1mOutput Shape     \u001B[0m\u001B[1m \u001B[0m┃\u001B[1m \u001B[0m\u001B[1mParam #\u001B[0m\u001B[1m \u001B[0m┃\u001B[1m \u001B[0m\u001B[1mConnected to        \u001B[0m\u001B[1m \u001B[0m┃\n┡━━━━━━━━━━━━━━━━━━━━━╇━━━━━━━━━━━━━━━━━━━╇━━━━━━━━━╇━━━━━━━━━━━━━━━━━━━━━━┩\n│ padding_mask        │ (\u001B[38;5;45mNone\u001B[0m, \u001B[38;5;45mNone\u001B[0m)      │       \u001B[38;5;34m0\u001B[0m │ -                    │\n│ (\u001B[38;5;33mInputLayer\u001B[0m)        │                   │         │                      │\n├─────────────────────┼───────────────────┼─────────┼──────────────────────┤\n│ token_ids           │ (\u001B[38;5;45mNone\u001B[0m, \u001B[38;5;45mNone\u001B[0m)      │       \u001B[38;5;34m0\u001B[0m │ -                    │\n│ (\u001B[38;5;33mInputLayer\u001B[0m)        │                   │         │                      │\n├─────────────────────┼───────────────────┼─────────┼──────────────────────┤\n│ deberta_v3_classif… │ (\u001B[38;5;45mNone\u001B[0m, \u001B[38;5;34m1\u001B[0m)         │ \u001B[38;5;34m141,89…\u001B[0m │ padding_mask[\u001B[38;5;34m0\u001B[0m][\u001B[38;5;34m0\u001B[0m],  │\n│ (\u001B[38;5;33mDebertaV3Classifi…\u001B[0m │                   │         │ token_ids[\u001B[38;5;34m0\u001B[0m][\u001B[38;5;34m0\u001B[0m]      │\n├─────────────────────┼───────────────────┼─────────┼──────────────────────┤\n│ activation          │ (\u001B[38;5;45mNone\u001B[0m, \u001B[38;5;34m1\u001B[0m)         │       \u001B[38;5;34m0\u001B[0m │ deberta_v3_classifi… │\n│ (\u001B[38;5;33mActivation\u001B[0m)        │                   │         │                      │\n└─────────────────────┴───────────────────┴─────────┴──────────────────────┘\n",
      "text/html": "<pre style=\"white-space:pre;overflow-x:auto;line-height:normal;font-family:Menlo,'DejaVu Sans Mono',consolas,'Courier New',monospace\">┏━━━━━━━━━━━━━━━━━━━━━┳━━━━━━━━━━━━━━━━━━━┳━━━━━━━━━┳━━━━━━━━━━━━━━━━━━━━━━┓\n┃<span style=\"font-weight: bold\"> Layer (type)        </span>┃<span style=\"font-weight: bold\"> Output Shape      </span>┃<span style=\"font-weight: bold\"> Param # </span>┃<span style=\"font-weight: bold\"> Connected to         </span>┃\n┡━━━━━━━━━━━━━━━━━━━━━╇━━━━━━━━━━━━━━━━━━━╇━━━━━━━━━╇━━━━━━━━━━━━━━━━━━━━━━┩\n│ padding_mask        │ (<span style=\"color: #00d7ff; text-decoration-color: #00d7ff\">None</span>, <span style=\"color: #00d7ff; text-decoration-color: #00d7ff\">None</span>)      │       <span style=\"color: #00af00; text-decoration-color: #00af00\">0</span> │ -                    │\n│ (<span style=\"color: #0087ff; text-decoration-color: #0087ff\">InputLayer</span>)        │                   │         │                      │\n├─────────────────────┼───────────────────┼─────────┼──────────────────────┤\n│ token_ids           │ (<span style=\"color: #00d7ff; text-decoration-color: #00d7ff\">None</span>, <span style=\"color: #00d7ff; text-decoration-color: #00d7ff\">None</span>)      │       <span style=\"color: #00af00; text-decoration-color: #00af00\">0</span> │ -                    │\n│ (<span style=\"color: #0087ff; text-decoration-color: #0087ff\">InputLayer</span>)        │                   │         │                      │\n├─────────────────────┼───────────────────┼─────────┼──────────────────────┤\n│ deberta_v3_classif… │ (<span style=\"color: #00d7ff; text-decoration-color: #00d7ff\">None</span>, <span style=\"color: #00af00; text-decoration-color: #00af00\">1</span>)         │ <span style=\"color: #00af00; text-decoration-color: #00af00\">141,89…</span> │ padding_mask[<span style=\"color: #00af00; text-decoration-color: #00af00\">0</span>][<span style=\"color: #00af00; text-decoration-color: #00af00\">0</span>],  │\n│ (<span style=\"color: #0087ff; text-decoration-color: #0087ff\">DebertaV3Classifi…</span> │                   │         │ token_ids[<span style=\"color: #00af00; text-decoration-color: #00af00\">0</span>][<span style=\"color: #00af00; text-decoration-color: #00af00\">0</span>]      │\n├─────────────────────┼───────────────────┼─────────┼──────────────────────┤\n│ activation          │ (<span style=\"color: #00d7ff; text-decoration-color: #00d7ff\">None</span>, <span style=\"color: #00af00; text-decoration-color: #00af00\">1</span>)         │       <span style=\"color: #00af00; text-decoration-color: #00af00\">0</span> │ deberta_v3_classifi… │\n│ (<span style=\"color: #0087ff; text-decoration-color: #0087ff\">Activation</span>)        │                   │         │                      │\n└─────────────────────┴───────────────────┴─────────┴──────────────────────┘\n</pre>\n"
     },
     "metadata": {},
     "output_type": "display_data"
    },
    {
     "data": {
      "text/plain": "\u001B[1m Total params: \u001B[0m\u001B[38;5;34m141,895,681\u001B[0m (541.29 MB)\n",
      "text/html": "<pre style=\"white-space:pre;overflow-x:auto;line-height:normal;font-family:Menlo,'DejaVu Sans Mono',consolas,'Courier New',monospace\"><span style=\"font-weight: bold\"> Total params: </span><span style=\"color: #00af00; text-decoration-color: #00af00\">141,895,681</span> (541.29 MB)\n</pre>\n"
     },
     "metadata": {},
     "output_type": "display_data"
    },
    {
     "data": {
      "text/plain": "\u001B[1m Trainable params: \u001B[0m\u001B[38;5;34m141,895,681\u001B[0m (541.29 MB)\n",
      "text/html": "<pre style=\"white-space:pre;overflow-x:auto;line-height:normal;font-family:Menlo,'DejaVu Sans Mono',consolas,'Courier New',monospace\"><span style=\"font-weight: bold\"> Trainable params: </span><span style=\"color: #00af00; text-decoration-color: #00af00\">141,895,681</span> (541.29 MB)\n</pre>\n"
     },
     "metadata": {},
     "output_type": "display_data"
    },
    {
     "data": {
      "text/plain": "\u001B[1m Non-trainable params: \u001B[0m\u001B[38;5;34m0\u001B[0m (0.00 B)\n",
      "text/html": "<pre style=\"white-space:pre;overflow-x:auto;line-height:normal;font-family:Menlo,'DejaVu Sans Mono',consolas,'Courier New',monospace\"><span style=\"font-weight: bold\"> Non-trainable params: </span><span style=\"color: #00af00; text-decoration-color: #00af00\">0</span> (0.00 B)\n</pre>\n"
     },
     "metadata": {},
     "output_type": "display_data"
    }
   ],
   "source": [
    "model.summary()"
   ],
   "metadata": {
    "collapsed": false,
    "ExecuteTime": {
     "end_time": "2023-12-09T07:13:12.043273100Z",
     "start_time": "2023-12-09T07:13:11.941092800Z"
    }
   },
   "id": "c07063b2"
  },
  {
   "cell_type": "markdown",
   "source": [
    "## Check Prediction"
   ],
   "metadata": {
    "collapsed": false
   },
   "id": "2f8a7b1b3351c807"
  },
  {
   "cell_type": "code",
   "execution_count": 28,
   "outputs": [],
   "source": [
    "def check_prediction(pred_prob, origin_df):\n",
    "    pred_label = (pred_prob > 0.5).astype(int).squeeze()\n",
    "    print(f\"Predict Shape: {pred_label.shape}\")\n",
    "    print(\"# Predictions\\n\")\n",
    "    for i in range(3):\n",
    "        row = test_df.iloc[i]\n",
    "        text  = row.text\n",
    "        pred_answer = CFG.label2name[pred_label[i]]\n",
    "        print(f\"❓ Text {i+1}:\\n{text}\\n\")\n",
    "        print(f\"🤖 Predicted: {pred_answer}\\n\")\n",
    "        print(\"-\"*90, \"\\n\")\n",
    "    sub_df = origin_df.copy()\n",
    "\n",
    "    # Add the formatted predictions to the submission DataFrame\n",
    "    sub_df[\"pred_prob\"] = pred_prob.squeeze()\n",
    "    sub_df[\"pred_label\"] = pred_label\n",
    "    sub_df[\"correct\"] = sub_df[\"pred_label\"] == sub_df[\"label\"]\n",
    "    \n",
    "    # Display the first 2 rows of the submission DataFrame\n",
    "    sub_df.head(2)\n",
    "    \n",
    "    # Display Acc\n",
    "    total_cor = sub_df[\"correct\"].sum()\n",
    "    print(f'Total Correct: {total_cor} / {len(sub_df)}')\n",
    "    print(f'Acc: {(total_cor * 100) / len(sub_df):.2f} %')\n",
    "    \n",
    "    return sub_df"
   ],
   "metadata": {
    "collapsed": false,
    "ExecuteTime": {
     "end_time": "2023-12-09T07:13:12.067764200Z",
     "start_time": "2023-12-09T07:13:11.974212700Z"
    }
   },
   "id": "f7fd678bcbf846b0"
  },
  {
   "cell_type": "markdown",
   "source": [
    "### Prediction Without Fine-Tuning"
   ],
   "metadata": {
    "collapsed": false
   },
   "id": "be7479c41eba5fa9"
  },
  {
   "cell_type": "code",
   "execution_count": 29,
   "outputs": [
    {
     "name": "stdout",
     "output_type": "stream",
     "text": [
      "\u001B[1m100/100\u001B[0m \u001B[32m━━━━━━━━━━━━━━━━━━━━\u001B[0m\u001B[37m\u001B[0m \u001B[1m12s\u001B[0m 96ms/step\n"
     ]
    }
   ],
   "source": [
    "# Get the test dataset\n",
    "test_ds = get_test_dataset(test_df)\n",
    "\n",
    "# Generate predictions using the model\n",
    "pred_result_wo_ft = model.predict(\n",
    "    test_ds,\n",
    "    batch_size=min(CFG.batch_size * CFG.replicas, len(test_df)),  # Set batch size\n",
    "    verbose=1\n",
    ")\n",
    "\n",
    "pred_result_wo_ft = pred_result_wo_ft.squeeze()"
   ],
   "metadata": {
    "collapsed": false,
    "ExecuteTime": {
     "end_time": "2023-12-09T07:13:29.088671900Z",
     "start_time": "2023-12-09T07:13:11.987211200Z"
    }
   },
   "id": "1ef7883ef344c043"
  },
  {
   "cell_type": "markdown",
   "source": [
    "### Check Prediction without fine-tuning & save"
   ],
   "metadata": {
    "collapsed": false
   },
   "id": "5ee90f4fe94208ac"
  },
  {
   "cell_type": "code",
   "execution_count": 30,
   "outputs": [
    {
     "name": "stdout",
     "output_type": "stream",
     "text": [
      "Predict Shape: (1000,)\n",
      "# Predictions\n",
      "\n",
      "❓ Text 1:\n",
      "Using cars creates admissions that damages our ozone layer. Communities around the world know this and are doing something to relax the damage being done. They are doing temporary bans on cars along side with other cities, and trying to make cars with much lower emissions.\n",
      "\n",
      "Using cars in major cities makes it so noisy but also makes it very bad for the environment, and ourselfs. When you live in a major city like for example New York City, people choose to walk rather than drive cars. Not only is this healthier for us but it is much more healthy for the rest of the environment.\n",
      "\n",
      "In suburban Germany there is a town that has banned cars from the street completely and has most people riding bikes and walking. Most of these people dont really car so much about having to walk or ride a bike. In Colombia they had one day where they banned cars and in their city of 7 million people, most people walked or rode bikes. Germany and Paraguay arent the only nationd that are taking a part of this, other nations like France, and other eurpoean countries are joining in. President Obama has also pushed for cars with lower emissions and higher gas mileage. This will help save people money if they dont really have it, and help save the amount of gas used and emissions caused.\n",
      "\n",
      "With all this in mind it would be useful to lower gas emissions or even to stop using cars in general. It will be healthy for us and the environent. We dont even have to get rid over cars completly either, we can just switch over to electric. Theses are easy solutions to our problem, and also giving us and advantage in the world we live in.    \n",
      "\n",
      "🤖 Predicted: fake\n",
      "\n",
      "------------------------------------------------------------------------------------------ \n",
      "\n",
      "❓ Text 2:\n",
      "I believe the author article can be supported with his/her study and details. In my option I think that trying to explore further into the idea of entering Venus's atmosphere might be dangerous; however, it could lead to a whole new story and new exploration. Taking the time to figure a way to land on Venus safely will take time, the technology and spaceship that would be used to enter Venus atmosphere will need to be excellant, and it might take risk on peoples lives trying to enter and explore a whole new planet.\n",
      "\n",
      "Scientist often referr Earth's \"Twin\" as Venus because it is the closest plalnet to Earth in terms of density and size, quoted in paragraph 2. If Venus is very similar to Earth, it could mean that life could live on Venus such as how life lives on Earth to this day. \"Long ago, Venus was probably cover largely wit oceans and could have supported various forms of life, just like Earth\" (Paragraph 4). This shows that scientist have perdicted theories over Venus and are still currently trying to solve and prove their theory. Finding a way to get to Venus is the problem we have here on Earth. In the text it states \"Each previous mission was unmanned, and for good reason, since no spacecraft survived the landing for more than a few hours\" (paragraph 2). This shows that Venus is very different than the Planet we live on and it will take time to create a space shuttle that is well fit to enter Venus's atmospere.\n",
      "\n",
      "The technology and spaceshuttles have not been made or designed to enter an atmosphere so powerful yet. \"A thick atmosphere of almost 97 percent carbon dioxide blankets Venus\" (paragraph 3). The information that scientists are finding on Venus is amazing and will help other scientist find ways to design a spaceshuttle to get through the blanket of Venus. Venus has a very hot surface level of 90 times greater than the surface level than the Earth. We need to discover a way to allow our spaceships to under go the high pressure that it would have to go through to enter Venus.\n",
      "\n",
      "NASA has one issue that they struggle on besides buildling the spaceships that they would want to send to Venus. That struggle is sending a human to Venus, and not knowing what will happen on the trip there. Is it worth risking a life to explore or not sending anyone and forget about this whole experiment? If I had to pick, my answer would be Yes. I believe that finding a new Planet that life could live on just like Earth could continue the species of mankind. No man has under gone more pressure than the Earth's atmosphere, and Venus atmosphere could destroy anything that we create that enters its atmosphere including a human if we sent them.\n",
      "\n",
      "In conclusin, I believe it is worth continuing to study and figure a way to have a spaceshuttle land in the planet of Venus. Eventually when it is safe and we have solved how to create a safe space shuttle that a human can survive and enter Venus. Being able to explore Venus and find ways to live on the planet could start a new way of life for mankind. \n",
      "\n",
      "🤖 Predicted: fake\n",
      "\n",
      "------------------------------------------------------------------------------------------ \n",
      "\n",
      "❓ Text 3:\n",
      "Ancient civilizations like Rome, Egypt, and Greece have all had something in common that allowed them to survive through the ages and leave their imprint in history. Education and learning has been at the base of every society as it's important to always be progressing; even education itself has progressed through out time. Great thinkers like Plato and Arestotle influenced the discussions of many and continue to do so; however, knowledge is more accesible now and is regarded as a necessity for the masses in most countries. A way that schools are reaching more students is by taking advantage of technology. Online classes and video conferenicng has become increasingly popular. Although it's dangerous to rely so heavily on technology, online school and video conferenicng is a positive thing as many adults who wish to seek higher education ,but are too busy, use this method, people with anxiety issues can learn from the safety of their homes, and it can even be used as a backup plan for when there is a hinderance in the physical school.\n",
      "\n",
      "Most people are engulfed by their day to day life and responsibilties like their jobs and families. By taking advanatge of online courses and video conferencing, these adults are able to fufill their duties as well as work torwards their goals! A common demographic that uses this method is teachers! While most attend college for four years and get certified in order to enter the work force faster, some decide to persue a higher degree such as a masters or even a Phd. However, not everyone has that luxury. A higher degree typically means higher pay, which incentivizes these proffesionals to enroll in classes. Even more important are classes that work around their schedule. All while working for a better future such as the Physics, AP US history, and other teachers here at Generic_School.\n",
      "\n",
      "While conserving time and energy is important, conserving mental health is just as critical. There is a high statistic of students that suffer from anxiety, depression, and bullying. These conditions can put a damper on grades and social life, not to mention self esteem. These issues are not new, except now students have an alternative. Mental health has been increasinly gaining traction in schools as they try to make the students feel safer, although it's not always effective. A well known youtuber named Antonio Garza has talked about her struggles in high school, such as a lack of motivation to do anything, usually asscociated with depression, and the anxiety of being in a room where they are being judged. By choosing to leave daily public high school in favor of online courses, she has been able to feel more liberated and reduced their anxiety that comes as a result of large groups. Many teenagers and adults alike can relate to these problems personally.\n",
      "\n",
      "Traditional school that takes place is a physical building is preferred by many, but what happens when the physical building is not available or being avoided? Covid-19, better known as the Corona Virus, has paralyzed the world, specially east asian countries. School children are being told not to come to school for their own safety. The World Health organization cannot be sure of when this ordeal will be over; thus, immobilizing the education system for an unknown period of time. Thankfully, there are many apps and programs that schools have been using to keep the lessons afloat. Video conferencing and virtual worksheets have made this time of distress feel relatively normal to school children all throughout the affected regions, until it can actually go back to normal.\n",
      "\n",
      "From the distant times of Plato and Arestotle to the common era, learning has always been placed on a pedestal. New forms and methods of education are always being born. A popular option being online classes and conferencing which have already made a difference for adults and teenagers alike in time management, accomodation for mental health, as well as a rampant illness right now. While technology is a good thing, it's important to acknowledge too much of anything can be intoxicating. Overall, school systems and people everywhere can benefit from these ingenious programs! \n",
      "\n",
      "🤖 Predicted: fake\n",
      "\n",
      "------------------------------------------------------------------------------------------ \n",
      "\n",
      "Total Correct: 500 / 1000\n",
      "Acc: 50.00 %\n"
     ]
    }
   ],
   "source": [
    "submission_WOFT = check_prediction(pred_result_wo_ft, test_df)\n",
    "submission_WOFT.to_csv(f'{CFG.WORKING_PATH}/submission/submission_WOFT.csv',index=False)"
   ],
   "metadata": {
    "collapsed": false,
    "ExecuteTime": {
     "end_time": "2023-12-09T07:13:29.136642300Z",
     "start_time": "2023-12-09T07:13:29.078628700Z"
    }
   },
   "id": "f6f0a5eecf103644"
  },
  {
   "cell_type": "markdown",
   "source": [],
   "metadata": {
    "collapsed": false
   },
   "id": "99af79a2fac3fc4d"
  },
  {
   "cell_type": "markdown",
   "id": "55060b6b",
   "metadata": {
    "papermill": {
     "duration": 0.026555,
     "end_time": "2023-11-03T05:11:41.616770",
     "exception": false,
     "start_time": "2023-11-03T05:11:41.590215",
     "status": "completed"
    },
    "tags": []
   },
   "source": [
    "# 🚂 | Training"
   ]
  },
  {
   "cell_type": "code",
   "execution_count": 31,
   "id": "469a43e1",
   "metadata": {
    "_kg_hide-input": true,
    "execution": {
     "iopub.execute_input": "2023-11-03T05:11:41.671851Z",
     "iopub.status.busy": "2023-11-03T05:11:41.671210Z",
     "iopub.status.idle": "2023-11-03T09:51:48.644323Z",
     "shell.execute_reply": "2023-11-03T09:51:48.643156Z"
    },
    "papermill": {
     "duration": 16807.002657,
     "end_time": "2023-11-03T09:51:48.646592",
     "exception": false,
     "start_time": "2023-11-03T05:11:41.643935",
     "status": "completed"
    },
    "tags": [],
    "ExecuteTime": {
     "end_time": "2023-12-09T07:55:39.024538600Z",
     "start_time": "2023-12-09T07:13:29.140643200Z"
    }
   },
   "outputs": [
    {
     "name": "stderr",
     "output_type": "stream",
     "text": [
      "\u001B[34m\u001B[1mwandb\u001B[0m: Currently logged in as: \u001B[33mdinleo11\u001B[0m. Use \u001B[1m`wandb login --relogin`\u001B[0m to force relogin\n"
     ]
    },
    {
     "data": {
      "text/plain": "<IPython.core.display.HTML object>",
      "text/html": "wandb version 0.16.1 is available!  To upgrade, please run:\n $ pip install wandb --upgrade"
     },
     "metadata": {},
     "output_type": "display_data"
    },
    {
     "data": {
      "text/plain": "<IPython.core.display.HTML object>",
      "text/html": "Tracking run with wandb version 0.15.12"
     },
     "metadata": {},
     "output_type": "display_data"
    },
    {
     "data": {
      "text/plain": "<IPython.core.display.HTML object>",
      "text/html": "Run data is saved locally in <code>C:\\Users\\dinle\\Code\\AI\\Kaggle\\llm-detect-ai-generated-text\\wandb\\run-20231209_161329-eprw019q</code>"
     },
     "metadata": {},
     "output_type": "display_data"
    },
    {
     "data": {
      "text/plain": "<IPython.core.display.HTML object>",
      "text/html": "Syncing run <strong><a href='https://wandb.ai/dinleo11/llm-fake-text/runs/eprw019q' target=\"_blank\">fold-1|max_seq-200|model-deberta_v3_small_en</a></strong> to <a href='https://wandb.ai/dinleo11/llm-fake-text' target=\"_blank\">Weights & Biases</a> (<a href='https://wandb.me/run' target=\"_blank\">docs</a>)<br/>"
     },
     "metadata": {},
     "output_type": "display_data"
    },
    {
     "data": {
      "text/plain": "<IPython.core.display.HTML object>",
      "text/html": " View project at <a href='https://wandb.ai/dinleo11/llm-fake-text' target=\"_blank\">https://wandb.ai/dinleo11/llm-fake-text</a>"
     },
     "metadata": {},
     "output_type": "display_data"
    },
    {
     "data": {
      "text/plain": "<IPython.core.display.HTML object>",
      "text/html": " View run at <a href='https://wandb.ai/dinleo11/llm-fake-text/runs/eprw019q' target=\"_blank\">https://wandb.ai/dinleo11/llm-fake-text/runs/eprw019q</a>"
     },
     "metadata": {},
     "output_type": "display_data"
    },
    {
     "name": "stdout",
     "output_type": "stream",
     "text": [
      "##################################################\n",
      "\tFold: 1 | Model: deberta_v3_small_en\n",
      "\tBatch Size: 10 | Scheduler: cosine\n",
      "\tNum Train: 1600 | Num Valid: 400\n",
      "##################################################\n"
     ]
    },
    {
     "name": "stderr",
     "output_type": "stream",
     "text": [
      "C:\\Users\\dinle\\AppData\\Local\\Programs\\Python\\Python39\\lib\\site-packages\\keras_core\\src\\trainers\\trainer.py:166: UserWarning: `jit_compile` is not yet enabled for the PyTorch backend. Proceeding with `jit_compile=False`.\n",
      "  warnings.warn(\n"
     ]
    },
    {
     "name": "stdout",
     "output_type": "stream",
     "text": [
      "Epoch 1/5\n",
      "\u001B[1m160/160\u001B[0m \u001B[32m━━━━━━━━━━━━━━━━━━━━\u001B[0m\u001B[37m\u001B[0m \u001B[1m0s\u001B[0m 3s/step - auc: 0.5252 - loss: 0.6920"
     ]
    },
    {
     "name": "stderr",
     "output_type": "stream",
     "text": [
      "\u001B[34m\u001B[1mwandb\u001B[0m: \u001B[32m\u001B[41mERROR\u001B[0m Unable to log learning rate.\n"
     ]
    },
    {
     "name": "stdout",
     "output_type": "stream",
     "text": [
      "\u001B[1m160/160\u001B[0m \u001B[32m━━━━━━━━━━━━━━━━━━━━\u001B[0m\u001B[37m\u001B[0m \u001B[1m499s\u001B[0m 3s/step - auc: 0.5253 - loss: 0.6920 - val_auc: 0.9872 - val_loss: 0.6867 - learning_rate: 6.0000e-07\n",
      "Epoch 2/5\n",
      "\u001B[1m160/160\u001B[0m \u001B[32m━━━━━━━━━━━━━━━━━━━━\u001B[0m\u001B[37m\u001B[0m \u001B[1m507s\u001B[0m 3s/step - auc: 0.8554 - loss: 0.4979 - val_auc: 0.9931 - val_loss: 0.2149 - learning_rate: 5.0000e-06\n",
      "Epoch 3/5\n",
      "\u001B[1m160/160\u001B[0m \u001B[32m━━━━━━━━━━━━━━━━━━━━\u001B[0m\u001B[37m\u001B[0m \u001B[1m493s\u001B[0m 3s/step - auc: 1.0000 - loss: 0.0634 - val_auc: 0.9997 - val_loss: 0.1118 - learning_rate: 4.9199e-06\n",
      "Epoch 4/5\n",
      "\u001B[1m160/160\u001B[0m \u001B[32m━━━━━━━━━━━━━━━━━━━━\u001B[0m\u001B[37m\u001B[0m \u001B[1m510s\u001B[0m 3s/step - auc: 1.0000 - loss: 0.0600 - val_auc: 0.9973 - val_loss: 0.1182 - learning_rate: 4.6852e-06\n",
      "Epoch 5/5\n",
      "\u001B[1m160/160\u001B[0m \u001B[32m━━━━━━━━━━━━━━━━━━━━\u001B[0m\u001B[37m\u001B[0m \u001B[1m508s\u001B[0m 3s/step - auc: 1.0000 - loss: 0.0567 - val_auc: 0.9998 - val_loss: 0.1079 - learning_rate: 4.3117e-06\n",
      "\n",
      "================= FOLD 1 RESULTS =================\n",
      ">>>> BEST Loss  : 0.108\n",
      ">>>> BEST AUC   : 1.000\n",
      ">>>> BEST Epoch : 4\n",
      "==================================================\n"
     ]
    },
    {
     "data": {
      "text/plain": "<IPython.core.display.HTML object>",
      "text/html": "Waiting for W&B process to finish... <strong style=\"color:green\">(success).</strong>"
     },
     "metadata": {},
     "output_type": "display_data"
    },
    {
     "data": {
      "text/plain": "VBox(children=(Label(value='2.955 MB of 2.955 MB uploaded (0.000 MB deduped)\\r'), FloatProgress(value=1.0, max…",
      "application/vnd.jupyter.widget-view+json": {
       "version_major": 2,
       "version_minor": 0,
       "model_id": "9c98021ccc1b4d288ee1b9fce34bc5ed"
      }
     },
     "metadata": {},
     "output_type": "display_data"
    },
    {
     "data": {
      "text/plain": "<IPython.core.display.HTML object>",
      "text/html": "<style>\n    table.wandb td:nth-child(1) { padding: 0 10px; text-align: left ; width: auto;} td:nth-child(2) {text-align: left ; width: 100%}\n    .wandb-row { display: flex; flex-direction: row; flex-wrap: wrap; justify-content: flex-start; width: 100% }\n    .wandb-col { display: flex; flex-direction: column; flex-basis: 100%; flex: 1; padding: 10px; }\n    </style>\n<div class=\"wandb-row\"><div class=\"wandb-col\"><h3>Run history:</h3><br/><table class=\"wandb\"><tr><td>best_auc</td><td>▁</td></tr><tr><td>best_epoch</td><td>▁</td></tr><tr><td>best_loss</td><td>▁</td></tr><tr><td>epoch/auc</td><td>▁████</td></tr><tr><td>epoch/epoch</td><td>▁▃▅▆█</td></tr><tr><td>epoch/learning_rate</td><td>▁██▇▇</td></tr><tr><td>epoch/loss</td><td>█▄▁▁▁</td></tr><tr><td>epoch/val_auc</td><td>▁▄█▇█</td></tr><tr><td>epoch/val_loss</td><td>█▂▁▁▁</td></tr></table><br/></div><div class=\"wandb-col\"><h3>Run summary:</h3><br/><table class=\"wandb\"><tr><td>best_auc</td><td>0.99985</td></tr><tr><td>best_epoch</td><td>4</td></tr><tr><td>best_loss</td><td>0.10787</td></tr><tr><td>epoch/auc</td><td>1.0</td></tr><tr><td>epoch/epoch</td><td>4</td></tr><tr><td>epoch/learning_rate</td><td>0.0</td></tr><tr><td>epoch/loss</td><td>0.05652</td></tr><tr><td>epoch/val_auc</td><td>0.99985</td></tr><tr><td>epoch/val_loss</td><td>0.10787</td></tr></table><br/></div></div>"
     },
     "metadata": {},
     "output_type": "display_data"
    },
    {
     "data": {
      "text/plain": "<IPython.core.display.HTML object>",
      "text/html": " View run <strong style=\"color:#cdcd00\">fold-1|max_seq-200|model-deberta_v3_small_en</strong> at: <a href='https://wandb.ai/dinleo11/llm-fake-text/runs/eprw019q' target=\"_blank\">https://wandb.ai/dinleo11/llm-fake-text/runs/eprw019q</a><br/> View job at <a href='https://wandb.ai/dinleo11/llm-fake-text/jobs/QXJ0aWZhY3RDb2xsZWN0aW9uOjEyMjEyNjM4MQ==/version_details/v0' target=\"_blank\">https://wandb.ai/dinleo11/llm-fake-text/jobs/QXJ0aWZhY3RDb2xsZWN0aW9uOjEyMjEyNjM4MQ==/version_details/v0</a><br/>Synced 6 W&B file(s), 0 media file(s), 3 artifact file(s) and 1 other file(s)"
     },
     "metadata": {},
     "output_type": "display_data"
    },
    {
     "data": {
      "text/plain": "<IPython.core.display.HTML object>",
      "text/html": "Find logs at: <code>.\\wandb\\run-20231209_161329-eprw019q\\logs</code>"
     },
     "metadata": {},
     "output_type": "display_data"
    },
    {
     "name": "stdout",
     "output_type": "stream",
     "text": [
      "\n",
      "\n"
     ]
    }
   ],
   "source": [
    "for fold in CFG.selected_folds:\n",
    "    # Initialize Weights and Biases if enabled\n",
    "    if CFG.wandb:\n",
    "        run = wandb_init(fold + 1)\n",
    "\n",
    "    # Get train and validation datasets\n",
    "    (tr_ds, tr_df), (vl_ds, vl_df) = get_train_datasets(fold)\n",
    "    \n",
    "    # Get callback functions for training\n",
    "    callbacks = get_callbacks(fold + 1)\n",
    "\n",
    "    # Print training information\n",
    "    print('#' * 50)\n",
    "    print(f'\\tFold: {fold + 1} | Model: {CFG.preset}\\n\\tBatch Size: {CFG.batch_size * CFG.replicas} | Scheduler: {CFG.scheduler}')\n",
    "    print(f'\\tNum Train: {len(tr_df)} | Num Valid: {len(vl_df)}')\n",
    "    print('#' * 50)\n",
    "    \n",
    "    # Clear TensorFlow session and build the model within the strategy scope\n",
    "    K.clear_session()\n",
    "    with strategy.scope():\n",
    "        model = build_model()\n",
    "\n",
    "    # Start training the model\n",
    "    history = model.fit(\n",
    "        tr_ds,\n",
    "        epochs=CFG.epochs,\n",
    "        validation_data=vl_ds,\n",
    "        callbacks=callbacks,\n",
    "        steps_per_epoch=int(len(tr_df) / CFG.batch_size / CFG.replicas),\n",
    "    )\n",
    "    \n",
    "    # Find the epoch with the best validation accuracy\n",
    "    best_epoch = np.argmax(model.history.history['val_auc'])\n",
    "    best_auc = model.history.history['val_auc'][best_epoch]\n",
    "    best_loss = model.history.history['val_loss'][best_epoch]\n",
    "\n",
    "    # Print and display best results\n",
    "    print(f'\\n{\"=\" * 17} FOLD {fold + 1} RESULTS {\"=\" * 17}')\n",
    "    print(f'>>>> BEST Loss  : {best_loss:.3f}\\n>>>> BEST AUC   : {best_auc:.3f}\\n>>>> BEST Epoch : {best_epoch}')\n",
    "    print('=' * 50)\n",
    "    \n",
    "    # Log best result on Weights and Biases (wandb) if enabled\n",
    "    if CFG.wandb:\n",
    "        log_wandb()  # Log results\n",
    "        wandb.run.finish()  # Finish the run\n",
    "#         display(ipd.IFrame(run.url, width=1080, height=720)) # show wandb dashboard\n",
    "    print(\"\\n\\n\")"
   ]
  },
  {
   "attachments": {
    "4164c26d-d907-45db-9df9-93d90713d784.png": {
     "image/png": "[encoded data removed]"
    }
   },
   "cell_type": "markdown",
   "id": "e87dd1c7",
   "metadata": {
    "papermill": {
     "duration": 2.798692,
     "end_time": "2023-11-03T09:51:54.259736",
     "exception": false,
     "start_time": "2023-11-03T09:51:51.461044",
     "status": "completed"
    },
    "tags": []
   },
   "source": [
    "## Training Log\n",
    "### [Click Here ➡️](https://wandb.ai/awsaf49/llm-science-exam-public) to check all the training logs in **WandB** dashboard.\n",
    "\n",
    "![image.png](attachment:4164c26d-d907-45db-9df9-93d90713d784.png)"
   ]
  },
  {
   "cell_type": "markdown",
   "id": "35349273",
   "metadata": {
    "papermill": {
     "duration": 2.856955,
     "end_time": "2023-11-03T09:51:59.893529",
     "exception": false,
     "start_time": "2023-11-03T09:51:57.036574",
     "status": "completed"
    },
    "tags": []
   },
   "source": [
    "# 🧪 | Prediction"
   ]
  },
  {
   "cell_type": "code",
   "execution_count": 32,
   "id": "d4e45e66",
   "metadata": {
    "execution": {
     "iopub.execute_input": "2023-11-03T09:52:05.346057Z",
     "iopub.status.busy": "2023-11-03T09:52:05.345691Z",
     "iopub.status.idle": "2023-11-03T09:54:16.249858Z",
     "shell.execute_reply": "2023-11-03T09:54:16.248920Z"
    },
    "papermill": {
     "duration": 135.369704,
     "end_time": "2023-11-03T09:54:17.942098",
     "exception": false,
     "start_time": "2023-11-03T09:52:02.572394",
     "status": "completed"
    },
    "tags": [],
    "ExecuteTime": {
     "end_time": "2023-12-09T07:56:34.602969800Z",
     "start_time": "2023-12-09T07:55:39.025538600Z"
    }
   },
   "outputs": [
    {
     "name": "stdout",
     "output_type": "stream",
     "text": [
      "\u001B[1m100/100\u001B[0m \u001B[32m━━━━━━━━━━━━━━━━━━━━\u001B[0m\u001B[37m\u001B[0m \u001B[1m56s\u001B[0m 551ms/step\n"
     ]
    }
   ],
   "source": [
    "# Make predictions using the trained model on last validation data\n",
    "pred_result = model.predict(\n",
    "    test_ds,\n",
    "    batch_size=min(CFG.batch_size * CFG.replicas, len(test_df)), # max batch size = valid size\n",
    "    verbose=1\n",
    ")"
   ]
  },
  {
   "cell_type": "markdown",
   "source": [
    "### Check Prediction"
   ],
   "metadata": {
    "collapsed": false
   },
   "id": "32a39916c81f4532"
  },
  {
   "cell_type": "code",
   "execution_count": 33,
   "outputs": [
    {
     "name": "stdout",
     "output_type": "stream",
     "text": [
      "Predict Shape: (1000,)\n",
      "# Predictions\n",
      "\n",
      "❓ Text 1:\n",
      "Using cars creates admissions that damages our ozone layer. Communities around the world know this and are doing something to relax the damage being done. They are doing temporary bans on cars along side with other cities, and trying to make cars with much lower emissions.\n",
      "\n",
      "Using cars in major cities makes it so noisy but also makes it very bad for the environment, and ourselfs. When you live in a major city like for example New York City, people choose to walk rather than drive cars. Not only is this healthier for us but it is much more healthy for the rest of the environment.\n",
      "\n",
      "In suburban Germany there is a town that has banned cars from the street completely and has most people riding bikes and walking. Most of these people dont really car so much about having to walk or ride a bike. In Colombia they had one day where they banned cars and in their city of 7 million people, most people walked or rode bikes. Germany and Paraguay arent the only nationd that are taking a part of this, other nations like France, and other eurpoean countries are joining in. President Obama has also pushed for cars with lower emissions and higher gas mileage. This will help save people money if they dont really have it, and help save the amount of gas used and emissions caused.\n",
      "\n",
      "With all this in mind it would be useful to lower gas emissions or even to stop using cars in general. It will be healthy for us and the environent. We dont even have to get rid over cars completly either, we can just switch over to electric. Theses are easy solutions to our problem, and also giving us and advantage in the world we live in.    \n",
      "\n",
      "🤖 Predicted: real\n",
      "\n",
      "------------------------------------------------------------------------------------------ \n",
      "\n",
      "❓ Text 2:\n",
      "I believe the author article can be supported with his/her study and details. In my option I think that trying to explore further into the idea of entering Venus's atmosphere might be dangerous; however, it could lead to a whole new story and new exploration. Taking the time to figure a way to land on Venus safely will take time, the technology and spaceship that would be used to enter Venus atmosphere will need to be excellant, and it might take risk on peoples lives trying to enter and explore a whole new planet.\n",
      "\n",
      "Scientist often referr Earth's \"Twin\" as Venus because it is the closest plalnet to Earth in terms of density and size, quoted in paragraph 2. If Venus is very similar to Earth, it could mean that life could live on Venus such as how life lives on Earth to this day. \"Long ago, Venus was probably cover largely wit oceans and could have supported various forms of life, just like Earth\" (Paragraph 4). This shows that scientist have perdicted theories over Venus and are still currently trying to solve and prove their theory. Finding a way to get to Venus is the problem we have here on Earth. In the text it states \"Each previous mission was unmanned, and for good reason, since no spacecraft survived the landing for more than a few hours\" (paragraph 2). This shows that Venus is very different than the Planet we live on and it will take time to create a space shuttle that is well fit to enter Venus's atmospere.\n",
      "\n",
      "The technology and spaceshuttles have not been made or designed to enter an atmosphere so powerful yet. \"A thick atmosphere of almost 97 percent carbon dioxide blankets Venus\" (paragraph 3). The information that scientists are finding on Venus is amazing and will help other scientist find ways to design a spaceshuttle to get through the blanket of Venus. Venus has a very hot surface level of 90 times greater than the surface level than the Earth. We need to discover a way to allow our spaceships to under go the high pressure that it would have to go through to enter Venus.\n",
      "\n",
      "NASA has one issue that they struggle on besides buildling the spaceships that they would want to send to Venus. That struggle is sending a human to Venus, and not knowing what will happen on the trip there. Is it worth risking a life to explore or not sending anyone and forget about this whole experiment? If I had to pick, my answer would be Yes. I believe that finding a new Planet that life could live on just like Earth could continue the species of mankind. No man has under gone more pressure than the Earth's atmosphere, and Venus atmosphere could destroy anything that we create that enters its atmosphere including a human if we sent them.\n",
      "\n",
      "In conclusin, I believe it is worth continuing to study and figure a way to have a spaceshuttle land in the planet of Venus. Eventually when it is safe and we have solved how to create a safe space shuttle that a human can survive and enter Venus. Being able to explore Venus and find ways to live on the planet could start a new way of life for mankind. \n",
      "\n",
      "🤖 Predicted: real\n",
      "\n",
      "------------------------------------------------------------------------------------------ \n",
      "\n",
      "❓ Text 3:\n",
      "Ancient civilizations like Rome, Egypt, and Greece have all had something in common that allowed them to survive through the ages and leave their imprint in history. Education and learning has been at the base of every society as it's important to always be progressing; even education itself has progressed through out time. Great thinkers like Plato and Arestotle influenced the discussions of many and continue to do so; however, knowledge is more accesible now and is regarded as a necessity for the masses in most countries. A way that schools are reaching more students is by taking advantage of technology. Online classes and video conferenicng has become increasingly popular. Although it's dangerous to rely so heavily on technology, online school and video conferenicng is a positive thing as many adults who wish to seek higher education ,but are too busy, use this method, people with anxiety issues can learn from the safety of their homes, and it can even be used as a backup plan for when there is a hinderance in the physical school.\n",
      "\n",
      "Most people are engulfed by their day to day life and responsibilties like their jobs and families. By taking advanatge of online courses and video conferencing, these adults are able to fufill their duties as well as work torwards their goals! A common demographic that uses this method is teachers! While most attend college for four years and get certified in order to enter the work force faster, some decide to persue a higher degree such as a masters or even a Phd. However, not everyone has that luxury. A higher degree typically means higher pay, which incentivizes these proffesionals to enroll in classes. Even more important are classes that work around their schedule. All while working for a better future such as the Physics, AP US history, and other teachers here at Generic_School.\n",
      "\n",
      "While conserving time and energy is important, conserving mental health is just as critical. There is a high statistic of students that suffer from anxiety, depression, and bullying. These conditions can put a damper on grades and social life, not to mention self esteem. These issues are not new, except now students have an alternative. Mental health has been increasinly gaining traction in schools as they try to make the students feel safer, although it's not always effective. A well known youtuber named Antonio Garza has talked about her struggles in high school, such as a lack of motivation to do anything, usually asscociated with depression, and the anxiety of being in a room where they are being judged. By choosing to leave daily public high school in favor of online courses, she has been able to feel more liberated and reduced their anxiety that comes as a result of large groups. Many teenagers and adults alike can relate to these problems personally.\n",
      "\n",
      "Traditional school that takes place is a physical building is preferred by many, but what happens when the physical building is not available or being avoided? Covid-19, better known as the Corona Virus, has paralyzed the world, specially east asian countries. School children are being told not to come to school for their own safety. The World Health organization cannot be sure of when this ordeal will be over; thus, immobilizing the education system for an unknown period of time. Thankfully, there are many apps and programs that schools have been using to keep the lessons afloat. Video conferencing and virtual worksheets have made this time of distress feel relatively normal to school children all throughout the affected regions, until it can actually go back to normal.\n",
      "\n",
      "From the distant times of Plato and Arestotle to the common era, learning has always been placed on a pedestal. New forms and methods of education are always being born. A popular option being online classes and conferencing which have already made a difference for adults and teenagers alike in time management, accomodation for mental health, as well as a rampant illness right now. While technology is a good thing, it's important to acknowledge too much of anything can be intoxicating. Overall, school systems and people everywhere can benefit from these ingenious programs! \n",
      "\n",
      "🤖 Predicted: real\n",
      "\n",
      "------------------------------------------------------------------------------------------ \n",
      "\n",
      "Total Correct: 982 / 1000\n",
      "Acc: 98.20 %\n"
     ]
    }
   ],
   "source": [
    "submission = check_prediction(pred_result, test_df)\n",
    "submission.to_csv(f'{CFG.WORKING_PATH}/submission/submission.csv',index=False)"
   ],
   "metadata": {
    "collapsed": false,
    "ExecuteTime": {
     "end_time": "2023-12-09T07:56:34.664583800Z",
     "start_time": "2023-12-09T07:56:34.604966500Z"
    }
   },
   "id": "d427a7952e7b8c14"
  },
  {
   "cell_type": "markdown",
   "source": [
    "### Compare"
   ],
   "metadata": {
    "collapsed": false
   },
   "id": "e40b6aa403b709df"
  },
  {
   "cell_type": "code",
   "execution_count": 33,
   "outputs": [],
   "source": [],
   "metadata": {
    "collapsed": false,
    "ExecuteTime": {
     "end_time": "2023-12-09T07:56:34.707481700Z",
     "start_time": "2023-12-09T07:56:34.665582900Z"
    }
   },
   "id": "bd219192a0c274ef"
  },
  {
   "cell_type": "markdown",
   "id": "695e8806",
   "metadata": {
    "papermill": {
     "duration": 2.872976,
     "end_time": "2023-11-03T09:54:29.462015",
     "exception": false,
     "start_time": "2023-11-03T09:54:26.589039",
     "status": "completed"
    },
    "tags": []
   },
   "source": [
    "# ✍️ | Reference\n",
    "* [LLM Science Exam: KerasCore + KerasNLP [TPU]](https://www.kaggle.com/code/awsaf49/llm-science-exam-kerascore-kerasnlp-tpu)\n",
    "* [Keras NLP](https://keras.io/api/keras_nlp/)\n",
    "* [Triple Stratified KFold with TFRecords](https://www.kaggle.com/code/cdeotte/triple-stratified-kfold-with-tfrecords) by @cdeotte"
   ]
  }
 ],
 "metadata": {
  "kernelspec": {
   "display_name": "Python 3",
   "language": "python",
   "name": "python3"
  },
  "language_info": {
   "codemirror_mode": {
    "name": "ipython",
    "version": 3
   },
   "file_extension": ".py",
   "mimetype": "text/x-python",
   "name": "python",
   "nbconvert_exporter": "python",
   "pygments_lexer": "ipython3",
   "version": "3.10.12"
  },
  "papermill": {
   "default_parameters": {},
   "duration": 17102.553119,
   "end_time": "2023-11-03T09:54:42.134234",
   "environment_variables": {},
   "exception": null,
   "input_path": "__notebook__.ipynb",
   "output_path": "__notebook__.ipynb",
   "parameters": {},
   "start_time": "2023-11-03T05:09:39.581115",
   "version": "2.4.0"
  }
 },
 "nbformat": 4,
 "nbformat_minor": 5
}
