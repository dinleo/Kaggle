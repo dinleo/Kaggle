{
 "cells": [
  {
   "cell_type": "markdown",
   "id": "5f84952a",
   "metadata": {
    "papermill": {
     "duration": 0.0157,
     "end_time": "2023-11-03T05:11:12.172211",
     "exception": false,
     "start_time": "2023-11-03T05:11:12.156511",
     "status": "completed"
    },
    "tags": []
   },
   "source": [
    "# ⚙️ | Configuration"
   ]
  },
  {
   "cell_type": "code",
   "execution_count": 1,
   "id": "78f624e9",
   "metadata": {
    "_kg_hide-input": true,
    "execution": {
     "iopub.execute_input": "2023-11-03T05:11:12.205345Z",
     "iopub.status.busy": "2023-11-03T05:11:12.204663Z",
     "iopub.status.idle": "2023-11-03T05:11:12.211906Z",
     "shell.execute_reply": "2023-11-03T05:11:12.211074Z"
    },
    "papermill": {
     "duration": 0.025712,
     "end_time": "2023-11-03T05:11:12.213734",
     "exception": false,
     "start_time": "2023-11-03T05:11:12.188022",
     "status": "completed"
    },
    "tags": [],
    "ExecuteTime": {
     "end_time": "2023-12-17T04:30:44.323931600Z",
     "start_time": "2023-12-17T04:30:43.990187400Z"
    }
   },
   "outputs": [],
   "source": [
    "class CFG:\n",
    "    # FLAG\n",
    "    TRAIN = False\n",
    "    VALID = False\n",
    "    TEST = True\n",
    "    LOAD_CKPT = True # If Set True, MODEL_DIR, MODEL_NAME must be specified\n",
    "    TEST_WOFT = False # TEST without fine-tuning\n",
    "    MAKE_SUBMISSION = False # If Set True, 'make {WORKING_PATH}/submission.csv' too\n",
    "    \n",
    "    # PATH\n",
    "    #/kaggle\n",
    "    #   /input\n",
    "    #       /train and test\n",
    "    #   /{WORKING_PATH}\n",
    "    #       /train\n",
    "    #           /{MODEL_DIR}                (MODEL SAVE PATH)    = Preset * train_data_folder\n",
    "    #               {MODEL_NAME}.keras      (MODEL FILE)         = train_data_file * DataNum * Epoch\n",
    "    #       /test\n",
    "    #           /{MODEL_DIR}                (TEST for MODEL)     = same with MODEL_DIR\n",
    "    #               /{TEST_MODEL_DIR}       (TEST PATH)          = MODEL_NAME which is tested\n",
    "    #                   {TEST_NAME}.csv     (TEST FILE)          = test_data_folder * test_data_file * DataNum * accuracy\n",
    "    TRAIN_DATA = './kaggle/input/Hello-SimpleAI-HC3/train_8000.csv'\n",
    "    TEST_DATA = './kaggle/input/daigt-proper-train-dataset/daigt_same_prompt_4840.csv'\n",
    "    WORKING_PATH = './kaggle/working/'\n",
    "    \n",
    "    # (Just Folder or File Name, Not whole PATH and \".keras\") \n",
    "    # If None, ({preset})_({train_data_folder})\n",
    "    MODEL_DIR = '(deberta_v3_small_en)_(Hello-SimpleAI-HC3)'\n",
    "    # If None, ({train_data_folder})_({num_of_train/1000}K_{epochs}E).keras\n",
    "    MODEL_NAME = '(train_8000.csv)_(4.0K_3E_03)'\n",
    "    # If None, {MODEL_NAME}\n",
    "    TEST_MODEL_DIR = None\n",
    "    # If None, ({test_data_folder}__{test_data_file}_{num_of_test / 1000}K)_({accuracy}){i}.csv\n",
    "    TEST_NAME = None\n",
    "    \n",
    "    # CSV\n",
    "    #   id: if None, then create a new id using range(num_of_...data)\n",
    "    #   label: If 0 or 1, then create a new label where all values are 0 or 1\n",
    "    train_att = {\n",
    "        'id': None, \n",
    "        'text': 'text',\n",
    "        'label': 'label'\n",
    "    }\n",
    "    test_att = {\n",
    "        'id': 'essay_id', \n",
    "        'text': 'text',\n",
    "        'label': 'label'\n",
    "    }\n",
    "    \n",
    "    # HYPER PARAM\n",
    "    num_of_train = 4000 # total num of train dataset. If None, use all\n",
    "    num_of_test = None # total num of test dataset. If None, use all\n",
    "    num_of_valid = 40 # total num of valid dataset(using test data) If None, use all test data\n",
    "    seed = 42  # Random seed\n",
    "    epochs = 3 # Training epochs\n",
    "    batch_size = 20  # Batch size\n",
    "    drop_remainder = True  # Drop incomplete batches\n",
    "    sequence_length = 200  # Input sequence length\n",
    "    scheduler = 'cosine'  # Learning rate scheduler\n",
    "\n",
    "    \n",
    "    # RECORD\n",
    "    verbose = 0  # Verbosity\n",
    "    wandb = True  # Weights & Biases logging\n",
    "    competition = 'llm-detect-ai-generated-text'  # Competition name\n",
    "    _wandb_kernel = 'dinleo11'  # WandB kernel\n",
    "    comment = 'DebertaV3-MaxSeq_200-ext_s-torch'  # Comment description\n",
    "    preset = \"deberta_v3_small_en\"  # Name of pretrained models\n",
    "    device = 'GPU'  # Device\n",
    "    cache = True # Caches data after one iteration, use only with `TPU` to avoid OOM\n",
    "    best = {\n",
    "        'best_auc': None,\n",
    "        'best_loss': None,\n",
    "        'best_epoch': None\n",
    "    }\n",
    "    \n",
    "    # CLASS\n",
    "    class_names = [\"real\", \"fake\"]  # Class names [A, B, C, D, E]\n",
    "    num_classes = len(class_names)  # Number of classes\n",
    "    class_labels = list(range(num_classes))  # Class labels [0, 1, 2, 3, 4]\n",
    "    label2name = dict(zip(class_labels, class_names))  # Label to class name mapping\n",
    "    name2label = {v: k for k, v in label2name.items()}  # Class name to label mapping\n",
    "    \n",
    "    # Name\n",
    "    if MODEL_DIR is None:\n",
    "        if LOAD_CKPT: raise \"For LOAD_CKPT, MODEL_DIR must be specified\"\n",
    "        train_data_folder = TRAIN_DATA.split('/')[-2]\n",
    "        MODEL_DIR = f'({preset})_({train_data_folder})'\n",
    "    \n",
    "    if MODEL_NAME is None:\n",
    "        if LOAD_CKPT: raise \"For LOAD_CKPT, MODEL_NAME must be specified\"\n",
    "        train_data_file = TRAIN_DATA.split('/')[-1]\n",
    "        MODEL_NAME = f'({train_data_file})_({num_of_train / 1000}K_{epochs}E'\n",
    "    \n",
    "    if TEST_MODEL_DIR is None:\n",
    "        if TRAIN is False and LOAD_CKPT is False: # preset test\n",
    "            TEST_MODEL_DIR = f'({preset})'\n",
    "        else:\n",
    "            TEST_MODEL_DIR = MODEL_NAME\n",
    "\n",
    "    if TEST_NAME is None:\n",
    "        test_data_folder = TEST_DATA.split('/')[-2]\n",
    "        test_data_file = TEST_DATA.split('/')[-1]\n",
    "        TEST_NAME = f'({test_data_folder}__{test_data_file}' \n",
    "    TEST_MODEL_DIR = f'{WORKING_PATH}/test/{MODEL_DIR}/{TEST_MODEL_DIR}/'\n",
    "    MODEL_DIR = f'{WORKING_PATH}/train/{MODEL_DIR}/'"
   ]
  },
  {
   "cell_type": "markdown",
   "source": [
    "# 🛠 | Install Libraries "
   ],
   "metadata": {
    "collapsed": false
   },
   "id": "c8a7fab7"
  },
  {
   "cell_type": "code",
   "execution_count": 2,
   "outputs": [],
   "source": [
    "# !pip install keras-core==0.1.7\n",
    "# !pip install keras-nlp==0.6.3\n",
    "# !pip install --upgrade wandb git+https://github.com/soumik12345/wandb-addons"
   ],
   "metadata": {
    "collapsed": false,
    "ExecuteTime": {
     "end_time": "2023-12-17T04:30:44.324960700Z",
     "start_time": "2023-12-17T04:30:44.004195800Z"
    }
   },
   "id": "26b93973"
  },
  {
   "cell_type": "markdown",
   "source": [
    "# 📚 | Import Libraries "
   ],
   "metadata": {
    "collapsed": false
   },
   "id": "5b84e97b"
  },
  {
   "cell_type": "code",
   "execution_count": 3,
   "outputs": [
    {
     "name": "stdout",
     "output_type": "stream",
     "text": [
      "Using PyTorch backend.\n"
     ]
    },
    {
     "name": "stderr",
     "output_type": "stream",
     "text": [
      "C:\\Users\\dinle\\AppData\\Local\\Temp\\ipykernel_28212\\14520534.py:19: MatplotlibDeprecationWarning: The get_cmap function was deprecated in Matplotlib 3.7 and will be removed two minor releases later. Use ``matplotlib.colormaps[name]`` or ``matplotlib.colormaps.get_cmap(obj)`` instead.\n",
      "  cmap = mpl.cm.get_cmap('coolwarm')\n"
     ]
    }
   ],
   "source": [
    "import os\n",
    "import dotenv\n",
    "os.environ[\"KERAS_BACKEND\"] = \"torch\" \n",
    "import keras_nlp\n",
    "import keras_core as keras\n",
    "import keras_core.backend as K\n",
    "\n",
    "import torch\n",
    "import tensorflow as tf\n",
    "\n",
    "\n",
    "import numpy as np \n",
    "import pandas as pd\n",
    "\n",
    "import matplotlib.pyplot as plt\n",
    "import matplotlib as mpl\n",
    "\n",
    "\n",
    "cmap = mpl.cm.get_cmap('coolwarm')"
   ],
   "metadata": {
    "collapsed": false,
    "ExecuteTime": {
     "end_time": "2023-12-17T04:31:01.209152Z",
     "start_time": "2023-12-17T04:30:44.020304100Z"
    }
   },
   "id": "038591a7"
  },
  {
   "cell_type": "markdown",
   "source": [
    "## Library Version"
   ],
   "metadata": {
    "collapsed": false
   },
   "id": "48532e06"
  },
  {
   "cell_type": "code",
   "execution_count": 4,
   "outputs": [
    {
     "name": "stdout",
     "output_type": "stream",
     "text": [
      "Torch: 2.1.1+cu118\n",
      "TensorFlow: 2.10.1\n",
      "Keras: 0.1.7\n",
      "KerasNLP: 0.6.3\n"
     ]
    },
    {
     "data": {
      "text/plain": "True"
     },
     "execution_count": 4,
     "metadata": {},
     "output_type": "execute_result"
    }
   ],
   "source": [
    "print(\"Torch:\", torch.__version__)\n",
    "print(\"TensorFlow:\", tf.__version__)\n",
    "print(\"Keras:\", keras.__version__)\n",
    "print(\"KerasNLP:\", keras_nlp.__version__)\n",
    "torch.cuda.is_available()"
   ],
   "metadata": {
    "collapsed": false,
    "ExecuteTime": {
     "end_time": "2023-12-17T04:31:01.227675500Z",
     "start_time": "2023-12-17T04:31:01.208152700Z"
    }
   },
   "id": "76580982"
  },
  {
   "cell_type": "markdown",
   "id": "2ba4d558",
   "metadata": {
    "papermill": {
     "duration": 0.015864,
     "end_time": "2023-11-03T05:11:12.286775",
     "exception": false,
     "start_time": "2023-11-03T05:11:12.270911",
     "status": "completed"
    },
    "tags": []
   },
   "source": [
    "# ♻️ | Reproducibility \n",
    "Sets value for random seed to produce similar result in each run."
   ]
  },
  {
   "cell_type": "code",
   "execution_count": 5,
   "id": "3391d82a",
   "metadata": {
    "execution": {
     "iopub.execute_input": "2023-11-03T05:11:12.321271Z",
     "iopub.status.busy": "2023-11-03T05:11:12.320449Z",
     "iopub.status.idle": "2023-11-03T05:11:12.332699Z",
     "shell.execute_reply": "2023-11-03T05:11:12.331937Z"
    },
    "papermill": {
     "duration": 0.031327,
     "end_time": "2023-11-03T05:11:12.334654",
     "exception": false,
     "start_time": "2023-11-03T05:11:12.303327",
     "status": "completed"
    },
    "tags": [],
    "ExecuteTime": {
     "end_time": "2023-12-17T04:31:01.307679700Z",
     "start_time": "2023-12-17T04:31:01.223672Z"
    }
   },
   "outputs": [],
   "source": [
    "keras.utils.set_random_seed(CFG.seed)"
   ]
  },
  {
   "cell_type": "markdown",
   "id": "868a962b",
   "metadata": {
    "papermill": {
     "duration": 0.01681,
     "end_time": "2023-11-03T05:11:12.370020",
     "exception": false,
     "start_time": "2023-11-03T05:11:12.353210",
     "status": "completed"
    },
    "tags": []
   },
   "source": [
    "# 💾 | Hardware\n",
    "Following codes automatically detects hardware (TPU or GPU). "
   ]
  },
  {
   "cell_type": "code",
   "execution_count": 6,
   "id": "37f89880",
   "metadata": {
    "_kg_hide-input": true,
    "execution": {
     "iopub.execute_input": "2023-11-03T05:11:12.403558Z",
     "iopub.status.busy": "2023-11-03T05:11:12.403269Z",
     "iopub.status.idle": "2023-11-03T05:11:12.410361Z",
     "shell.execute_reply": "2023-11-03T05:11:12.409623Z"
    },
    "papermill": {
     "duration": 0.025783,
     "end_time": "2023-11-03T05:11:12.412331",
     "exception": false,
     "start_time": "2023-11-03T05:11:12.386548",
     "status": "completed"
    },
    "tags": [],
    "ExecuteTime": {
     "end_time": "2023-12-17T04:31:01.350728500Z",
     "start_time": "2023-12-17T04:31:01.268673100Z"
    }
   },
   "outputs": [],
   "source": [
    "def get_device():\n",
    "    \"Detect and intializes GPU/TPU automatically\"\n",
    "    try:\n",
    "        # Connect to TPU\n",
    "        tpu = tf.distribute.cluster_resolver.TPUClusterResolver.connect() \n",
    "        # Set TPU strategy\n",
    "        strategy = tf.distribute.TPUStrategy(tpu)\n",
    "        print(f'> Running on TPU', tpu.master(), end=' | ')\n",
    "        print('Num of TPUs: ', strategy.num_replicas_in_sync)\n",
    "        device=CFG.device\n",
    "    except:\n",
    "        # If TPU is not available, detect GPUs\n",
    "        gpus = tf.config.list_logical_devices('GPU')\n",
    "        ngpu = len(gpus)\n",
    "         # Check number of GPUs\n",
    "        if ngpu:\n",
    "            # Set GPU strategy\n",
    "            strategy = tf.distribute.MirroredStrategy(gpus) # single-GPU or multi-GPU\n",
    "            # Print GPU details\n",
    "            print(\"> Running on GPU\", end=' | ')\n",
    "            print(\"Num of GPUs: \", ngpu)\n",
    "            device='GPU'\n",
    "        else:\n",
    "            # If no GPUs are available, use CPU\n",
    "            print(\"> Running on CPU\")\n",
    "            strategy = tf.distribute.get_strategy()\n",
    "            device='CPU'\n",
    "    return strategy, device"
   ]
  },
  {
   "cell_type": "code",
   "execution_count": 7,
   "id": "f9bd017a",
   "metadata": {
    "execution": {
     "iopub.execute_input": "2023-11-03T05:11:12.445484Z",
     "iopub.status.busy": "2023-11-03T05:11:12.445213Z",
     "iopub.status.idle": "2023-11-03T05:11:23.226610Z",
     "shell.execute_reply": "2023-11-03T05:11:23.225486Z"
    },
    "papermill": {
     "duration": 10.800704,
     "end_time": "2023-11-03T05:11:23.229026",
     "exception": false,
     "start_time": "2023-11-03T05:11:12.428322",
     "status": "completed"
    },
    "tags": [],
    "ExecuteTime": {
     "end_time": "2023-12-17T04:31:02.403438700Z",
     "start_time": "2023-12-17T04:31:01.281673400Z"
    }
   },
   "outputs": [
    {
     "name": "stdout",
     "output_type": "stream",
     "text": [
      "INFO:tensorflow:Using MirroredStrategy with devices ('/job:localhost/replica:0/task:0/device:GPU:0',)\n",
      "> Running on GPU | Num of GPUs:  1\n"
     ]
    }
   ],
   "source": [
    "# Initialize GPU/TPU/TPU-VM\n",
    "strategy, CFG.device = get_device()\n",
    "CFG.replicas = strategy.num_replicas_in_sync"
   ]
  },
  {
   "cell_type": "markdown",
   "source": [
    "# 📖 | Meta Data \n",
    "* `{test|train}_essays.csv`\n",
    "    * `essay_id` - A unique identifier for each essay.\n",
    "    * `source, prompt_id` - Identifies the source, prompt the essay was written in response to.\n",
    "    * `text` - The essay text itself.\n",
    "    * `label` - Whether the essay was written by a student (0) or generated by an LLM (1). This field is the target and is not present in test_essays.csv.\n",
    "* **sample_submission.csv** - is the valid sample submission."
   ],
   "metadata": {
    "collapsed": false
   },
   "id": "68bb262d"
  },
  {
   "cell_type": "code",
   "execution_count": 8,
   "outputs": [],
   "source": [
    "def make_df(read_path, data_att, sample_num, label2name):\n",
    "    read_df = pd.read_csv(read_path)\n",
    "    if data_att['label'] == 0 or data_att['label'] == 1:\n",
    "        if sample_num:\n",
    "            read_df = read_df.sample(sample_num)\n",
    "        read_df['label'] = data_att['label']\n",
    "    else:\n",
    "        if sample_num:\n",
    "            read_df = pd.concat([\n",
    "                read_df[read_df[data_att['label']]==0].sample(sample_num // 2),\n",
    "                read_df[read_df[data_att['label']]==1].sample(sample_num // 2)\n",
    "            ])\n",
    "        read_df['label'] = read_df[data_att['label']]\n",
    "\n",
    "    if data_att['id'] is None:\n",
    "        read_df['id'] = range(len(read_df))\n",
    "    else:\n",
    "        read_df['id'] = read_df[data_att['id']]\n",
    "\n",
    "    return_df = pd.DataFrame({\n",
    "        'id': read_df['id'],\n",
    "        'text': read_df[data_att['text']],\n",
    "        'label': read_df['label'],\n",
    "        'label_name': read_df['label'].map(label2name)\n",
    "    })\n",
    "\n",
    "    return return_df.reset_index(drop=True)\n",
    "\n",
    "def show_df(org_df):\n",
    "    plot_df = org_df.copy()\n",
    "\n",
    "    # Display information about the external data\n",
    "    print(\"# External Data: {:,}\".format(len(plot_df)))\n",
    "    print(\"# Sample:\")\n",
    "\n",
    "    # Show distribution of answers using a bar plot\n",
    "    plt.figure(figsize=(8, 4))\n",
    "    plot_df['label_name'].value_counts().plot.bar(color=[cmap(0.0), cmap(0.65)])\n",
    "    plt.xlabel(\"Class\")\n",
    "    plt.ylabel(\"Count\")\n",
    "    plt.title(\"Answer distribution for External Data\")\n",
    "    plt.show()\n",
    "    return plot_df.head(5)"
   ],
   "metadata": {
    "collapsed": false,
    "ExecuteTime": {
     "end_time": "2023-12-17T04:31:02.474985200Z",
     "start_time": "2023-12-17T04:31:02.404438400Z"
    }
   },
   "id": "5f0e3f8e934ef245"
  },
  {
   "cell_type": "markdown",
   "source": [
    "### Train Data"
   ],
   "metadata": {
    "collapsed": false
   },
   "id": "7073aae72ba0aacc"
  },
  {
   "cell_type": "code",
   "execution_count": 9,
   "outputs": [],
   "source": [
    "if CFG.TRAIN:\n",
    "    train_df = make_df(CFG.TRAIN_DATA, CFG.train_att, CFG.num_of_train, CFG.label2name)\n",
    "    show_df(train_df)\n",
    "    train_df.head(5)\n",
    "    valid_df = None"
   ],
   "metadata": {
    "collapsed": false,
    "ExecuteTime": {
     "end_time": "2023-12-17T04:31:02.481956100Z",
     "start_time": "2023-12-17T04:31:02.420444900Z"
    }
   },
   "id": "50454c8a2e7192c"
  },
  {
   "cell_type": "markdown",
   "source": [
    "### Test Data"
   ],
   "metadata": {
    "collapsed": false
   },
   "id": "7251aa6fd5eaa214"
  },
  {
   "cell_type": "code",
   "execution_count": 10,
   "outputs": [
    {
     "name": "stdout",
     "output_type": "stream",
     "text": [
      "# External Data: 4,840\n",
      "# Sample:\n"
     ]
    },
    {
     "data": {
      "text/plain": "<Figure size 800x400 with 1 Axes>",
      "image/png": "[encoded data removed]"
     },
     "metadata": {},
     "output_type": "display_data"
    }
   ],
   "source": [
    "if CFG.TEST:\n",
    "    test_df = make_df(CFG.TEST_DATA, CFG.test_att, CFG.num_of_test, CFG.label2name)\n",
    "    show_df(test_df)\n",
    "    test_df.head(5)\n",
    "    "
   ],
   "metadata": {
    "collapsed": false,
    "ExecuteTime": {
     "end_time": "2023-12-17T04:31:02.812486600Z",
     "start_time": "2023-12-17T04:31:02.435956700Z"
    }
   },
   "id": "b9a06165"
  },
  {
   "cell_type": "markdown",
   "source": [
    "### Valid Data"
   ],
   "metadata": {
    "collapsed": false
   },
   "id": "13084096ecd7364e"
  },
  {
   "cell_type": "code",
   "execution_count": 11,
   "outputs": [],
   "source": [
    "valid_df = []\n",
    "if CFG.VALID:\n",
    "    if CFG.num_of_valid is None:\n",
    "        valid_df = test_df.copy()\n",
    "    else:\n",
    "        valid_df = pd.concat(\n",
    "            [train_df[train_df['label'] == 0].sample(CFG.num_of_valid // 2),\n",
    "             train_df[train_df['label'] == 1].sample(CFG.num_of_valid // 2)] \n",
    "        )"
   ],
   "metadata": {
    "collapsed": false,
    "ExecuteTime": {
     "end_time": "2023-12-17T04:31:02.893006600Z",
     "start_time": "2023-12-17T04:31:02.808483600Z"
    }
   },
   "id": "6f29b537c3f7d8d"
  },
  {
   "cell_type": "markdown",
   "source": [
    "# 🍽️ | Preprocessing\n",
    "\n",
    "**What it does:** The preprocessor takes input strings and transforms them into a dictionary (`token_ids`, `padding_mask`) containing preprocessed tensors. This process starts with tokenization, where input strings are converted into sequences of token IDs.\n",
    "\n",
    "**Why it's important:** Initially, raw text data is complex and challenging for modeling due to its high dimensionality. By converting text into a compact set of tokens, such as transforming `\"The quick brown fox\"` into `[\"the\", \"qu\", \"##ick\", \"br\", \"##own\", \"fox\"]`, we simplify the data. Many models rely on special tokens and additional tensors to understand input. These tokens help divide input and identify padding, among other tasks. Making all sequences the same length through padding boosts computational efficiency, making subsequent steps smoother.\n",
    "\n",
    "Explore the following pages to access the available preprocessing and tokenizer layers in **KerasNLP**:\n",
    "- [Preprocessing](https://keras.io/api/keras_nlp/preprocessing_layers/)\n",
    "- [Tokenizers](https://keras.io/api/keras_nlp/tokenizers/)"
   ],
   "metadata": {
    "collapsed": false
   },
   "id": "6a435d12"
  },
  {
   "cell_type": "code",
   "execution_count": 12,
   "outputs": [],
   "source": [
    "preprocessor = keras_nlp.models.DebertaV3Preprocessor.from_preset(\n",
    "    preset=CFG.preset, # Name of the model\n",
    "    sequence_length=CFG.sequence_length, # Max sequence length, will be padded if shorter\n",
    ")"
   ],
   "metadata": {
    "collapsed": false,
    "ExecuteTime": {
     "end_time": "2023-12-17T04:31:03.382688900Z",
     "start_time": "2023-12-17T04:31:02.827005100Z"
    }
   },
   "id": "d2568aa1"
  },
  {
   "cell_type": "markdown",
   "source": [
    "Now, let's examine what the output shape of the preprocessing layer looks like. The output shape of the layer can be represented as $(num\\_choices, sequence\\_length)$."
   ],
   "metadata": {
    "collapsed": false
   },
   "id": "02000747"
  },
  {
   "cell_type": "code",
   "execution_count": 13,
   "outputs": [],
   "source": [
    "if CFG.TRAIN:\n",
    "    inp = preprocessor(train_df.text.iloc[0])  # Process text for the first row\n",
    "\n",
    "    # Display the shape of each processed output\n",
    "    for k, v in inp.items():\n",
    "        print(k, \":\", v.shape)"
   ],
   "metadata": {
    "collapsed": false,
    "ExecuteTime": {
     "end_time": "2023-12-17T04:31:03.399693500Z",
     "start_time": "2023-12-17T04:31:03.385692700Z"
    }
   },
   "id": "d92ab330"
  },
  {
   "cell_type": "markdown",
   "source": [
    "We'll use the `preprocessing_fn` function to transform each text option using the `dataset.map(preprocessing_fn)` method."
   ],
   "metadata": {
    "collapsed": false
   },
   "id": "4e08eb18"
  },
  {
   "cell_type": "code",
   "execution_count": 14,
   "outputs": [],
   "source": [
    "def preprocess_fn(text, label=None):\n",
    "    text = preprocessor(text)  # Preprocess text\n",
    "    return (text, label) if label is not None else text  # Return processed text and label if available"
   ],
   "metadata": {
    "collapsed": false,
    "ExecuteTime": {
     "end_time": "2023-12-17T04:31:03.437249600Z",
     "start_time": "2023-12-17T04:31:03.404695100Z"
    }
   },
   "id": "939b1bc2"
  },
  {
   "cell_type": "markdown",
   "source": [
    "# 🍚 | DataLoader\n",
    "\n",
    "The code below sets up a robust data flow pipeline using `tf.data.Dataset` for data processing. Notable aspects of `tf.data` include its ability to simplify pipeline construction and represent components in sequences.\n",
    "\n",
    "To learn more about `tf.data`, refer to this [documentation](https://www.tensorflow.org/guide/data)."
   ],
   "metadata": {
    "collapsed": false
   },
   "id": "b0087a0e"
  },
  {
   "cell_type": "code",
   "execution_count": 15,
   "outputs": [],
   "source": [
    "def build_dataset(texts, labels=None, batch_size=32,\n",
    "                  cache=False, drop_remainder=True,\n",
    "                  repeat=False, shuffle=1024):\n",
    "    AUTO = tf.data.AUTOTUNE  # AUTOTUNE option\n",
    "    slices = (texts,) if labels is None else (texts, labels)  # Create slices\n",
    "    ds = tf.data.Dataset.from_tensor_slices(slices)  # Create dataset from slices\n",
    "    ds = ds.cache() if cache else ds  # Cache dataset if enabled\n",
    "    ds = ds.map(preprocess_fn, num_parallel_calls=AUTO)  # Map preprocessing function\n",
    "    ds = ds.repeat() if repeat else ds  # Repeat dataset if enabled\n",
    "    opt = tf.data.Options()  # Create dataset options\n",
    "    if shuffle: \n",
    "        ds = ds.shuffle(shuffle, seed=CFG.seed)  # Shuffle dataset if enabled\n",
    "        opt.experimental_deterministic = False\n",
    "    ds = ds.with_options(opt)  # Set dataset options\n",
    "    ds = ds.batch(batch_size, drop_remainder=drop_remainder)  # Batch dataset\n",
    "    ds = ds.prefetch(buffer_size=AUTO)  # Prefetch next batch\n",
    "    return ds  # Return the built dataset"
   ],
   "metadata": {
    "collapsed": false,
    "ExecuteTime": {
     "end_time": "2023-12-17T04:31:03.439246900Z",
     "start_time": "2023-12-17T04:31:03.418703300Z"
    }
   },
   "id": "6f65b37e"
  },
  {
   "cell_type": "markdown",
   "source": [
    "## Fetch Train/Valid/Test Dataset\n",
    "\n",
    "The function below generates the training and validation datasets for a given fold."
   ],
   "metadata": {
    "collapsed": false
   },
   "id": "916dec5d"
  },
  {
   "cell_type": "code",
   "execution_count": 16,
   "outputs": [],
   "source": [
    "def get_train_datasets(org_df):\n",
    "    tr_df_ = org_df.sample(frac=1)\n",
    "    train_texts = tr_df_['text'].tolist()  # Extract training texts\n",
    "    train_labels = tr_df_['label'].tolist()  # Extract training labels\n",
    "    \n",
    "    # Build training dataset\n",
    "    tr_ds_ = build_dataset(train_texts, train_labels,\n",
    "                             batch_size=CFG.batch_size*CFG.replicas, cache=CFG.cache,\n",
    "                             shuffle=True, drop_remainder=CFG.drop_remainder, repeat=True)\n",
    "    return tr_ds_\n",
    "\n",
    "def get_valid_datasets(org_df):\n",
    "    vl_df = org_df.sample(frac=1)\n",
    "    valid_texts = vl_df['text'].tolist()  # Extract training texts\n",
    "    valid_labels = vl_df['label'].tolist()  # Extract training labels\n",
    "    \n",
    "    # Build training dataset\n",
    "    tr_ds_ = build_dataset(valid_texts, valid_labels,\n",
    "                             batch_size=min(CFG.batch_size*CFG.replicas, len(vl_df)), cache=CFG.cache,\n",
    "                             shuffle=False, drop_remainder=CFG.drop_remainder, repeat=True)\n",
    "    return tr_ds_\n",
    "\n",
    "\n",
    "def get_test_dataset(org_df):\n",
    "    test_texts = org_df.text.tolist()  # Extract testation texts\n",
    "    \n",
    "    # Build testation dataset\n",
    "    ts_ds = build_dataset(test_texts, labels=None,\n",
    "                             batch_size=min(CFG.batch_size*CFG.replicas, len(org_df)), cache=False,\n",
    "                             shuffle=False, drop_remainder=CFG.drop_remainder, repeat=False)\n",
    "    \n",
    "    return ts_ds  # Return datasets and dataframes"
   ],
   "metadata": {
    "collapsed": false,
    "ExecuteTime": {
     "end_time": "2023-12-17T04:31:03.465244800Z",
     "start_time": "2023-12-17T04:31:03.434246300Z"
    }
   },
   "id": "fcea9f76"
  },
  {
   "cell_type": "markdown",
   "source": [
    "# 🪄 | Wandb\n",
    "<img src=\"https://camo.githubusercontent.com/dd842f7b0be57140e68b2ab9cb007992acd131c48284eaf6b1aca758bfea358b/68747470733a2f2f692e696d6775722e636f6d2f52557469567a482e706e67\" width=\"400\" alt=\"Weights & Biases\" />\n",
    "\n",
    "To monitor the training of my text-based model, I'll make use of **Weights & Biases**. Weights & Biases (W&B) is an MLOps platform that offers experiment tracking, dataset versioning, and model management functionalities, aiding in efficient model development. "
   ],
   "metadata": {
    "collapsed": false
   },
   "id": "7cc33338"
  },
  {
   "cell_type": "code",
   "execution_count": 17,
   "outputs": [
    {
     "name": "stderr",
     "output_type": "stream",
     "text": [
      "\u001B[34m\u001B[1mwandb\u001B[0m: \u001B[33mWARNING\u001B[0m If you're specifying your api key in code, ensure this code is not shared publicly.\n",
      "\u001B[34m\u001B[1mwandb\u001B[0m: \u001B[33mWARNING\u001B[0m Consider setting the WANDB_API_KEY environment variable, or running `wandb login` from the command line.\n",
      "\u001B[34m\u001B[1mwandb\u001B[0m: Appending key for api.wandb.ai to your netrc file: C:\\Users\\dinle/.netrc\n"
     ]
    }
   ],
   "source": [
    "if CFG.wandb:\n",
    "    import wandb  # Import wandb library for experiment tracking\n",
    "    from wandb.keras import WandbMetricsLogger\n",
    "    \n",
    "    dotenv.load_dotenv()\n",
    "    \n",
    "    wandb.login(\n",
    "        key=os.getenv('API_KEY'),\n",
    "        relogin=True,\n",
    "    )\n",
    "    \n",
    "    # Initializes the W&B run with a config file and W&B run settings.\n",
    "    def wandb_init():\n",
    "        config = {k: v for k, v in dict(vars(CFG)).items() if '__' not in k}  # Create config dictionary\n",
    "        run_ = wandb.init(project=\"llm-fake-text\",\n",
    "                         name=f\"max_seq-{CFG.sequence_length}|model-{CFG.preset}\",\n",
    "                         config=config,\n",
    "                         group=CFG.comment,\n",
    "                         save_code=True)\n",
    "        return run_\n",
    "    \n",
    "    # Log best result for error analysis\n",
    "    def log_wandb():\n",
    "        wandb.log(CFG.best.copy())\n",
    "    \n",
    "    # Fetch W&B callbacks\n",
    "    def get_wb_callbacks():\n",
    "        wb_metr = WandbMetricsLogger()\n",
    "        return [wb_metr]  # Return WandB callbacks"
   ],
   "metadata": {
    "collapsed": false,
    "ExecuteTime": {
     "end_time": "2023-12-17T04:31:06.865368600Z",
     "start_time": "2023-12-17T04:31:03.450246800Z"
    }
   },
   "id": "d8a53cbb"
  },
  {
   "cell_type": "markdown",
   "source": [
    "w## Logger\n",
    "\n",
    "The following code cell contains code to log data to WandB. It is noteworthy that the newly released callbacks offer more flexibility in terms of customization, and they are more compact compared to the classic `WandbCallback`, making it easier to use. Here's a brief introduction to them:\n",
    "\n",
    "* **WandbModelCheckpoint**: This callback saves the model or weights using `tf.keras.callbacks.ModelCheckpoint`. Hence, we can harness the power of the official TensorFlow callback to log even `tf.keras.Model` subclass model in TPU.\n",
    "* **WandbMetricsLogger**: This callback simply logs all the metrics and losses.\n",
    "* **WandbEvalCallback**: This one is even more special. We can use it to log the model's prediction after a certain epoch/frequency. We can use it to save segmentation masks, bounding boxes, GradCAM within epochs to check intermediate results and so on.\n",
    "\n",
    "For more details, please check the [official documentation](https://docs.wandb.ai/ref/python/integrations/keras)."
   ],
   "metadata": {
    "collapsed": false
   },
   "id": "3816eab4"
  },
  {
   "cell_type": "markdown",
   "source": [
    "# ⚓ | LR Schedule\n",
    "\n",
    "Implementing a learning rate scheduler is crucial for transfer learning. The learning rate initiates at `lr_start` and gradually tapers down to `lr_min` using various techniques, including:\n",
    "- `step`: Lowering the learning rate in step-wise manner resembling stairs.\n",
    "- `cos`: Utilizing a cosine curve to gradually reduce the learning rate.\n",
    "- `exp`: Exponentially decreasing the learning rate.\n",
    "\n",
    "**Importance:** A well-structured learning rate schedule is essential for efficient model training, ensuring optimal convergence and avoiding issues such as overshooting or stagnation."
   ],
   "metadata": {
    "collapsed": false
   },
   "id": "4f65bf0c"
  },
  {
   "cell_type": "code",
   "execution_count": 18,
   "outputs": [],
   "source": [
    "import math\n",
    "\n",
    "def get_lr_callback(batch_size=8, mode='cos', epochs=10, plot=False):\n",
    "    lr_start, lr_max, lr_min = 0.6e-6, 0.5e-6 * batch_size, 0.3e-6\n",
    "    lr_ramp_ep, lr_sus_ep, lr_decay = 1, 0, 0.75\n",
    "\n",
    "    def lrfn(epoch):  # Learning rate update function\n",
    "        if epoch < lr_ramp_ep: lr = (lr_max - lr_start) / lr_ramp_ep * epoch + lr_start\n",
    "        elif epoch < lr_ramp_ep + lr_sus_ep: lr = lr_max\n",
    "        elif mode == 'exp': lr = (lr_max - lr_min) * lr_decay**(epoch - lr_ramp_ep - lr_sus_ep) + lr_min\n",
    "        elif mode == 'step': lr = lr_max * lr_decay**((epoch - lr_ramp_ep - lr_sus_ep) // 2)\n",
    "        elif mode == 'cos':\n",
    "            decay_total_epochs, decay_epoch_index = epochs - lr_ramp_ep - lr_sus_ep + 3, epoch - lr_ramp_ep - lr_sus_ep\n",
    "            phase = math.pi * decay_epoch_index / decay_total_epochs\n",
    "            lr = (lr_max - lr_min) * 0.5 * (1 + math.cos(phase)) + lr_min\n",
    "        return lr\n",
    "\n",
    "    if plot:  # Plot lr curve if plot is True\n",
    "        plt.figure(figsize=(10, 5))\n",
    "        plt.plot(np.arange(epochs), [lrfn(epoch) for epoch in np.arange(epochs)], marker='o')\n",
    "        plt.xlabel('epoch'); plt.ylabel('lr')\n",
    "        plt.title('LR Scheduler')\n",
    "        plt.show()\n",
    "\n",
    "    return keras.callbacks.LearningRateScheduler(lrfn, verbose=False)  # Create lr callback"
   ],
   "metadata": {
    "collapsed": false,
    "ExecuteTime": {
     "end_time": "2023-12-17T04:31:06.913117900Z",
     "start_time": "2023-12-17T04:31:06.866364700Z"
    }
   },
   "id": "ac3c4656"
  },
  {
   "cell_type": "code",
   "execution_count": 19,
   "outputs": [
    {
     "data": {
      "text/plain": "<Figure size 1000x500 with 1 Axes>",
      "image/png": "[encoded data removed]"
     },
     "metadata": {},
     "output_type": "display_data"
    }
   ],
   "source": [
    "_=get_lr_callback(CFG.batch_size*CFG.replicas, plot=True)"
   ],
   "metadata": {
    "collapsed": false,
    "ExecuteTime": {
     "end_time": "2023-12-17T04:31:07.028143Z",
     "start_time": "2023-12-17T04:31:06.893114700Z"
    }
   },
   "id": "022fc5da"
  },
  {
   "cell_type": "markdown",
   "source": [
    "# ☎️ | Callbacks\n",
    "\n",
    "The function below will gather all the training callbacks, such as `lr_scheduler`, `model_checkpoint`, `wandb_logger`, and etc."
   ],
   "metadata": {
    "collapsed": false
   },
   "id": "603bbf32"
  },
  {
   "cell_type": "code",
   "execution_count": 20,
   "outputs": [],
   "source": [
    "def get_callbacks():\n",
    "    callbacks_ = []\n",
    "    lr_cb = get_lr_callback(CFG.batch_size*CFG.replicas)  # Get lr callback\n",
    "    model_path = f'{CFG.MODEL_DIR}/{CFG.MODEL_NAME}'\n",
    "    ckpt_cb = keras.callbacks.ModelCheckpoint(model_path + '_{epoch:02d}).keras',\n",
    "                                              verbose=1,\n",
    "                                              monitor='val_auc',\n",
    "                                              save_best_only=CFG.VALID,\n",
    "                                              save_weights_only=False,\n",
    "                                              mode='max')  # Get Model checkpoint callback\n",
    "    callbacks_.extend([lr_cb, ckpt_cb])  # Add lr and checkpoint callbacks\n",
    "\n",
    "    if CFG.wandb:  # If WandB is enabled\n",
    "        wb_cbs = get_wb_callbacks()  # Get WandB callbacks\n",
    "        callbacks_.extend(wb_cbs) \n",
    "        \n",
    "    return callbacks_  # Return the list of callbacks"
   ],
   "metadata": {
    "collapsed": false,
    "ExecuteTime": {
     "end_time": "2023-12-17T04:31:07.042148Z",
     "start_time": "2023-12-17T04:31:07.030152700Z"
    }
   },
   "id": "dd0880cd"
  },
  {
   "cell_type": "markdown",
   "source": [
    "# 🤖 | Modeling\n",
    "\n"
   ],
   "metadata": {
    "collapsed": false
   },
   "id": "2b5e6916"
  },
  {
   "cell_type": "markdown",
   "source": [
    "## KerasNLP Classifier\n",
    "\n",
    "<img src=\"https://keras.io/img/logo.png\" width=\"400\">\n",
    "\n",
    "The `KerasNLP` library provides comprehensive, ready-to-use implementations of popular NLP model architectures. It features a variety of pre-trained models including `Bert`, `Roberta`, `DebertaV3`, and more. In this notebook, we'll showcase the usage of `DebertaV3`. However, feel free to explore all available models in the [KerasNLP documentation](https://keras.io/api/keras_nlp/models/). Also for a deeper understanding of `KerasNLP`, refer to the informative [getting started guide](https://keras.io/guides/keras_nlp/getting_started/).\n",
    "\n",
    "Our approach involves using `keras_nlp.models.XXClassifier` to process each text and generatie logits. These logits are passed through a `softmax` function to produce the final output."
   ],
   "metadata": {
    "collapsed": false
   },
   "id": "83734099"
  },
  {
   "cell_type": "code",
   "execution_count": 21,
   "outputs": [],
   "source": [
    "def build_model():\n",
    "    ## BERT Preprocess Data\n",
    "    \n",
    "    classifier = keras_nlp.models.DebertaV3Classifier.from_preset(\n",
    "        CFG.preset,\n",
    "        preprocessor=None,\n",
    "        num_classes=1\n",
    "    )\n",
    "    \n",
    "    inputs = classifier.input\n",
    "    logits = classifier(inputs)\n",
    "        \n",
    "    # Compute final output\n",
    "    outputs = keras.layers.Activation(\"sigmoid\")(logits)\n",
    "    model_ = keras.Model(inputs, outputs)\n",
    "\n",
    "    # Compile the model with optimizer, loss, and metrics\n",
    "    model_.compile(\n",
    "        optimizer=keras.optimizers.AdamW(5e-6),\n",
    "        loss=keras.losses.BinaryCrossentropy(label_smoothing=0.02),\n",
    "        metrics=[\n",
    "            keras.metrics.AUC(name=\"auc\"),\n",
    "        ],\n",
    "        jit_compile=True\n",
    "    )\n",
    "    model_.distribute_strategy = strategy\n",
    "    return model_"
   ],
   "metadata": {
    "collapsed": false,
    "ExecuteTime": {
     "end_time": "2023-12-17T04:31:07.146372100Z",
     "start_time": "2023-12-17T04:31:07.048150700Z"
    }
   },
   "id": "51d4b93f"
  },
  {
   "cell_type": "code",
   "execution_count": 22,
   "outputs": [
    {
     "name": "stdout",
     "output_type": "stream",
     "text": [
      "./kaggle/working//train/(deberta_v3_small_en)_(Hello-SimpleAI-HC3)//(train_8000.csv)_(4.0K_3E_03).keras\n"
     ]
    },
    {
     "name": "stderr",
     "output_type": "stream",
     "text": [
      "C:\\Users\\dinle\\AppData\\Local\\Programs\\Python\\Python39\\lib\\site-packages\\keras_core\\src\\trainers\\trainer.py:166: UserWarning: `jit_compile` is not yet enabled for the PyTorch backend. Proceeding with `jit_compile=False`.\n",
      "  warnings.warn(\n",
      "C:\\Users\\dinle\\AppData\\Local\\Programs\\Python\\Python39\\lib\\site-packages\\keras_core\\src\\saving\\serialization_lib.py:713: UserWarning: `compile()` was not called as part of model loading because the model's `compile()` method is custom. All subclassed Models that have `compile()` overridden should also override `get_compile_config()` and `compile_from_config(config)`. Alternatively, you can call `compile()` manually after loading.\n",
      "  instance.compile_from_config(compile_config)\n"
     ]
    }
   ],
   "source": [
    "if CFG.LOAD_CKPT:\n",
    "    ckpt_path = f'{CFG.MODEL_DIR}/{CFG.MODEL_NAME}.keras'\n",
    "    print(ckpt_path)\n",
    "    model = keras.models.load_model(\n",
    "        ckpt_path,\n",
    "        compile=False,\n",
    "    )\n",
    "else:\n",
    "    model = build_model()"
   ],
   "metadata": {
    "collapsed": false,
    "ExecuteTime": {
     "end_time": "2023-12-17T04:32:37.214360700Z",
     "start_time": "2023-12-17T04:31:07.061152200Z"
    }
   },
   "id": "01acd351"
  },
  {
   "cell_type": "markdown",
   "source": [
    "### Model Summary"
   ],
   "metadata": {
    "collapsed": false
   },
   "id": "b94a578a"
  },
  {
   "cell_type": "code",
   "execution_count": 23,
   "outputs": [
    {
     "data": {
      "text/plain": "\u001B[1mModel: \"functional_1\"\u001B[0m\n",
      "text/html": "<pre style=\"white-space:pre;overflow-x:auto;line-height:normal;font-family:Menlo,'DejaVu Sans Mono',consolas,'Courier New',monospace\"><span style=\"font-weight: bold\">Model: \"functional_1\"</span>\n</pre>\n"
     },
     "metadata": {},
     "output_type": "display_data"
    },
    {
     "data": {
      "text/plain": "┏━━━━━━━━━━━━━━━━━━━━━┳━━━━━━━━━━━━━━━━━━━┳━━━━━━━━━┳━━━━━━━━━━━━━━━━━━━━━━┓\n┃\u001B[1m \u001B[0m\u001B[1mLayer (type)       \u001B[0m\u001B[1m \u001B[0m┃\u001B[1m \u001B[0m\u001B[1mOutput Shape     \u001B[0m\u001B[1m \u001B[0m┃\u001B[1m \u001B[0m\u001B[1mParam #\u001B[0m\u001B[1m \u001B[0m┃\u001B[1m \u001B[0m\u001B[1mConnected to        \u001B[0m\u001B[1m \u001B[0m┃\n┡━━━━━━━━━━━━━━━━━━━━━╇━━━━━━━━━━━━━━━━━━━╇━━━━━━━━━╇━━━━━━━━━━━━━━━━━━━━━━┩\n│ padding_mask        │ (\u001B[38;5;45mNone\u001B[0m, \u001B[38;5;45mNone\u001B[0m)      │       \u001B[38;5;34m0\u001B[0m │ -                    │\n│ (\u001B[38;5;33mInputLayer\u001B[0m)        │                   │         │                      │\n├─────────────────────┼───────────────────┼─────────┼──────────────────────┤\n│ token_ids           │ (\u001B[38;5;45mNone\u001B[0m, \u001B[38;5;45mNone\u001B[0m)      │       \u001B[38;5;34m0\u001B[0m │ -                    │\n│ (\u001B[38;5;33mInputLayer\u001B[0m)        │                   │         │                      │\n├─────────────────────┼───────────────────┼─────────┼──────────────────────┤\n│ deberta_v3_classif… │ (\u001B[38;5;45mNone\u001B[0m, \u001B[38;5;34m1\u001B[0m)         │ \u001B[38;5;34m141,89…\u001B[0m │ padding_mask[\u001B[38;5;34m0\u001B[0m][\u001B[38;5;34m0\u001B[0m],  │\n│ (\u001B[38;5;33mDebertaV3Classifi…\u001B[0m │                   │         │ token_ids[\u001B[38;5;34m0\u001B[0m][\u001B[38;5;34m0\u001B[0m]      │\n├─────────────────────┼───────────────────┼─────────┼──────────────────────┤\n│ activation          │ (\u001B[38;5;45mNone\u001B[0m, \u001B[38;5;34m1\u001B[0m)         │       \u001B[38;5;34m0\u001B[0m │ deberta_v3_classifi… │\n│ (\u001B[38;5;33mActivation\u001B[0m)        │                   │         │                      │\n└─────────────────────┴───────────────────┴─────────┴──────────────────────┘\n",
      "text/html": "<pre style=\"white-space:pre;overflow-x:auto;line-height:normal;font-family:Menlo,'DejaVu Sans Mono',consolas,'Courier New',monospace\">┏━━━━━━━━━━━━━━━━━━━━━┳━━━━━━━━━━━━━━━━━━━┳━━━━━━━━━┳━━━━━━━━━━━━━━━━━━━━━━┓\n┃<span style=\"font-weight: bold\"> Layer (type)        </span>┃<span style=\"font-weight: bold\"> Output Shape      </span>┃<span style=\"font-weight: bold\"> Param # </span>┃<span style=\"font-weight: bold\"> Connected to         </span>┃\n┡━━━━━━━━━━━━━━━━━━━━━╇━━━━━━━━━━━━━━━━━━━╇━━━━━━━━━╇━━━━━━━━━━━━━━━━━━━━━━┩\n│ padding_mask        │ (<span style=\"color: #00d7ff; text-decoration-color: #00d7ff\">None</span>, <span style=\"color: #00d7ff; text-decoration-color: #00d7ff\">None</span>)      │       <span style=\"color: #00af00; text-decoration-color: #00af00\">0</span> │ -                    │\n│ (<span style=\"color: #0087ff; text-decoration-color: #0087ff\">InputLayer</span>)        │                   │         │                      │\n├─────────────────────┼───────────────────┼─────────┼──────────────────────┤\n│ token_ids           │ (<span style=\"color: #00d7ff; text-decoration-color: #00d7ff\">None</span>, <span style=\"color: #00d7ff; text-decoration-color: #00d7ff\">None</span>)      │       <span style=\"color: #00af00; text-decoration-color: #00af00\">0</span> │ -                    │\n│ (<span style=\"color: #0087ff; text-decoration-color: #0087ff\">InputLayer</span>)        │                   │         │                      │\n├─────────────────────┼───────────────────┼─────────┼──────────────────────┤\n│ deberta_v3_classif… │ (<span style=\"color: #00d7ff; text-decoration-color: #00d7ff\">None</span>, <span style=\"color: #00af00; text-decoration-color: #00af00\">1</span>)         │ <span style=\"color: #00af00; text-decoration-color: #00af00\">141,89…</span> │ padding_mask[<span style=\"color: #00af00; text-decoration-color: #00af00\">0</span>][<span style=\"color: #00af00; text-decoration-color: #00af00\">0</span>],  │\n│ (<span style=\"color: #0087ff; text-decoration-color: #0087ff\">DebertaV3Classifi…</span> │                   │         │ token_ids[<span style=\"color: #00af00; text-decoration-color: #00af00\">0</span>][<span style=\"color: #00af00; text-decoration-color: #00af00\">0</span>]      │\n├─────────────────────┼───────────────────┼─────────┼──────────────────────┤\n│ activation          │ (<span style=\"color: #00d7ff; text-decoration-color: #00d7ff\">None</span>, <span style=\"color: #00af00; text-decoration-color: #00af00\">1</span>)         │       <span style=\"color: #00af00; text-decoration-color: #00af00\">0</span> │ deberta_v3_classifi… │\n│ (<span style=\"color: #0087ff; text-decoration-color: #0087ff\">Activation</span>)        │                   │         │                      │\n└─────────────────────┴───────────────────┴─────────┴──────────────────────┘\n</pre>\n"
     },
     "metadata": {},
     "output_type": "display_data"
    },
    {
     "data": {
      "text/plain": "\u001B[1m Total params: \u001B[0m\u001B[38;5;34m141,895,681\u001B[0m (541.29 MB)\n",
      "text/html": "<pre style=\"white-space:pre;overflow-x:auto;line-height:normal;font-family:Menlo,'DejaVu Sans Mono',consolas,'Courier New',monospace\"><span style=\"font-weight: bold\"> Total params: </span><span style=\"color: #00af00; text-decoration-color: #00af00\">141,895,681</span> (541.29 MB)\n</pre>\n"
     },
     "metadata": {},
     "output_type": "display_data"
    },
    {
     "data": {
      "text/plain": "\u001B[1m Trainable params: \u001B[0m\u001B[38;5;34m141,895,681\u001B[0m (541.29 MB)\n",
      "text/html": "<pre style=\"white-space:pre;overflow-x:auto;line-height:normal;font-family:Menlo,'DejaVu Sans Mono',consolas,'Courier New',monospace\"><span style=\"font-weight: bold\"> Trainable params: </span><span style=\"color: #00af00; text-decoration-color: #00af00\">141,895,681</span> (541.29 MB)\n</pre>\n"
     },
     "metadata": {},
     "output_type": "display_data"
    },
    {
     "data": {
      "text/plain": "\u001B[1m Non-trainable params: \u001B[0m\u001B[38;5;34m0\u001B[0m (0.00 B)\n",
      "text/html": "<pre style=\"white-space:pre;overflow-x:auto;line-height:normal;font-family:Menlo,'DejaVu Sans Mono',consolas,'Courier New',monospace\"><span style=\"font-weight: bold\"> Non-trainable params: </span><span style=\"color: #00af00; text-decoration-color: #00af00\">0</span> (0.00 B)\n</pre>\n"
     },
     "metadata": {},
     "output_type": "display_data"
    }
   ],
   "source": [
    "model.summary()"
   ],
   "metadata": {
    "collapsed": false,
    "ExecuteTime": {
     "end_time": "2023-12-17T04:32:37.251362700Z",
     "start_time": "2023-12-17T04:32:37.220366700Z"
    }
   },
   "id": "c07063b2"
  },
  {
   "cell_type": "markdown",
   "source": [
    "## Check Prediction"
   ],
   "metadata": {
    "collapsed": false
   },
   "id": "2f8a7b1b3351c807"
  },
  {
   "cell_type": "code",
   "execution_count": 24,
   "outputs": [],
   "source": [
    "def check_prediction(pred_prob, origin_df, save):\n",
    "    pred_label = (pred_prob > 0.5).astype(int).squeeze()\n",
    "    print(f\"Predict Shape: {pred_label.shape}\")\n",
    "    print(\"# Predictions\\n\")\n",
    "    for i in range(3):\n",
    "        row = test_df.iloc[i]\n",
    "        text  = row.text\n",
    "        pred_answer = CFG.label2name[pred_label[i]]\n",
    "        print(f\"❓ Text {i+1}:\\n{text}\\n\")\n",
    "        print(f\"🤖 Predicted: {pred_answer}\\n\")\n",
    "        print(\"-\"*90, \"\\n\")\n",
    "    sub_df = origin_df.copy()\n",
    "\n",
    "    # Add the formatted predictions to the submission DataFrame\n",
    "    sub_df[\"pred_prob\"] = pred_prob.squeeze()\n",
    "    sub_df[\"pred_label\"] = pred_label\n",
    "    sub_df[\"correct\"] = sub_df[\"pred_label\"] == sub_df[\"label\"]\n",
    "    \n",
    "    # Display the first 2 rows of the submission DataFrame\n",
    "    sub_df.head(2)\n",
    "    \n",
    "    # Display Acc\n",
    "    total_cor = sub_df[\"correct\"].sum()\n",
    "    total_auc = (total_cor * 100) / len(sub_df)\n",
    "    print(f'Total Correct: {total_cor} / {len(sub_df)}')\n",
    "    print(f'AUC: {total_auc:.2f} %')\n",
    "    \n",
    "    if save:\n",
    "        file_name = f'{CFG.TEST_NAME}_{len(sub_df) / 1000}K)_({total_auc:.2f})'\n",
    "        folder_path = CFG.TEST_MODEL_DIR\n",
    "        save_path = f'{folder_path}{file_name}.csv'\n",
    "        if os.path.exists(save_path):\n",
    "            i = 1\n",
    "            save_path = f'{folder_path}{file_name}{i}.csv'\n",
    "            # 새로운 파일 이름 생성\n",
    "            while os.path.exists(save_path):\n",
    "                i += 1\n",
    "                save_path = f'{folder_path}{file_name}{i}.csv'\n",
    "        elif not os.path.exists(folder_path):\n",
    "            os.makedirs(folder_path)\n",
    "        sub_df.to_csv(f'{save_path}',index=False)\n",
    "        print(f'파일이 {save_path}에 저장되었습니다.')\n",
    "    \n",
    "        if CFG.MAKE_SUBMISSION:\n",
    "            sub_df.to_csv(f'{CFG.WORKING_PATH}/submission.csv',index=False)\n",
    "            \n",
    "    return sub_df"
   ],
   "metadata": {
    "collapsed": false,
    "ExecuteTime": {
     "end_time": "2023-12-17T04:32:37.293880800Z",
     "start_time": "2023-12-17T04:32:37.251362700Z"
    }
   },
   "id": "f7fd678bcbf846b0"
  },
  {
   "cell_type": "markdown",
   "source": [
    "### Prediction Without Fine-Tuning"
   ],
   "metadata": {
    "collapsed": false
   },
   "id": "be7479c41eba5fa9"
  },
  {
   "cell_type": "code",
   "execution_count": 25,
   "outputs": [],
   "source": [
    "if CFG.TEST_WOFT:\n",
    "    test_ds = get_test_dataset(test_df)\n",
    "    # Generate predictions using the model\n",
    "    pred_result_wo_ft = model.predict(\n",
    "        test_ds,\n",
    "        batch_size=min(CFG.batch_size * CFG.replicas, len(test_df)),  # Set batch size\n",
    "        verbose=1\n",
    "    )\n",
    "    \n",
    "    pred_result_wo_ft = pred_result_wo_ft.squeeze()\n",
    "    submission_WOFT = check_prediction(pred_result_wo_ft, test_df, 'submission_woft')"
   ],
   "metadata": {
    "collapsed": false,
    "ExecuteTime": {
     "end_time": "2023-12-17T04:32:37.294879400Z",
     "start_time": "2023-12-17T04:32:37.259359200Z"
    }
   },
   "id": "1ef7883ef344c043"
  },
  {
   "cell_type": "markdown",
   "id": "55060b6b",
   "metadata": {
    "papermill": {
     "duration": 0.026555,
     "end_time": "2023-11-03T05:11:41.616770",
     "exception": false,
     "start_time": "2023-11-03T05:11:41.590215",
     "status": "completed"
    },
    "tags": []
   },
   "source": [
    "# 🚂 | Training"
   ]
  },
  {
   "cell_type": "code",
   "execution_count": 26,
   "id": "469a43e1",
   "metadata": {
    "_kg_hide-input": true,
    "execution": {
     "iopub.execute_input": "2023-11-03T05:11:41.671851Z",
     "iopub.status.busy": "2023-11-03T05:11:41.671210Z",
     "iopub.status.idle": "2023-11-03T09:51:48.644323Z",
     "shell.execute_reply": "2023-11-03T09:51:48.643156Z"
    },
    "papermill": {
     "duration": 16807.002657,
     "end_time": "2023-11-03T09:51:48.646592",
     "exception": false,
     "start_time": "2023-11-03T05:11:41.643935",
     "status": "completed"
    },
    "tags": [],
    "ExecuteTime": {
     "end_time": "2023-12-17T04:32:37.294879400Z",
     "start_time": "2023-12-17T04:32:37.277368Z"
    }
   },
   "outputs": [],
   "source": [
    "def training(tr_df_, vl_df_=None):\n",
    "    if CFG.wandb:\n",
    "        run = wandb_init()\n",
    "\n",
    "    # Get train and validation datasets\n",
    "    tr_ds = get_train_datasets(tr_df_)\n",
    "    tr_num = len(tr_df_)\n",
    "    vl_ds = None\n",
    "    vl_num = None\n",
    "    if CFG.VALID:\n",
    "        vl_ds = get_valid_datasets(vl_df_)\n",
    "        vl_num = len(vl_df_)\n",
    "\n",
    "        \n",
    "    # Get callback functions for training\n",
    "    callbacks = get_callbacks()\n",
    "\n",
    "    # Print training information\n",
    "    print('#' * 50)\n",
    "    print(f'\\tModel: {CFG.preset}\\n\\tBatch Size: {CFG.batch_size * CFG.replicas} | Scheduler: {CFG.scheduler}')\n",
    "    print(f'\\tNum Train: {tr_num} | Num Valid: {vl_num}')\n",
    "    print('#' * 50)\n",
    "\n",
    "    # Start training the model\n",
    "    history = model.fit(\n",
    "        tr_ds,\n",
    "        epochs=CFG.epochs,\n",
    "        validation_data=vl_ds,\n",
    "        callbacks=callbacks,\n",
    "        steps_per_epoch=int(len(tr_df_) / CFG.batch_size / CFG.replicas),\n",
    "    )\n",
    "    \n",
    "    # Find the epoch with the best validation accuracy\n",
    "    if CFG.VALID:\n",
    "        CFG.best.best_epoch = np.argmax(model.history.history['val_auc'])\n",
    "        CFG.best.best_auc = model.history.history['val_auc'][CFG.best.best_epoch]\n",
    "        CFG.best.best_loss = model.history.history['val_loss'][CFG.best.best_epoch]\n",
    "\n",
    "        # Print and display best results\n",
    "        print(f'\\n{\"=\" * 17} RESULTS {\"=\" * 17}')\n",
    "        print(f'>>>> BEST Loss  : {CFG.best.best_epoch:.3f}\\n>>>> BEST AUC   : {CFG.best.best_auc:.3f}\\n>>>> BEST Epoch : {CFG.best.best_epoch}')\n",
    "        print('=' * 50)\n",
    "    \n",
    "    # Log best result on Weights and Biases (wandb) if enabled\n",
    "    if CFG.wandb:\n",
    "        log_wandb()  # Log results\n",
    "        wandb.run.finish()  # Finish the run\n",
    "#         display(ipd.IFrame(run.url, width=1080, height=720)) # show wandb dashboard\n",
    "    print(\"\\n\\n\")"
   ]
  },
  {
   "cell_type": "code",
   "execution_count": 27,
   "outputs": [],
   "source": [
    "if CFG.TRAIN:\n",
    "    training(train_df, valid_df)"
   ],
   "metadata": {
    "collapsed": false,
    "ExecuteTime": {
     "end_time": "2023-12-17T04:32:37.311881Z",
     "start_time": "2023-12-17T04:32:37.290880300Z"
    }
   },
   "id": "2c03b993e8523539"
  },
  {
   "attachments": {
    "4164c26d-d907-45db-9df9-93d90713d784.png": {
     "image/png": "[encoded data removed]"
    }
   },
   "cell_type": "markdown",
   "id": "e87dd1c7",
   "metadata": {
    "papermill": {
     "duration": 2.798692,
     "end_time": "2023-11-03T09:51:54.259736",
     "exception": false,
     "start_time": "2023-11-03T09:51:51.461044",
     "status": "completed"
    },
    "tags": []
   },
   "source": [
    "## Training Log\n",
    "### [Click Here ➡️](https://wandb.ai/awsaf49/llm-science-exam-public) to check all the training logs in **WandB** dashboard.\n",
    "\n",
    "![image.png](attachment:4164c26d-d907-45db-9df9-93d90713d784.png)"
   ]
  },
  {
   "cell_type": "markdown",
   "id": "35349273",
   "metadata": {
    "papermill": {
     "duration": 2.856955,
     "end_time": "2023-11-03T09:51:59.893529",
     "exception": false,
     "start_time": "2023-11-03T09:51:57.036574",
     "status": "completed"
    },
    "tags": []
   },
   "source": [
    "# 🧪 | TEST"
   ]
  },
  {
   "cell_type": "code",
   "execution_count": 28,
   "id": "d4e45e66",
   "metadata": {
    "execution": {
     "iopub.execute_input": "2023-11-03T09:52:05.346057Z",
     "iopub.status.busy": "2023-11-03T09:52:05.345691Z",
     "iopub.status.idle": "2023-11-03T09:54:16.249858Z",
     "shell.execute_reply": "2023-11-03T09:54:16.248920Z"
    },
    "papermill": {
     "duration": 135.369704,
     "end_time": "2023-11-03T09:54:17.942098",
     "exception": false,
     "start_time": "2023-11-03T09:52:02.572394",
     "status": "completed"
    },
    "tags": [],
    "ExecuteTime": {
     "end_time": "2023-12-17T04:33:28.318632800Z",
     "start_time": "2023-12-17T04:32:37.305888Z"
    }
   },
   "outputs": [
    {
     "name": "stdout",
     "output_type": "stream",
     "text": [
      "\u001B[1m242/242\u001B[0m \u001B[32m━━━━━━━━━━━━━━━━━━━━\u001B[0m\u001B[37m\u001B[0m \u001B[1m45s\u001B[0m 174ms/step\n",
      "Predict Shape: (4840,)\n",
      "# Predictions\n",
      "\n",
      "❓ Text 1:\n",
      "Some schools have a program that older students pair with younger students and lets talk about how the effects can be very beneficial in the students future.\r\n",
      "\r\n",
      "One reason this would be most beneficial is that the younger students are getting there education from someone who already knows about the basic of reading, pronouncing words the younger students just have not reach potentacil and these older students are pushing these younger kids the right way.\r\n",
      "\r\n",
      "Another reason Having older students pair up with younger students is a very beneficial idea is that it teaches a students what skills are necessary to be a teacher just encase they want to be a teacher one day.\r\n",
      "\r\n",
      "Third reason a younger student pairing up with an older student is beneficial is because it makes the older student feel more responsible for somebody else is learning like making sure the younger student knows this like making sure he/she knows how to pronounce words correctly make sure the younger student can be organized.\r\n",
      "\r\n",
      "A fourth reason that proves younger kids pairing up with older kids is beneficial is that the teacher has a couple less students to deal with so less stress to deal with younger kids can be annoying to deal with sometimes.\n",
      "\n",
      "🤖 Predicted: fake\n",
      "\n",
      "------------------------------------------------------------------------------------------ \n",
      "\n",
      "❓ Text 2:\n",
      "As a way to nurture a positive and supportive learning environment, it is important to encourage collaboration between students of different ages. Rather than a student's age or ability level dictating their success, a focus on collaborative learning gives an opportunity to all students to become engaged with and supportive of one another. Having older students pair up with younger students in a school setting is one such practice that can be beneficial in a multitude of ways. \r\n",
      "\r\n",
      "One benefit of this practice is that it fosters a sense of community and helps children learn how to work together effectively. For example, younger students may look up to older students and benefit from their guidance. An older student can help to instill a sense of responsibility and provide assistance as needed. By working together and depending on one another, all students involved in the program will learn how to create beneficial relationships with others. \r\n",
      "\r\n",
      "Additionally, this practice facilitates the development of life skills. Through working with their older peers, younger students can learn how to be organized and responsible. Having to work together to solve problems can also encourage creativity, improved storytelling, and the development of better problem-solving skills. \r\n",
      "\r\n",
      "Moreover, this practice can contribute to higher academic achievement. Working collaboratively with other students is proven to increase student engagement and help them to better retain knowledge. With more in-depth learning, students can gain a better understanding of both the subject and the processes of learning. Furthermore, the different viewpoints presented by each student can lead to further exploration of different ideas and allow for a broader range of knowledge. \r\n",
      "\r\n",
      "Finally, having older students pair up with younger students can help to boost self-confidence and motivation for all involved. Younger students may find themselves inspired to learn more due to the example of their older peers. Meanwhile, older students may be fulfilled by the knowledge that they are helping younger generations and feel more motivated to complete their own work. \r\n",
      "\r\n",
      "For these reasons, having older students pair up with younger students in a school setting can be highly beneficial. Not only is it a means to foster a positive and supportive learning environment, but it is also an effective way to facilitate the development of life skills, improve academic achievement, and boost the self-confidence of all students involved.\n",
      "\n",
      "🤖 Predicted: fake\n",
      "\n",
      "------------------------------------------------------------------------------------------ \n",
      "\n",
      "❓ Text 3:\n",
      "Former British Prime Minister Winston Churchill stated a quote that said, \"success consists of going from failure to failure with out loss.\" There are 3 reasons why I agree with this statement. The first reason is, failing will want to make you push for a success, the second reason being that you'll have more of enthusiasm when you're find more ways to succesed, and the third reason is achiving for higher goals.\r\n",
      "\r\n",
      "I agree strongly with this prompt and Winston Chruchill's quote, yet some people think it's something at may not be true and think less of them self. In the first paragraph I will explain my first reasoning with a strong example of it.\r\n",
      "\r\n",
      "First, reasoning to this prompt would be, falling will want to make you push for success. Even though not many people think that is the way that many of our past inventors had learned. Albert Enstine was one of the smartest people out there, yet he had come face to face with failure many times in his life. The only way he learned was to try many other different ways to solve his problems. He used failure as an insperation to to keep trying like our first inventor of the light blub. Even though many people found it frusterated and diffivult when they've failed, which pushes on to my second reasoning.\r\n",
      "\r\n",
      "Next, the reason would be that many people think different about them selfs when they fail in something. Thomas Edison thought different, even though he had failed 100 times, he had not gave up. When he finally successed, he said a quote that is in my mind till today in this presnet day. That quote was \"I didn't fail 100 times, I found 100 ways that it didn't work.\" Even though, Thomas Edison had failed he maintaned him self with a lot of enthusiasm, Failure is never an option, but finding a solution to it is a success.\r\n",
      "\r\n",
      "Finally, the last and final reason is achiving for high goals that you want to reach. It don't matter what others may think of it or if you'll be able to achive or not. Show them that they are wrong even if you come to a failure don't stop, find a solution and fix it to make it better than before. You'll reach higher goals with higher potential then what you'll ever imagine. Then later on you will be able to do anything you put your mind to and demonstrate your knowlage to the world.\r\n",
      "\r\n",
      "In conclusion, doubting yourself is not how you achive your success. Finding a way to solve it is achive your success. Get the insperation from the people who had once been in your spot and they done to successed to there goal. Even if failure is a role in life to find success it's the only way youll reach it. Failure is only a motivation to get you to successed.\n",
      "\n",
      "🤖 Predicted: real\n",
      "\n",
      "------------------------------------------------------------------------------------------ \n",
      "\n",
      "Total Correct: 4067 / 4840\n",
      "AUC: 84.03 %\n",
      "파일이 ./kaggle/working//test/(deberta_v3_small_en)_(Hello-SimpleAI-HC3)/(train_8000.csv)_(4.0K_3E_03)/(daigt-proper-train-dataset__daigt_same_prompt_4840.csv_4.84K)_(84.03).csv에 저장되었습니다.\n"
     ]
    }
   ],
   "source": [
    "if CFG.TEST:\n",
    "    test_ds = get_test_dataset(test_df)\n",
    "    pred_result = model.predict(\n",
    "        test_ds,\n",
    "        batch_size=min(CFG.batch_size * CFG.replicas, len(test_df)), # max batch size = valid size\n",
    "        verbose=1\n",
    "    )\n",
    "    submission = check_prediction(pred_result, test_df, True)"
   ]
  },
  {
   "cell_type": "markdown",
   "source": [
    "### Compare"
   ],
   "metadata": {
    "collapsed": false
   },
   "id": "e40b6aa403b709df"
  },
  {
   "cell_type": "code",
   "execution_count": 29,
   "outputs": [],
   "source": [
    "if CFG.TEST_WOFT and CFG.TEST:\n",
    "    from sklearn.metrics import f1_score\n",
    "    f1_WOFT = f1_score(submission_WOFT['label'], submission_WOFT['pred_label'])\n",
    "    f1 = f1_score(submission['label'], submission['pred_label'])\n",
    "    \n",
    "    print(f'F1 Without FT: {f1_WOFT}')\n",
    "    print(f'F1 With FT: {f1}')"
   ],
   "metadata": {
    "collapsed": false,
    "ExecuteTime": {
     "end_time": "2023-12-17T04:33:28.330107600Z",
     "start_time": "2023-12-17T04:33:28.310213200Z"
    }
   },
   "id": "bd219192a0c274ef"
  }
 ],
 "metadata": {
  "kernelspec": {
   "display_name": "Python 3",
   "language": "python",
   "name": "python3"
  },
  "language_info": {
   "codemirror_mode": {
    "name": "ipython",
    "version": 3
   },
   "file_extension": ".py",
   "mimetype": "text/x-python",
   "name": "python",
   "nbconvert_exporter": "python",
   "pygments_lexer": "ipython3",
   "version": "3.10.12"
  },
  "papermill": {
   "default_parameters": {},
   "duration": 17102.553119,
   "end_time": "2023-11-03T09:54:42.134234",
   "environment_variables": {},
   "exception": null,
   "input_path": "__notebook__.ipynb",
   "output_path": "__notebook__.ipynb",
   "parameters": {},
   "start_time": "2023-11-03T05:09:39.581115",
   "version": "2.4.0"
  }
 },
 "nbformat": 4,
 "nbformat_minor": 5
}
