{
 "cells": [
  {
   "cell_type": "code",
   "execution_count": 1,
   "metadata": {
    "collapsed": true,
    "ExecuteTime": {
     "end_time": "2023-12-13T08:32:48.366636Z",
     "start_time": "2023-12-13T08:32:43.544323Z"
    }
   },
   "outputs": [],
   "source": [
    "import pandas as pd\n",
    "\n",
    "p2 = pd.read_csv('./kaggle/input/daigt-proper-train-dataset/train_drcat_02.csv')\n",
    "p3 = pd.read_csv('./kaggle/input/daigt-proper-train-dataset/train_drcat_03.csv')"
   ]
  },
  {
   "cell_type": "code",
   "execution_count": 4,
   "outputs": [],
   "source": [
    "filtered_df2 = p2[(p2['label'] == 0) & (p2['source'] == 'original_moth')]\n",
    "filtered_df3 = p3[(p3['label'] == 0) & (p3['source'] == 'original_moth')]\n"
   ],
   "metadata": {
    "collapsed": false,
    "ExecuteTime": {
     "end_time": "2023-12-13T08:34:13.626986Z",
     "start_time": "2023-12-13T08:34:13.587373Z"
    }
   }
  },
  {
   "cell_type": "code",
   "execution_count": 5,
   "outputs": [
    {
     "data": {
      "text/plain": "           essay_id                                               text  label  \\\n1      8B9EEF86DD66  Dear Principal,\\r\\n\\r\\nI just want to let you ...      0   \n39     CCDD77656701  Do you thing that most danger of us lies not s...      0   \n51     9F401E75755A  In this writing you will find some reason why,...      0   \n59     ABFEE879153D  I believe that graduating high school in three...      0   \n77     6D2AFE5412CB  Many schools are agree that students can finis...      0   \n...             ...                                                ...    ...   \n39632  CA64C82B0F26  I think i agree because you can learn more and...      0   \n39662  890FAF6F82FC  I agree with this statement because it's impos...      0   \n39674  60ED0B48B8F2  If you alone in the world you can make nothing...      0   \n39687  E103955391AB  Yeah we all have our own freedom but well that...      0   \n39724  84CE7281265F  My uncle has in his wallet 100 dollars, he giv...      0   \n\n              source                                             prompt  fold  \n1      original_moth  Task: Research the effects of implementing a p...     2  \n39     original_moth  Task: \\n\\n1. Create a plan for a New Year's re...     2  \n51     original_moth  Task: Research the pros and cons of 4 years of...     2  \n59     original_moth  Task:\\n\\nWrite an essay discussing the benefit...     9  \n77     original_moth  Task: \\n\\n1. Research the pros and cons of com...     1  \n...              ...                                                ...   ...  \n39632  original_moth  Task: \\n\\n1. Research the advantages of having...     0  \n39662  original_moth  Task: Write an essay discussing the challenges...     7  \n39674  original_moth  Task: \\nWrite an essay that explores the idea ...     9  \n39687  original_moth  Task: Write an essay discussing the importance...     8  \n39724  original_moth  Task: Compare and contrast the two situations ...     2  \n\n[2421 rows x 6 columns]",
      "text/html": "<div>\n<style scoped>\n    .dataframe tbody tr th:only-of-type {\n        vertical-align: middle;\n    }\n\n    .dataframe tbody tr th {\n        vertical-align: top;\n    }\n\n    .dataframe thead th {\n        text-align: right;\n    }\n</style>\n<table border=\"1\" class=\"dataframe\">\n  <thead>\n    <tr style=\"text-align: right;\">\n      <th></th>\n      <th>essay_id</th>\n      <th>text</th>\n      <th>label</th>\n      <th>source</th>\n      <th>prompt</th>\n      <th>fold</th>\n    </tr>\n  </thead>\n  <tbody>\n    <tr>\n      <th>1</th>\n      <td>8B9EEF86DD66</td>\n      <td>Dear Principal,\\r\\n\\r\\nI just want to let you ...</td>\n      <td>0</td>\n      <td>original_moth</td>\n      <td>Task: Research the effects of implementing a p...</td>\n      <td>2</td>\n    </tr>\n    <tr>\n      <th>39</th>\n      <td>CCDD77656701</td>\n      <td>Do you thing that most danger of us lies not s...</td>\n      <td>0</td>\n      <td>original_moth</td>\n      <td>Task: \\n\\n1. Create a plan for a New Year's re...</td>\n      <td>2</td>\n    </tr>\n    <tr>\n      <th>51</th>\n      <td>9F401E75755A</td>\n      <td>In this writing you will find some reason why,...</td>\n      <td>0</td>\n      <td>original_moth</td>\n      <td>Task: Research the pros and cons of 4 years of...</td>\n      <td>2</td>\n    </tr>\n    <tr>\n      <th>59</th>\n      <td>ABFEE879153D</td>\n      <td>I believe that graduating high school in three...</td>\n      <td>0</td>\n      <td>original_moth</td>\n      <td>Task:\\n\\nWrite an essay discussing the benefit...</td>\n      <td>9</td>\n    </tr>\n    <tr>\n      <th>77</th>\n      <td>6D2AFE5412CB</td>\n      <td>Many schools are agree that students can finis...</td>\n      <td>0</td>\n      <td>original_moth</td>\n      <td>Task: \\n\\n1. Research the pros and cons of com...</td>\n      <td>1</td>\n    </tr>\n    <tr>\n      <th>...</th>\n      <td>...</td>\n      <td>...</td>\n      <td>...</td>\n      <td>...</td>\n      <td>...</td>\n      <td>...</td>\n    </tr>\n    <tr>\n      <th>39632</th>\n      <td>CA64C82B0F26</td>\n      <td>I think i agree because you can learn more and...</td>\n      <td>0</td>\n      <td>original_moth</td>\n      <td>Task: \\n\\n1. Research the advantages of having...</td>\n      <td>0</td>\n    </tr>\n    <tr>\n      <th>39662</th>\n      <td>890FAF6F82FC</td>\n      <td>I agree with this statement because it's impos...</td>\n      <td>0</td>\n      <td>original_moth</td>\n      <td>Task: Write an essay discussing the challenges...</td>\n      <td>7</td>\n    </tr>\n    <tr>\n      <th>39674</th>\n      <td>60ED0B48B8F2</td>\n      <td>If you alone in the world you can make nothing...</td>\n      <td>0</td>\n      <td>original_moth</td>\n      <td>Task: \\nWrite an essay that explores the idea ...</td>\n      <td>9</td>\n    </tr>\n    <tr>\n      <th>39687</th>\n      <td>E103955391AB</td>\n      <td>Yeah we all have our own freedom but well that...</td>\n      <td>0</td>\n      <td>original_moth</td>\n      <td>Task: Write an essay discussing the importance...</td>\n      <td>8</td>\n    </tr>\n    <tr>\n      <th>39724</th>\n      <td>84CE7281265F</td>\n      <td>My uncle has in his wallet 100 dollars, he giv...</td>\n      <td>0</td>\n      <td>original_moth</td>\n      <td>Task: Compare and contrast the two situations ...</td>\n      <td>2</td>\n    </tr>\n  </tbody>\n</table>\n<p>2421 rows × 6 columns</p>\n</div>"
     },
     "execution_count": 5,
     "metadata": {},
     "output_type": "execute_result"
    }
   ],
   "source": [
    "filtered_df2"
   ],
   "metadata": {
    "collapsed": false,
    "ExecuteTime": {
     "end_time": "2023-12-13T08:34:14.184841Z",
     "start_time": "2023-12-13T08:34:14.108136Z"
    }
   }
  },
  {
   "cell_type": "code",
   "execution_count": 6,
   "outputs": [
    {
     "data": {
      "text/plain": "           essay_id                                               text  label  \\\n0      6BB4BEB51A80  People can learn without making mistakes. Peop...      0   \n30     66F03584BCA5  Should people make their own decision, or shou...      0   \n42     953BEF800163  Finish high school one year early sounds prett...      0   \n50     79F961AE9A04  Do you think educational activity's can be enj...      0   \n59     8799E3BD41EB  Do you know that almost the 50% of the society...      0   \n...             ...                                                ...    ...   \n42042  CA64C82B0F26  I think i agree because you can learn more and...      0   \n42073  890FAF6F82FC  I agree with this statement because it's impos...      0   \n42087  60ED0B48B8F2  If you alone in the world you can make nothing...      0   \n42100  E103955391AB  Yeah we all have our own freedom but well that...      0   \n42140  84CE7281265F  My uncle has in his wallet 100 dollars, he giv...      0   \n\n              source                                             prompt  fold  \n0      original_moth  Task: \\n\\nWrite an essay examining the ways in...     1  \n30     original_moth  Task: Research different job options and discu...     4  \n42     original_moth  Task: \\n1. Analyze the benefits of completing ...     9  \n50     original_moth  Task: Write an essay exploring whether or not ...     9  \n59     original_moth  Task: Write an essay exploring the idea of goi...     2  \n...              ...                                                ...   ...  \n42042  original_moth  Task: \\n\\n1. Research the advantages of having...     6  \n42073  original_moth  Task: Write an essay discussing the challenges...     4  \n42087  original_moth  Task: \\nWrite an essay that explores the idea ...     4  \n42100  original_moth  Task: Write an essay discussing the importance...     5  \n42140  original_moth  Task: Compare and contrast the two situations ...     3  \n\n[2421 rows x 6 columns]",
      "text/html": "<div>\n<style scoped>\n    .dataframe tbody tr th:only-of-type {\n        vertical-align: middle;\n    }\n\n    .dataframe tbody tr th {\n        vertical-align: top;\n    }\n\n    .dataframe thead th {\n        text-align: right;\n    }\n</style>\n<table border=\"1\" class=\"dataframe\">\n  <thead>\n    <tr style=\"text-align: right;\">\n      <th></th>\n      <th>essay_id</th>\n      <th>text</th>\n      <th>label</th>\n      <th>source</th>\n      <th>prompt</th>\n      <th>fold</th>\n    </tr>\n  </thead>\n  <tbody>\n    <tr>\n      <th>0</th>\n      <td>6BB4BEB51A80</td>\n      <td>People can learn without making mistakes. Peop...</td>\n      <td>0</td>\n      <td>original_moth</td>\n      <td>Task: \\n\\nWrite an essay examining the ways in...</td>\n      <td>1</td>\n    </tr>\n    <tr>\n      <th>30</th>\n      <td>66F03584BCA5</td>\n      <td>Should people make their own decision, or shou...</td>\n      <td>0</td>\n      <td>original_moth</td>\n      <td>Task: Research different job options and discu...</td>\n      <td>4</td>\n    </tr>\n    <tr>\n      <th>42</th>\n      <td>953BEF800163</td>\n      <td>Finish high school one year early sounds prett...</td>\n      <td>0</td>\n      <td>original_moth</td>\n      <td>Task: \\n1. Analyze the benefits of completing ...</td>\n      <td>9</td>\n    </tr>\n    <tr>\n      <th>50</th>\n      <td>79F961AE9A04</td>\n      <td>Do you think educational activity's can be enj...</td>\n      <td>0</td>\n      <td>original_moth</td>\n      <td>Task: Write an essay exploring whether or not ...</td>\n      <td>9</td>\n    </tr>\n    <tr>\n      <th>59</th>\n      <td>8799E3BD41EB</td>\n      <td>Do you know that almost the 50% of the society...</td>\n      <td>0</td>\n      <td>original_moth</td>\n      <td>Task: Write an essay exploring the idea of goi...</td>\n      <td>2</td>\n    </tr>\n    <tr>\n      <th>...</th>\n      <td>...</td>\n      <td>...</td>\n      <td>...</td>\n      <td>...</td>\n      <td>...</td>\n      <td>...</td>\n    </tr>\n    <tr>\n      <th>42042</th>\n      <td>CA64C82B0F26</td>\n      <td>I think i agree because you can learn more and...</td>\n      <td>0</td>\n      <td>original_moth</td>\n      <td>Task: \\n\\n1. Research the advantages of having...</td>\n      <td>6</td>\n    </tr>\n    <tr>\n      <th>42073</th>\n      <td>890FAF6F82FC</td>\n      <td>I agree with this statement because it's impos...</td>\n      <td>0</td>\n      <td>original_moth</td>\n      <td>Task: Write an essay discussing the challenges...</td>\n      <td>4</td>\n    </tr>\n    <tr>\n      <th>42087</th>\n      <td>60ED0B48B8F2</td>\n      <td>If you alone in the world you can make nothing...</td>\n      <td>0</td>\n      <td>original_moth</td>\n      <td>Task: \\nWrite an essay that explores the idea ...</td>\n      <td>4</td>\n    </tr>\n    <tr>\n      <th>42100</th>\n      <td>E103955391AB</td>\n      <td>Yeah we all have our own freedom but well that...</td>\n      <td>0</td>\n      <td>original_moth</td>\n      <td>Task: Write an essay discussing the importance...</td>\n      <td>5</td>\n    </tr>\n    <tr>\n      <th>42140</th>\n      <td>84CE7281265F</td>\n      <td>My uncle has in his wallet 100 dollars, he giv...</td>\n      <td>0</td>\n      <td>original_moth</td>\n      <td>Task: Compare and contrast the two situations ...</td>\n      <td>3</td>\n    </tr>\n  </tbody>\n</table>\n<p>2421 rows × 6 columns</p>\n</div>"
     },
     "execution_count": 6,
     "metadata": {},
     "output_type": "execute_result"
    }
   ],
   "source": [
    "filtered_df3"
   ],
   "metadata": {
    "collapsed": false,
    "ExecuteTime": {
     "end_time": "2023-12-13T08:34:14.405948Z",
     "start_time": "2023-12-13T08:34:14.362988Z"
    }
   }
  },
  {
   "cell_type": "code",
   "execution_count": 9,
   "outputs": [],
   "source": [
    "filtered_df2.to_csv('p2.csv')"
   ],
   "metadata": {
    "collapsed": false,
    "ExecuteTime": {
     "end_time": "2023-12-13T08:34:42.948397Z",
     "start_time": "2023-12-13T08:34:42.734804Z"
    }
   }
  },
  {
   "cell_type": "code",
   "execution_count": 10,
   "outputs": [],
   "source": [
    "filtered_df2.to_csv('p3.csv')"
   ],
   "metadata": {
    "collapsed": false,
    "ExecuteTime": {
     "end_time": "2023-12-13T08:34:43.600080Z",
     "start_time": "2023-12-13T08:34:43.327717Z"
    }
   }
  },
  {
   "cell_type": "code",
   "execution_count": 11,
   "outputs": [],
   "source": [
    "unique_df2 = filtered_df2.drop_duplicates(subset='prompt', keep='first')\n",
    "\n",
    "# 중복이 제거된 데이터를 출력합니다.\n",
    "unique_df3 = filtered_df3.drop_duplicates(subset='prompt', keep='first')"
   ],
   "metadata": {
    "collapsed": false,
    "ExecuteTime": {
     "end_time": "2023-12-13T08:37:49.739491Z",
     "start_time": "2023-12-13T08:37:49.687517Z"
    }
   }
  },
  {
   "cell_type": "code",
   "execution_count": 12,
   "outputs": [],
   "source": [
    "unique_df2.to_csv('p_dd2.csv')"
   ],
   "metadata": {
    "collapsed": false,
    "ExecuteTime": {
     "end_time": "2023-12-13T08:37:50.297399Z",
     "start_time": "2023-12-13T08:37:50.100242Z"
    }
   }
  },
  {
   "cell_type": "code",
   "execution_count": 13,
   "outputs": [],
   "source": [
    "unique_df3.to_csv('p_dd3.csv')"
   ],
   "metadata": {
    "collapsed": false,
    "ExecuteTime": {
     "end_time": "2023-12-13T08:37:50.602330Z",
     "start_time": "2023-12-13T08:37:50.412624Z"
    }
   }
  },
  {
   "cell_type": "code",
   "execution_count": null,
   "outputs": [],
   "source": [],
   "metadata": {
    "collapsed": false
   }
  }
 ],
 "metadata": {
  "kernelspec": {
   "display_name": "Python 3",
   "language": "python",
   "name": "python3"
  },
  "language_info": {
   "codemirror_mode": {
    "name": "ipython",
    "version": 2
   },
   "file_extension": ".py",
   "mimetype": "text/x-python",
   "name": "python",
   "nbconvert_exporter": "python",
   "pygments_lexer": "ipython2",
   "version": "2.7.6"
  }
 },
 "nbformat": 4,
 "nbformat_minor": 0
}
