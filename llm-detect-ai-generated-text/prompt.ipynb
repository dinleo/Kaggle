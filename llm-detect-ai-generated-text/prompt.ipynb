{
 "cells": [
  {
   "cell_type": "code",
   "execution_count": 4,
   "metadata": {
    "collapsed": true,
    "ExecuteTime": {
     "end_time": "2023-12-13T09:55:13.459269800Z",
     "start_time": "2023-12-13T09:55:12.232528800Z"
    }
   },
   "outputs": [
    {
     "name": "stdout",
     "output_type": "stream",
     "text": [
      "최대 글자 수: 6044\n",
      "최소 글자 수: 239\n",
      "평균 글자 수: 2314.55\n"
     ]
    }
   ],
   "source": [
    "import pandas as pd\n",
    "\n",
    "p2 = pd.read_csv('./kaggle/input/daigt-proper-train-dataset/train_drcat_02.csv')\n",
    "filtered_df2 = p2[(p2['label'] == 0) & (p2['source'] == 'original_moth')]\n",
    "\n",
    "max_length = filtered_df2['text'].str.len().max()\n",
    "min_length = filtered_df2['text'].str.len().min()\n",
    "avg_length = filtered_df2['text'].str.len().mean()\n",
    "\n",
    "print(f\"최대 글자 수: {max_length}\")\n",
    "print(f\"최소 글자 수: {min_length}\")\n",
    "print(f\"평균 글자 수: {avg_length:.2f}\")"
   ]
  },
  {
   "cell_type": "code",
   "execution_count": 2,
   "outputs": [
    {
     "name": "stderr",
     "output_type": "stream",
     "text": [
      "C:\\Users\\dinle\\AppData\\Local\\Temp\\ipykernel_3880\\9527204.py:1: SettingWithCopyWarning: \n",
      "A value is trying to be set on a copy of a slice from a DataFrame\n",
      "\n",
      "See the caveats in the documentation: https://pandas.pydata.org/pandas-docs/stable/user_guide/indexing.html#returning-a-view-versus-a-copy\n",
      "  filtered_df2.drop(labels=[\"source\",\"fold\"], axis=1, inplace=True)\n"
     ]
    },
    {
     "data": {
      "text/plain": "           essay_id                                               text  label  \\\n1      8B9EEF86DD66  Dear Principal,\\r\\n\\r\\nI just want to let you ...      0   \n39     CCDD77656701  Do you thing that most danger of us lies not s...      0   \n51     9F401E75755A  In this writing you will find some reason why,...      0   \n59     ABFEE879153D  I believe that graduating high school in three...      0   \n77     6D2AFE5412CB  Many schools are agree that students can finis...      0   \n...             ...                                                ...    ...   \n39632  CA64C82B0F26  I think i agree because you can learn more and...      0   \n39662  890FAF6F82FC  I agree with this statement because it's impos...      0   \n39674  60ED0B48B8F2  If you alone in the world you can make nothing...      0   \n39687  E103955391AB  Yeah we all have our own freedom but well that...      0   \n39724  84CE7281265F  My uncle has in his wallet 100 dollars, he giv...      0   \n\n                                                  prompt  \n1      Task: Research the effects of implementing a p...  \n39     Task: \\n\\n1. Create a plan for a New Year's re...  \n51     Task: Research the pros and cons of 4 years of...  \n59     Task:\\n\\nWrite an essay discussing the benefit...  \n77     Task: \\n\\n1. Research the pros and cons of com...  \n...                                                  ...  \n39632  Task: \\n\\n1. Research the advantages of having...  \n39662  Task: Write an essay discussing the challenges...  \n39674  Task: \\nWrite an essay that explores the idea ...  \n39687  Task: Write an essay discussing the importance...  \n39724  Task: Compare and contrast the two situations ...  \n\n[2421 rows x 4 columns]",
      "text/html": "<div>\n<style scoped>\n    .dataframe tbody tr th:only-of-type {\n        vertical-align: middle;\n    }\n\n    .dataframe tbody tr th {\n        vertical-align: top;\n    }\n\n    .dataframe thead th {\n        text-align: right;\n    }\n</style>\n<table border=\"1\" class=\"dataframe\">\n  <thead>\n    <tr style=\"text-align: right;\">\n      <th></th>\n      <th>essay_id</th>\n      <th>text</th>\n      <th>label</th>\n      <th>prompt</th>\n    </tr>\n  </thead>\n  <tbody>\n    <tr>\n      <th>1</th>\n      <td>8B9EEF86DD66</td>\n      <td>Dear Principal,\\r\\n\\r\\nI just want to let you ...</td>\n      <td>0</td>\n      <td>Task: Research the effects of implementing a p...</td>\n    </tr>\n    <tr>\n      <th>39</th>\n      <td>CCDD77656701</td>\n      <td>Do you thing that most danger of us lies not s...</td>\n      <td>0</td>\n      <td>Task: \\n\\n1. Create a plan for a New Year's re...</td>\n    </tr>\n    <tr>\n      <th>51</th>\n      <td>9F401E75755A</td>\n      <td>In this writing you will find some reason why,...</td>\n      <td>0</td>\n      <td>Task: Research the pros and cons of 4 years of...</td>\n    </tr>\n    <tr>\n      <th>59</th>\n      <td>ABFEE879153D</td>\n      <td>I believe that graduating high school in three...</td>\n      <td>0</td>\n      <td>Task:\\n\\nWrite an essay discussing the benefit...</td>\n    </tr>\n    <tr>\n      <th>77</th>\n      <td>6D2AFE5412CB</td>\n      <td>Many schools are agree that students can finis...</td>\n      <td>0</td>\n      <td>Task: \\n\\n1. Research the pros and cons of com...</td>\n    </tr>\n    <tr>\n      <th>...</th>\n      <td>...</td>\n      <td>...</td>\n      <td>...</td>\n      <td>...</td>\n    </tr>\n    <tr>\n      <th>39632</th>\n      <td>CA64C82B0F26</td>\n      <td>I think i agree because you can learn more and...</td>\n      <td>0</td>\n      <td>Task: \\n\\n1. Research the advantages of having...</td>\n    </tr>\n    <tr>\n      <th>39662</th>\n      <td>890FAF6F82FC</td>\n      <td>I agree with this statement because it's impos...</td>\n      <td>0</td>\n      <td>Task: Write an essay discussing the challenges...</td>\n    </tr>\n    <tr>\n      <th>39674</th>\n      <td>60ED0B48B8F2</td>\n      <td>If you alone in the world you can make nothing...</td>\n      <td>0</td>\n      <td>Task: \\nWrite an essay that explores the idea ...</td>\n    </tr>\n    <tr>\n      <th>39687</th>\n      <td>E103955391AB</td>\n      <td>Yeah we all have our own freedom but well that...</td>\n      <td>0</td>\n      <td>Task: Write an essay discussing the importance...</td>\n    </tr>\n    <tr>\n      <th>39724</th>\n      <td>84CE7281265F</td>\n      <td>My uncle has in his wallet 100 dollars, he giv...</td>\n      <td>0</td>\n      <td>Task: Compare and contrast the two situations ...</td>\n    </tr>\n  </tbody>\n</table>\n<p>2421 rows × 4 columns</p>\n</div>"
     },
     "execution_count": 2,
     "metadata": {},
     "output_type": "execute_result"
    }
   ],
   "source": [
    "filtered_df2.drop(labels=[\"source\",\"fold\"], axis=1, inplace=True)\n",
    "filtered_df2.to_csv('human.csv', index=False)\n",
    "filtered_df2"
   ],
   "metadata": {
    "collapsed": false,
    "ExecuteTime": {
     "end_time": "2023-12-13T09:52:15.865282300Z",
     "start_time": "2023-12-13T09:52:15.716205900Z"
    }
   }
  },
  {
   "cell_type": "code",
   "execution_count": 3,
   "outputs": [
    {
     "name": "stderr",
     "output_type": "stream",
     "text": [
      "C:\\Users\\dinle\\AppData\\Local\\Temp\\ipykernel_3880\\3035615719.py:1: SettingWithCopyWarning: \n",
      "A value is trying to be set on a copy of a slice from a DataFrame\n",
      "\n",
      "See the caveats in the documentation: https://pandas.pydata.org/pandas-docs/stable/user_guide/indexing.html#returning-a-view-versus-a-copy\n",
      "  filtered_df2.drop(labels=[\"text\"], axis=1, inplace=True)\n",
      "C:\\Users\\dinle\\AppData\\Local\\Temp\\ipykernel_3880\\3035615719.py:2: SettingWithCopyWarning: \n",
      "A value is trying to be set on a copy of a slice from a DataFrame.\n",
      "Try using .loc[row_indexer,col_indexer] = value instead\n",
      "\n",
      "See the caveats in the documentation: https://pandas.pydata.org/pandas-docs/stable/user_guide/indexing.html#returning-a-view-versus-a-copy\n",
      "  filtered_df2[\"label\"] = 1\n"
     ]
    },
    {
     "data": {
      "text/plain": "           essay_id  label                                             prompt\n1      8B9EEF86DD66      1  Task: Research the effects of implementing a p...\n39     CCDD77656701      1  Task: \\n\\n1. Create a plan for a New Year's re...\n51     9F401E75755A      1  Task: Research the pros and cons of 4 years of...\n59     ABFEE879153D      1  Task:\\n\\nWrite an essay discussing the benefit...\n77     6D2AFE5412CB      1  Task: \\n\\n1. Research the pros and cons of com...\n...             ...    ...                                                ...\n39632  CA64C82B0F26      1  Task: \\n\\n1. Research the advantages of having...\n39662  890FAF6F82FC      1  Task: Write an essay discussing the challenges...\n39674  60ED0B48B8F2      1  Task: \\nWrite an essay that explores the idea ...\n39687  E103955391AB      1  Task: Write an essay discussing the importance...\n39724  84CE7281265F      1  Task: Compare and contrast the two situations ...\n\n[2421 rows x 3 columns]",
      "text/html": "<div>\n<style scoped>\n    .dataframe tbody tr th:only-of-type {\n        vertical-align: middle;\n    }\n\n    .dataframe tbody tr th {\n        vertical-align: top;\n    }\n\n    .dataframe thead th {\n        text-align: right;\n    }\n</style>\n<table border=\"1\" class=\"dataframe\">\n  <thead>\n    <tr style=\"text-align: right;\">\n      <th></th>\n      <th>essay_id</th>\n      <th>label</th>\n      <th>prompt</th>\n    </tr>\n  </thead>\n  <tbody>\n    <tr>\n      <th>1</th>\n      <td>8B9EEF86DD66</td>\n      <td>1</td>\n      <td>Task: Research the effects of implementing a p...</td>\n    </tr>\n    <tr>\n      <th>39</th>\n      <td>CCDD77656701</td>\n      <td>1</td>\n      <td>Task: \\n\\n1. Create a plan for a New Year's re...</td>\n    </tr>\n    <tr>\n      <th>51</th>\n      <td>9F401E75755A</td>\n      <td>1</td>\n      <td>Task: Research the pros and cons of 4 years of...</td>\n    </tr>\n    <tr>\n      <th>59</th>\n      <td>ABFEE879153D</td>\n      <td>1</td>\n      <td>Task:\\n\\nWrite an essay discussing the benefit...</td>\n    </tr>\n    <tr>\n      <th>77</th>\n      <td>6D2AFE5412CB</td>\n      <td>1</td>\n      <td>Task: \\n\\n1. Research the pros and cons of com...</td>\n    </tr>\n    <tr>\n      <th>...</th>\n      <td>...</td>\n      <td>...</td>\n      <td>...</td>\n    </tr>\n    <tr>\n      <th>39632</th>\n      <td>CA64C82B0F26</td>\n      <td>1</td>\n      <td>Task: \\n\\n1. Research the advantages of having...</td>\n    </tr>\n    <tr>\n      <th>39662</th>\n      <td>890FAF6F82FC</td>\n      <td>1</td>\n      <td>Task: Write an essay discussing the challenges...</td>\n    </tr>\n    <tr>\n      <th>39674</th>\n      <td>60ED0B48B8F2</td>\n      <td>1</td>\n      <td>Task: \\nWrite an essay that explores the idea ...</td>\n    </tr>\n    <tr>\n      <th>39687</th>\n      <td>E103955391AB</td>\n      <td>1</td>\n      <td>Task: Write an essay discussing the importance...</td>\n    </tr>\n    <tr>\n      <th>39724</th>\n      <td>84CE7281265F</td>\n      <td>1</td>\n      <td>Task: Compare and contrast the two situations ...</td>\n    </tr>\n  </tbody>\n</table>\n<p>2421 rows × 3 columns</p>\n</div>"
     },
     "execution_count": 3,
     "metadata": {},
     "output_type": "execute_result"
    }
   ],
   "source": [
    "filtered_df2.drop(labels=[\"text\"], axis=1, inplace=True)\n",
    "filtered_df2[\"label\"] = 1\n",
    "filtered_df2.to_csv('prompt.csv', index=False)\n",
    "filtered_df2"
   ],
   "metadata": {
    "collapsed": false,
    "ExecuteTime": {
     "end_time": "2023-12-13T09:52:15.923777100Z",
     "start_time": "2023-12-13T09:52:15.867285100Z"
    }
   }
  },
  {
   "cell_type": "code",
   "execution_count": 5,
   "outputs": [],
   "source": [
    "filtered_df2.sample(10).to_csv('sample.csv', index=False)"
   ],
   "metadata": {
    "collapsed": false,
    "ExecuteTime": {
     "end_time": "2023-12-13T10:44:14.639821100Z",
     "start_time": "2023-12-13T10:44:14.597815800Z"
    }
   }
  },
  {
   "cell_type": "code",
   "execution_count": null,
   "outputs": [],
   "source": [],
   "metadata": {
    "collapsed": false
   }
  }
 ],
 "metadata": {
  "kernelspec": {
   "display_name": "Python 3",
   "language": "python",
   "name": "python3"
  },
  "language_info": {
   "codemirror_mode": {
    "name": "ipython",
    "version": 2
   },
   "file_extension": ".py",
   "mimetype": "text/x-python",
   "name": "python",
   "nbconvert_exporter": "python",
   "pygments_lexer": "ipython2",
   "version": "2.7.6"
  }
 },
 "nbformat": 4,
 "nbformat_minor": 0
}
